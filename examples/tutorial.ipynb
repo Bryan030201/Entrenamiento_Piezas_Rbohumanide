{
  "nbformat": 4,
  "nbformat_minor": 0,
  "metadata": {
    "colab": {
      "name": "YOLO11 Tutorial",
      "provenance": [],
      "include_colab_link": true
    },
    "kernelspec": {
      "name": "python3",
      "display_name": "Python 3"
    },
    "accelerator": "GPU"
  },
  "cells": [
    {
      "cell_type": "markdown",
      "metadata": {
        "id": "view-in-github",
        "colab_type": "text"
      },
      "source": [
        "<a href=\"https://colab.research.google.com/github/Bryan030201/Entrenamiento_Piezas_Rbohumanide/blob/main/examples/tutorial.ipynb\" target=\"_parent\"><img src=\"https://colab.research.google.com/assets/colab-badge.svg\" alt=\"Open In Colab\"/></a>"
      ]
    },
    {
      "cell_type": "markdown",
      "metadata": {
        "id": "t6MPjfT5NrKQ"
      },
      "source": [
        "<div align=\"center\">\n",
        "  <a href=\"https://ultralytics.com/yolo\" target=\"_blank\">\n",
        "    <img width=\"1024\" src=\"https://raw.githubusercontent.com/ultralytics/assets/main/yolov8/banner-yolov8.png\">\n",
        "  </a>\n",
        "\n",
        "  [中文](https://docs.ultralytics.com/zh/) | [한국어](https://docs.ultralytics.com/ko/) | [日本語](https://docs.ultralytics.com/ja/) | [Русский](https://docs.ultralytics.com/ru/) | [Deutsch](https://docs.ultralytics.com/de/) | [Français](https://docs.ultralytics.com/fr/) | [Español](https://docs.ultralytics.com/es/) | [Português](https://docs.ultralytics.com/pt/) | [Türkçe](https://docs.ultralytics.com/tr/) | [Tiếng Việt](https://docs.ultralytics.com/vi/) | [العربية](https://docs.ultralytics.com/ar/)\n",
        "\n",
        "  <a href=\"https://github.com/ultralytics/ultralytics/actions/workflows/ci.yml\"><img src=\"https://github.com/ultralytics/ultralytics/actions/workflows/ci.yml/badge.svg\" alt=\"Ultralytics CI\"></a>\n",
        "  <a href=\"https://console.paperspace.com/github/ultralytics/ultralytics\"><img src=\"https://assets.paperspace.io/img/gradient-badge.svg\" alt=\"Run on Gradient\"/></a>\n",
        "  <a href=\"https://colab.research.google.com/github/ultralytics/ultralytics/blob/main/examples/tutorial.ipynb\"><img src=\"https://colab.research.google.com/assets/colab-badge.svg\" alt=\"Open In Colab\"></a>\n",
        "  <a href=\"https://www.kaggle.com/models/ultralytics/yolo11\"><img src=\"https://kaggle.com/static/images/open-in-kaggle.svg\" alt=\"Open In Kaggle\"></a>\n",
        "\n",
        "  <a href=\"https://ultralytics.com/discord\"><img alt=\"Discord\" src=\"https://img.shields.io/discord/1089800235347353640?logo=discord&logoColor=white&label=Discord&color=blue\"></a>\n",
        "  <a href=\"https://community.ultralytics.com\"><img alt=\"Ultralytics Forums\" src=\"https://img.shields.io/discourse/users?server=https%3A%2F%2Fcommunity.ultralytics.com&logo=discourse&label=Forums&color=blue\"></a>\n",
        "  <a href=\"https://reddit.com/r/ultralytics\"><img alt=\"Ultralytics Reddit\" src=\"https://img.shields.io/reddit/subreddit-subscribers/ultralytics?style=flat&logo=reddit&logoColor=white&label=Reddit&color=blue\"></a>\n",
        "</div>\n",
        "\n",
        "This **Ultralytics Colab Notebook** is the easiest way to get started with [YOLO models](https://www.ultralytics.com/yolo)—no installation needed. Built by [Ultralytics](https://www.ultralytics.com/), the creators of YOLO, this notebook walks you through running **state-of-the-art** models directly in your browser.\n",
        "\n",
        "Ultralytics models are constantly updated for performance and flexibility. They're **fast**, **accurate**, and **easy to use**, and they excel at [object detection](https://docs.ultralytics.com/tasks/detect/), [tracking](https://docs.ultralytics.com/modes/track/), [instance segmentation](https://docs.ultralytics.com/tasks/segment/), [image classification](https://docs.ultralytics.com/tasks/classify/), and [pose estimation](https://docs.ultralytics.com/tasks/pose/).\n",
        "\n",
        "Find detailed documentation in the [Ultralytics Docs](https://docs.ultralytics.com/). Get support via [GitHub Issues](https://github.com/ultralytics/ultralytics/issues/new/choose). Join discussions on [Discord](https://discord.com/invite/ultralytics), [Reddit](https://www.reddit.com/r/ultralytics/), and the [Ultralytics Community Forums](https://community.ultralytics.com/)!\n",
        "\n",
        "Request an Enterprise License for commercial use at [Ultralytics Licensing](https://www.ultralytics.com/license).\n",
        "\n",
        "<br>\n",
        "<div>\n",
        "  <a href=\"https://www.youtube.com/watch?v=ZN3nRZT7b24\" target=\"_blank\">\n",
        "    <img src=\"https://img.youtube.com/vi/ZN3nRZT7b24/maxresdefault.jpg\" alt=\"Ultralytics Video\" width=\"640\" style=\"border-radius: 10px; box-shadow: 0 4px 8px rgba(0, 0, 0, 0.2);\">\n",
        "  </a>\n",
        "\n",
        "  <p style=\"font-size: 16px; font-family: Arial, sans-serif; color: #555;\">\n",
        "    <strong>Watch: </strong> How to Train\n",
        "    <a href=\"https://github.com/ultralytics/ultralytics\">Ultralytics</a>\n",
        "    <a href=\"https://docs.ultralytics.com/models/yolo11/\">YOLO11</a> Model on Custom Dataset using Google Colab Notebook 🚀\n",
        "  </p>\n",
        "</div>"
      ]
    },
    {
      "cell_type": "markdown",
      "metadata": {
        "id": "7mGmQbAO5pQb"
      },
      "source": [
        "# Setup\n",
        "\n",
        "pip install `ultralytics` and [dependencies](https://github.com/ultralytics/ultralytics/blob/main/pyproject.toml) and check software and hardware.\n",
        "\n",
        "[![PyPI - Version](https://img.shields.io/pypi/v/ultralytics?logo=pypi&logoColor=white)](https://pypi.org/project/ultralytics/) [![Downloads](https://static.pepy.tech/badge/ultralytics)](https://www.pepy.tech/projects/ultralytics) [![PyPI - Python Version](https://img.shields.io/pypi/pyversions/ultralytics?logo=python&logoColor=gold)](https://pypi.org/project/ultralytics/)"
      ]
    },
    {
      "cell_type": "code",
      "metadata": {
        "id": "wbvMlHd_QwMG",
        "colab": {
          "base_uri": "https://localhost:8080/"
        },
        "outputId": "095d7539-13dd-4b87-eec5-0c26dd6802d2"
      },
      "source": [
        "%pip install ultralytics\n",
        "import ultralytics\n",
        "ultralytics.checks()"
      ],
      "execution_count": 1,
      "outputs": [
        {
          "output_type": "stream",
          "name": "stdout",
          "text": [
            "Ultralytics 8.3.135 🚀 Python-3.11.12 torch-2.6.0+cu124 CUDA:0 (Tesla T4, 15095MiB)\n",
            "Setup complete ✅ (2 CPUs, 12.7 GB RAM, 41.7/112.6 GB disk)\n"
          ]
        }
      ]
    },
    {
      "cell_type": "markdown",
      "metadata": {
        "id": "4JnkELT0cIJg"
      },
      "source": [
        "# 1. Predict\n",
        "\n",
        "YOLO11 may be used directly in the Command Line Interface (CLI) with a `yolo` command for a variety of tasks and modes and accepts additional arguments, i.e. `imgsz=640`. See a full list of available `yolo` [arguments](https://docs.ultralytics.com/usage/cfg/) and other details in the [YOLO11 Predict Docs](https://docs.ultralytics.com/modes/train/).\n"
      ]
    },
    {
      "cell_type": "code",
      "metadata": {
        "id": "zR9ZbuQCH7FX",
        "colab": {
          "base_uri": "https://localhost:8080/"
        },
        "outputId": "7b21c85f-f7de-4ae9-a1c9-697f0952bae5"
      },
      "source": [
        "# Run inference on an image with YOLO11n\n",
        "!yolo predict model=yolo11n.pt source='https://ultralytics.com/images/zidane.jpg'"
      ],
      "execution_count": 2,
      "outputs": [
        {
          "output_type": "stream",
          "name": "stdout",
          "text": [
            "Downloading https://github.com/ultralytics/assets/releases/download/v8.3.0/yolo11n.pt to 'yolo11n.pt'...\n",
            "100% 5.35M/5.35M [00:00<00:00, 16.4MB/s]\n",
            "Ultralytics 8.3.135 🚀 Python-3.11.12 torch-2.6.0+cu124 CUDA:0 (Tesla T4, 15095MiB)\n",
            "YOLO11n summary (fused): 100 layers, 2,616,248 parameters, 0 gradients, 6.5 GFLOPs\n",
            "\n",
            "Downloading https://ultralytics.com/images/zidane.jpg to 'zidane.jpg'...\n",
            "100% 49.2k/49.2k [00:00<00:00, 961kB/s]\n",
            "image 1/1 /content/zidane.jpg: 384x640 2 persons, 1 tie, 59.9ms\n",
            "Speed: 8.6ms preprocess, 59.9ms inference, 294.2ms postprocess per image at shape (1, 3, 384, 640)\n",
            "Results saved to \u001b[1mruns/detect/predict\u001b[0m\n",
            "💡 Learn more at https://docs.ultralytics.com/modes/predict\n"
          ]
        }
      ]
    },
    {
      "cell_type": "markdown",
      "metadata": {
        "id": "hkAzDWJ7cWTr"
      },
      "source": [
        "&nbsp;&nbsp;&nbsp;&nbsp;&nbsp;&nbsp;&nbsp;&nbsp;\n",
        "<img align=\"left\" src=\"https://user-images.githubusercontent.com/26833433/212889447-69e5bdf1-5800-4e29-835e-2ed2336dede2.jpg\" width=\"600\">"
      ]
    },
    {
      "cell_type": "markdown",
      "metadata": {
        "id": "0eq1SMWl6Sfn"
      },
      "source": [
        "# 2. Val\n",
        "Validate a model's accuracy on the [COCO](https://docs.ultralytics.com/datasets/detect/coco/) dataset's `val` or `test` splits. The latest YOLO11 [models](https://github.com/ultralytics/ultralytics#models) are downloaded automatically the first time they are used. See [YOLO11 Val Docs](https://docs.ultralytics.com/modes/val/) for more information."
      ]
    },
    {
      "cell_type": "code",
      "metadata": {
        "id": "WQPtK1QYVaD_"
      },
      "source": [
        "# Download COCO val\n",
        "import torch\n",
        "torch.hub.download_url_to_file('https://ultralytics.com/assets/coco2017val.zip', 'tmp.zip')  # download (780M - 5000 images)\n",
        "!unzip -q tmp.zip -d datasets && rm tmp.zip  # unzip"
      ],
      "execution_count": null,
      "outputs": []
    },
    {
      "cell_type": "code",
      "metadata": {
        "id": "X58w8JLpMnjH",
        "outputId": "29e72136-aeff-4cd5-ae5b-e922e7602251",
        "colab": {
          "base_uri": "https://localhost:8080/"
        }
      },
      "source": [
        "# Validate YOLO11n on COCO8 val\n",
        "!yolo val model=yolo11n.pt data=coco8.yaml"
      ],
      "execution_count": null,
      "outputs": [
        {
          "output_type": "stream",
          "name": "stdout",
          "text": [
            "Ultralytics 8.3.110 🚀 Python-3.11.12 torch-2.6.0+cu124 CUDA:0 (Tesla T4, 15095MiB)\n",
            "YOLO11n summary (fused): 100 layers, 2,616,248 parameters, 0 gradients, 6.5 GFLOPs\n",
            "\n",
            "Dataset 'coco8.yaml' images not found ⚠️, missing path '/content/datasets/coco8/images/val'\n",
            "Downloading https://ultralytics.com/assets/coco8.zip to '/content/datasets/coco8.zip'...\n",
            "100% 433k/433k [00:00<00:00, 59.1MB/s]\n",
            "Unzipping /content/datasets/coco8.zip to /content/datasets/coco8...: 100% 25/25 [00:00<00:00, 2391.88file/s]\n",
            "Dataset download success ✅ (1.7s), saved to \u001b[1m/content/datasets\u001b[0m\n",
            "\n",
            "Downloading https://ultralytics.com/assets/Arial.ttf to '/root/.config/Ultralytics/Arial.ttf'...\n",
            "100% 755k/755k [00:00<00:00, 64.3MB/s]\n",
            "\u001b[34m\u001b[1mval: \u001b[0mFast image access ✅ (ping: 0.0±0.0 ms, read: 1415.9±718.7 MB/s, size: 54.0 KB)\n",
            "\u001b[34m\u001b[1mval: \u001b[0mScanning /content/datasets/coco8/labels/val... 4 images, 0 backgrounds, 0 corrupt: 100% 4/4 [00:00<00:00, 77.31it/s]\n",
            "\u001b[34m\u001b[1mval: \u001b[0mNew cache created: /content/datasets/coco8/labels/val.cache\n",
            "                 Class     Images  Instances      Box(P          R      mAP50  mAP50-95): 100% 1/1 [00:01<00:00,  1.28s/it]\n",
            "                   all          4         17       0.57       0.85      0.847      0.632\n",
            "                person          3         10      0.557        0.6      0.585      0.272\n",
            "                   dog          1          1      0.548          1      0.995      0.697\n",
            "                 horse          1          2      0.531          1      0.995      0.674\n",
            "              elephant          1          2      0.371        0.5      0.516      0.256\n",
            "              umbrella          1          1      0.569          1      0.995      0.995\n",
            "          potted plant          1          1      0.847          1      0.995      0.895\n",
            "Speed: 0.3ms preprocess, 24.6ms inference, 0.0ms loss, 36.4ms postprocess per image\n",
            "Results saved to \u001b[1mruns/detect/val\u001b[0m\n",
            "💡 Learn more at https://docs.ultralytics.com/modes/val\n"
          ]
        }
      ]
    },
    {
      "cell_type": "markdown",
      "metadata": {
        "id": "ZY2VXXXu74w5"
      },
      "source": [
        "# 3. Train\n",
        "\n",
        "<p align=\"\"><a href=\"https://ultralytics.com/hub\"><img width=\"1000\" src=\"https://github.com/ultralytics/assets/raw/main/yolov8/banner-integrations.png\"/></a></p>\n",
        "\n",
        "Train YOLO11 on [Detect](https://docs.ultralytics.com/tasks/detect/), [Segment](https://docs.ultralytics.com/tasks/segment/), [Classify](https://docs.ultralytics.com/tasks/classify/) and [Pose](https://docs.ultralytics.com/tasks/pose/) datasets. See [YOLO11 Train Docs](https://docs.ultralytics.com/modes/train/) for more information."
      ]
    },
    {
      "cell_type": "code",
      "source": [
        "!unzip data.zip && rm data.zip"
      ],
      "metadata": {
        "colab": {
          "base_uri": "https://localhost:8080/"
        },
        "id": "5kRoU-xewfrA",
        "outputId": "092eb429-5f06-4e8b-fcbb-2e477e8158e3"
      },
      "execution_count": 3,
      "outputs": [
        {
          "output_type": "stream",
          "name": "stdout",
          "text": [
            "Archive:  data.zip\n",
            "  inflating: README.dataset.txt      \n",
            "  inflating: README.roboflow.txt     \n",
            "  inflating: data.yaml               \n",
            "   creating: test/\n",
            "   creating: test/images/\n",
            " extracting: test/images/WIN_20250506_12_17_18_Pro_jpg.rf.07d9032d89923a54bd10dc787f3b00f0.jpg  \n",
            " extracting: test/images/WIN_20250506_12_17_19_Pro_jpg.rf.dfde8d82195536583402591d86533a6f.jpg  \n",
            " extracting: test/images/WIN_20250506_12_17_41_Pro_jpg.rf.b172b1c0427645fde1b83cd3bf4cf9c6.jpg  \n",
            " extracting: test/images/WIN_20250506_12_17_52_Pro_jpg.rf.8c4b50bcc44ae9f13ad2bdbb623b4ea9.jpg  \n",
            " extracting: test/images/WIN_20250506_12_17_58_Pro_jpg.rf.e94630aa293e220225524b2ed787731e.jpg  \n",
            " extracting: test/images/WIN_20250506_12_17_59_Pro-2-_jpg.rf.3d565779110301d88053703ca3e35fcb.jpg  \n",
            " extracting: test/images/WIN_20250506_12_17_59_Pro_jpg.rf.be9e629c5395d0169133bde9bf94e524.jpg  \n",
            " extracting: test/images/WIN_20250506_12_18_06_Pro_jpg.rf.227c15e4771a6de30f051e8ac996da8e.jpg  \n",
            " extracting: test/images/WIN_20250506_12_18_09_Pro-2-_jpg.rf.dcd911ba953b2a1481892d5a5458e761.jpg  \n",
            " extracting: test/images/WIN_20250506_12_18_14_Pro_jpg.rf.3048b40999bcdd777d18b20fe3a379d5.jpg  \n",
            " extracting: test/images/WIN_20250506_12_18_17_Pro_jpg.rf.75238366073505b9a7de5967c450321b.jpg  \n",
            " extracting: test/images/WIN_20250506_12_18_50_Pro-2-_jpg.rf.177f709ad60fa71ff020ce64aa8a4dca.jpg  \n",
            " extracting: test/images/WIN_20250506_12_18_50_Pro-3-_jpg.rf.2bc5628063f8a2429c9a974817dbf476.jpg  \n",
            " extracting: test/images/WIN_20250506_12_19_02_Pro-2-_jpg.rf.2b00e91627898906e78f9c9ad30bde90.jpg  \n",
            " extracting: test/images/WIN_20250506_12_19_02_Pro_jpg.rf.eb0870e88a71ad738efbe35f87385688.jpg  \n",
            " extracting: test/images/WIN_20250506_12_19_03_Pro-2-_jpg.rf.05c09bbc9092dca540804679f4eed440.jpg  \n",
            " extracting: test/images/WIN_20250506_12_19_04_Pro_jpg.rf.5a8345f9592705bfcfbb3ebefb7aba76.jpg  \n",
            " extracting: test/images/WIN_20250506_12_19_10_Pro_jpg.rf.64ef06e0989e38dc7f453697657cbbc0.jpg  \n",
            " extracting: test/images/WIN_20250506_12_19_14_Pro-3-_jpg.rf.32f0e2e8fec37ec1143a12eb73e26061.jpg  \n",
            " extracting: test/images/WIN_20250506_12_19_14_Pro_jpg.rf.de9d6dd179ac86ae39ebf702451013b3.jpg  \n",
            " extracting: test/images/WIN_20250506_12_19_16_Pro_jpg.rf.636c282db5c9838896e209d2c13893e9.jpg  \n",
            " extracting: test/images/WIN_20250506_12_19_17_Pro-2-_jpg.rf.e9946bb99ce59d755778f29fd499c120.jpg  \n",
            " extracting: test/images/WIN_20250506_12_19_19_Pro_jpg.rf.f7447c913a48099c220ed9d3735e9f82.jpg  \n",
            " extracting: test/images/WIN_20250506_12_19_24_Pro_jpg.rf.55c69b9c979f2f3e9ee8c7e3bb375981.jpg  \n",
            " extracting: test/images/WIN_20250506_12_19_28_Pro-4-_jpg.rf.b121326c46f9b986116f07c8952b47b7.jpg  \n",
            " extracting: test/images/WIN_20250506_12_19_31_Pro-2-_jpg.rf.85456b93d4181b0dfcf6e5601cf58ad5.jpg  \n",
            " extracting: test/images/WIN_20250506_12_19_32_Pro_jpg.rf.e424a2419a27774a547c80ed79fe25e1.jpg  \n",
            " extracting: test/images/WIN_20250506_12_19_36_Pro-2-_jpg.rf.511e81a01ee8740e82ff14b60d2e2a62.jpg  \n",
            " extracting: test/images/WIN_20250506_12_19_36_Pro-4-_jpg.rf.94114e4560c3ce86bf02052d3fddeade.jpg  \n",
            " extracting: test/images/WIN_20250506_12_19_38_Pro-2-_jpg.rf.cfb4e42ab3168b1c761d0c2d72783403.jpg  \n",
            " extracting: test/images/WIN_20250506_12_19_38_Pro_jpg.rf.6efe9fab04cfa679ed2561996a529fe6.jpg  \n",
            " extracting: test/images/WIN_20250506_12_19_47_Pro-2-_jpg.rf.517936ba943a63562af691f107677667.jpg  \n",
            " extracting: test/images/WIN_20250506_12_19_48_Pro_jpg.rf.cecd19e4b563563b8da1818dafb734db.jpg  \n",
            " extracting: test/images/WIN_20250506_12_19_49_Pro-4-_jpg.rf.0d5f51b5186adee22b1a8a5858fb9acd.jpg  \n",
            " extracting: test/images/WIN_20250506_12_19_55_Pro-2-_jpg.rf.b0be3096ca7323edfc04a28583debf86.jpg  \n",
            " extracting: test/images/WIN_20250506_12_20_04_Pro-3-_jpg.rf.fe952982c0a94dcbbd54f1b8b803c54c.jpg  \n",
            " extracting: test/images/WIN_20250506_12_20_06_Pro_jpg.rf.2c42d6240c4bded4a84d66c0cf52c0a1.jpg  \n",
            " extracting: test/images/WIN_20250506_12_20_08_Pro_jpg.rf.500b660562618a0568685901c031ed3f.jpg  \n",
            " extracting: test/images/WIN_20250506_12_20_16_Pro-2-_jpg.rf.d5ce800e29a9f170a450eee8205bcf88.jpg  \n",
            " extracting: test/images/WIN_20250506_12_20_34_Pro_jpg.rf.584d0f445c1cff15a6addb830ffda1d4.jpg  \n",
            " extracting: test/images/WIN_20250506_12_20_48_Pro_jpg.rf.f7e09e1715e15f1b233601103ab58e5e.jpg  \n",
            " extracting: test/images/WIN_20250506_12_20_49_Pro-4-_jpg.rf.b51a41e65a9568850a9f055cc1882948.jpg  \n",
            " extracting: test/images/WIN_20250506_12_20_51_Pro-4-_jpg.rf.96d90012c77b4ea5a83eeb11a7903f2d.jpg  \n",
            " extracting: test/images/WIN_20250506_12_20_52_Pro-2-_jpg.rf.0994ff11e6ab112fdfbbc73964b9122e.jpg  \n",
            " extracting: test/images/WIN_20250506_12_20_53_Pro-4-_jpg.rf.ee7ce080dca0c710cf1a46b838874f0a.jpg  \n",
            " extracting: test/images/WIN_20250506_12_20_53_Pro_jpg.rf.f89b07295f8d650923806837af5cb731.jpg  \n",
            " extracting: test/images/WIN_20250506_12_20_54_Pro-2-_jpg.rf.263f987d8200d9c83d4c0a41d207cabc.jpg  \n",
            " extracting: test/images/WIN_20250506_12_21_04_Pro-2-_jpg.rf.56280b811d4a033f01b0c464f6df1a72.jpg  \n",
            " extracting: test/images/WIN_20250506_12_21_04_Pro-3-_jpg.rf.b0a19b7525172456b0ea10ea3a9a7aaf.jpg  \n",
            " extracting: test/images/WIN_20250506_12_21_05_Pro_jpg.rf.0a20b67dc01803ea7da392c9a15c691c.jpg  \n",
            " extracting: test/images/WIN_20250506_12_21_08_Pro-3-_jpg.rf.16e9e5e0d9ba4e598bb3f266ae3b638e.jpg  \n",
            " extracting: test/images/WIN_20250506_12_21_09_Pro-3-_jpg.rf.ba21fd9b4018c57b7bee092fc34bad5d.jpg  \n",
            " extracting: test/images/WIN_20250506_12_21_11_Pro-5-_jpg.rf.2458d85ba346fb8fe66e3a34138fdb11.jpg  \n",
            " extracting: test/images/WIN_20250506_12_21_14_Pro-3-_jpg.rf.29a6e1d8108a5e3c99316ceee72e1128.jpg  \n",
            " extracting: test/images/WIN_20250506_12_21_14_Pro_jpg.rf.1aaba8f07adf80df40cc6e2460782600.jpg  \n",
            " extracting: test/images/WIN_20250506_12_21_18_Pro-4-_jpg.rf.0da2a63e66f2b103a16d3d63a0f2ee5d.jpg  \n",
            " extracting: test/images/WIN_20250506_12_21_19_Pro-5-_jpg.rf.15f2c7e8cba4242640f51bc10843a610.jpg  \n",
            " extracting: test/images/WIN_20250506_12_21_21_Pro-2-_jpg.rf.e0ab6b6ff15053dd0819b1cf2fb5433b.jpg  \n",
            " extracting: test/images/WIN_20250506_12_21_23_Pro_jpg.rf.23f5fbdc864a22a41bd6176c22d73c06.jpg  \n",
            " extracting: test/images/WIN_20250506_12_21_25_Pro-2-_jpg.rf.f92a953f144cb7c7745ef0dd2aae5084.jpg  \n",
            " extracting: test/images/WIN_20250506_12_21_25_Pro-4-_jpg.rf.cafacdc721b29fc73adad3cb683f58f0.jpg  \n",
            " extracting: test/images/WIN_20250506_12_21_26_Pro-3-_jpg.rf.1d3628821b44b78ae00b68c6ff0d02d3.jpg  \n",
            " extracting: test/images/WIN_20250506_12_21_28_Pro-3-_jpg.rf.e5ea2a92fbd7ca1300ac5958d8848398.jpg  \n",
            " extracting: test/images/WIN_20250506_12_21_30_Pro_jpg.rf.8b493ed4d7ad7379f29a2d54854e687d.jpg  \n",
            " extracting: test/images/WIN_20250506_12_21_38_Pro_jpg.rf.c65f0836e292f4c8a53e94c8155cc659.jpg  \n",
            " extracting: test/images/WIN_20250506_12_21_39_Pro-3-_jpg.rf.50aabf91c4fd4b61d93fa47e526eda26.jpg  \n",
            " extracting: test/images/WIN_20250506_12_21_43_Pro_jpg.rf.e5dc12f5e2e87219429ba10bfc7a4aee.jpg  \n",
            " extracting: test/images/WIN_20250506_12_21_48_Pro-2-_jpg.rf.6285121a576209d2e3382729ae252783.jpg  \n",
            " extracting: test/images/WIN_20250506_12_21_51_Pro_jpg.rf.99c4ea3ab0dc5894bc45ddc070de7de1.jpg  \n",
            " extracting: test/images/WIN_20250506_12_21_52_Pro-3-_jpg.rf.8059302fd11350d8f126202ed9d40c5f.jpg  \n",
            " extracting: test/images/WIN_20250506_12_21_59_Pro-4-_jpg.rf.4f81db2f5e4af522de04684c35be5fc3.jpg  \n",
            " extracting: test/images/WIN_20250506_12_21_59_Pro_jpg.rf.1b33ffd068dc58c92d5a85758b761fd5.jpg  \n",
            " extracting: test/images/WIN_20250506_12_22_00_Pro-4-_jpg.rf.0ee08b7afb27bf3a38cbf3e88c34a46f.jpg  \n",
            " extracting: test/images/WIN_20250506_12_22_01_Pro-3-_jpg.rf.5887c9d107b0c7c53f356196c9ee7596.jpg  \n",
            " extracting: test/images/WIN_20250506_12_22_03_Pro-2-_jpg.rf.0ebefe95d6cddd3c6ff5519c2f7f4166.jpg  \n",
            " extracting: test/images/WIN_20250506_12_22_05_Pro-4-_jpg.rf.f79b6effa4a8be6cbcd39c14d2e31a92.jpg  \n",
            " extracting: test/images/WIN_20250506_12_22_05_Pro_jpg.rf.1f73c524d8ae4e8070b2307b03bf25df.jpg  \n",
            " extracting: test/images/WIN_20250506_12_22_21_Pro_jpg.rf.fc82e63041ec8bab53849424078b6018.jpg  \n",
            " extracting: test/images/WIN_20250506_12_22_23_Pro-2-_jpg.rf.56fbaad8cca68656878ddc7c1642aa44.jpg  \n",
            " extracting: test/images/WIN_20250506_12_22_31_Pro-3-_jpg.rf.f664680070b88a439ab0c88d732a2595.jpg  \n",
            " extracting: test/images/WIN_20250506_12_22_33_Pro-3-_jpg.rf.a02a085ff8c941f507fe3df3da461025.jpg  \n",
            " extracting: test/images/WIN_20250506_12_22_34_Pro-3-_jpg.rf.6f5b3ba1736b57b92e18602d7083a55b.jpg  \n",
            " extracting: test/images/WIN_20250506_12_22_34_Pro_jpg.rf.b902fd89d68c98999e29b1d71a1587f9.jpg  \n",
            " extracting: test/images/WIN_20250506_12_22_37_Pro_jpg.rf.07c3c65dc3e74ec4955c9efff38d138b.jpg  \n",
            " extracting: test/images/WIN_20250506_12_22_42_Pro-2-_jpg.rf.40b57e6889e1c613b37fc563a64bcbb5.jpg  \n",
            " extracting: test/images/WIN_20250506_12_22_44_Pro_jpg.rf.abc39cc46f69f156efba4e8d6ab07956.jpg  \n",
            " extracting: test/images/WIN_20250506_12_22_52_Pro_jpg.rf.b47fd576ae91e3557ec225293e2de9b8.jpg  \n",
            " extracting: test/images/WIN_20250506_12_22_53_Pro_jpg.rf.bf41034d5de3efa5cd754f67a5523da7.jpg  \n",
            " extracting: test/images/WIN_20250506_12_22_56_Pro-4-_jpg.rf.5b77ff9d83073eb03b602cfde189bd79.jpg  \n",
            " extracting: test/images/WIN_20250506_12_22_57_Pro-4-_jpg.rf.1894a6eed4302fc339554fb4f9bf2565.jpg  \n",
            " extracting: test/images/WIN_20250506_12_22_58_Pro-2-_jpg.rf.1e06594612cd9dd9f0536cbdefc0f1b2.jpg  \n",
            " extracting: test/images/WIN_20250506_12_22_58_Pro-3-_jpg.rf.501285d376fa033c86b4ed5130f10d00.jpg  \n",
            " extracting: test/images/WIN_20250506_12_22_59_Pro-3-_jpg.rf.0da7f52c77e62444d77b8a22d7a161c6.jpg  \n",
            " extracting: test/images/WIN_20250506_12_23_06_Pro_jpg.rf.d1d43832d0b134e2a6e0d8f829d5eceb.jpg  \n",
            " extracting: test/images/WIN_20250506_12_23_07_Pro-5-_jpg.rf.4bdbef87a2f01d76b3c6264a9189cd15.jpg  \n",
            " extracting: test/images/WIN_20250506_12_23_08_Pro-3-_jpg.rf.3a433a8f7bfa27610ed6dff1c33559e6.jpg  \n",
            " extracting: test/images/WIN_20250506_12_23_08_Pro_jpg.rf.ca57a004b72c03e225392abfca29d482.jpg  \n",
            " extracting: test/images/WIN_20250506_12_23_10_Pro-2-_jpg.rf.3193de9fc070fe1b456eec7f62be7161.jpg  \n",
            " extracting: test/images/WIN_20250506_12_23_16_Pro-2-_jpg.rf.708562b8b01eab956f6461a52a5a5da1.jpg  \n",
            " extracting: test/images/WIN_20250506_12_23_16_Pro_jpg.rf.f1440cb9ebee15c380e8eeb4cfd3b51a.jpg  \n",
            " extracting: test/images/WIN_20250506_12_23_18_Pro-3-_jpg.rf.bfe61ea21ecad6cdfd4dd2386ff9fc64.jpg  \n",
            " extracting: test/images/WIN_20250506_12_23_20_Pro-4-_jpg.rf.27001ff7550d4878b36aca452e11a4e0.jpg  \n",
            " extracting: test/images/WIN_20250506_12_23_20_Pro_jpg.rf.d18b7ef97a88d599a6044847f6fe2bdb.jpg  \n",
            " extracting: test/images/WIN_20250506_12_23_28_Pro-4-_jpg.rf.20a1e4b99805e8433afdb7cc5e796bb6.jpg  \n",
            " extracting: test/images/WIN_20250506_12_23_40_Pro-3-_jpg.rf.8e4fd8f68a229dc0a1257b4f4227363a.jpg  \n",
            " extracting: test/images/WIN_20250506_12_23_42_Pro-4-_jpg.rf.93f962fe4782d78f05c69f5f4fcb696d.jpg  \n",
            " extracting: test/images/WIN_20250506_12_23_43_Pro-4-_jpg.rf.188b9d8c82d832f55fb6b6f8650cca3b.jpg  \n",
            " extracting: test/images/WIN_20250506_12_23_51_Pro-2-_jpg.rf.be1496a4e87479b5767e083f1ffde47d.jpg  \n",
            " extracting: test/images/WIN_20250506_12_23_53_Pro_jpg.rf.ea9fdba007fe88f46b0c5f8093510454.jpg  \n",
            " extracting: test/images/WIN_20250506_12_24_05_Pro_jpg.rf.ecada41c911499b8a4416a5d60e65cbe.jpg  \n",
            " extracting: test/images/WIN_20250506_12_24_06_Pro-2-_jpg.rf.ea1beb590b07184a54e790a68a7a4d2f.jpg  \n",
            " extracting: test/images/WIN_20250506_12_24_08_Pro-2-_jpg.rf.ba88264ebbd3fbbe061bfdb3a1f2579b.jpg  \n",
            " extracting: test/images/WIN_20250506_12_24_18_Pro-2-_jpg.rf.4e52d8832adc8a7ef22e0b6e72cd6482.jpg  \n",
            " extracting: test/images/WIN_20250506_12_24_19_Pro-3-_jpg.rf.61030a1abc9e78f4dd7e39c561319d2a.jpg  \n",
            " extracting: test/images/WIN_20250506_12_24_23_Pro-2-_jpg.rf.f551fc0485a7e1e13b16defe18c02927.jpg  \n",
            " extracting: test/images/WIN_20250506_12_24_28_Pro-2-_jpg.rf.4cb3fa6e588b846e97e86880d7410ff8.jpg  \n",
            " extracting: test/images/WIN_20250506_12_24_33_Pro-2-_jpg.rf.a4c7580715b7327d34adaa9faf4e659e.jpg  \n",
            " extracting: test/images/WIN_20250506_12_24_35_Pro_jpg.rf.c1bf3a49575ff85d43597ec28490e82d.jpg  \n",
            " extracting: test/images/WIN_20250506_12_24_36_Pro_jpg.rf.78fabed1bb52aabb1ec24c6aae58396b.jpg  \n",
            " extracting: test/images/WIN_20250506_12_24_57_Pro-4-_jpg.rf.631f790fef36d769f3cca80f362ed96f.jpg  \n",
            " extracting: test/images/WIN_20250506_12_24_58_Pro-3-_jpg.rf.ce43aeba6899bed2b0438ab0e55e4e14.jpg  \n",
            " extracting: test/images/WIN_20250506_12_25_01_Pro-3-_jpg.rf.bc6c46ee5b3d82e26ad4e321d17b802b.jpg  \n",
            " extracting: test/images/WIN_20250506_12_25_03_Pro-2-_jpg.rf.0f8e8e665945da23e415a203c9e588d1.jpg  \n",
            " extracting: test/images/WIN_20250506_12_25_03_Pro-4-_jpg.rf.3ff3e43d4a5937c7b569b2972de95968.jpg  \n",
            " extracting: test/images/WIN_20250506_12_25_17_Pro-3-_jpg.rf.541e16980d56ba55d6f6283855a036bb.jpg  \n",
            " extracting: test/images/WIN_20250506_12_25_20_Pro-2-_jpg.rf.a9b2c45761b99d683faef6bb0de1a8ff.jpg  \n",
            " extracting: test/images/WIN_20250506_12_25_20_Pro-4-_jpg.rf.6e9dddfa1c15f2a64c84629401025086.jpg  \n",
            " extracting: test/images/WIN_20250506_12_25_20_Pro_jpg.rf.1e95aa37c4b28067c99ad11414887d29.jpg  \n",
            " extracting: test/images/WIN_20250506_12_25_21_Pro-3-_jpg.rf.4c2d7cab985d28a635e49f834b68c68e.jpg  \n",
            " extracting: test/images/WIN_20250506_12_25_23_Pro_jpg.rf.008e695eda260644bab3b7daaf3d29f0.jpg  \n",
            " extracting: test/images/WIN_20250506_12_25_51_Pro_jpg.rf.4cabafa8ba5fdbdbcfda14150b236649.jpg  \n",
            " extracting: test/images/WIN_20250506_12_25_52_Pro_jpg.rf.eb23bdca8a84cae2427638d34814ccec.jpg  \n",
            " extracting: test/images/WIN_20250506_12_25_54_Pro-3-_jpg.rf.d370afaeaa4c27ecdea26ea5bf4abe98.jpg  \n",
            " extracting: test/images/WIN_20250506_12_26_14_Pro-4-_jpg.rf.d28e78cdd24f4f0b5185d9a49db51d48.jpg  \n",
            " extracting: test/images/WIN_20250506_12_26_14_Pro_jpg.rf.7e2603b761bfe67b09483d169f06f7e5.jpg  \n",
            " extracting: test/images/WIN_20250506_12_26_17_Pro-3-_jpg.rf.aba7582190a7e44b392f438206373485.jpg  \n",
            " extracting: test/images/WIN_20250506_12_26_33_Pro_jpg.rf.afacb711fd7d0151fe8a071ffdfe57dd.jpg  \n",
            " extracting: test/images/WIN_20250506_12_26_35_Pro-3-_jpg.rf.e104be7c593dbafb421fd32f888b953f.jpg  \n",
            " extracting: test/images/WIN_20250506_12_26_37_Pro-4-_jpg.rf.874227ba066b60292fc5145ff334b3a0.jpg  \n",
            " extracting: test/images/WIN_20250506_12_26_39_Pro-2-_jpg.rf.458865d8e0da39975795b86c385a89e3.jpg  \n",
            " extracting: test/images/WIN_20250506_12_26_52_Pro-3-_jpg.rf.903c3c469fd4994497072bd25c279fc1.jpg  \n",
            " extracting: test/images/WIN_20250506_12_26_56_Pro-2-_jpg.rf.097167820dc8c13cd4a58c3722d10969.jpg  \n",
            " extracting: test/images/WIN_20250506_12_26_56_Pro-3-_jpg.rf.d67c3d4295cabc32ec4d9f24c5a4887e.jpg  \n",
            " extracting: test/images/WIN_20250506_12_26_57_Pro-3-_jpg.rf.6b863563aef5a03a0d70dc18a6286ebf.jpg  \n",
            " extracting: test/images/WIN_20250506_12_26_58_Pro-2-_jpg.rf.f6e5b796e39c599b9f7adfb8f711c904.jpg  \n",
            " extracting: test/images/WIN_20250506_12_27_53_Pro-2-_jpg.rf.15f6fb8fae0c6e172c2e7d0373f91c9d.jpg  \n",
            " extracting: test/images/WIN_20250506_12_28_11_Pro_jpg.rf.5b525a5b6cd5615d3181935ad03d5efa.jpg  \n",
            " extracting: test/images/WIN_20250506_12_28_15_Pro-2-_jpg.rf.74c71616a329b377183b78b26b985f4f.jpg  \n",
            " extracting: test/images/WIN_20250506_12_28_28_Pro_jpg.rf.5c56a3d15504a0c93e53fab95d7c96c0.jpg  \n",
            " extracting: test/images/WIN_20250506_12_29_02_Pro_jpg.rf.db39a3fffa1ec0e32101c0292a4571cf.jpg  \n",
            " extracting: test/images/WIN_20250506_12_29_23_Pro_jpg.rf.7fdd209043072e4054f553b0fe9ef001.jpg  \n",
            " extracting: test/images/WIN_20250506_12_29_29_Pro_jpg.rf.1ed60ede0387302359d981ed0062ebec.jpg  \n",
            " extracting: test/images/WIN_20250506_12_29_37_Pro_jpg.rf.222b05de60c1ca8f9eaa101a3809581f.jpg  \n",
            " extracting: test/images/WIN_20250506_12_29_43_Pro_jpg.rf.0c64c62f2ad8f4725d4836c101b81379.jpg  \n",
            " extracting: test/images/WIN_20250506_12_29_45_Pro_jpg.rf.6dffd5660352e8d5fda657ce3be2b7db.jpg  \n",
            " extracting: test/images/WIN_20250506_12_30_00_Pro_jpg.rf.c17d9815a22ff32c673e502afadee13d.jpg  \n",
            " extracting: test/images/WIN_20250506_12_30_36_Pro_jpg.rf.c15a3c3b46f4f27998c249864f422205.jpg  \n",
            " extracting: test/images/WIN_20250506_12_30_48_Pro_jpg.rf.ddeb541aa40ab67a1c4a125b47b62b23.jpg  \n",
            " extracting: test/images/WIN_20250506_12_30_50_Pro_jpg.rf.e7afa5042fc24ceb304d6d1ba7afab18.jpg  \n",
            " extracting: test/images/WIN_20250506_12_31_01_Pro_jpg.rf.45d024f4e23a218f4320f7c7e85f5716.jpg  \n",
            " extracting: test/images/WIN_20250506_12_33_29_Pro_jpg.rf.854f7b68baf16dc85357e95762d778a9.jpg  \n",
            " extracting: test/images/WIN_20250506_12_33_45_Pro_jpg.rf.5b705154e33f56322121d016c3d5709b.jpg  \n",
            " extracting: test/images/WIN_20250506_12_33_48_Pro_jpg.rf.c4a8a5dc6fe95032aaeeb486fe30242e.jpg  \n",
            " extracting: test/images/WIN_20250506_12_35_07_Pro_jpg.rf.71770e8291a9d3902a2943d574211d6a.jpg  \n",
            " extracting: test/images/WIN_20250506_12_35_11_Pro_jpg.rf.3b11170b9e16d8321faa70c4529f14fa.jpg  \n",
            " extracting: test/images/WIN_20250506_12_35_33_Pro_jpg.rf.ce31bfa408427986977aa588f45ccc92.jpg  \n",
            " extracting: test/images/WIN_20250506_12_35_40_Pro_jpg.rf.7fc5bfa7f460a8c6904a9e2ee041f980.jpg  \n",
            " extracting: test/images/WIN_20250506_12_35_48_Pro_jpg.rf.a3114aee40a06e57c0b3f6553042a295.jpg  \n",
            " extracting: test/images/WIN_20250506_12_36_11_Pro_jpg.rf.b7c20bbd0f94c9d65321984bf67238de.jpg  \n",
            " extracting: test/images/WIN_20250506_12_36_20_Pro_jpg.rf.9365929300e8dfbeb864fd0b67588b6b.jpg  \n",
            " extracting: test/images/WIN_20250506_12_36_28_Pro_jpg.rf.7d0a49cf4f9839c5916620a91f9b56ae.jpg  \n",
            " extracting: test/images/WIN_20250506_12_36_38_Pro_jpg.rf.b4347c23326134627134209202f004ba.jpg  \n",
            " extracting: test/images/WIN_20250506_12_37_08_Pro_jpg.rf.be314b312bfa8b38afc1aa2ea8d0d129.jpg  \n",
            " extracting: test/images/WIN_20250506_12_37_10_Pro_jpg.rf.6852be62dec33f6164217ca99938b4b4.jpg  \n",
            " extracting: test/images/WIN_20250506_12_37_14_Pro_jpg.rf.2eabbc00c1ee789ba439abd8102d29a1.jpg  \n",
            " extracting: test/images/WIN_20250506_12_37_15_Pro_jpg.rf.0cac95c6f354ba87e06eb67f4a5dade0.jpg  \n",
            " extracting: test/images/WIN_20250506_12_38_04_Pro_jpg.rf.64efee9a5699ba74219dc5af89974180.jpg  \n",
            " extracting: test/images/WIN_20250506_12_38_05_Pro_jpg.rf.2e268df1f85cf9b97bb5c7d48a341329.jpg  \n",
            " extracting: test/images/WIN_20250506_12_38_11_Pro_jpg.rf.f6cbca83fa6cbad679fd92d2adb6095f.jpg  \n",
            " extracting: test/images/WIN_20250506_12_38_15_Pro_jpg.rf.069febbba6d0d6e23ac6df7b8f74420e.jpg  \n",
            " extracting: test/images/WIN_20250506_12_38_19_Pro_jpg.rf.9b9d342d95b0e1321b5097fa9efb1fb1.jpg  \n",
            " extracting: test/images/WIN_20250506_12_38_22_Pro_jpg.rf.2033bd699f0c5b73beca7c56328cdd5f.jpg  \n",
            " extracting: test/images/WIN_20250506_12_38_29_Pro_jpg.rf.f703e00e2f627a2ae0f23d32aa36e4a6.jpg  \n",
            " extracting: test/images/WIN_20250506_12_38_32_Pro_jpg.rf.f8783593c737d110f793c1ebbcf30a0c.jpg  \n",
            " extracting: test/images/WIN_20250506_12_38_52_Pro_jpg.rf.ac798ff728a2a3fecb086896a6e619dd.jpg  \n",
            " extracting: test/images/WIN_20250506_12_39_04_Pro_jpg.rf.bf68c93f06d9a465d5dff8f126bbc8d6.jpg  \n",
            " extracting: test/images/WIN_20250506_12_39_05_Pro_jpg.rf.73b33688749b472e6ee1e65d511eef96.jpg  \n",
            " extracting: test/images/WIN_20250506_12_39_09_Pro_jpg.rf.fac8b5da4640336d53d7e8bffeac9491.jpg  \n",
            "   creating: test/labels/\n",
            "  inflating: test/labels/WIN_20250506_12_17_18_Pro_jpg.rf.07d9032d89923a54bd10dc787f3b00f0.txt  \n",
            "  inflating: test/labels/WIN_20250506_12_17_19_Pro_jpg.rf.dfde8d82195536583402591d86533a6f.txt  \n",
            "  inflating: test/labels/WIN_20250506_12_17_41_Pro_jpg.rf.b172b1c0427645fde1b83cd3bf4cf9c6.txt  \n",
            "  inflating: test/labels/WIN_20250506_12_17_52_Pro_jpg.rf.8c4b50bcc44ae9f13ad2bdbb623b4ea9.txt  \n",
            "  inflating: test/labels/WIN_20250506_12_17_58_Pro_jpg.rf.e94630aa293e220225524b2ed787731e.txt  \n",
            "  inflating: test/labels/WIN_20250506_12_17_59_Pro-2-_jpg.rf.3d565779110301d88053703ca3e35fcb.txt  \n",
            "  inflating: test/labels/WIN_20250506_12_17_59_Pro_jpg.rf.be9e629c5395d0169133bde9bf94e524.txt  \n",
            "  inflating: test/labels/WIN_20250506_12_18_06_Pro_jpg.rf.227c15e4771a6de30f051e8ac996da8e.txt  \n",
            "  inflating: test/labels/WIN_20250506_12_18_09_Pro-2-_jpg.rf.dcd911ba953b2a1481892d5a5458e761.txt  \n",
            "  inflating: test/labels/WIN_20250506_12_18_14_Pro_jpg.rf.3048b40999bcdd777d18b20fe3a379d5.txt  \n",
            "  inflating: test/labels/WIN_20250506_12_18_17_Pro_jpg.rf.75238366073505b9a7de5967c450321b.txt  \n",
            "  inflating: test/labels/WIN_20250506_12_18_50_Pro-2-_jpg.rf.177f709ad60fa71ff020ce64aa8a4dca.txt  \n",
            "  inflating: test/labels/WIN_20250506_12_18_50_Pro-3-_jpg.rf.2bc5628063f8a2429c9a974817dbf476.txt  \n",
            "  inflating: test/labels/WIN_20250506_12_19_02_Pro-2-_jpg.rf.2b00e91627898906e78f9c9ad30bde90.txt  \n",
            "  inflating: test/labels/WIN_20250506_12_19_02_Pro_jpg.rf.eb0870e88a71ad738efbe35f87385688.txt  \n",
            "  inflating: test/labels/WIN_20250506_12_19_03_Pro-2-_jpg.rf.05c09bbc9092dca540804679f4eed440.txt  \n",
            "  inflating: test/labels/WIN_20250506_12_19_04_Pro_jpg.rf.5a8345f9592705bfcfbb3ebefb7aba76.txt  \n",
            "  inflating: test/labels/WIN_20250506_12_19_10_Pro_jpg.rf.64ef06e0989e38dc7f453697657cbbc0.txt  \n",
            "  inflating: test/labels/WIN_20250506_12_19_14_Pro-3-_jpg.rf.32f0e2e8fec37ec1143a12eb73e26061.txt  \n",
            "  inflating: test/labels/WIN_20250506_12_19_14_Pro_jpg.rf.de9d6dd179ac86ae39ebf702451013b3.txt  \n",
            "  inflating: test/labels/WIN_20250506_12_19_16_Pro_jpg.rf.636c282db5c9838896e209d2c13893e9.txt  \n",
            "  inflating: test/labels/WIN_20250506_12_19_17_Pro-2-_jpg.rf.e9946bb99ce59d755778f29fd499c120.txt  \n",
            "  inflating: test/labels/WIN_20250506_12_19_19_Pro_jpg.rf.f7447c913a48099c220ed9d3735e9f82.txt  \n",
            "  inflating: test/labels/WIN_20250506_12_19_24_Pro_jpg.rf.55c69b9c979f2f3e9ee8c7e3bb375981.txt  \n",
            "  inflating: test/labels/WIN_20250506_12_19_28_Pro-4-_jpg.rf.b121326c46f9b986116f07c8952b47b7.txt  \n",
            "  inflating: test/labels/WIN_20250506_12_19_31_Pro-2-_jpg.rf.85456b93d4181b0dfcf6e5601cf58ad5.txt  \n",
            "  inflating: test/labels/WIN_20250506_12_19_32_Pro_jpg.rf.e424a2419a27774a547c80ed79fe25e1.txt  \n",
            "  inflating: test/labels/WIN_20250506_12_19_36_Pro-2-_jpg.rf.511e81a01ee8740e82ff14b60d2e2a62.txt  \n",
            "  inflating: test/labels/WIN_20250506_12_19_36_Pro-4-_jpg.rf.94114e4560c3ce86bf02052d3fddeade.txt  \n",
            "  inflating: test/labels/WIN_20250506_12_19_38_Pro-2-_jpg.rf.cfb4e42ab3168b1c761d0c2d72783403.txt  \n",
            "  inflating: test/labels/WIN_20250506_12_19_38_Pro_jpg.rf.6efe9fab04cfa679ed2561996a529fe6.txt  \n",
            "  inflating: test/labels/WIN_20250506_12_19_47_Pro-2-_jpg.rf.517936ba943a63562af691f107677667.txt  \n",
            "  inflating: test/labels/WIN_20250506_12_19_48_Pro_jpg.rf.cecd19e4b563563b8da1818dafb734db.txt  \n",
            "  inflating: test/labels/WIN_20250506_12_19_49_Pro-4-_jpg.rf.0d5f51b5186adee22b1a8a5858fb9acd.txt  \n",
            "  inflating: test/labels/WIN_20250506_12_19_55_Pro-2-_jpg.rf.b0be3096ca7323edfc04a28583debf86.txt  \n",
            "  inflating: test/labels/WIN_20250506_12_20_04_Pro-3-_jpg.rf.fe952982c0a94dcbbd54f1b8b803c54c.txt  \n",
            "  inflating: test/labels/WIN_20250506_12_20_06_Pro_jpg.rf.2c42d6240c4bded4a84d66c0cf52c0a1.txt  \n",
            "  inflating: test/labels/WIN_20250506_12_20_08_Pro_jpg.rf.500b660562618a0568685901c031ed3f.txt  \n",
            "  inflating: test/labels/WIN_20250506_12_20_16_Pro-2-_jpg.rf.d5ce800e29a9f170a450eee8205bcf88.txt  \n",
            "  inflating: test/labels/WIN_20250506_12_20_34_Pro_jpg.rf.584d0f445c1cff15a6addb830ffda1d4.txt  \n",
            "  inflating: test/labels/WIN_20250506_12_20_48_Pro_jpg.rf.f7e09e1715e15f1b233601103ab58e5e.txt  \n",
            "  inflating: test/labels/WIN_20250506_12_20_49_Pro-4-_jpg.rf.b51a41e65a9568850a9f055cc1882948.txt  \n",
            "  inflating: test/labels/WIN_20250506_12_20_51_Pro-4-_jpg.rf.96d90012c77b4ea5a83eeb11a7903f2d.txt  \n",
            "  inflating: test/labels/WIN_20250506_12_20_52_Pro-2-_jpg.rf.0994ff11e6ab112fdfbbc73964b9122e.txt  \n",
            "  inflating: test/labels/WIN_20250506_12_20_53_Pro-4-_jpg.rf.ee7ce080dca0c710cf1a46b838874f0a.txt  \n",
            "  inflating: test/labels/WIN_20250506_12_20_53_Pro_jpg.rf.f89b07295f8d650923806837af5cb731.txt  \n",
            "  inflating: test/labels/WIN_20250506_12_20_54_Pro-2-_jpg.rf.263f987d8200d9c83d4c0a41d207cabc.txt  \n",
            "  inflating: test/labels/WIN_20250506_12_21_04_Pro-2-_jpg.rf.56280b811d4a033f01b0c464f6df1a72.txt  \n",
            "  inflating: test/labels/WIN_20250506_12_21_04_Pro-3-_jpg.rf.b0a19b7525172456b0ea10ea3a9a7aaf.txt  \n",
            "  inflating: test/labels/WIN_20250506_12_21_05_Pro_jpg.rf.0a20b67dc01803ea7da392c9a15c691c.txt  \n",
            "  inflating: test/labels/WIN_20250506_12_21_08_Pro-3-_jpg.rf.16e9e5e0d9ba4e598bb3f266ae3b638e.txt  \n",
            "  inflating: test/labels/WIN_20250506_12_21_09_Pro-3-_jpg.rf.ba21fd9b4018c57b7bee092fc34bad5d.txt  \n",
            " extracting: test/labels/WIN_20250506_12_21_11_Pro-5-_jpg.rf.2458d85ba346fb8fe66e3a34138fdb11.txt  \n",
            "  inflating: test/labels/WIN_20250506_12_21_14_Pro-3-_jpg.rf.29a6e1d8108a5e3c99316ceee72e1128.txt  \n",
            "  inflating: test/labels/WIN_20250506_12_21_14_Pro_jpg.rf.1aaba8f07adf80df40cc6e2460782600.txt  \n",
            "  inflating: test/labels/WIN_20250506_12_21_18_Pro-4-_jpg.rf.0da2a63e66f2b103a16d3d63a0f2ee5d.txt  \n",
            "  inflating: test/labels/WIN_20250506_12_21_19_Pro-5-_jpg.rf.15f2c7e8cba4242640f51bc10843a610.txt  \n",
            "  inflating: test/labels/WIN_20250506_12_21_21_Pro-2-_jpg.rf.e0ab6b6ff15053dd0819b1cf2fb5433b.txt  \n",
            "  inflating: test/labels/WIN_20250506_12_21_23_Pro_jpg.rf.23f5fbdc864a22a41bd6176c22d73c06.txt  \n",
            "  inflating: test/labels/WIN_20250506_12_21_25_Pro-2-_jpg.rf.f92a953f144cb7c7745ef0dd2aae5084.txt  \n",
            "  inflating: test/labels/WIN_20250506_12_21_25_Pro-4-_jpg.rf.cafacdc721b29fc73adad3cb683f58f0.txt  \n",
            "  inflating: test/labels/WIN_20250506_12_21_26_Pro-3-_jpg.rf.1d3628821b44b78ae00b68c6ff0d02d3.txt  \n",
            "  inflating: test/labels/WIN_20250506_12_21_28_Pro-3-_jpg.rf.e5ea2a92fbd7ca1300ac5958d8848398.txt  \n",
            "  inflating: test/labels/WIN_20250506_12_21_30_Pro_jpg.rf.8b493ed4d7ad7379f29a2d54854e687d.txt  \n",
            "  inflating: test/labels/WIN_20250506_12_21_38_Pro_jpg.rf.c65f0836e292f4c8a53e94c8155cc659.txt  \n",
            "  inflating: test/labels/WIN_20250506_12_21_39_Pro-3-_jpg.rf.50aabf91c4fd4b61d93fa47e526eda26.txt  \n",
            "  inflating: test/labels/WIN_20250506_12_21_43_Pro_jpg.rf.e5dc12f5e2e87219429ba10bfc7a4aee.txt  \n",
            "  inflating: test/labels/WIN_20250506_12_21_48_Pro-2-_jpg.rf.6285121a576209d2e3382729ae252783.txt  \n",
            "  inflating: test/labels/WIN_20250506_12_21_51_Pro_jpg.rf.99c4ea3ab0dc5894bc45ddc070de7de1.txt  \n",
            "  inflating: test/labels/WIN_20250506_12_21_52_Pro-3-_jpg.rf.8059302fd11350d8f126202ed9d40c5f.txt  \n",
            "  inflating: test/labels/WIN_20250506_12_21_59_Pro-4-_jpg.rf.4f81db2f5e4af522de04684c35be5fc3.txt  \n",
            "  inflating: test/labels/WIN_20250506_12_21_59_Pro_jpg.rf.1b33ffd068dc58c92d5a85758b761fd5.txt  \n",
            "  inflating: test/labels/WIN_20250506_12_22_00_Pro-4-_jpg.rf.0ee08b7afb27bf3a38cbf3e88c34a46f.txt  \n",
            "  inflating: test/labels/WIN_20250506_12_22_01_Pro-3-_jpg.rf.5887c9d107b0c7c53f356196c9ee7596.txt  \n",
            "  inflating: test/labels/WIN_20250506_12_22_03_Pro-2-_jpg.rf.0ebefe95d6cddd3c6ff5519c2f7f4166.txt  \n",
            "  inflating: test/labels/WIN_20250506_12_22_05_Pro-4-_jpg.rf.f79b6effa4a8be6cbcd39c14d2e31a92.txt  \n",
            "  inflating: test/labels/WIN_20250506_12_22_05_Pro_jpg.rf.1f73c524d8ae4e8070b2307b03bf25df.txt  \n",
            "  inflating: test/labels/WIN_20250506_12_22_21_Pro_jpg.rf.fc82e63041ec8bab53849424078b6018.txt  \n",
            "  inflating: test/labels/WIN_20250506_12_22_23_Pro-2-_jpg.rf.56fbaad8cca68656878ddc7c1642aa44.txt  \n",
            "  inflating: test/labels/WIN_20250506_12_22_31_Pro-3-_jpg.rf.f664680070b88a439ab0c88d732a2595.txt  \n",
            "  inflating: test/labels/WIN_20250506_12_22_33_Pro-3-_jpg.rf.a02a085ff8c941f507fe3df3da461025.txt  \n",
            " extracting: test/labels/WIN_20250506_12_22_34_Pro-3-_jpg.rf.6f5b3ba1736b57b92e18602d7083a55b.txt  \n",
            "  inflating: test/labels/WIN_20250506_12_22_34_Pro_jpg.rf.b902fd89d68c98999e29b1d71a1587f9.txt  \n",
            "  inflating: test/labels/WIN_20250506_12_22_37_Pro_jpg.rf.07c3c65dc3e74ec4955c9efff38d138b.txt  \n",
            "  inflating: test/labels/WIN_20250506_12_22_42_Pro-2-_jpg.rf.40b57e6889e1c613b37fc563a64bcbb5.txt  \n",
            "  inflating: test/labels/WIN_20250506_12_22_44_Pro_jpg.rf.abc39cc46f69f156efba4e8d6ab07956.txt  \n",
            "  inflating: test/labels/WIN_20250506_12_22_52_Pro_jpg.rf.b47fd576ae91e3557ec225293e2de9b8.txt  \n",
            "  inflating: test/labels/WIN_20250506_12_22_53_Pro_jpg.rf.bf41034d5de3efa5cd754f67a5523da7.txt  \n",
            "  inflating: test/labels/WIN_20250506_12_22_56_Pro-4-_jpg.rf.5b77ff9d83073eb03b602cfde189bd79.txt  \n",
            "  inflating: test/labels/WIN_20250506_12_22_57_Pro-4-_jpg.rf.1894a6eed4302fc339554fb4f9bf2565.txt  \n",
            "  inflating: test/labels/WIN_20250506_12_22_58_Pro-2-_jpg.rf.1e06594612cd9dd9f0536cbdefc0f1b2.txt  \n",
            "  inflating: test/labels/WIN_20250506_12_22_58_Pro-3-_jpg.rf.501285d376fa033c86b4ed5130f10d00.txt  \n",
            "  inflating: test/labels/WIN_20250506_12_22_59_Pro-3-_jpg.rf.0da7f52c77e62444d77b8a22d7a161c6.txt  \n",
            "  inflating: test/labels/WIN_20250506_12_23_06_Pro_jpg.rf.d1d43832d0b134e2a6e0d8f829d5eceb.txt  \n",
            "  inflating: test/labels/WIN_20250506_12_23_07_Pro-5-_jpg.rf.4bdbef87a2f01d76b3c6264a9189cd15.txt  \n",
            "  inflating: test/labels/WIN_20250506_12_23_08_Pro-3-_jpg.rf.3a433a8f7bfa27610ed6dff1c33559e6.txt  \n",
            "  inflating: test/labels/WIN_20250506_12_23_08_Pro_jpg.rf.ca57a004b72c03e225392abfca29d482.txt  \n",
            "  inflating: test/labels/WIN_20250506_12_23_10_Pro-2-_jpg.rf.3193de9fc070fe1b456eec7f62be7161.txt  \n",
            "  inflating: test/labels/WIN_20250506_12_23_16_Pro-2-_jpg.rf.708562b8b01eab956f6461a52a5a5da1.txt  \n",
            "  inflating: test/labels/WIN_20250506_12_23_16_Pro_jpg.rf.f1440cb9ebee15c380e8eeb4cfd3b51a.txt  \n",
            "  inflating: test/labels/WIN_20250506_12_23_18_Pro-3-_jpg.rf.bfe61ea21ecad6cdfd4dd2386ff9fc64.txt  \n",
            "  inflating: test/labels/WIN_20250506_12_23_20_Pro-4-_jpg.rf.27001ff7550d4878b36aca452e11a4e0.txt  \n",
            "  inflating: test/labels/WIN_20250506_12_23_20_Pro_jpg.rf.d18b7ef97a88d599a6044847f6fe2bdb.txt  \n",
            "  inflating: test/labels/WIN_20250506_12_23_28_Pro-4-_jpg.rf.20a1e4b99805e8433afdb7cc5e796bb6.txt  \n",
            "  inflating: test/labels/WIN_20250506_12_23_40_Pro-3-_jpg.rf.8e4fd8f68a229dc0a1257b4f4227363a.txt  \n",
            "  inflating: test/labels/WIN_20250506_12_23_42_Pro-4-_jpg.rf.93f962fe4782d78f05c69f5f4fcb696d.txt  \n",
            "  inflating: test/labels/WIN_20250506_12_23_43_Pro-4-_jpg.rf.188b9d8c82d832f55fb6b6f8650cca3b.txt  \n",
            "  inflating: test/labels/WIN_20250506_12_23_51_Pro-2-_jpg.rf.be1496a4e87479b5767e083f1ffde47d.txt  \n",
            "  inflating: test/labels/WIN_20250506_12_23_53_Pro_jpg.rf.ea9fdba007fe88f46b0c5f8093510454.txt  \n",
            "  inflating: test/labels/WIN_20250506_12_24_05_Pro_jpg.rf.ecada41c911499b8a4416a5d60e65cbe.txt  \n",
            "  inflating: test/labels/WIN_20250506_12_24_06_Pro-2-_jpg.rf.ea1beb590b07184a54e790a68a7a4d2f.txt  \n",
            "  inflating: test/labels/WIN_20250506_12_24_08_Pro-2-_jpg.rf.ba88264ebbd3fbbe061bfdb3a1f2579b.txt  \n",
            "  inflating: test/labels/WIN_20250506_12_24_18_Pro-2-_jpg.rf.4e52d8832adc8a7ef22e0b6e72cd6482.txt  \n",
            "  inflating: test/labels/WIN_20250506_12_24_19_Pro-3-_jpg.rf.61030a1abc9e78f4dd7e39c561319d2a.txt  \n",
            "  inflating: test/labels/WIN_20250506_12_24_23_Pro-2-_jpg.rf.f551fc0485a7e1e13b16defe18c02927.txt  \n",
            " extracting: test/labels/WIN_20250506_12_24_28_Pro-2-_jpg.rf.4cb3fa6e588b846e97e86880d7410ff8.txt  \n",
            "  inflating: test/labels/WIN_20250506_12_24_33_Pro-2-_jpg.rf.a4c7580715b7327d34adaa9faf4e659e.txt  \n",
            "  inflating: test/labels/WIN_20250506_12_24_35_Pro_jpg.rf.c1bf3a49575ff85d43597ec28490e82d.txt  \n",
            "  inflating: test/labels/WIN_20250506_12_24_36_Pro_jpg.rf.78fabed1bb52aabb1ec24c6aae58396b.txt  \n",
            "  inflating: test/labels/WIN_20250506_12_24_57_Pro-4-_jpg.rf.631f790fef36d769f3cca80f362ed96f.txt  \n",
            "  inflating: test/labels/WIN_20250506_12_24_58_Pro-3-_jpg.rf.ce43aeba6899bed2b0438ab0e55e4e14.txt  \n",
            "  inflating: test/labels/WIN_20250506_12_25_01_Pro-3-_jpg.rf.bc6c46ee5b3d82e26ad4e321d17b802b.txt  \n",
            "  inflating: test/labels/WIN_20250506_12_25_03_Pro-2-_jpg.rf.0f8e8e665945da23e415a203c9e588d1.txt  \n",
            "  inflating: test/labels/WIN_20250506_12_25_03_Pro-4-_jpg.rf.3ff3e43d4a5937c7b569b2972de95968.txt  \n",
            "  inflating: test/labels/WIN_20250506_12_25_17_Pro-3-_jpg.rf.541e16980d56ba55d6f6283855a036bb.txt  \n",
            "  inflating: test/labels/WIN_20250506_12_25_20_Pro-2-_jpg.rf.a9b2c45761b99d683faef6bb0de1a8ff.txt  \n",
            "  inflating: test/labels/WIN_20250506_12_25_20_Pro-4-_jpg.rf.6e9dddfa1c15f2a64c84629401025086.txt  \n",
            "  inflating: test/labels/WIN_20250506_12_25_20_Pro_jpg.rf.1e95aa37c4b28067c99ad11414887d29.txt  \n",
            "  inflating: test/labels/WIN_20250506_12_25_21_Pro-3-_jpg.rf.4c2d7cab985d28a635e49f834b68c68e.txt  \n",
            "  inflating: test/labels/WIN_20250506_12_25_23_Pro_jpg.rf.008e695eda260644bab3b7daaf3d29f0.txt  \n",
            "  inflating: test/labels/WIN_20250506_12_25_51_Pro_jpg.rf.4cabafa8ba5fdbdbcfda14150b236649.txt  \n",
            "  inflating: test/labels/WIN_20250506_12_25_52_Pro_jpg.rf.eb23bdca8a84cae2427638d34814ccec.txt  \n",
            "  inflating: test/labels/WIN_20250506_12_25_54_Pro-3-_jpg.rf.d370afaeaa4c27ecdea26ea5bf4abe98.txt  \n",
            "  inflating: test/labels/WIN_20250506_12_26_14_Pro-4-_jpg.rf.d28e78cdd24f4f0b5185d9a49db51d48.txt  \n",
            "  inflating: test/labels/WIN_20250506_12_26_14_Pro_jpg.rf.7e2603b761bfe67b09483d169f06f7e5.txt  \n",
            "  inflating: test/labels/WIN_20250506_12_26_17_Pro-3-_jpg.rf.aba7582190a7e44b392f438206373485.txt  \n",
            "  inflating: test/labels/WIN_20250506_12_26_33_Pro_jpg.rf.afacb711fd7d0151fe8a071ffdfe57dd.txt  \n",
            "  inflating: test/labels/WIN_20250506_12_26_35_Pro-3-_jpg.rf.e104be7c593dbafb421fd32f888b953f.txt  \n",
            "  inflating: test/labels/WIN_20250506_12_26_37_Pro-4-_jpg.rf.874227ba066b60292fc5145ff334b3a0.txt  \n",
            "  inflating: test/labels/WIN_20250506_12_26_39_Pro-2-_jpg.rf.458865d8e0da39975795b86c385a89e3.txt  \n",
            "  inflating: test/labels/WIN_20250506_12_26_52_Pro-3-_jpg.rf.903c3c469fd4994497072bd25c279fc1.txt  \n",
            "  inflating: test/labels/WIN_20250506_12_26_56_Pro-2-_jpg.rf.097167820dc8c13cd4a58c3722d10969.txt  \n",
            "  inflating: test/labels/WIN_20250506_12_26_56_Pro-3-_jpg.rf.d67c3d4295cabc32ec4d9f24c5a4887e.txt  \n",
            "  inflating: test/labels/WIN_20250506_12_26_57_Pro-3-_jpg.rf.6b863563aef5a03a0d70dc18a6286ebf.txt  \n",
            "  inflating: test/labels/WIN_20250506_12_26_58_Pro-2-_jpg.rf.f6e5b796e39c599b9f7adfb8f711c904.txt  \n",
            "  inflating: test/labels/WIN_20250506_12_27_53_Pro-2-_jpg.rf.15f6fb8fae0c6e172c2e7d0373f91c9d.txt  \n",
            "  inflating: test/labels/WIN_20250506_12_28_11_Pro_jpg.rf.5b525a5b6cd5615d3181935ad03d5efa.txt  \n",
            "  inflating: test/labels/WIN_20250506_12_28_15_Pro-2-_jpg.rf.74c71616a329b377183b78b26b985f4f.txt  \n",
            "  inflating: test/labels/WIN_20250506_12_28_28_Pro_jpg.rf.5c56a3d15504a0c93e53fab95d7c96c0.txt  \n",
            "  inflating: test/labels/WIN_20250506_12_29_02_Pro_jpg.rf.db39a3fffa1ec0e32101c0292a4571cf.txt  \n",
            "  inflating: test/labels/WIN_20250506_12_29_23_Pro_jpg.rf.7fdd209043072e4054f553b0fe9ef001.txt  \n",
            "  inflating: test/labels/WIN_20250506_12_29_29_Pro_jpg.rf.1ed60ede0387302359d981ed0062ebec.txt  \n",
            "  inflating: test/labels/WIN_20250506_12_29_37_Pro_jpg.rf.222b05de60c1ca8f9eaa101a3809581f.txt  \n",
            "  inflating: test/labels/WIN_20250506_12_29_43_Pro_jpg.rf.0c64c62f2ad8f4725d4836c101b81379.txt  \n",
            "  inflating: test/labels/WIN_20250506_12_29_45_Pro_jpg.rf.6dffd5660352e8d5fda657ce3be2b7db.txt  \n",
            " extracting: test/labels/WIN_20250506_12_30_00_Pro_jpg.rf.c17d9815a22ff32c673e502afadee13d.txt  \n",
            "  inflating: test/labels/WIN_20250506_12_30_36_Pro_jpg.rf.c15a3c3b46f4f27998c249864f422205.txt  \n",
            "  inflating: test/labels/WIN_20250506_12_30_48_Pro_jpg.rf.ddeb541aa40ab67a1c4a125b47b62b23.txt  \n",
            "  inflating: test/labels/WIN_20250506_12_30_50_Pro_jpg.rf.e7afa5042fc24ceb304d6d1ba7afab18.txt  \n",
            "  inflating: test/labels/WIN_20250506_12_31_01_Pro_jpg.rf.45d024f4e23a218f4320f7c7e85f5716.txt  \n",
            "  inflating: test/labels/WIN_20250506_12_33_29_Pro_jpg.rf.854f7b68baf16dc85357e95762d778a9.txt  \n",
            "  inflating: test/labels/WIN_20250506_12_33_45_Pro_jpg.rf.5b705154e33f56322121d016c3d5709b.txt  \n",
            "  inflating: test/labels/WIN_20250506_12_33_48_Pro_jpg.rf.c4a8a5dc6fe95032aaeeb486fe30242e.txt  \n",
            "  inflating: test/labels/WIN_20250506_12_35_07_Pro_jpg.rf.71770e8291a9d3902a2943d574211d6a.txt  \n",
            "  inflating: test/labels/WIN_20250506_12_35_11_Pro_jpg.rf.3b11170b9e16d8321faa70c4529f14fa.txt  \n",
            "  inflating: test/labels/WIN_20250506_12_35_33_Pro_jpg.rf.ce31bfa408427986977aa588f45ccc92.txt  \n",
            "  inflating: test/labels/WIN_20250506_12_35_40_Pro_jpg.rf.7fc5bfa7f460a8c6904a9e2ee041f980.txt  \n",
            "  inflating: test/labels/WIN_20250506_12_35_48_Pro_jpg.rf.a3114aee40a06e57c0b3f6553042a295.txt  \n",
            "  inflating: test/labels/WIN_20250506_12_36_11_Pro_jpg.rf.b7c20bbd0f94c9d65321984bf67238de.txt  \n",
            "  inflating: test/labels/WIN_20250506_12_36_20_Pro_jpg.rf.9365929300e8dfbeb864fd0b67588b6b.txt  \n",
            "  inflating: test/labels/WIN_20250506_12_36_28_Pro_jpg.rf.7d0a49cf4f9839c5916620a91f9b56ae.txt  \n",
            "  inflating: test/labels/WIN_20250506_12_36_38_Pro_jpg.rf.b4347c23326134627134209202f004ba.txt  \n",
            "  inflating: test/labels/WIN_20250506_12_37_08_Pro_jpg.rf.be314b312bfa8b38afc1aa2ea8d0d129.txt  \n",
            "  inflating: test/labels/WIN_20250506_12_37_10_Pro_jpg.rf.6852be62dec33f6164217ca99938b4b4.txt  \n",
            "  inflating: test/labels/WIN_20250506_12_37_14_Pro_jpg.rf.2eabbc00c1ee789ba439abd8102d29a1.txt  \n",
            "  inflating: test/labels/WIN_20250506_12_37_15_Pro_jpg.rf.0cac95c6f354ba87e06eb67f4a5dade0.txt  \n",
            "  inflating: test/labels/WIN_20250506_12_38_04_Pro_jpg.rf.64efee9a5699ba74219dc5af89974180.txt  \n",
            "  inflating: test/labels/WIN_20250506_12_38_05_Pro_jpg.rf.2e268df1f85cf9b97bb5c7d48a341329.txt  \n",
            "  inflating: test/labels/WIN_20250506_12_38_11_Pro_jpg.rf.f6cbca83fa6cbad679fd92d2adb6095f.txt  \n",
            "  inflating: test/labels/WIN_20250506_12_38_15_Pro_jpg.rf.069febbba6d0d6e23ac6df7b8f74420e.txt  \n",
            "  inflating: test/labels/WIN_20250506_12_38_19_Pro_jpg.rf.9b9d342d95b0e1321b5097fa9efb1fb1.txt  \n",
            "  inflating: test/labels/WIN_20250506_12_38_22_Pro_jpg.rf.2033bd699f0c5b73beca7c56328cdd5f.txt  \n",
            "  inflating: test/labels/WIN_20250506_12_38_29_Pro_jpg.rf.f703e00e2f627a2ae0f23d32aa36e4a6.txt  \n",
            "  inflating: test/labels/WIN_20250506_12_38_32_Pro_jpg.rf.f8783593c737d110f793c1ebbcf30a0c.txt  \n",
            "  inflating: test/labels/WIN_20250506_12_38_52_Pro_jpg.rf.ac798ff728a2a3fecb086896a6e619dd.txt  \n",
            "  inflating: test/labels/WIN_20250506_12_39_04_Pro_jpg.rf.bf68c93f06d9a465d5dff8f126bbc8d6.txt  \n",
            "  inflating: test/labels/WIN_20250506_12_39_05_Pro_jpg.rf.73b33688749b472e6ee1e65d511eef96.txt  \n",
            "  inflating: test/labels/WIN_20250506_12_39_09_Pro_jpg.rf.fac8b5da4640336d53d7e8bffeac9491.txt  \n",
            "   creating: train/\n",
            "   creating: train/images/\n",
            " extracting: train/images/WIN_20250506_12_16_46_Pro_jpg.rf.286d748c808f36c9292c302f12f49255.jpg  \n",
            " extracting: train/images/WIN_20250506_12_16_49_Pro_jpg.rf.408412ae1e79448e5a7ee8ca7151d18e.jpg  \n",
            " extracting: train/images/WIN_20250506_12_16_50_Pro_jpg.rf.6f7388860c57122bedaa1e6ead51cdaf.jpg  \n",
            " extracting: train/images/WIN_20250506_12_16_51_Pro_jpg.rf.f7c5514bc5fd2a9c228bfb01ea7038ce.jpg  \n",
            " extracting: train/images/WIN_20250506_12_17_09_Pro_jpg.rf.dedfe71131c25464e5c9bc3211c8b362.jpg  \n",
            " extracting: train/images/WIN_20250506_12_17_11_Pro_jpg.rf.ef3ce8fd4cc347db24ac3799d0ec1f9f.jpg  \n",
            " extracting: train/images/WIN_20250506_12_17_12_Pro_jpg.rf.1e2a5ee81abab8a80d4e80f52e52a347.jpg  \n",
            " extracting: train/images/WIN_20250506_12_17_13_Pro_jpg.rf.38766af05b27c06e29b29383c993271f.jpg  \n",
            " extracting: train/images/WIN_20250506_12_17_14_Pro_jpg.rf.75c35dec81c1ec1de9b29f8c5e69679f.jpg  \n",
            " extracting: train/images/WIN_20250506_12_17_15_Pro_jpg.rf.2db894cb5120c62cebff6f58110f2925.jpg  \n",
            " extracting: train/images/WIN_20250506_12_17_16_Pro_jpg.rf.897dc3d1beb16e9b823a7f4f536286d4.jpg  \n",
            " extracting: train/images/WIN_20250506_12_17_17_Pro_jpg.rf.3af2a7e1bfec242bf088b62aedcece9b.jpg  \n",
            " extracting: train/images/WIN_20250506_12_17_22_Pro_jpg.rf.a139ec42d3188b61cdfebbad10e62a7e.jpg  \n",
            " extracting: train/images/WIN_20250506_12_17_23_Pro_jpg.rf.693c713a87ce75588a9840be1e3b5560.jpg  \n",
            " extracting: train/images/WIN_20250506_12_17_27_Pro_jpg.rf.daeba56dd5aff95ad442e39d78fa58eb.jpg  \n",
            " extracting: train/images/WIN_20250506_12_17_32_Pro_jpg.rf.26e56e4199d79eaa0b1bd59aee8a4a90.jpg  \n",
            " extracting: train/images/WIN_20250506_12_17_36_Pro_jpg.rf.d07def9bd910eb73299a4fc5df12d923.jpg  \n",
            " extracting: train/images/WIN_20250506_12_17_37_Pro_jpg.rf.dbfd243c8b48dc48df146aeaa4fbfec1.jpg  \n",
            " extracting: train/images/WIN_20250506_12_17_40_Pro_jpg.rf.65d2a75b0fd255211fa05d43fddfcb10.jpg  \n",
            " extracting: train/images/WIN_20250506_12_17_44_Pro_jpg.rf.3c4a7bba902f9117cb7e89aad52c66ac.jpg  \n",
            " extracting: train/images/WIN_20250506_12_17_55_Pro-2-_jpg.rf.1404b00c1dfd5140f361a7ad82b55f83.jpg  \n",
            " extracting: train/images/WIN_20250506_12_18_01_Pro_jpg.rf.0596446413dc89846a9a35e0ea4ab369.jpg  \n",
            " extracting: train/images/WIN_20250506_12_18_02_Pro-2-_jpg.rf.114b3be55e28e3cb049681272df4fdfd.jpg  \n",
            " extracting: train/images/WIN_20250506_12_18_02_Pro_jpg.rf.73fe649d05dd8a61f0b24ef2c1312622.jpg  \n",
            " extracting: train/images/WIN_20250506_12_18_05_Pro_jpg.rf.e5d2625f882a4d76557af0dc6ad12490.jpg  \n",
            " extracting: train/images/WIN_20250506_12_18_06_Pro-2-_jpg.rf.28338ca952cbb5ad1457ae5d320929fb.jpg  \n",
            " extracting: train/images/WIN_20250506_12_18_09_Pro_jpg.rf.cae2e418e7e4d9d424a27cfd6275001f.jpg  \n",
            " extracting: train/images/WIN_20250506_12_18_13_Pro_jpg.rf.21a5816a21c636f4c3a0afbedf1a9cf0.jpg  \n",
            " extracting: train/images/WIN_20250506_12_18_16_Pro_jpg.rf.c0636dd48292d34d5431ed23531560c0.jpg  \n",
            " extracting: train/images/WIN_20250506_12_18_17_Pro-2-_jpg.rf.358e32872aea50be1efcd242f9e3e09f.jpg  \n",
            " extracting: train/images/WIN_20250506_12_18_20_Pro-2-_jpg.rf.6361bab8fc67a887f664f8e515c3d865.jpg  \n",
            " extracting: train/images/WIN_20250506_12_18_20_Pro_jpg.rf.0e2a6e9e8bfcf893e6dfbf78df528422.jpg  \n",
            " extracting: train/images/WIN_20250506_12_18_23_Pro_jpg.rf.3df496bed61634cc3191fb7d7e621a56.jpg  \n",
            " extracting: train/images/WIN_20250506_12_18_24_Pro_jpg.rf.7c3c1d05fa869489a2291f93faa51793.jpg  \n",
            " extracting: train/images/WIN_20250506_12_18_27_Pro_jpg.rf.08ee6b4a3e4cb8770c38a2800e2be7c9.jpg  \n",
            " extracting: train/images/WIN_20250506_12_18_28_Pro_jpg.rf.535e78834bd8c051043332be66226bf0.jpg  \n",
            " extracting: train/images/WIN_20250506_12_18_32_Pro-2-_jpg.rf.27960d414d762d1b203ea927e03d6452.jpg  \n",
            " extracting: train/images/WIN_20250506_12_18_32_Pro_jpg.rf.0318ebc066264ce36aa25b0a6c7e2188.jpg  \n",
            " extracting: train/images/WIN_20250506_12_18_37_Pro-2-_jpg.rf.9ab9e266109b4f690dc8d3146bbc4f04.jpg  \n",
            " extracting: train/images/WIN_20250506_12_18_37_Pro_jpg.rf.5438ec60a77a01d244ab8470ddcc7d7a.jpg  \n",
            " extracting: train/images/WIN_20250506_12_18_41_Pro_jpg.rf.55dae12fbaadc796bb6b5059001e77f1.jpg  \n",
            " extracting: train/images/WIN_20250506_12_18_42_Pro-2-_jpg.rf.efdb9b197329ea7b79d1eb91f7de92e5.jpg  \n",
            " extracting: train/images/WIN_20250506_12_18_42_Pro_jpg.rf.cc67d43f5b6c54c53b212d86a0368fe6.jpg  \n",
            " extracting: train/images/WIN_20250506_12_18_43_Pro-2-_jpg.rf.f1d0cbbdaea82b7726e680b68c26af07.jpg  \n",
            " extracting: train/images/WIN_20250506_12_18_43_Pro_jpg.rf.0112b747f6160cab433216737acf99b2.jpg  \n",
            " extracting: train/images/WIN_20250506_12_18_44_Pro_jpg.rf.18270768046256b4998e9422415a5b47.jpg  \n",
            " extracting: train/images/WIN_20250506_12_18_47_Pro-2-_jpg.rf.aed03d84cc80b8cb7d582b6ab8ca9c7a.jpg  \n",
            " extracting: train/images/WIN_20250506_12_18_47_Pro-3-_jpg.rf.011b7f45986bc3f3c3b81b1c94fed4eb.jpg  \n",
            " extracting: train/images/WIN_20250506_12_18_47_Pro_jpg.rf.3f8f7c1ab98f00bd5e4eeb623de9bd2e.jpg  \n",
            " extracting: train/images/WIN_20250506_12_18_50_Pro_jpg.rf.7cec67c0fbeb5918c7f577892257d0f4.jpg  \n",
            " extracting: train/images/WIN_20250506_12_18_54_Pro_jpg.rf.3b36917c951275d0435b117c472fa29b.jpg  \n",
            " extracting: train/images/WIN_20250506_12_18_56_Pro-2-_jpg.rf.69709b343b2bc60ae3d64910bafd2258.jpg  \n",
            " extracting: train/images/WIN_20250506_12_18_56_Pro_jpg.rf.21ec699b2c6477b56efd6cf568c7a23c.jpg  \n",
            " extracting: train/images/WIN_20250506_12_18_57_Pro_jpg.rf.70af5cea145aa8a46d1e590ea1e0dc77.jpg  \n",
            " extracting: train/images/WIN_20250506_12_18_59_Pro-2-_jpg.rf.1184c345d495ec184034a72681e11539.jpg  \n",
            " extracting: train/images/WIN_20250506_12_18_59_Pro_jpg.rf.149f3898b657ce5286be65abc8ea3433.jpg  \n",
            " extracting: train/images/WIN_20250506_12_19_00_Pro-2-_jpg.rf.32ebe8f969c44f91d5de97f8a16a6f6e.jpg  \n",
            " extracting: train/images/WIN_20250506_12_19_00_Pro_jpg.rf.6a2c1b0931cdd19f1d49aaa3188d788f.jpg  \n",
            " extracting: train/images/WIN_20250506_12_19_03_Pro_jpg.rf.104544c524d115485430103c6adcccf4.jpg  \n",
            " extracting: train/images/WIN_20250506_12_19_04_Pro-2-_jpg.rf.b35cb2405d21269b890f7907d37fe88d.jpg  \n",
            " extracting: train/images/WIN_20250506_12_19_04_Pro-3-_jpg.rf.db03ebffaa73d7646ddf910a29c1dffe.jpg  \n",
            " extracting: train/images/WIN_20250506_12_19_04_Pro-4-_jpg.rf.23e5c453534090134251d23aaf256f72.jpg  \n",
            " extracting: train/images/WIN_20250506_12_19_05_Pro_jpg.rf.1529654920e6dbf58651ec6fa0babefa.jpg  \n",
            " extracting: train/images/WIN_20250506_12_19_08_Pro-2-_jpg.rf.9d62bce9d7ba2cd78cab5fac2ea5b5d8.jpg  \n",
            " extracting: train/images/WIN_20250506_12_19_08_Pro-3-_jpg.rf.0cbc8b608d9d4aaba0ba676743cb48ef.jpg  \n",
            " extracting: train/images/WIN_20250506_12_19_08_Pro_jpg.rf.f228611afcc961bd4094359c735a761a.jpg  \n",
            " extracting: train/images/WIN_20250506_12_19_09_Pro-3-_jpg.rf.0888ec0bc9e0ef9420594fb1e712e7a2.jpg  \n",
            " extracting: train/images/WIN_20250506_12_19_09_Pro-4-_jpg.rf.2ac83ec8700b9c2102a08cafa7a7e475.jpg  \n",
            " extracting: train/images/WIN_20250506_12_19_09_Pro_jpg.rf.0f9fca9f5b075beba460ecd5c1331bc0.jpg  \n",
            " extracting: train/images/WIN_20250506_12_19_10_Pro-2-_jpg.rf.d1c846d867bc5914794037b0a4931354.jpg  \n",
            " extracting: train/images/WIN_20250506_12_19_10_Pro-3-_jpg.rf.099d06dbb662c2cfd1b9454bbfe01837.jpg  \n",
            " extracting: train/images/WIN_20250506_12_19_13_Pro-2-_jpg.rf.8d59e8a74a902ffde43edf74a94de359.jpg  \n",
            " extracting: train/images/WIN_20250506_12_19_13_Pro-3-_jpg.rf.6e2b11a9237074b8abe7adbff242d070.jpg  \n",
            " extracting: train/images/WIN_20250506_12_19_13_Pro-4-_jpg.rf.64cfd471c75a7e4891163278221c315b.jpg  \n",
            " extracting: train/images/WIN_20250506_12_19_13_Pro-5-_jpg.rf.1ed40536d580adb4b37b86c079dc6e77.jpg  \n",
            " extracting: train/images/WIN_20250506_12_19_13_Pro_jpg.rf.64ae537e88f99bcd747a8292667baccd.jpg  \n",
            " extracting: train/images/WIN_20250506_12_19_14_Pro-2-_jpg.rf.1fcb3d1261ec35fd902fd7ecd4c64c05.jpg  \n",
            " extracting: train/images/WIN_20250506_12_19_15_Pro-2-_jpg.rf.1407b8cccae767357c0b09878a334751.jpg  \n",
            " extracting: train/images/WIN_20250506_12_19_15_Pro-3-_jpg.rf.62c4f407ec34cd39f440defe8a049832.jpg  \n",
            " extracting: train/images/WIN_20250506_12_19_15_Pro-4-_jpg.rf.013c61cdb2787f3a3f2f19751b0b1f1b.jpg  \n",
            " extracting: train/images/WIN_20250506_12_19_15_Pro_jpg.rf.31c074721b4ef80e23e21cf8f7e223ce.jpg  \n",
            " extracting: train/images/WIN_20250506_12_19_17_Pro-3-_jpg.rf.095d3d51eb1c1bf16d30c64e08fb26bb.jpg  \n",
            " extracting: train/images/WIN_20250506_12_19_18_Pro-2-_jpg.rf.e6b1fb0e5bed270b17f8b2baed082b83.jpg  \n",
            " extracting: train/images/WIN_20250506_12_19_18_Pro-3-_jpg.rf.bc74ee6d5f84b0fc7986f26e24b6ba99.jpg  \n",
            " extracting: train/images/WIN_20250506_12_19_18_Pro_jpg.rf.d216456eec88d252ca5973191a15e02e.jpg  \n",
            " extracting: train/images/WIN_20250506_12_19_19_Pro-4-_jpg.rf.4b2717d5b1a62733bab9921d308119fe.jpg  \n",
            " extracting: train/images/WIN_20250506_12_19_20_Pro-2-_jpg.rf.16e8e24373c03383c60b9680c689b5e2.jpg  \n",
            " extracting: train/images/WIN_20250506_12_19_20_Pro-3-_jpg.rf.b09061536f1bb99f785223f6a4c82deb.jpg  \n",
            " extracting: train/images/WIN_20250506_12_19_24_Pro-2-_jpg.rf.983f301ebe3ad0826d5cbc85b18554cc.jpg  \n",
            " extracting: train/images/WIN_20250506_12_19_24_Pro-3-_jpg.rf.3a121af4b1bfd1b8a6a0075c563d0776.jpg  \n",
            " extracting: train/images/WIN_20250506_12_19_24_Pro-4-_jpg.rf.926f602b2da0432e5b51149298371101.jpg  \n",
            " extracting: train/images/WIN_20250506_12_19_25_Pro-2-_jpg.rf.1ce140f33dc35875e430b387443c5e2f.jpg  \n",
            " extracting: train/images/WIN_20250506_12_19_25_Pro_jpg.rf.e2cd006d6d0ffad21e0848ae0eaa2d03.jpg  \n",
            " extracting: train/images/WIN_20250506_12_19_26_Pro-2-_jpg.rf.a4bf44fb7d0546dab685f82b696edc3e.jpg  \n",
            " extracting: train/images/WIN_20250506_12_19_26_Pro_jpg.rf.5bf830dfcba593edd0c671127c604647.jpg  \n",
            " extracting: train/images/WIN_20250506_12_19_27_Pro-2-_jpg.rf.bad1519e13a723b98a48df7bfab847ca.jpg  \n",
            " extracting: train/images/WIN_20250506_12_19_27_Pro-3-_jpg.rf.ec328eb86580ef28110e51949b4b3b27.jpg  \n",
            " extracting: train/images/WIN_20250506_12_19_27_Pro_jpg.rf.d3fb92ad6644a951d39206649b40082a.jpg  \n",
            " extracting: train/images/WIN_20250506_12_19_28_Pro-2-_jpg.rf.609f9b88c46385721f8abd6b7933ff02.jpg  \n",
            " extracting: train/images/WIN_20250506_12_19_28_Pro_jpg.rf.6e28b5fa4c5d278b6b3b171d4fdf1691.jpg  \n",
            " extracting: train/images/WIN_20250506_12_19_29_Pro-3-_jpg.rf.8a5908c6b03c7e22f28cee75720b0956.jpg  \n",
            " extracting: train/images/WIN_20250506_12_19_29_Pro_jpg.rf.548cd6ea67acf5b4c8be9eb2ec572399.jpg  \n",
            " extracting: train/images/WIN_20250506_12_19_31_Pro_jpg.rf.c3d68c992dee16ffa804d14788594ff8.jpg  \n",
            " extracting: train/images/WIN_20250506_12_19_32_Pro-2-_jpg.rf.e835a823b57f3c55dcb1a0ddaf976ae1.jpg  \n",
            " extracting: train/images/WIN_20250506_12_19_32_Pro-3-_jpg.rf.3bb1ac3d0f1a6fb35847f4cb357d7214.jpg  \n",
            " extracting: train/images/WIN_20250506_12_19_32_Pro-4-_jpg.rf.361f213964d60c52441a0a5f88ec4910.jpg  \n",
            " extracting: train/images/WIN_20250506_12_19_33_Pro-2-_jpg.rf.6c0d143c3fd97041a778a5377e7d7b6f.jpg  \n",
            " extracting: train/images/WIN_20250506_12_19_33_Pro-3-_jpg.rf.d8b6b4271491e3646ae5a470d674e778.jpg  \n",
            " extracting: train/images/WIN_20250506_12_19_33_Pro-4-_jpg.rf.392c88b101e1b48b01a069ffbd006df5.jpg  \n",
            " extracting: train/images/WIN_20250506_12_19_33_Pro_jpg.rf.64a0776c0d4193f760199f2dc05c445a.jpg  \n",
            " extracting: train/images/WIN_20250506_12_19_36_Pro_jpg.rf.afe88ac4ea76248a33fe8e393f7422ce.jpg  \n",
            " extracting: train/images/WIN_20250506_12_19_37_Pro-2-_jpg.rf.1b482870d70eda1328029db2b2d437ae.jpg  \n",
            " extracting: train/images/WIN_20250506_12_19_37_Pro-3-_jpg.rf.312a997c109913a2525f6a1e46ea6f37.jpg  \n",
            " extracting: train/images/WIN_20250506_12_19_40_Pro-2-_jpg.rf.6168e9ce2ec5045e30ef3f716d18abf9.jpg  \n",
            " extracting: train/images/WIN_20250506_12_19_40_Pro_jpg.rf.65892cb2aff936dd03a4abf11587b2fd.jpg  \n",
            " extracting: train/images/WIN_20250506_12_19_41_Pro-2-_jpg.rf.a702c424d51ee1ddacf6ddf0aee04271.jpg  \n",
            " extracting: train/images/WIN_20250506_12_19_46_Pro-2-_jpg.rf.5f5b7f63faaed3b51c4ecba40d6e20c9.jpg  \n",
            " extracting: train/images/WIN_20250506_12_19_46_Pro_jpg.rf.e5718cdb16a6e26aef7a1b9bdbd31296.jpg  \n",
            " extracting: train/images/WIN_20250506_12_19_47_Pro-3-_jpg.rf.67dee6b16461f1822cc38a843434c156.jpg  \n",
            " extracting: train/images/WIN_20250506_12_19_47_Pro_jpg.rf.b6cfadd2b226e105db9e6507010347aa.jpg  \n",
            " extracting: train/images/WIN_20250506_12_19_49_Pro-2-_jpg.rf.2628d5036b2d1221c62cdd000e64d18e.jpg  \n",
            " extracting: train/images/WIN_20250506_12_19_49_Pro-3-_jpg.rf.906fdd457670fbdcf9c6541ba62cb804.jpg  \n",
            " extracting: train/images/WIN_20250506_12_19_49_Pro-5-_jpg.rf.2f2b48ed625a3062c2bfe81a933c61ce.jpg  \n",
            " extracting: train/images/WIN_20250506_12_19_49_Pro_jpg.rf.653d4d70e4eff7623af2832f621fe826.jpg  \n",
            " extracting: train/images/WIN_20250506_12_19_55_Pro-3-_jpg.rf.ae3d240c57257cb9e0376906fe8b2a85.jpg  \n",
            " extracting: train/images/WIN_20250506_12_19_55_Pro_jpg.rf.116402e16c30d3e4795949dd8e6342c6.jpg  \n",
            " extracting: train/images/WIN_20250506_12_19_56_Pro_jpg.rf.cc8574b3edfdc88d23ea707ab56ffa97.jpg  \n",
            " extracting: train/images/WIN_20250506_12_19_57_Pro-2-_jpg.rf.7c30f852bd79b512d2a088c91e046149.jpg  \n",
            " extracting: train/images/WIN_20250506_12_19_57_Pro-3-_jpg.rf.e3c0d773cd96bce04a62ec1e16abeea2.jpg  \n",
            " extracting: train/images/WIN_20250506_12_19_57_Pro_jpg.rf.d40612b2b8ac1b7d7ea0f418ce2354dd.jpg  \n",
            " extracting: train/images/WIN_20250506_12_19_58_Pro-2-_jpg.rf.8f7c8d8af9e9c46b1351c94162fb262c.jpg  \n",
            " extracting: train/images/WIN_20250506_12_19_58_Pro-3-_jpg.rf.6e8740c6070cb8f3906d6aae0b505599.jpg  \n",
            " extracting: train/images/WIN_20250506_12_19_58_Pro-4-_jpg.rf.5b1295f0d7b8db0020e4c80ed5b37b44.jpg  \n",
            " extracting: train/images/WIN_20250506_12_19_59_Pro-2-_jpg.rf.d7c90fd4e215002b7ae8a23c57d7fe3b.jpg  \n",
            " extracting: train/images/WIN_20250506_12_19_59_Pro_jpg.rf.80da68a950d0b0daa5df1846179dd812.jpg  \n",
            " extracting: train/images/WIN_20250506_12_20_00_Pro-2-_jpg.rf.c8b0ca2a3fb4cebd2e22c60fb112315a.jpg  \n",
            " extracting: train/images/WIN_20250506_12_20_00_Pro_jpg.rf.a497546a89793524d42e9bbff0fd54a6.jpg  \n",
            " extracting: train/images/WIN_20250506_12_20_04_Pro-2-_jpg.rf.c28ff3bb8faa55e395d4be5cb07b6fd6.jpg  \n",
            " extracting: train/images/WIN_20250506_12_20_04_Pro_jpg.rf.6751c427047185953a721b2c0248c4e7.jpg  \n",
            " extracting: train/images/WIN_20250506_12_20_05_Pro-3-_jpg.rf.bf8e9f6cef7857f8b7ab310cfd825ee5.jpg  \n",
            " extracting: train/images/WIN_20250506_12_20_06_Pro-2-_jpg.rf.d55185ddb6fe709cf1afd6affaa77f10.jpg  \n",
            " extracting: train/images/WIN_20250506_12_20_06_Pro-3-_jpg.rf.ccc36eeca42cfff52ee0094675a600b0.jpg  \n",
            " extracting: train/images/WIN_20250506_12_20_07_Pro-2-_jpg.rf.6c72a3b9b654240ed7739594f89a9c65.jpg  \n",
            " extracting: train/images/WIN_20250506_12_20_07_Pro_jpg.rf.3d557c8a591d9e6c1e3950bd21d73c91.jpg  \n",
            " extracting: train/images/WIN_20250506_12_20_08_Pro-2-_jpg.rf.926487b54efc083ac44b6796ecb7559b.jpg  \n",
            " extracting: train/images/WIN_20250506_12_20_13_Pro-2-_jpg.rf.3d37386fbf47bfc53eddbec847dc5627.jpg  \n",
            " extracting: train/images/WIN_20250506_12_20_14_Pro-2-_jpg.rf.7dc9b88ad8b6ed4bddf65eb0adba4296.jpg  \n",
            " extracting: train/images/WIN_20250506_12_20_15_Pro-2-_jpg.rf.bfc3c874be85cf76e4a2285c5ef9d44f.jpg  \n",
            " extracting: train/images/WIN_20250506_12_20_15_Pro-3-_jpg.rf.41ef7a984d7f518213c99d930da59558.jpg  \n",
            " extracting: train/images/WIN_20250506_12_20_15_Pro_jpg.rf.ef22bd519c49aa954d8ed214de578795.jpg  \n",
            " extracting: train/images/WIN_20250506_12_20_16_Pro-3-_jpg.rf.9f8769e3b0c5d4a96d6e66d7a0a6ad9f.jpg  \n",
            " extracting: train/images/WIN_20250506_12_20_16_Pro-4-_jpg.rf.8154176d385bf42f023036f6f3b07842.jpg  \n",
            " extracting: train/images/WIN_20250506_12_20_16_Pro-5-_jpg.rf.a134115b76d1b4e3cb08a95c74fa9d6a.jpg  \n",
            " extracting: train/images/WIN_20250506_12_20_16_Pro_jpg.rf.39ffb9358c14538c015db12b796e2223.jpg  \n",
            " extracting: train/images/WIN_20250506_12_20_17_Pro-3-_jpg.rf.88156ce7e9b018cfd0904f21692c0265.jpg  \n",
            " extracting: train/images/WIN_20250506_12_20_17_Pro_jpg.rf.5137c8c4f9fc1359a8e59e03e2cf7105.jpg  \n",
            " extracting: train/images/WIN_20250506_12_20_19_Pro-3-_jpg.rf.ba88fe98f3bbf6fafb4cb7ee65423207.jpg  \n",
            " extracting: train/images/WIN_20250506_12_20_20_Pro-2-_jpg.rf.ed36659f85caaf07eac30ef7c451572b.jpg  \n",
            " extracting: train/images/WIN_20250506_12_20_20_Pro-3-_jpg.rf.fd54b384dba626168c44b4eb7f777736.jpg  \n",
            " extracting: train/images/WIN_20250506_12_20_28_Pro_jpg.rf.52591f2fde03175bca7e558eefe8413c.jpg  \n",
            " extracting: train/images/WIN_20250506_12_20_29_Pro-2-_jpg.rf.6434368c7fb4defaa19d8ca6525c45d1.jpg  \n",
            " extracting: train/images/WIN_20250506_12_20_29_Pro-3-_jpg.rf.ed3e985e4a2365bb5d497a99d1fde878.jpg  \n",
            " extracting: train/images/WIN_20250506_12_20_30_Pro-2-_jpg.rf.118aa29df67e268ff7cfd3dac5ed9ba8.jpg  \n",
            " extracting: train/images/WIN_20250506_12_20_30_Pro-3-_jpg.rf.d2c45336a2a55cd8e0f30a9038079902.jpg  \n",
            " extracting: train/images/WIN_20250506_12_20_30_Pro_jpg.rf.2b62aadec36017c030a520ecf65c951f.jpg  \n",
            " extracting: train/images/WIN_20250506_12_20_31_Pro-2-_jpg.rf.839f4cc1554bb2d35538134acdddf85e.jpg  \n",
            " extracting: train/images/WIN_20250506_12_20_31_Pro-3-_jpg.rf.3598b0c5f01469ab362235c3789ec9f7.jpg  \n",
            " extracting: train/images/WIN_20250506_12_20_31_Pro_jpg.rf.80af964cd46084329c3fbf8754ca2317.jpg  \n",
            " extracting: train/images/WIN_20250506_12_20_32_Pro-3-_jpg.rf.b0d32b2dd6042a6d93d31ed69ead7c4c.jpg  \n",
            " extracting: train/images/WIN_20250506_12_20_32_Pro-4-_jpg.rf.4d526fa2d37ee083c12167f3ece00730.jpg  \n",
            " extracting: train/images/WIN_20250506_12_20_32_Pro_jpg.rf.8cc7adf96d5244960d5e6181476eb920.jpg  \n",
            " extracting: train/images/WIN_20250506_12_20_33_Pro-2-_jpg.rf.d4a0bf176d33bc0f59c0eee4eb8983a1.jpg  \n",
            " extracting: train/images/WIN_20250506_12_20_33_Pro-3-_jpg.rf.3f032e8728c2f3caa47d374d27e9c1b0.jpg  \n",
            " extracting: train/images/WIN_20250506_12_20_33_Pro-4-_jpg.rf.071b805b508a8fc0e0e5170eba7325eb.jpg  \n",
            " extracting: train/images/WIN_20250506_12_20_33_Pro_jpg.rf.39c3860f305b78e1fc30f555ee542baf.jpg  \n",
            " extracting: train/images/WIN_20250506_12_20_34_Pro-2-_jpg.rf.3fde6f15b27e389e1f12d818c1607fac.jpg  \n",
            " extracting: train/images/WIN_20250506_12_20_34_Pro-3-_jpg.rf.25502413c00dade5f8d64d9ef7fe5c89.jpg  \n",
            " extracting: train/images/WIN_20250506_12_20_35_Pro-2-_jpg.rf.ff0c3c1d841d10a1b038cd6d644b5372.jpg  \n",
            " extracting: train/images/WIN_20250506_12_20_35_Pro-3-_jpg.rf.b17beba948fb2ee79e750397f03fbd29.jpg  \n",
            " extracting: train/images/WIN_20250506_12_20_35_Pro-4-_jpg.rf.a860e3a3f059928fe1de5667ed4417a4.jpg  \n",
            " extracting: train/images/WIN_20250506_12_20_35_Pro_jpg.rf.a034933599b3c982ef6e6fc00fd9187b.jpg  \n",
            " extracting: train/images/WIN_20250506_12_20_36_Pro-2-_jpg.rf.9b129a7a40af10f7a2eaf467bfc04f4a.jpg  \n",
            " extracting: train/images/WIN_20250506_12_20_36_Pro_jpg.rf.fa755c58b8cacd401db714f8638b9888.jpg  \n",
            " extracting: train/images/WIN_20250506_12_20_47_Pro_jpg.rf.b08b6fb0354cda40a61623c1f22dd071.jpg  \n",
            " extracting: train/images/WIN_20250506_12_20_48_Pro-2-_jpg.rf.212de3c53f5b55fb7f860313a41348a6.jpg  \n",
            " extracting: train/images/WIN_20250506_12_20_48_Pro-3-_jpg.rf.14abb49ab3a4435967cbd7f2a404ed2a.jpg  \n",
            " extracting: train/images/WIN_20250506_12_20_48_Pro-4-_jpg.rf.288af203bb9f08201627ae2e68ac2f4d.jpg  \n",
            " extracting: train/images/WIN_20250506_12_20_49_Pro-2-_jpg.rf.3b29fd0e4812f91787408232a8e66e79.jpg  \n",
            " extracting: train/images/WIN_20250506_12_20_49_Pro-3-_jpg.rf.9af04e57883d875bd97185fc53717751.jpg  \n",
            " extracting: train/images/WIN_20250506_12_20_49_Pro_jpg.rf.bdff1611468bf2b7ffec2fdf11c4d850.jpg  \n",
            " extracting: train/images/WIN_20250506_12_20_50_Pro-2-_jpg.rf.9a27eb68859e06461cbfbcca59b990a1.jpg  \n",
            " extracting: train/images/WIN_20250506_12_20_50_Pro-3-_jpg.rf.6f86cac94b278e1dafe9822c7804f6f6.jpg  \n",
            " extracting: train/images/WIN_20250506_12_20_50_Pro_jpg.rf.131037b28c0a3b5e3ab05c9a2edcd01a.jpg  \n",
            " extracting: train/images/WIN_20250506_12_20_51_Pro-2-_jpg.rf.e448faec5536cce101a2a89501b08273.jpg  \n",
            " extracting: train/images/WIN_20250506_12_20_51_Pro-3-_jpg.rf.b91c661cb6405a94424b48e0102c16dd.jpg  \n",
            " extracting: train/images/WIN_20250506_12_20_52_Pro-3-_jpg.rf.21a606443833e8cb224fa247e2348cfd.jpg  \n",
            " extracting: train/images/WIN_20250506_12_20_52_Pro_jpg.rf.f3bcc19308db4b6dcc1bb26a0df6562a.jpg  \n",
            " extracting: train/images/WIN_20250506_12_20_53_Pro-2-_jpg.rf.3679eb12459c0d95cd8fcaeacdec3dc8.jpg  \n",
            " extracting: train/images/WIN_20250506_12_20_54_Pro-3-_jpg.rf.e3f8929fd17c137a58b6187c926c1dc1.jpg  \n",
            " extracting: train/images/WIN_20250506_12_20_54_Pro_jpg.rf.3ce074587dd0995cf7e4a5d390872369.jpg  \n",
            " extracting: train/images/WIN_20250506_12_20_55_Pro-2-_jpg.rf.6c9bc9ee608519a0a1647107aae94a91.jpg  \n",
            " extracting: train/images/WIN_20250506_12_20_55_Pro-3-_jpg.rf.2727a3a4539777a1b0bc84b42f132b7f.jpg  \n",
            " extracting: train/images/WIN_20250506_12_20_55_Pro_jpg.rf.773f5936d21932e99abcdfd3e641065a.jpg  \n",
            " extracting: train/images/WIN_20250506_12_21_03_Pro_jpg.rf.151b3003b5319c74da403beb88b77d57.jpg  \n",
            " extracting: train/images/WIN_20250506_12_21_04_Pro_jpg.rf.d9548a01adf25484cafc47e7ff034241.jpg  \n",
            " extracting: train/images/WIN_20250506_12_21_05_Pro-2-_jpg.rf.c76eb41c086843a1d15427a32e490e2a.jpg  \n",
            " extracting: train/images/WIN_20250506_12_21_07_Pro-3-_jpg.rf.18264859efd6a1a00285349f89418c3e.jpg  \n",
            " extracting: train/images/WIN_20250506_12_21_07_Pro-4-_jpg.rf.624705f9469641af4bc8d93cf1e74585.jpg  \n",
            " extracting: train/images/WIN_20250506_12_21_07_Pro_jpg.rf.865736987b0db4bb21dad532d280a609.jpg  \n",
            " extracting: train/images/WIN_20250506_12_21_08_Pro-2-_jpg.rf.5d0bde67a2639c2e1b6fe996b21dc162.jpg  \n",
            " extracting: train/images/WIN_20250506_12_21_08_Pro_jpg.rf.b6a5eac2f844b99ad87f2b79583dae45.jpg  \n",
            " extracting: train/images/WIN_20250506_12_21_09_Pro-2-_jpg.rf.d97b1d925a2ae46c720b8d0fd376c7a2.jpg  \n",
            " extracting: train/images/WIN_20250506_12_21_09_Pro-4-_jpg.rf.1c490c3708b2809049a3512ce4af2613.jpg  \n",
            " extracting: train/images/WIN_20250506_12_21_09_Pro_jpg.rf.53964c0cbe3252f7f07bfd08b792a11a.jpg  \n",
            " extracting: train/images/WIN_20250506_12_21_10_Pro-2-_jpg.rf.cd414b6deb06ecca064823cce907b0f3.jpg  \n",
            " extracting: train/images/WIN_20250506_12_21_10_Pro_jpg.rf.aaac9cc30ef5067792700333c9cf1e15.jpg  \n",
            " extracting: train/images/WIN_20250506_12_21_11_Pro-2-_jpg.rf.9c4f869476649b6174987a1ff0b0e403.jpg  \n",
            " extracting: train/images/WIN_20250506_12_21_11_Pro-3-_jpg.rf.c7c842a869c2b42fb5d11d97ca8d5ef2.jpg  \n",
            " extracting: train/images/WIN_20250506_12_21_11_Pro-4-_jpg.rf.85e225854aa72b19f9d7adab252556a8.jpg  \n",
            " extracting: train/images/WIN_20250506_12_21_11_Pro_jpg.rf.d4280d1106aec1f93a92976b37105c5a.jpg  \n",
            " extracting: train/images/WIN_20250506_12_21_14_Pro-2-_jpg.rf.fd917a73761e6fc903601fae092c21d3.jpg  \n",
            " extracting: train/images/WIN_20250506_12_21_15_Pro-2-_jpg.rf.bd3ca24ea443a13fe626f2163898f8f5.jpg  \n",
            " extracting: train/images/WIN_20250506_12_21_15_Pro-3-_jpg.rf.e4cfa12d9d52e6e743e55121305c819d.jpg  \n",
            " extracting: train/images/WIN_20250506_12_21_15_Pro_jpg.rf.706067430bde1ff1b9e7fe1f90a45d1e.jpg  \n",
            " extracting: train/images/WIN_20250506_12_21_16_Pro-2-_jpg.rf.633d0b9dec8e1eb5bdeabfad88814293.jpg  \n",
            " extracting: train/images/WIN_20250506_12_21_16_Pro-3-_jpg.rf.2cf7632ff9297e28200995c6ec1884ae.jpg  \n",
            " extracting: train/images/WIN_20250506_12_21_16_Pro-4-_jpg.rf.9476d8c7e1329df87f60a3cad304be0d.jpg  \n",
            " extracting: train/images/WIN_20250506_12_21_16_Pro_jpg.rf.3397f035a35cfcd30686e2a1dc20b631.jpg  \n",
            " extracting: train/images/WIN_20250506_12_21_17_Pro-2-_jpg.rf.0f1b1e2c3d4cb7f9147c6a04d2a94f11.jpg  \n",
            " extracting: train/images/WIN_20250506_12_21_17_Pro-3-_jpg.rf.fc4f92237fbdc5b682c8eb012da71c9d.jpg  \n",
            " extracting: train/images/WIN_20250506_12_21_17_Pro-4-_jpg.rf.f7df0b7bb4e79c25fe38ccb944a1131c.jpg  \n",
            " extracting: train/images/WIN_20250506_12_21_18_Pro-2-_jpg.rf.6a0a95f72a15a6fcfe2b34441548454b.jpg  \n",
            " extracting: train/images/WIN_20250506_12_21_18_Pro_jpg.rf.503daedba043ad4dd77e3fd928e78850.jpg  \n",
            " extracting: train/images/WIN_20250506_12_21_19_Pro-2-_jpg.rf.831286b5ffa83555f26c84df0da4c85e.jpg  \n",
            " extracting: train/images/WIN_20250506_12_21_19_Pro-3-_jpg.rf.468705d8ebcd8bbd89d15648899ec54f.jpg  \n",
            " extracting: train/images/WIN_20250506_12_21_19_Pro-4-_jpg.rf.2059ccb74311b103d1406ecb81c72f8b.jpg  \n",
            " extracting: train/images/WIN_20250506_12_21_19_Pro_jpg.rf.91f8c4ca96f39123265645ece502ec95.jpg  \n",
            " extracting: train/images/WIN_20250506_12_21_20_Pro-2-_jpg.rf.6a8eee9714438602d5e70004eedc9ebf.jpg  \n",
            " extracting: train/images/WIN_20250506_12_21_20_Pro-3-_jpg.rf.6c8b3620801a5787028444fae97fa544.jpg  \n",
            " extracting: train/images/WIN_20250506_12_21_20_Pro_jpg.rf.9b33a176fc380baf0192927565b8a613.jpg  \n",
            " extracting: train/images/WIN_20250506_12_21_21_Pro-4-_jpg.rf.3f64f238d497032f8d427abe11074f01.jpg  \n",
            " extracting: train/images/WIN_20250506_12_21_21_Pro_jpg.rf.da4b70901907ec49f0e506a2bbbd85ec.jpg  \n",
            " extracting: train/images/WIN_20250506_12_21_22_Pro-2-_jpg.rf.ed47417102507b65ca227b259a7854d5.jpg  \n",
            " extracting: train/images/WIN_20250506_12_21_22_Pro-3-_jpg.rf.e88e221d61f004d7cae8edcc444d5356.jpg  \n",
            " extracting: train/images/WIN_20250506_12_21_22_Pro_jpg.rf.de8470fb9079cb64bbdacc9f86c058b4.jpg  \n",
            " extracting: train/images/WIN_20250506_12_21_24_Pro-2-_jpg.rf.cdb2104b8bca5fff1334ee697c4e1788.jpg  \n",
            " extracting: train/images/WIN_20250506_12_21_24_Pro-3-_jpg.rf.4e5ec954a4f9ff56e172396f36f7b047.jpg  \n",
            " extracting: train/images/WIN_20250506_12_21_24_Pro_jpg.rf.12bafbdf2c87b65c44493910d0e81bcc.jpg  \n",
            " extracting: train/images/WIN_20250506_12_21_25_Pro-3-_jpg.rf.b1adbd62cccb189caf3c99cee171a65e.jpg  \n",
            " extracting: train/images/WIN_20250506_12_21_25_Pro_jpg.rf.2243b8120b38bbd7e015dcdd9ac0167e.jpg  \n",
            " extracting: train/images/WIN_20250506_12_21_26_Pro-2-_jpg.rf.5b1fc9daf2041cbdd8f7dfa3d3b41d38.jpg  \n",
            " extracting: train/images/WIN_20250506_12_21_26_Pro-4-_jpg.rf.f0d064d3a825905d922c7cf5a53478fb.jpg  \n",
            " extracting: train/images/WIN_20250506_12_21_26_Pro_jpg.rf.31e90296cd3a72ff5d1f7b06d9c4b4e5.jpg  \n",
            " extracting: train/images/WIN_20250506_12_21_27_Pro-2-_jpg.rf.1da8d6adaf919ffcd896a92cdf4f7498.jpg  \n",
            " extracting: train/images/WIN_20250506_12_21_27_Pro-3-_jpg.rf.d77feac93219da58d287b4a6c61cc2e2.jpg  \n",
            " extracting: train/images/WIN_20250506_12_21_27_Pro_jpg.rf.053d88d4ada5247855235d4e00abcda1.jpg  \n",
            " extracting: train/images/WIN_20250506_12_21_28_Pro-4-_jpg.rf.f8d33bc2d5fa1ec3981022cd401e8b3c.jpg  \n",
            " extracting: train/images/WIN_20250506_12_21_28_Pro_jpg.rf.bd4f58371eaf33acecf48165ef5e5ee9.jpg  \n",
            " extracting: train/images/WIN_20250506_12_21_29_Pro-2-_jpg.rf.bbed03f136e6b72ebf917378ab00e755.jpg  \n",
            " extracting: train/images/WIN_20250506_12_21_29_Pro_jpg.rf.2ab1770d0bfab0786d9cb32052c4f6eb.jpg  \n",
            " extracting: train/images/WIN_20250506_12_21_30_Pro-2-_jpg.rf.d2d4a7b1264b1d1ab3cde16e85c2dc70.jpg  \n",
            " extracting: train/images/WIN_20250506_12_21_35_Pro_jpg.rf.082c432cfa901249132bd0373d76c15e.jpg  \n",
            " extracting: train/images/WIN_20250506_12_21_36_Pro-3-_jpg.rf.c0ece60a5caea29d313464621f941d4a.jpg  \n",
            " extracting: train/images/WIN_20250506_12_21_36_Pro_jpg.rf.8dcc53d8f80ee537db817351fbc0400e.jpg  \n",
            " extracting: train/images/WIN_20250506_12_21_37_Pro-3-_jpg.rf.ff7ea37993e0ce394f24009cc732ac99.jpg  \n",
            " extracting: train/images/WIN_20250506_12_21_37_Pro_jpg.rf.10300878e886da49d8d581c943a01621.jpg  \n",
            " extracting: train/images/WIN_20250506_12_21_38_Pro-2-_jpg.rf.5192901f74b80524964da79f28441def.jpg  \n",
            " extracting: train/images/WIN_20250506_12_21_38_Pro-3-_jpg.rf.f4d5459727c2bec0acaf5ba71277fa69.jpg  \n",
            " extracting: train/images/WIN_20250506_12_21_39_Pro-2-_jpg.rf.9eaab6318c4276b188a4719ddc2c2baa.jpg  \n",
            " extracting: train/images/WIN_20250506_12_21_40_Pro-2-_jpg.rf.0d1114ed9af73c743d650b92254ee1c1.jpg  \n",
            " extracting: train/images/WIN_20250506_12_21_40_Pro-3-_jpg.rf.9ba2c2b63cfdd0837d6e904de3afbe6b.jpg  \n",
            " extracting: train/images/WIN_20250506_12_21_40_Pro_jpg.rf.3ba55af1e03511342b412912a17166d5.jpg  \n",
            " extracting: train/images/WIN_20250506_12_21_41_Pro-2-_jpg.rf.43d90f6cdbe8d3540106cfced993d9d9.jpg  \n",
            " extracting: train/images/WIN_20250506_12_21_41_Pro-3-_jpg.rf.c410eb0187e807d37d19333067634259.jpg  \n",
            " extracting: train/images/WIN_20250506_12_21_41_Pro_jpg.rf.ec67d5a29e1f1834ef4dbcfcd00e94c6.jpg  \n",
            " extracting: train/images/WIN_20250506_12_21_42_Pro-2-_jpg.rf.ace0ac4e3cb531366d005fe932ce7232.jpg  \n",
            " extracting: train/images/WIN_20250506_12_21_42_Pro-3-_jpg.rf.1d8a6c6be75e5b816042165cea7a6bf0.jpg  \n",
            " extracting: train/images/WIN_20250506_12_21_42_Pro_jpg.rf.68e6b259074d135009990ba27f5fc559.jpg  \n",
            " extracting: train/images/WIN_20250506_12_21_43_Pro-2-_jpg.rf.5f56a3582579e61e63cd1033d432181c.jpg  \n",
            " extracting: train/images/WIN_20250506_12_21_47_Pro-2-_jpg.rf.7609ef59c0932c978d636951f6a32c09.jpg  \n",
            " extracting: train/images/WIN_20250506_12_21_47_Pro_jpg.rf.a834afdfcc6b06541f66d0ee708b5a7e.jpg  \n",
            " extracting: train/images/WIN_20250506_12_21_48_Pro-4-_jpg.rf.5c1658a6e662ebdeba1181c5ec0a91e6.jpg  \n",
            " extracting: train/images/WIN_20250506_12_21_48_Pro_jpg.rf.4370951d6dfeca94d1ab36ff55943ce6.jpg  \n",
            " extracting: train/images/WIN_20250506_12_21_49_Pro-2-_jpg.rf.a22a14cd56d822cf4e2d96cf80698fd8.jpg  \n",
            " extracting: train/images/WIN_20250506_12_21_49_Pro-3-_jpg.rf.cc43f567507f17c43bc4b0755a265d75.jpg  \n",
            " extracting: train/images/WIN_20250506_12_21_49_Pro-4-_jpg.rf.ce5d9288cac0db0206a6ae1cd6943c28.jpg  \n",
            " extracting: train/images/WIN_20250506_12_21_49_Pro_jpg.rf.da50ce9024b9e164f69df1c7757f3c7b.jpg  \n",
            " extracting: train/images/WIN_20250506_12_21_50_Pro-2-_jpg.rf.ffc95e20c81552dfd81f00957f7a6e77.jpg  \n",
            " extracting: train/images/WIN_20250506_12_21_50_Pro-3-_jpg.rf.9d33242979453f4f9539041f1370e962.jpg  \n",
            " extracting: train/images/WIN_20250506_12_21_50_Pro_jpg.rf.bf6ba7c15f66f9b7c0dfa9385be9a353.jpg  \n",
            " extracting: train/images/WIN_20250506_12_21_51_Pro-2-_jpg.rf.31ced089d6f5ef5a5bcaa0e3e65db723.jpg  \n",
            " extracting: train/images/WIN_20250506_12_21_51_Pro-3-_jpg.rf.70c8ad7f866306ede91c5ec1ac06ed29.jpg  \n",
            " extracting: train/images/WIN_20250506_12_21_52_Pro-4-_jpg.rf.d90ab9be3f2a98a1dc5dd595a856aaca.jpg  \n",
            " extracting: train/images/WIN_20250506_12_21_52_Pro_jpg.rf.a84e20d9178b5d721ec1cb57fa9b0894.jpg  \n",
            " extracting: train/images/WIN_20250506_12_21_53_Pro-2-_jpg.rf.2a35a60e057553f0a602df88c5e97bf8.jpg  \n",
            " extracting: train/images/WIN_20250506_12_21_53_Pro-3-_jpg.rf.919d8ad34198ef97bf43fafcd8da20e3.jpg  \n",
            " extracting: train/images/WIN_20250506_12_21_53_Pro-4-_jpg.rf.7d7cb6f36197ae8a4677200cfc2fff6a.jpg  \n",
            " extracting: train/images/WIN_20250506_12_21_53_Pro_jpg.rf.ba2eeb59d9e45874c5157bec64d7e436.jpg  \n",
            " extracting: train/images/WIN_20250506_12_21_54_Pro-2-_jpg.rf.d99189c14144d2d08c388fe30dbd9d17.jpg  \n",
            " extracting: train/images/WIN_20250506_12_21_54_Pro-3-_jpg.rf.b0066cc4012eecfae4b3cc6446e8d8f4.jpg  \n",
            " extracting: train/images/WIN_20250506_12_21_54_Pro-4-_jpg.rf.655bdc2ca339a5829bf4d6ca29d0a58d.jpg  \n",
            " extracting: train/images/WIN_20250506_12_21_54_Pro_jpg.rf.2ba27e5dc6ef19fa21a66518d7151779.jpg  \n",
            " extracting: train/images/WIN_20250506_12_21_55_Pro-2-_jpg.rf.32903d61da28c1f7f81bbb764836772a.jpg  \n",
            " extracting: train/images/WIN_20250506_12_21_55_Pro_jpg.rf.7b20a2e0fd869958347ccc3461c8aa69.jpg  \n",
            " extracting: train/images/WIN_20250506_12_21_57_Pro_jpg.rf.22a7a237d2ca571af143d312a88ef3f2.jpg  \n",
            " extracting: train/images/WIN_20250506_12_21_58_Pro-3-_jpg.rf.969538c2fb833725866161e263910360.jpg  \n",
            " extracting: train/images/WIN_20250506_12_21_59_Pro-2-_jpg.rf.af5fd6344d2565838adbc104e8c7d4f3.jpg  \n",
            " extracting: train/images/WIN_20250506_12_21_59_Pro-3-_jpg.rf.45fe06ec118c806d92a0f2234459daf4.jpg  \n",
            " extracting: train/images/WIN_20250506_12_22_00_Pro-2-_jpg.rf.df4eb63ac111d194cff6455de7f5719c.jpg  \n",
            " extracting: train/images/WIN_20250506_12_22_00_Pro-3-_jpg.rf.5010588ebc17eafddf7a43909b341823.jpg  \n",
            " extracting: train/images/WIN_20250506_12_22_00_Pro_jpg.rf.9df046a488798b45abd102f9ee3544e1.jpg  \n",
            " extracting: train/images/WIN_20250506_12_22_01_Pro-2-_jpg.rf.16ab42361bff670081ae3c2a42199c27.jpg  \n",
            " extracting: train/images/WIN_20250506_12_22_01_Pro-4-_jpg.rf.bef87411a09c7402e3426fa49c76fb42.jpg  \n",
            " extracting: train/images/WIN_20250506_12_22_01_Pro_jpg.rf.9849f162594760103828b4f5d7be93ff.jpg  \n",
            " extracting: train/images/WIN_20250506_12_22_02_Pro-2-_jpg.rf.1eb3d01057805ca692ae8174735c1751.jpg  \n",
            " extracting: train/images/WIN_20250506_12_22_02_Pro-3-_jpg.rf.0b583fa658caea59e3ce18b46ed5e269.jpg  \n",
            " extracting: train/images/WIN_20250506_12_22_02_Pro_jpg.rf.376b6688d9d36b2118c6798cda2c2ecb.jpg  \n",
            " extracting: train/images/WIN_20250506_12_22_03_Pro-3-_jpg.rf.df0caa1e80ee7a9d587f381d6b4645b7.jpg  \n",
            " extracting: train/images/WIN_20250506_12_22_03_Pro-4-_jpg.rf.7f761bf78f68ffb94d06c6fee5a6f351.jpg  \n",
            " extracting: train/images/WIN_20250506_12_22_03_Pro_jpg.rf.a95d40d60e0324183376c5a30b4a499e.jpg  \n",
            " extracting: train/images/WIN_20250506_12_22_04_Pro-2-_jpg.rf.a502f216fc08d3083b2fc3e04de854c7.jpg  \n",
            " extracting: train/images/WIN_20250506_12_22_04_Pro-3-_jpg.rf.29cf9c7063819ee4c13d44d0a80b5156.jpg  \n",
            " extracting: train/images/WIN_20250506_12_22_04_Pro_jpg.rf.b63a840fb8d044b925e66eb7516ed8bd.jpg  \n",
            " extracting: train/images/WIN_20250506_12_22_05_Pro-2-_jpg.rf.aea31fe4e65845a09b9704113dbc2d16.jpg  \n",
            " extracting: train/images/WIN_20250506_12_22_05_Pro-3-_jpg.rf.989f16cb273a351d0d55e984a94d13f1.jpg  \n",
            " extracting: train/images/WIN_20250506_12_22_18_Pro_jpg.rf.c9366474c8ac80d19e7b02708e7bf2ca.jpg  \n",
            " extracting: train/images/WIN_20250506_12_22_19_Pro-3-_jpg.rf.ea206192549cdab1dca8f19fb760109b.jpg  \n",
            " extracting: train/images/WIN_20250506_12_22_20_Pro-2-_jpg.rf.351092381017f494ab875a6f78b4ed6b.jpg  \n",
            " extracting: train/images/WIN_20250506_12_22_20_Pro-3-_jpg.rf.279aa0780156b6a0e1453e6a6ac9ea41.jpg  \n",
            " extracting: train/images/WIN_20250506_12_22_20_Pro_jpg.rf.07772d5dea9f10f65edba54e2386cb28.jpg  \n",
            " extracting: train/images/WIN_20250506_12_22_21_Pro-3-_jpg.rf.9e18f9595bc9a90cc530e4ed2b858d21.jpg  \n",
            " extracting: train/images/WIN_20250506_12_22_21_Pro-4-_jpg.rf.72a68800f91e5203687df324867b48a9.jpg  \n",
            " extracting: train/images/WIN_20250506_12_22_22_Pro-3-_jpg.rf.7d8b43ca2deec793f6feb71f6055bf45.jpg  \n",
            " extracting: train/images/WIN_20250506_12_22_23_Pro-3-_jpg.rf.818aea3eef4dff24833d9bf3fa85c484.jpg  \n",
            " extracting: train/images/WIN_20250506_12_22_23_Pro-4-_jpg.rf.9ccc882343361553bb158ad12e04664c.jpg  \n",
            " extracting: train/images/WIN_20250506_12_22_24_Pro-2-_jpg.rf.4b90ae33cdd49a919fe990e9b7a68cb2.jpg  \n",
            " extracting: train/images/WIN_20250506_12_22_24_Pro-3-_jpg.rf.263d2c1f36516e9149e0fa627ae62c53.jpg  \n",
            " extracting: train/images/WIN_20250506_12_22_24_Pro_jpg.rf.16d74c536a328ded410b89fc1ed1a444.jpg  \n",
            " extracting: train/images/WIN_20250506_12_22_25_Pro_jpg.rf.761db8854c8a8f7ae1ce6a393fe85c5a.jpg  \n",
            " extracting: train/images/WIN_20250506_12_22_29_Pro-2-_jpg.rf.7d7389bac179b414254b1beb193cad1c.jpg  \n",
            " extracting: train/images/WIN_20250506_12_22_29_Pro-3-_jpg.rf.e271586b02271beab3fa70401da11deb.jpg  \n",
            " extracting: train/images/WIN_20250506_12_22_29_Pro_jpg.rf.9b47fccd1f4755e58e4b52741dfd1dd3.jpg  \n",
            " extracting: train/images/WIN_20250506_12_22_30_Pro-2-_jpg.rf.05826e49ca2b5522ab5b7fc1e6692e9e.jpg  \n",
            " extracting: train/images/WIN_20250506_12_22_30_Pro-3-_jpg.rf.552e9779adbac8655d6c8588034b6edd.jpg  \n",
            " extracting: train/images/WIN_20250506_12_22_30_Pro_jpg.rf.22fa00f8b4464bf3aa1ead4b40afc499.jpg  \n",
            " extracting: train/images/WIN_20250506_12_22_31_Pro_jpg.rf.14bdc6a7873fbca26a95beef6bf0c38e.jpg  \n",
            " extracting: train/images/WIN_20250506_12_22_32_Pro-2-_jpg.rf.f64a92eba8bd5023f68974795df74392.jpg  \n",
            " extracting: train/images/WIN_20250506_12_22_32_Pro-3-_jpg.rf.2b136f3df077df595b81b7d5685261ff.jpg  \n",
            " extracting: train/images/WIN_20250506_12_22_32_Pro-4-_jpg.rf.217d888ec911539b2931714f478e8966.jpg  \n",
            " extracting: train/images/WIN_20250506_12_22_32_Pro_jpg.rf.c24c0c4647dcfaf508eb6e0c8cec530c.jpg  \n",
            " extracting: train/images/WIN_20250506_12_22_33_Pro-2-_jpg.rf.f38f7249861b976a786d29d2f1f33731.jpg  \n",
            " extracting: train/images/WIN_20250506_12_22_33_Pro_jpg.rf.022956635856adbd1ff0bba09f2c2edc.jpg  \n",
            " extracting: train/images/WIN_20250506_12_22_34_Pro-2-_jpg.rf.28617e12c32ad3f9bce794e9c34ac1f1.jpg  \n",
            " extracting: train/images/WIN_20250506_12_22_34_Pro-4-_jpg.rf.de7ee21ea782b4e329e44b5335545cd1.jpg  \n",
            " extracting: train/images/WIN_20250506_12_22_35_Pro-2-_jpg.rf.38165795eaf9aa51e8bd1f32008006ea.jpg  \n",
            " extracting: train/images/WIN_20250506_12_22_35_Pro-3-_jpg.rf.6d50930756c25229c2ea49b92e91cd26.jpg  \n",
            " extracting: train/images/WIN_20250506_12_22_35_Pro-4-_jpg.rf.2d22af9969c46630015e9725ebdfd3df.jpg  \n",
            " extracting: train/images/WIN_20250506_12_22_35_Pro_jpg.rf.502893651a4678712d7178e61cc4d6b1.jpg  \n",
            " extracting: train/images/WIN_20250506_12_22_36_Pro-2-_jpg.rf.f3904a2c5316b8a25dde265bfe0b71c0.jpg  \n",
            " extracting: train/images/WIN_20250506_12_22_36_Pro-3-_jpg.rf.bcf11cc677ca615ee475307e7bbb81cb.jpg  \n",
            " extracting: train/images/WIN_20250506_12_22_36_Pro_jpg.rf.309334291f5fc4b37dd3ef2313e27ab9.jpg  \n",
            " extracting: train/images/WIN_20250506_12_22_41_Pro-2-_jpg.rf.e7d2fd76877a2adabd8bcfd2c65737d4.jpg  \n",
            " extracting: train/images/WIN_20250506_12_22_41_Pro-4-_jpg.rf.e29236bf988e43eeb777ff0e6c8e23c0.jpg  \n",
            " extracting: train/images/WIN_20250506_12_22_41_Pro_jpg.rf.354f15ef9de30fb420e496a76f097b74.jpg  \n",
            " extracting: train/images/WIN_20250506_12_22_42_Pro-3-_jpg.rf.bf6cb9508764b7f275b03dad43d3f8e9.jpg  \n",
            " extracting: train/images/WIN_20250506_12_22_42_Pro_jpg.rf.fb9530a02f879a756bd6dd02f60a5876.jpg  \n",
            " extracting: train/images/WIN_20250506_12_22_43_Pro-2-_jpg.rf.da496bc9e44d8b6871ca6e6af7a6812c.jpg  \n",
            " extracting: train/images/WIN_20250506_12_22_43_Pro-3-_jpg.rf.a82bb1993fb1e21acbf1e46b412a882a.jpg  \n",
            " extracting: train/images/WIN_20250506_12_22_44_Pro-2-_jpg.rf.628a063eb372242715d9889276726393.jpg  \n",
            " extracting: train/images/WIN_20250506_12_22_44_Pro-3-_jpg.rf.f42786c3ab7d96cc5cbe2d80814140cf.jpg  \n",
            " extracting: train/images/WIN_20250506_12_22_44_Pro-4-_jpg.rf.ea753cf827599ddacfc3a80fcdb0a9dc.jpg  \n",
            " extracting: train/images/WIN_20250506_12_22_45_Pro-2-_jpg.rf.2c0042e4a35fcb85aa7c72ecbbae5d7a.jpg  \n",
            " extracting: train/images/WIN_20250506_12_22_45_Pro_jpg.rf.d922eb8c2526f5b46b1281fccf0ab052.jpg  \n",
            " extracting: train/images/WIN_20250506_12_22_46_Pro-2-_jpg.rf.72eb99d1991b94a5d34d1637e61317db.jpg  \n",
            " extracting: train/images/WIN_20250506_12_22_46_Pro-3-_jpg.rf.50acd8ffad61aa2360bc39cf07e78e75.jpg  \n",
            " extracting: train/images/WIN_20250506_12_22_46_Pro_jpg.rf.df112ae9a97f563d5602f522e4281b51.jpg  \n",
            " extracting: train/images/WIN_20250506_12_22_47_Pro-3-_jpg.rf.2e86a35d7b645ff2345e321aaa96c90e.jpg  \n",
            " extracting: train/images/WIN_20250506_12_22_47_Pro-4-_jpg.rf.c52e4068d3575fe2eef29fca33847bd5.jpg  \n",
            " extracting: train/images/WIN_20250506_12_22_47_Pro_jpg.rf.3ab41f19d675c291f1ba86c18310bfc3.jpg  \n",
            " extracting: train/images/WIN_20250506_12_22_48_Pro-2-_jpg.rf.36b66b7bfb0ce45069158274a17802da.jpg  \n",
            " extracting: train/images/WIN_20250506_12_22_48_Pro-3-_jpg.rf.34334944247ba81b5ca4b968bc952c72.jpg  \n",
            " extracting: train/images/WIN_20250506_12_22_48_Pro_jpg.rf.d834bffded4e0c6495e7edb80ecf579e.jpg  \n",
            " extracting: train/images/WIN_20250506_12_22_53_Pro-2-_jpg.rf.8e7021962ef8061f576ea59eb16d99b0.jpg  \n",
            " extracting: train/images/WIN_20250506_12_22_53_Pro-3-_jpg.rf.e6674287b0b7496356dfa8928e3bccaf.jpg  \n",
            " extracting: train/images/WIN_20250506_12_22_54_Pro-2-_jpg.rf.8afa33d05e2859f7f9b0e04a870ff61f.jpg  \n",
            " extracting: train/images/WIN_20250506_12_22_54_Pro-3-_jpg.rf.e0b7105d509e9b289a204b462cae2bc6.jpg  \n",
            " extracting: train/images/WIN_20250506_12_22_54_Pro_jpg.rf.652a08e90e91a87da1927a8921be30fa.jpg  \n",
            " extracting: train/images/WIN_20250506_12_22_55_Pro-2-_jpg.rf.0e6292f316a9b471760ed96926f264a9.jpg  \n",
            " extracting: train/images/WIN_20250506_12_22_55_Pro-3-_jpg.rf.24089ea58076a1d418516fb819f9bcce.jpg  \n",
            " extracting: train/images/WIN_20250506_12_22_55_Pro_jpg.rf.9cd60e270e8f6a8790b157050dfdad99.jpg  \n",
            " extracting: train/images/WIN_20250506_12_22_56_Pro-3-_jpg.rf.9f8ee77d97eb6912a21cb63e13d14e76.jpg  \n",
            " extracting: train/images/WIN_20250506_12_22_56_Pro_jpg.rf.6a227ff131828b3e1fb1cd5022f70b48.jpg  \n",
            " extracting: train/images/WIN_20250506_12_22_57_Pro-2-_jpg.rf.83cc729dbe36cd7fefbaeda718cd7a3f.jpg  \n",
            " extracting: train/images/WIN_20250506_12_22_57_Pro-3-_jpg.rf.9a50001ac5c2465c63994ed4f2f061d1.jpg  \n",
            " extracting: train/images/WIN_20250506_12_22_58_Pro_jpg.rf.97ed9d2b55a76a8df6da3c9a322632f9.jpg  \n",
            " extracting: train/images/WIN_20250506_12_22_59_Pro-2-_jpg.rf.7bdd1f0807bc015a9bc5b2bef46a77e9.jpg  \n",
            " extracting: train/images/WIN_20250506_12_22_59_Pro-4-_jpg.rf.3b9a1dffb6c73f27444b13443deea108.jpg  \n",
            " extracting: train/images/WIN_20250506_12_22_59_Pro_jpg.rf.30858ccec75bd386b2a76c8d49674dcd.jpg  \n",
            " extracting: train/images/WIN_20250506_12_23_00_Pro-2-_jpg.rf.548be7ff67140c5a8a64e753d1f91053.jpg  \n",
            " extracting: train/images/WIN_20250506_12_23_00_Pro_jpg.rf.a9c6761a990ad6dc68a109f9a33331be.jpg  \n",
            " extracting: train/images/WIN_20250506_12_23_04_Pro_jpg.rf.259095badc75d1d48727eb7103b4e22c.jpg  \n",
            " extracting: train/images/WIN_20250506_12_23_05_Pro-3-_jpg.rf.d60d42bdb3163683eddb5da34242e34c.jpg  \n",
            " extracting: train/images/WIN_20250506_12_23_05_Pro-4-_jpg.rf.bf1a9521c753991bffc6dd820a34ec09.jpg  \n",
            " extracting: train/images/WIN_20250506_12_23_05_Pro_jpg.rf.d43eaeb2c5a9d19f0b0c0378c076cb06.jpg  \n",
            " extracting: train/images/WIN_20250506_12_23_06_Pro-2-_jpg.rf.38e6efa1b297ecb7254e585774d43756.jpg  \n",
            " extracting: train/images/WIN_20250506_12_23_07_Pro-2-_jpg.rf.33edd15d2c1724a6d1588d8314e197a8.jpg  \n",
            " extracting: train/images/WIN_20250506_12_23_07_Pro-3-_jpg.rf.35ecd2f0de60d168387979b034c5e0de.jpg  \n",
            " extracting: train/images/WIN_20250506_12_23_07_Pro-4-_jpg.rf.06ce86a59c59d15961d3fac5670c7fa9.jpg  \n",
            " extracting: train/images/WIN_20250506_12_23_08_Pro-2-_jpg.rf.238999dc6906204e3c99f965f44ae86b.jpg  \n",
            " extracting: train/images/WIN_20250506_12_23_09_Pro-2-_jpg.rf.1d3bf8c6cbf0fd6cc8eaccaf820f74fb.jpg  \n",
            " extracting: train/images/WIN_20250506_12_23_09_Pro-3-_jpg.rf.6c0e0ed5f6cf4f5dfc4bdf5c8d9482ce.jpg  \n",
            " extracting: train/images/WIN_20250506_12_23_10_Pro-3-_jpg.rf.75d62fef77e5e93c18e8ec0bda59b150.jpg  \n",
            " extracting: train/images/WIN_20250506_12_23_10_Pro-4-_jpg.rf.8e74741db574d90d970d4135683acdf0.jpg  \n",
            " extracting: train/images/WIN_20250506_12_23_10_Pro-5-_jpg.rf.d460f8024b80e2c78c9b690e99c4520a.jpg  \n",
            " extracting: train/images/WIN_20250506_12_23_10_Pro_jpg.rf.5c12a9cf90d3957e75decadd0b73221e.jpg  \n",
            " extracting: train/images/WIN_20250506_12_23_11_Pro-3-_jpg.rf.0ab5402e50c1dd971cd9b7dc283ddd65.jpg  \n",
            " extracting: train/images/WIN_20250506_12_23_15_Pro-2-_jpg.rf.e3076e4b64f8538f29593b924d391751.jpg  \n",
            " extracting: train/images/WIN_20250506_12_23_15_Pro_jpg.rf.270785cd54224c1369c9b8cd98aaa7bd.jpg  \n",
            " extracting: train/images/WIN_20250506_12_23_16_Pro-3-_jpg.rf.3007dd7676a52f535c44f13a50659ead.jpg  \n",
            " extracting: train/images/WIN_20250506_12_23_17_Pro-2-_jpg.rf.dec9093511decfbc181c7d7ee4426ead.jpg  \n",
            " extracting: train/images/WIN_20250506_12_23_17_Pro-3-_jpg.rf.18b9bc9a780535a212a4a4c792769897.jpg  \n",
            " extracting: train/images/WIN_20250506_12_23_17_Pro-4-_jpg.rf.abb19c0cfe3f9c9af66ce23be942ed5a.jpg  \n",
            " extracting: train/images/WIN_20250506_12_23_17_Pro_jpg.rf.9f450ab32398000d0df5ca87d6129d83.jpg  \n",
            " extracting: train/images/WIN_20250506_12_23_18_Pro-2-_jpg.rf.15824e31177498f906bffba067c42cfb.jpg  \n",
            " extracting: train/images/WIN_20250506_12_23_18_Pro_jpg.rf.008df3a82f382d18f8300a44b2f46ded.jpg  \n",
            " extracting: train/images/WIN_20250506_12_23_19_Pro-2-_jpg.rf.6c4762bf85fcb2ea7e8d8053044e8e28.jpg  \n",
            " extracting: train/images/WIN_20250506_12_23_19_Pro-3-_jpg.rf.e39b474051e11c124a685f5beded2cfc.jpg  \n",
            " extracting: train/images/WIN_20250506_12_23_19_Pro-4-_jpg.rf.9bc9fd4e3067ebbc1e40441013ebb4ac.jpg  \n",
            " extracting: train/images/WIN_20250506_12_23_19_Pro_jpg.rf.0b41baeba4e84ed7e3b885373da57dac.jpg  \n",
            " extracting: train/images/WIN_20250506_12_23_20_Pro-2-_jpg.rf.ec3565ed795f70fbdce398e1c1ac5c2b.jpg  \n",
            " extracting: train/images/WIN_20250506_12_23_20_Pro-3-_jpg.rf.32c700b7c3f83fd39a4e67d9781af771.jpg  \n",
            " extracting: train/images/WIN_20250506_12_23_21_Pro-2-_jpg.rf.b6c7ddc5decb5338a453f14147832ca5.jpg  \n",
            " extracting: train/images/WIN_20250506_12_23_21_Pro_jpg.rf.bceeff2cf38585c4dc8f86d1ae1f8d28.jpg  \n",
            " extracting: train/images/WIN_20250506_12_23_22_Pro-3-_jpg.rf.a37c8abefc4bd16a36bd846170311a45.jpg  \n",
            " extracting: train/images/WIN_20250506_12_23_22_Pro-4-_jpg.rf.8f5df6b161573ba4eba137204ef53adc.jpg  \n",
            " extracting: train/images/WIN_20250506_12_23_22_Pro_jpg.rf.2d54935c3b7339e5fc170ee313e2a60c.jpg  \n",
            " extracting: train/images/WIN_20250506_12_23_26_Pro-2-_jpg.rf.960a710a33c12f68d2bbe2e1b5ff1523.jpg  \n",
            " extracting: train/images/WIN_20250506_12_23_26_Pro-3-_jpg.rf.a01488ec4cd9b6cf7f2f71ddab4a215f.jpg  \n",
            " extracting: train/images/WIN_20250506_12_23_26_Pro-4-_jpg.rf.cd4d7b7096416c5f009936c337c49203.jpg  \n",
            " extracting: train/images/WIN_20250506_12_23_26_Pro_jpg.rf.0a51a807210b81d32c8cb8d8e54a5f57.jpg  \n",
            " extracting: train/images/WIN_20250506_12_23_27_Pro-2-_jpg.rf.b3abcd92d88795c09f07c74b5313ed9a.jpg  \n",
            " extracting: train/images/WIN_20250506_12_23_27_Pro-3-_jpg.rf.348d3746bf5bd99aa552a84673abb4a3.jpg  \n",
            " extracting: train/images/WIN_20250506_12_23_27_Pro_jpg.rf.0f61c3856f792b097106522b62e54001.jpg  \n",
            " extracting: train/images/WIN_20250506_12_23_28_Pro-2-_jpg.rf.f07239298d4244976d0594f62e0d2d30.jpg  \n",
            " extracting: train/images/WIN_20250506_12_23_28_Pro-3-_jpg.rf.38868650f32ebc7b1eb036ef38e58be1.jpg  \n",
            " extracting: train/images/WIN_20250506_12_23_29_Pro-3-_jpg.rf.3b3b7f01dd3278313028bc6f99e67dc1.jpg  \n",
            " extracting: train/images/WIN_20250506_12_23_29_Pro_jpg.rf.45776ca98f1fb037c8ef2688786f7a4e.jpg  \n",
            " extracting: train/images/WIN_20250506_12_23_30_Pro-2-_jpg.rf.7c817217765ac47419013270f4700c13.jpg  \n",
            " extracting: train/images/WIN_20250506_12_23_30_Pro-3-_jpg.rf.8977b224a9064713feeb2cdb3ba2e38e.jpg  \n",
            " extracting: train/images/WIN_20250506_12_23_30_Pro-4-_jpg.rf.ec6fdcb11d202aada758960b0d4ce210.jpg  \n",
            " extracting: train/images/WIN_20250506_12_23_30_Pro_jpg.rf.5e47cef4ea306ed167a040cabe3cae8a.jpg  \n",
            " extracting: train/images/WIN_20250506_12_23_31_Pro-2-_jpg.rf.78f3a393679eae86bc8143bfe8c7e2aa.jpg  \n",
            " extracting: train/images/WIN_20250506_12_23_31_Pro-5-_jpg.rf.beb29466927ab9c157ab2d5e5a3855af.jpg  \n",
            " extracting: train/images/WIN_20250506_12_23_32_Pro-2-_jpg.rf.8e7a099190907483ef213e4d5ea36ed1.jpg  \n",
            " extracting: train/images/WIN_20250506_12_23_32_Pro-3-_jpg.rf.7056e608b7e85d3729dc1a26e62324df.jpg  \n",
            " extracting: train/images/WIN_20250506_12_23_32_Pro_jpg.rf.bd30b2308fe98ebe24b642297a46d2ee.jpg  \n",
            " extracting: train/images/WIN_20250506_12_23_36_Pro_jpg.rf.a74d66eb3b61b9c16d61ca33f24fe9e7.jpg  \n",
            " extracting: train/images/WIN_20250506_12_23_37_Pro-2-_jpg.rf.1098441763d62b3010d7d107bedbf776.jpg  \n",
            " extracting: train/images/WIN_20250506_12_23_37_Pro-3-_jpg.rf.68f7486a084308cc90b024e4c3da55e9.jpg  \n",
            " extracting: train/images/WIN_20250506_12_23_37_Pro-4-_jpg.rf.c0d166e7de295e89cf8f5f5007021e8c.jpg  \n",
            " extracting: train/images/WIN_20250506_12_23_37_Pro_jpg.rf.e8c52d5c80df600e0ccafb08079f664a.jpg  \n",
            " extracting: train/images/WIN_20250506_12_23_38_Pro-3-_jpg.rf.92ed426f0717d51f7d40f875fccaab49.jpg  \n",
            " extracting: train/images/WIN_20250506_12_23_38_Pro-4-_jpg.rf.6e9626eb07ab6e93a08651d57b2c35db.jpg  \n",
            " extracting: train/images/WIN_20250506_12_23_38_Pro_jpg.rf.c4cb84161ecd596038df926288d287d6.jpg  \n",
            " extracting: train/images/WIN_20250506_12_23_39_Pro-2-_jpg.rf.b95484745a88546f92fb4821be9755d1.jpg  \n",
            " extracting: train/images/WIN_20250506_12_23_39_Pro_jpg.rf.ae74659a83374ad2703d30751acf64e9.jpg  \n",
            " extracting: train/images/WIN_20250506_12_23_40_Pro-2-_jpg.rf.ee77b520e0e60b5a1c67ea9401693ffe.jpg  \n",
            " extracting: train/images/WIN_20250506_12_23_40_Pro_jpg.rf.665be57793239286fb4681d1d847d1d2.jpg  \n",
            " extracting: train/images/WIN_20250506_12_23_41_Pro-2-_jpg.rf.85c0e9fdc22d52b96a89dea12fd06970.jpg  \n",
            " extracting: train/images/WIN_20250506_12_23_41_Pro-3-_jpg.rf.1e954c8111a9035f8c6bb919a03ce4ab.jpg  \n",
            " extracting: train/images/WIN_20250506_12_23_41_Pro-4-_jpg.rf.e42550e435181aacca7516c5e3070f91.jpg  \n",
            " extracting: train/images/WIN_20250506_12_23_41_Pro_jpg.rf.dc28b71af136ce5e13f3d67a5d144e41.jpg  \n",
            " extracting: train/images/WIN_20250506_12_23_42_Pro-2-_jpg.rf.faa1f05c6c35afb40e20e58c3f0c2d47.jpg  \n",
            " extracting: train/images/WIN_20250506_12_23_42_Pro-3-_jpg.rf.7ad73f1a12c742cc0cc100b708148550.jpg  \n",
            " extracting: train/images/WIN_20250506_12_23_42_Pro_jpg.rf.f1d0fdd5eee7686222eda679e6967e03.jpg  \n",
            " extracting: train/images/WIN_20250506_12_23_43_Pro-3-_jpg.rf.82a10edbac8db75dc032326cfc223819.jpg  \n",
            " extracting: train/images/WIN_20250506_12_23_43_Pro_jpg.rf.f9336f46476c8ba85edda08351514b9a.jpg  \n",
            " extracting: train/images/WIN_20250506_12_23_47_Pro_jpg.rf.fadd75e1c22df32d8bb9ff082e8a0d78.jpg  \n",
            " extracting: train/images/WIN_20250506_12_23_48_Pro-2-_jpg.rf.24ddb2889644e54ca883bb81b9ca217a.jpg  \n",
            " extracting: train/images/WIN_20250506_12_23_48_Pro-3-_jpg.rf.6cd691874aa04437024cd7bb7af43b72.jpg  \n",
            " extracting: train/images/WIN_20250506_12_23_48_Pro_jpg.rf.cb1ac008a68badd9170f475e739f49f7.jpg  \n",
            " extracting: train/images/WIN_20250506_12_23_49_Pro-2-_jpg.rf.d47e15205601c9419fa981ccbc07585c.jpg  \n",
            " extracting: train/images/WIN_20250506_12_23_49_Pro-4-_jpg.rf.5281889a21c4154d64e61a5e4f2034f5.jpg  \n",
            " extracting: train/images/WIN_20250506_12_23_49_Pro-5-_jpg.rf.80bfcec3b1657e896d1d123f26a3cf59.jpg  \n",
            " extracting: train/images/WIN_20250506_12_23_49_Pro_jpg.rf.3a833bcd66fedda9a978e91b978c9c45.jpg  \n",
            " extracting: train/images/WIN_20250506_12_23_50_Pro-2-_jpg.rf.ca9d320c61b18db690cab56c85303082.jpg  \n",
            " extracting: train/images/WIN_20250506_12_23_50_Pro-3-_jpg.rf.f4c6a91572f24ae00f209e0562678b50.jpg  \n",
            " extracting: train/images/WIN_20250506_12_23_50_Pro_jpg.rf.316c98b05fef93ee78075804f2f46acf.jpg  \n",
            " extracting: train/images/WIN_20250506_12_23_51_Pro-3-_jpg.rf.c1660d1526d88058992b1628a9aa4dc8.jpg  \n",
            " extracting: train/images/WIN_20250506_12_23_51_Pro-4-_jpg.rf.c02a8115053c02ac5b2c490d4b4f1686.jpg  \n",
            " extracting: train/images/WIN_20250506_12_23_51_Pro_jpg.rf.753072c6d62ece1f80b23b1af7a025ad.jpg  \n",
            " extracting: train/images/WIN_20250506_12_23_52_Pro-3-_jpg.rf.ce61bc3d0bfe8c8cc518cc62e42d688e.jpg  \n",
            " extracting: train/images/WIN_20250506_12_23_53_Pro-4-_jpg.rf.e4440dc4efe61b4ef213c7ab7ba2a970.jpg  \n",
            " extracting: train/images/WIN_20250506_12_23_54_Pro-2-_jpg.rf.56432369b1065109a5de7d193259f08c.jpg  \n",
            " extracting: train/images/WIN_20250506_12_23_54_Pro-3-_jpg.rf.8d1fba8638102f4284b7e01a99263c61.jpg  \n",
            " extracting: train/images/WIN_20250506_12_23_54_Pro_jpg.rf.56b4ec78caf0100790ad14e53dc6b991.jpg  \n",
            " extracting: train/images/WIN_20250506_12_23_55_Pro-2-_jpg.rf.ce2123c9b7e4794f29013bc13bf3d1c6.jpg  \n",
            " extracting: train/images/WIN_20250506_12_23_55_Pro_jpg.rf.ee0f32a3a4cfe857642409c95f28a692.jpg  \n",
            " extracting: train/images/WIN_20250506_12_24_04_Pro-2-_jpg.rf.adbb7ffcd2a7b9aca5b837a79481a0a6.jpg  \n",
            " extracting: train/images/WIN_20250506_12_24_04_Pro_jpg.rf.5a43126d8b3f721d09233f353de6b703.jpg  \n",
            " extracting: train/images/WIN_20250506_12_24_05_Pro-2-_jpg.rf.e351735bf3a4ad3d871778751f4d27a8.jpg  \n",
            " extracting: train/images/WIN_20250506_12_24_05_Pro-3-_jpg.rf.5bf326e2675cb6e7208a4dea1eefed2b.jpg  \n",
            " extracting: train/images/WIN_20250506_12_24_05_Pro-4-_jpg.rf.98e3a4fefd66959ace033bfc2909bf69.jpg  \n",
            " extracting: train/images/WIN_20250506_12_24_06_Pro_jpg.rf.a4b7404f16669cdca9d5a7d999972eda.jpg  \n",
            " extracting: train/images/WIN_20250506_12_24_07_Pro-2-_jpg.rf.84df70f4e6d8141e34562a8d832070d7.jpg  \n",
            " extracting: train/images/WIN_20250506_12_24_07_Pro_jpg.rf.67114f3636506593b4e554fdafaeb3f2.jpg  \n",
            " extracting: train/images/WIN_20250506_12_24_08_Pro-3-_jpg.rf.995f8b497280301c20635a82664af8d7.jpg  \n",
            " extracting: train/images/WIN_20250506_12_24_08_Pro-4-_jpg.rf.d6d9782b1f01da3abf42ca81d886da51.jpg  \n",
            " extracting: train/images/WIN_20250506_12_24_08_Pro_jpg.rf.a7f0c8eb49b07fffc9b6d11192592c17.jpg  \n",
            " extracting: train/images/WIN_20250506_12_24_09_Pro-2-_jpg.rf.c3ae823af669d7c5cab31bcd2de03be3.jpg  \n",
            " extracting: train/images/WIN_20250506_12_24_09_Pro-3-_jpg.rf.ef47d6cc99549fb7ea9f83d586acf522.jpg  \n",
            " extracting: train/images/WIN_20250506_12_24_09_Pro_jpg.rf.dddf2854e8cbb865d6afcc6f81bec0d5.jpg  \n",
            " extracting: train/images/WIN_20250506_12_24_10_Pro-2-_jpg.rf.6f9315525a4c5527a8b75b93d91a0bf3.jpg  \n",
            " extracting: train/images/WIN_20250506_12_24_10_Pro-3-_jpg.rf.044e8a6d87f970a5688e1a6e91984168.jpg  \n",
            " extracting: train/images/WIN_20250506_12_24_10_Pro_jpg.rf.d6998fd6f7266e061b0e5778a5f77d6c.jpg  \n",
            " extracting: train/images/WIN_20250506_12_24_11_Pro-2-_jpg.rf.367792cc4b86e50eaf8bf1b99b2f0863.jpg  \n",
            " extracting: train/images/WIN_20250506_12_24_11_Pro-4-_jpg.rf.ed19ccfed33ed00704f54d3ac6be0b7b.jpg  \n",
            " extracting: train/images/WIN_20250506_12_24_16_Pro-2-_jpg.rf.7fe43e9abdce415327f5a3643947f668.jpg  \n",
            " extracting: train/images/WIN_20250506_12_24_16_Pro_jpg.rf.5d629626b4b0c3c0eb60f60213bfbec1.jpg  \n",
            " extracting: train/images/WIN_20250506_12_24_17_Pro-4-_jpg.rf.1fdfbca8fad456e5ca71c48c6858badc.jpg  \n",
            " extracting: train/images/WIN_20250506_12_24_17_Pro_jpg.rf.376da8ba4df6d47d2fe0edfb6bfb3f6c.jpg  \n",
            " extracting: train/images/WIN_20250506_12_24_18_Pro_jpg.rf.238db18a4918e10d376fbf655cdbd30a.jpg  \n",
            " extracting: train/images/WIN_20250506_12_24_19_Pro-2-_jpg.rf.3d5034a345ef72b3f889b79a9d746bb6.jpg  \n",
            " extracting: train/images/WIN_20250506_12_24_19_Pro-4-_jpg.rf.7272bc8211046672135c6da98f842937.jpg  \n",
            " extracting: train/images/WIN_20250506_12_24_19_Pro_jpg.rf.605e6bb70b8bc3f76324c69a25cb8a1f.jpg  \n",
            " extracting: train/images/WIN_20250506_12_24_20_Pro_jpg.rf.806768bc07e4aa1ed8fcc53710c9dff2.jpg  \n",
            " extracting: train/images/WIN_20250506_12_24_21_Pro-2-_jpg.rf.d72508abe632412661a542a54acfa025.jpg  \n",
            " extracting: train/images/WIN_20250506_12_24_21_Pro-3-_jpg.rf.85eafce99f31377802e2fbfd069c5fa1.jpg  \n",
            " extracting: train/images/WIN_20250506_12_24_21_Pro_jpg.rf.e96290188136debd7ebfee0743ae7875.jpg  \n",
            " extracting: train/images/WIN_20250506_12_24_22_Pro-2-_jpg.rf.7b89685e5bc9cedab7dbb5575927b0bb.jpg  \n",
            " extracting: train/images/WIN_20250506_12_24_22_Pro-3-_jpg.rf.322e894ecaa9b0849966aa0a59c22ab2.jpg  \n",
            " extracting: train/images/WIN_20250506_12_24_22_Pro_jpg.rf.4a88db74b72eef136f46e58c44a3f353.jpg  \n",
            " extracting: train/images/WIN_20250506_12_24_23_Pro-3-_jpg.rf.6b7f9ad9e2f8b95650a3f9899cf94455.jpg  \n",
            " extracting: train/images/WIN_20250506_12_24_23_Pro-4-_jpg.rf.bbe7d9bcea3e7570ca03fc7a5cbb28b7.jpg  \n",
            " extracting: train/images/WIN_20250506_12_24_23_Pro_jpg.rf.f27ae81a90a59009dd82ac900a79522e.jpg  \n",
            " extracting: train/images/WIN_20250506_12_24_28_Pro-3-_jpg.rf.4a81be258e4a8566a7cda539b28d1166.jpg  \n",
            " extracting: train/images/WIN_20250506_12_24_28_Pro_jpg.rf.554104036166685920bc6b0f3b3e1f7a.jpg  \n",
            " extracting: train/images/WIN_20250506_12_24_29_Pro-4-_jpg.rf.9efef351275c35887baaea69a5876bf0.jpg  \n",
            " extracting: train/images/WIN_20250506_12_24_29_Pro_jpg.rf.dcc5263d0b5e4cea370dd323304cce21.jpg  \n",
            " extracting: train/images/WIN_20250506_12_24_30_Pro-2-_jpg.rf.ebc27bf22e7a507c9d7de618f077322e.jpg  \n",
            " extracting: train/images/WIN_20250506_12_24_30_Pro-3-_jpg.rf.e326443e990b14ccb8d4cdf9b345cbd0.jpg  \n",
            " extracting: train/images/WIN_20250506_12_24_30_Pro-4-_jpg.rf.a0a2ea8e02002a41b8d45225433c69e4.jpg  \n",
            " extracting: train/images/WIN_20250506_12_24_31_Pro-2-_jpg.rf.8a2b2b8c4e0a77204188433a1c599323.jpg  \n",
            " extracting: train/images/WIN_20250506_12_24_31_Pro-3-_jpg.rf.752e6021eb0dbe8d1f38d1c3f58b3cc0.jpg  \n",
            " extracting: train/images/WIN_20250506_12_24_31_Pro-4-_jpg.rf.b182d1cf7e8f0b70649fc91158204b01.jpg  \n",
            " extracting: train/images/WIN_20250506_12_24_31_Pro_jpg.rf.15543f5bdee5ad057009ec448483437a.jpg  \n",
            " extracting: train/images/WIN_20250506_12_24_32_Pro-3-_jpg.rf.41d488faa18a1d883c6a1dff4cd9f463.jpg  \n",
            " extracting: train/images/WIN_20250506_12_24_32_Pro_jpg.rf.72ebd81edb9810e9f11b2b1cfbb07313.jpg  \n",
            " extracting: train/images/WIN_20250506_12_24_33_Pro-3-_jpg.rf.8ca46c90dc0421de08e6b39e10b78b39.jpg  \n",
            " extracting: train/images/WIN_20250506_12_24_34_Pro-2-_jpg.rf.2493ef7546e71b091cb4db7bb73d00c0.jpg  \n",
            " extracting: train/images/WIN_20250506_12_24_34_Pro-3-_jpg.rf.168af3bb4b70e5c3a734962c4ba30e45.jpg  \n",
            " extracting: train/images/WIN_20250506_12_24_34_Pro_jpg.rf.0af9de43020985060c7b0e90146ce410.jpg  \n",
            " extracting: train/images/WIN_20250506_12_24_35_Pro-2-_jpg.rf.6e464375f47f4971f6fa224496dbc8f5.jpg  \n",
            " extracting: train/images/WIN_20250506_12_24_55_Pro-2-_jpg.rf.c724bba1639b2ac62840f755bda7a6b2.jpg  \n",
            " extracting: train/images/WIN_20250506_12_24_55_Pro_jpg.rf.4443c403c279e6483bf1ea12c54585cb.jpg  \n",
            " extracting: train/images/WIN_20250506_12_24_56_Pro-2-_jpg.rf.7307d5a220ebed9d3d2615fe9bbf2231.jpg  \n",
            " extracting: train/images/WIN_20250506_12_24_56_Pro-3-_jpg.rf.3ff9270797e2f203d21a82c990b439d3.jpg  \n",
            " extracting: train/images/WIN_20250506_12_24_56_Pro_jpg.rf.8a51d5c236c55aa00104ddaf55540152.jpg  \n",
            " extracting: train/images/WIN_20250506_12_24_57_Pro-3-_jpg.rf.879df37563d9b6790c1c9e1fdd47f817.jpg  \n",
            " extracting: train/images/WIN_20250506_12_24_58_Pro-2-_jpg.rf.fc71a04e1f13c8b19d83cc50327250cb.jpg  \n",
            " extracting: train/images/WIN_20250506_12_24_58_Pro_jpg.rf.286eb6de3d4199eac8d5184d2eafdb46.jpg  \n",
            " extracting: train/images/WIN_20250506_12_24_59_Pro-2-_jpg.rf.329e17b2676d833402ffc09bb3e2d3c9.jpg  \n",
            " extracting: train/images/WIN_20250506_12_24_59_Pro-3-_jpg.rf.5b4b2d52dbc5cf27bc5f96e7bea35093.jpg  \n",
            " extracting: train/images/WIN_20250506_12_24_59_Pro-4-_jpg.rf.b4889fc2461af630a1236a6e55fb2e01.jpg  \n",
            " extracting: train/images/WIN_20250506_12_24_59_Pro_jpg.rf.52e2b89af3476de0d7b867217bec8a67.jpg  \n",
            " extracting: train/images/WIN_20250506_12_25_00_Pro-2-_jpg.rf.f7219694cdb78d46cc317fd69f9af89a.jpg  \n",
            " extracting: train/images/WIN_20250506_12_25_00_Pro-3-_jpg.rf.d777ab58c6560ae2b7052644618934e7.jpg  \n",
            " extracting: train/images/WIN_20250506_12_25_00_Pro_jpg.rf.7ae686176f3f3b9afd7d995e364e7273.jpg  \n",
            " extracting: train/images/WIN_20250506_12_25_01_Pro-2-_jpg.rf.eb8c3aa0e992ab45f168da628a11f381.jpg  \n",
            " extracting: train/images/WIN_20250506_12_25_01_Pro_jpg.rf.9194e2d21df104d6d77afb6701ae88ea.jpg  \n",
            " extracting: train/images/WIN_20250506_12_25_02_Pro-2-_jpg.rf.2bf162a8b273aa6c6a7159662f9d5772.jpg  \n",
            " extracting: train/images/WIN_20250506_12_25_02_Pro_jpg.rf.58f5079c447f37beba9a25d4f8d95a7c.jpg  \n",
            " extracting: train/images/WIN_20250506_12_25_03_Pro-3-_jpg.rf.2effb89fea2bd63fd4a8659db542f8b0.jpg  \n",
            " extracting: train/images/WIN_20250506_12_25_03_Pro_jpg.rf.3de4bf8c00e590d1fd14a9023f6997ad.jpg  \n",
            " extracting: train/images/WIN_20250506_12_25_17_Pro-2-_jpg.rf.eef6f320cc8a1c2236acf0d066a41b38.jpg  \n",
            " extracting: train/images/WIN_20250506_12_25_18_Pro-2-_jpg.rf.7004b2cb1380993380958ec627a017e1.jpg  \n",
            " extracting: train/images/WIN_20250506_12_25_18_Pro-3-_jpg.rf.1b02af69260de7ca596d8aa904c15b0b.jpg  \n",
            " extracting: train/images/WIN_20250506_12_25_18_Pro-4-_jpg.rf.1292385ae0b2c73929e2479a6470c416.jpg  \n",
            " extracting: train/images/WIN_20250506_12_25_18_Pro_jpg.rf.7e776bd36e9748cb62785e33315a1fb0.jpg  \n",
            " extracting: train/images/WIN_20250506_12_25_19_Pro-2-_jpg.rf.7dbd5b38dd4fc137912bbadd04e2d4c7.jpg  \n",
            " extracting: train/images/WIN_20250506_12_25_19_Pro-4-_jpg.rf.1f592c8a6716e7a8b253164e855f5cb6.jpg  \n",
            " extracting: train/images/WIN_20250506_12_25_19_Pro_jpg.rf.8fc3a31573df28be508a014fcb27d76c.jpg  \n",
            " extracting: train/images/WIN_20250506_12_25_20_Pro-3-_jpg.rf.248185f07697d2dbe002c266b4a02a77.jpg  \n",
            " extracting: train/images/WIN_20250506_12_25_21_Pro-2-_jpg.rf.5cefb725d7635ef84688f390cae4bd88.jpg  \n",
            " extracting: train/images/WIN_20250506_12_25_21_Pro_jpg.rf.0d742d0840430d32fc94e0d2e34e402b.jpg  \n",
            " extracting: train/images/WIN_20250506_12_25_22_Pro-2-_jpg.rf.c237aeefc42eec45ee21a79bcada5f1d.jpg  \n",
            " extracting: train/images/WIN_20250506_12_25_22_Pro-3-_jpg.rf.e63b3ab98153eac033567e1e2eb398eb.jpg  \n",
            " extracting: train/images/WIN_20250506_12_25_22_Pro_jpg.rf.bef4f9d875d9d12fa04460505d5cb49e.jpg  \n",
            " extracting: train/images/WIN_20250506_12_25_23_Pro-2-_jpg.rf.af2e75b31648a80a9e4e2232f07e3e65.jpg  \n",
            " extracting: train/images/WIN_20250506_12_25_23_Pro-3-_jpg.rf.69f632f487cb3b940b325316bca05310.jpg  \n",
            " extracting: train/images/WIN_20250506_12_25_23_Pro-4-_jpg.rf.fc79a962623107b9bfb3ada6ffac65f2.jpg  \n",
            " extracting: train/images/WIN_20250506_12_25_23_Pro-5-_jpg.rf.93a39a4a127f7a7dcc9e3149114f2931.jpg  \n",
            " extracting: train/images/WIN_20250506_12_25_24_Pro-2-_jpg.rf.4094a2e321509d1b269811955b43cb87.jpg  \n",
            " extracting: train/images/WIN_20250506_12_25_24_Pro-3-_jpg.rf.39bdbb2762720907edf9a267b3ff451b.jpg  \n",
            " extracting: train/images/WIN_20250506_12_25_24_Pro_jpg.rf.e7474c81a0b2dfdf90de6e3843d92211.jpg  \n",
            " extracting: train/images/WIN_20250506_12_25_46_Pro_jpg.rf.4cf327b3048d0e0dd81fa86c2bdd7c8c.jpg  \n",
            " extracting: train/images/WIN_20250506_12_25_47_Pro-2-_jpg.rf.91324da745fa617d019f6932937189f8.jpg  \n",
            " extracting: train/images/WIN_20250506_12_25_47_Pro-3-_jpg.rf.f041a145b4f1ee1dff233e14582694de.jpg  \n",
            " extracting: train/images/WIN_20250506_12_25_47_Pro_jpg.rf.e656a44f4037f1469fd897602e73b209.jpg  \n",
            " extracting: train/images/WIN_20250506_12_25_48_Pro-2-_jpg.rf.3b6b020f4a3b05a17bbb13d14aac91a0.jpg  \n",
            " extracting: train/images/WIN_20250506_12_25_48_Pro-3-_jpg.rf.f35e36177e252a6fb3f8b916852fe363.jpg  \n",
            " extracting: train/images/WIN_20250506_12_25_48_Pro_jpg.rf.49604bc51197343fb8df2dbef004b836.jpg  \n",
            " extracting: train/images/WIN_20250506_12_25_49_Pro-2-_jpg.rf.866d166b7f22092eb66421ea9fed5250.jpg  \n",
            " extracting: train/images/WIN_20250506_12_25_49_Pro-4-_jpg.rf.91ddb09cb34b9f71644ab2de7c0d4ab6.jpg  \n",
            " extracting: train/images/WIN_20250506_12_25_50_Pro-2-_jpg.rf.122eb5737cd375c71b695bb94b432d96.jpg  \n",
            " extracting: train/images/WIN_20250506_12_25_50_Pro-4-_jpg.rf.ddd769b37b2599b70047699f7e14c17a.jpg  \n",
            " extracting: train/images/WIN_20250506_12_25_50_Pro_jpg.rf.519f60e25132f340d6d81c69551f2be3.jpg  \n",
            " extracting: train/images/WIN_20250506_12_25_51_Pro-3-_jpg.rf.57cd44cb46e4696f283833d8ee802774.jpg  \n",
            " extracting: train/images/WIN_20250506_12_25_52_Pro-3-_jpg.rf.edf9e7e5538d47adf6a4dce8d8f6838d.jpg  \n",
            " extracting: train/images/WIN_20250506_12_25_52_Pro-4-_jpg.rf.e13d457c22cc141783a3a5b42f7fb1a8.jpg  \n",
            " extracting: train/images/WIN_20250506_12_25_53_Pro-2-_jpg.rf.3ed63c7a194bea0dbca92fe90d5b3229.jpg  \n",
            " extracting: train/images/WIN_20250506_12_25_53_Pro-3-_jpg.rf.18abe65707b44de85dce5d33ec076e65.jpg  \n",
            " extracting: train/images/WIN_20250506_12_25_53_Pro_jpg.rf.2fc3e89ec995a142e56caae2aeddf19f.jpg  \n",
            " extracting: train/images/WIN_20250506_12_25_54_Pro-2-_jpg.rf.0667bc6c510818a6fdf357c173a3f049.jpg  \n",
            " extracting: train/images/WIN_20250506_12_25_54_Pro_jpg.rf.740f719aaa88d2e50e6bfadbcdbf5b0a.jpg  \n",
            " extracting: train/images/WIN_20250506_12_25_55_Pro-2-_jpg.rf.05c9fca49fde4c2bec745eb6a4249c7c.jpg  \n",
            " extracting: train/images/WIN_20250506_12_25_55_Pro_jpg.rf.2682a7321cc52d2732151b8be04a8c48.jpg  \n",
            " extracting: train/images/WIN_20250506_12_26_11_Pro-2-_jpg.rf.00cf1cde42c1c898dc58fd9c1fdd31db.jpg  \n",
            " extracting: train/images/WIN_20250506_12_26_12_Pro-2-_jpg.rf.0090e7a3cf3a5a167bb88ad70b2095e8.jpg  \n",
            " extracting: train/images/WIN_20250506_12_26_12_Pro-3-_jpg.rf.780f5307ff34db3382e1db26d4c7cedf.jpg  \n",
            " extracting: train/images/WIN_20250506_12_26_12_Pro_jpg.rf.48bad17b5359da373c73456d000b80e9.jpg  \n",
            " extracting: train/images/WIN_20250506_12_26_13_Pro-2-_jpg.rf.79eb300337936c835a83b71601e28079.jpg  \n",
            " extracting: train/images/WIN_20250506_12_26_13_Pro-3-_jpg.rf.54eb5531bcecac642d75b0d604f5610c.jpg  \n",
            " extracting: train/images/WIN_20250506_12_26_13_Pro_jpg.rf.5c50873b5731f011a76eca51d8216435.jpg  \n",
            " extracting: train/images/WIN_20250506_12_26_14_Pro-3-_jpg.rf.2fe38a423dc10b06c76955bd586e7c8a.jpg  \n",
            " extracting: train/images/WIN_20250506_12_26_15_Pro-2-_jpg.rf.bbf7db3700ccb14d434aca97ed75774a.jpg  \n",
            " extracting: train/images/WIN_20250506_12_26_15_Pro-3-_jpg.rf.e24d9c442315f596f8b72d3a0e253aa9.jpg  \n",
            " extracting: train/images/WIN_20250506_12_26_15_Pro-4-_jpg.rf.262f3401ab957b7b7c7a04b942e93c28.jpg  \n",
            " extracting: train/images/WIN_20250506_12_26_15_Pro_jpg.rf.7a2428014aaa8c673650612490c3e115.jpg  \n",
            " extracting: train/images/WIN_20250506_12_26_16_Pro-2-_jpg.rf.1bd6249af520e1fa41908b101ccff087.jpg  \n",
            " extracting: train/images/WIN_20250506_12_26_16_Pro-3-_jpg.rf.ee62120e8dfcce82094a948a8fc8ef92.jpg  \n",
            " extracting: train/images/WIN_20250506_12_26_16_Pro-4-_jpg.rf.822b82cc29aa36a8a0706d7d706a1821.jpg  \n",
            " extracting: train/images/WIN_20250506_12_26_16_Pro_jpg.rf.154143a248192164cedeeb20a68c2cc0.jpg  \n",
            " extracting: train/images/WIN_20250506_12_26_17_Pro-2-_jpg.rf.fca7660d69aee0678a17bfc03f0c01bb.jpg  \n",
            " extracting: train/images/WIN_20250506_12_26_17_Pro-4-_jpg.rf.2f64095f680f4fc12f646861893ed7ad.jpg  \n",
            " extracting: train/images/WIN_20250506_12_26_18_Pro-2-_jpg.rf.cfa8564b7f9375eaa548c485ae09217a.jpg  \n",
            " extracting: train/images/WIN_20250506_12_26_18_Pro_jpg.rf.8c0268e600a7a5af3668ff515ef640dc.jpg  \n",
            " extracting: train/images/WIN_20250506_12_26_34_Pro-2-_jpg.rf.1da309b76d3f24d5b340a1a2d56f67c7.jpg  \n",
            " extracting: train/images/WIN_20250506_12_26_34_Pro-3-_jpg.rf.f9038e027565ace39b370d037fb32353.jpg  \n",
            " extracting: train/images/WIN_20250506_12_26_35_Pro_jpg.rf.dde88cfd998b155427d2c07a3df5cb77.jpg  \n",
            " extracting: train/images/WIN_20250506_12_26_36_Pro-3-_jpg.rf.94a0c63a270d7e7e087f63965c3d592c.jpg  \n",
            " extracting: train/images/WIN_20250506_12_26_36_Pro_jpg.rf.1a3444eddf5ea73dba3313896a1e6dbb.jpg  \n",
            " extracting: train/images/WIN_20250506_12_26_37_Pro-2-_jpg.rf.4777ff3d204a6cab4ea812f01af8a94c.jpg  \n",
            " extracting: train/images/WIN_20250506_12_26_37_Pro_jpg.rf.f15d7804d28b9fff1329e32880738e07.jpg  \n",
            " extracting: train/images/WIN_20250506_12_26_38_Pro-2-_jpg.rf.4d55928420ef04e33f39757006ef3daf.jpg  \n",
            " extracting: train/images/WIN_20250506_12_26_38_Pro-3-_jpg.rf.f24c90a90a02b0577313b4bc8d8fbbdf.jpg  \n",
            " extracting: train/images/WIN_20250506_12_26_38_Pro_jpg.rf.3473ed62374e324acfb154e105b570bb.jpg  \n",
            " extracting: train/images/WIN_20250506_12_26_39_Pro-3-_jpg.rf.de81f288b8f432513ff4615879fbee94.jpg  \n",
            " extracting: train/images/WIN_20250506_12_26_39_Pro-4-_jpg.rf.3a3eb7fcac320ba23021a3314e0af967.jpg  \n",
            " extracting: train/images/WIN_20250506_12_26_39_Pro_jpg.rf.3586415b6c86d1b7260c8bfa9a2a08bc.jpg  \n",
            " extracting: train/images/WIN_20250506_12_26_40_Pro-2-_jpg.rf.21edabefb1cfa86de9b51205903c9aef.jpg  \n",
            " extracting: train/images/WIN_20250506_12_26_40_Pro-3-_jpg.rf.815813d3c5c3872b92c07690e098597e.jpg  \n",
            " extracting: train/images/WIN_20250506_12_26_40_Pro_jpg.rf.bcc7d654dcfa9f28be3bf82afaed3f83.jpg  \n",
            " extracting: train/images/WIN_20250506_12_26_41_Pro-2-_jpg.rf.35597850e89c052a0afbe11c5fcb3798.jpg  \n",
            " extracting: train/images/WIN_20250506_12_26_41_Pro-3-_jpg.rf.5be3744b34ba50e7f13a8b6429392ed5.jpg  \n",
            " extracting: train/images/WIN_20250506_12_26_41_Pro_jpg.rf.8276cc076a81e647ca66b99acb16339f.jpg  \n",
            " extracting: train/images/WIN_20250506_12_26_51_Pro_jpg.rf.8befedcaa5713570313e5f739689484b.jpg  \n",
            " extracting: train/images/WIN_20250506_12_26_52_Pro-2-_jpg.rf.846466ca6ae39fa00e6487a6a08221d7.jpg  \n",
            " extracting: train/images/WIN_20250506_12_26_52_Pro_jpg.rf.1468fedd8f2afe0536fbdaf49fa32d5b.jpg  \n",
            " extracting: train/images/WIN_20250506_12_26_53_Pro-2-_jpg.rf.4f94847c7fde46a28f4535622d200d8f.jpg  \n",
            " extracting: train/images/WIN_20250506_12_26_53_Pro-3-_jpg.rf.08158b6bda3d02c3e86d431f9a52a632.jpg  \n",
            " extracting: train/images/WIN_20250506_12_26_53_Pro-4-_jpg.rf.b31a5fd7dc1fb71b8d3040e7e34cc8af.jpg  \n",
            " extracting: train/images/WIN_20250506_12_26_53_Pro_jpg.rf.a55bd3754d73b128b181eb8049c0c5db.jpg  \n",
            " extracting: train/images/WIN_20250506_12_26_54_Pro-2-_jpg.rf.af320361a0de4e4d3d3c97018233e269.jpg  \n",
            " extracting: train/images/WIN_20250506_12_26_54_Pro-3-_jpg.rf.c5a2bdaf7c1345ae0d7b25fec742866f.jpg  \n",
            " extracting: train/images/WIN_20250506_12_26_54_Pro_jpg.rf.62ee7e967c2d6a80d063d557fda7be63.jpg  \n",
            " extracting: train/images/WIN_20250506_12_26_55_Pro-2-_jpg.rf.c94ad9a18759770eaa4272111dcc2ff7.jpg  \n",
            " extracting: train/images/WIN_20250506_12_26_55_Pro-3-_jpg.rf.a375d7ca8dbac2fffd3b05f2b2d109d1.jpg  \n",
            " extracting: train/images/WIN_20250506_12_26_55_Pro-4-_jpg.rf.51ee2f31f4d4a3769e3382f205fe124f.jpg  \n",
            " extracting: train/images/WIN_20250506_12_26_55_Pro_jpg.rf.8053c58fcf218240603a99e6f0aa383d.jpg  \n",
            " extracting: train/images/WIN_20250506_12_26_56_Pro_jpg.rf.0fe5fcac6da762361172b16fc4ad9449.jpg  \n",
            " extracting: train/images/WIN_20250506_12_26_57_Pro-2-_jpg.rf.d52d6e53cb3768830401a49a9e67aeac.jpg  \n",
            " extracting: train/images/WIN_20250506_12_26_57_Pro-4-_jpg.rf.d04f96ecd913ab9d935f9ded759db309.jpg  \n",
            " extracting: train/images/WIN_20250506_12_26_58_Pro-3-_jpg.rf.cd7e9676b15139028ada4b1430740658.jpg  \n",
            " extracting: train/images/WIN_20250506_12_26_58_Pro_jpg.rf.ed24a99466092f98faa08ede63401d35.jpg  \n",
            " extracting: train/images/WIN_20250506_12_26_59_Pro-2-_jpg.rf.3bcfa8a68c36103a05407dc5a0680e5b.jpg  \n",
            " extracting: train/images/WIN_20250506_12_26_59_Pro-3-_jpg.rf.cfa8edc92fe4c19911afdb617e558523.jpg  \n",
            " extracting: train/images/WIN_20250506_12_26_59_Pro-4-_jpg.rf.f9256ca599251610e8d4e3ca46eadacf.jpg  \n",
            " extracting: train/images/WIN_20250506_12_26_59_Pro_jpg.rf.fa733956f41c171ca5ee3b36bd5670c9.jpg  \n",
            " extracting: train/images/WIN_20250506_12_27_00_Pro_jpg.rf.f0ae91ff394791aab6c649c5c44f9bb2.jpg  \n",
            " extracting: train/images/WIN_20250506_12_27_48_Pro_jpg.rf.61b50a1a91d3535c63b9fd334a445bc8.jpg  \n",
            " extracting: train/images/WIN_20250506_12_27_50_Pro_jpg.rf.be183b2f3c90cbca97a8962af079403c.jpg  \n",
            " extracting: train/images/WIN_20250506_12_27_51_Pro-2-_jpg.rf.595ab05b2c7d54bbac26abd3daf4f86e.jpg  \n",
            " extracting: train/images/WIN_20250506_12_27_53_Pro_jpg.rf.fe9023a86a6b371c928595b0339569a4.jpg  \n",
            " extracting: train/images/WIN_20250506_12_27_55_Pro-2-_jpg.rf.17eab7952183b12bf98611335e6d1dae.jpg  \n",
            " extracting: train/images/WIN_20250506_12_27_55_Pro_jpg.rf.1ff32962cdc8265e872290e8b401d9e2.jpg  \n",
            " extracting: train/images/WIN_20250506_12_27_57_Pro-2-_jpg.rf.984a8cf2987abc055173acf85a92e67e.jpg  \n",
            " extracting: train/images/WIN_20250506_12_27_57_Pro-3-_jpg.rf.4ca9673b7bb49a6e167a3a650cbccdaa.jpg  \n",
            " extracting: train/images/WIN_20250506_12_27_57_Pro_jpg.rf.d3fd30e9a36020dfa288e1303663c9d9.jpg  \n",
            " extracting: train/images/WIN_20250506_12_27_59_Pro_jpg.rf.5404abe78a85fe3b6b4c852448b7e4da.jpg  \n",
            " extracting: train/images/WIN_20250506_12_28_00_Pro-2-_jpg.rf.c55eb026a0d53b1584df9b5b7cd18545.jpg  \n",
            " extracting: train/images/WIN_20250506_12_28_00_Pro-3-_jpg.rf.0d5506a294173d2fd52d41d181e6f61d.jpg  \n",
            " extracting: train/images/WIN_20250506_12_28_00_Pro_jpg.rf.62b6ef746d386ad145fcaec8f79cfea1.jpg  \n",
            " extracting: train/images/WIN_20250506_12_28_03_Pro-2-_jpg.rf.c86c7b517dd3601f4a4c12c1d2b1e325.jpg  \n",
            " extracting: train/images/WIN_20250506_12_28_03_Pro-3-_jpg.rf.a2616131e1509ba6137b5a9f9b32136d.jpg  \n",
            " extracting: train/images/WIN_20250506_12_28_03_Pro_jpg.rf.ca0f0b96f2473a8c98bf64d0c5f92ff3.jpg  \n",
            " extracting: train/images/WIN_20250506_12_28_05_Pro-3-_jpg.rf.f7690e7afb1409ee11ccfd0fa1d6a764.jpg  \n",
            " extracting: train/images/WIN_20250506_12_28_05_Pro_jpg.rf.586a1b2a9d2cae1c066e532d244a933d.jpg  \n",
            " extracting: train/images/WIN_20250506_12_28_08_Pro_jpg.rf.161687822ee18a75ba603cafd3d17c93.jpg  \n",
            " extracting: train/images/WIN_20250506_12_28_09_Pro_jpg.rf.1e78e18df61a447c5c9bf422e88dce29.jpg  \n",
            " extracting: train/images/WIN_20250506_12_28_12_Pro_jpg.rf.ed8c7e044b76904cd9c709bf0e4da705.jpg  \n",
            " extracting: train/images/WIN_20250506_12_28_13_Pro_jpg.rf.3b62ac64be169f3311f8b1a278ea5751.jpg  \n",
            " extracting: train/images/WIN_20250506_12_28_16_Pro_jpg.rf.4b3317b8f03f0f24a5c03c6103972e60.jpg  \n",
            " extracting: train/images/WIN_20250506_12_28_17_Pro_jpg.rf.83fb5f0f326df6ee336be42bc21c1b16.jpg  \n",
            " extracting: train/images/WIN_20250506_12_28_19_Pro_jpg.rf.074eb97112a7b654e9bd5401ffd4fc94.jpg  \n",
            " extracting: train/images/WIN_20250506_12_28_21_Pro_jpg.rf.128210f6f84077c5759f0baa4fe4480b.jpg  \n",
            " extracting: train/images/WIN_20250506_12_28_30_Pro_jpg.rf.3dcc0a9142aae38ebdae0978bde1a9ce.jpg  \n",
            " extracting: train/images/WIN_20250506_12_28_31_Pro_jpg.rf.78a873aaf02f2c56c0916c1ef78f14c2.jpg  \n",
            " extracting: train/images/WIN_20250506_12_28_34_Pro_jpg.rf.d2af91359f3fb203a8e6af0aca64cfcc.jpg  \n",
            " extracting: train/images/WIN_20250506_12_28_39_Pro_jpg.rf.86a1583d0d98e46f9446a325a5f3069c.jpg  \n",
            " extracting: train/images/WIN_20250506_12_28_41_Pro_jpg.rf.3ce2a31add57ec8e16d57714a2cfe6bf.jpg  \n",
            " extracting: train/images/WIN_20250506_12_28_43_Pro_jpg.rf.709f26acffbb4c99f7333415fe0468f8.jpg  \n",
            " extracting: train/images/WIN_20250506_12_28_45_Pro_jpg.rf.49c82f4669aa10b776bcef99f4b2c1b6.jpg  \n",
            " extracting: train/images/WIN_20250506_12_28_47_Pro_jpg.rf.fae6df6119d6c952781bfdbe3a564466.jpg  \n",
            " extracting: train/images/WIN_20250506_12_28_54_Pro_jpg.rf.2a3f18018c26ef0eed2b111270b64550.jpg  \n",
            " extracting: train/images/WIN_20250506_12_28_55_Pro_jpg.rf.0697dfcf171792130ab71a909fe524f6.jpg  \n",
            " extracting: train/images/WIN_20250506_12_28_57_Pro_jpg.rf.e54b2f06fcb7cbffaa48522216dcff75.jpg  \n",
            " extracting: train/images/WIN_20250506_12_29_04_Pro_jpg.rf.9afa42c6a4c746f368843bbfb3c2f21a.jpg  \n",
            " extracting: train/images/WIN_20250506_12_29_06_Pro_jpg.rf.ad27f5597a782ac10cf446410811570e.jpg  \n",
            " extracting: train/images/WIN_20250506_12_29_07_Pro_jpg.rf.e47f49febe32eeb753c0f62b861e5456.jpg  \n",
            " extracting: train/images/WIN_20250506_12_29_09_Pro_jpg.rf.273e1857e7376ec5a81fa9744c74c4a9.jpg  \n",
            " extracting: train/images/WIN_20250506_12_29_11_Pro_jpg.rf.875052608308fbf319d982f8e1b7923f.jpg  \n",
            " extracting: train/images/WIN_20250506_12_29_24_Pro_jpg.rf.b831428f07ece305d69028476de0ecb8.jpg  \n",
            " extracting: train/images/WIN_20250506_12_29_26_Pro_jpg.rf.197fa75817abb1aa972fe9ea9643d5ad.jpg  \n",
            " extracting: train/images/WIN_20250506_12_29_27_Pro_jpg.rf.210fb5ed98116e0272f030d13104b04f.jpg  \n",
            " extracting: train/images/WIN_20250506_12_29_30_Pro_jpg.rf.02032e82f7c54835fefa9dc71cc745f7.jpg  \n",
            " extracting: train/images/WIN_20250506_12_29_32_Pro_jpg.rf.a600d3b7ff43bbc9a663c5fce40b7785.jpg  \n",
            " extracting: train/images/WIN_20250506_12_29_33_Pro_jpg.rf.c7d118d9ba1e791f76878ff88e39425b.jpg  \n",
            " extracting: train/images/WIN_20250506_12_29_34_Pro_jpg.rf.786d209c2cb4ac417b06bf30395bed9c.jpg  \n",
            " extracting: train/images/WIN_20250506_12_29_44_Pro_jpg.rf.922644b98e48e039b41cad5584185d4f.jpg  \n",
            " extracting: train/images/WIN_20250506_12_29_47_Pro_jpg.rf.72eedb22eb069d590455a6424bfe53b9.jpg  \n",
            " extracting: train/images/WIN_20250506_12_29_50_Pro_jpg.rf.5590836b505ec19e5b012d891eadb517.jpg  \n",
            " extracting: train/images/WIN_20250506_12_29_56_Pro_jpg.rf.3adfc72ee6c2642211afc5cdcb6ccb33.jpg  \n",
            " extracting: train/images/WIN_20250506_12_30_02_Pro_jpg.rf.9fcde1b87bc5547fc2a91ab5f6a4e616.jpg  \n",
            " extracting: train/images/WIN_20250506_12_30_03_Pro_jpg.rf.8f930e7490654063b11982a3aab2e423.jpg  \n",
            " extracting: train/images/WIN_20250506_12_30_05_Pro_jpg.rf.b942018711e1a369fc78e6bdd4a044e5.jpg  \n",
            " extracting: train/images/WIN_20250506_12_30_08_Pro_jpg.rf.9636fe79c02e4417e53cf17fe552d6bd.jpg  \n",
            " extracting: train/images/WIN_20250506_12_30_09_Pro_jpg.rf.a5013d1030b13e37b9a82ac05206b171.jpg  \n",
            " extracting: train/images/WIN_20250506_12_30_12_Pro_jpg.rf.e94ae3303304f46a7822f3d400bba67f.jpg  \n",
            " extracting: train/images/WIN_20250506_12_30_13_Pro_jpg.rf.1d2a7107175b593cd154cb853a181f66.jpg  \n",
            " extracting: train/images/WIN_20250506_12_30_15_Pro_jpg.rf.fabf3ef10e1828de1c3c0444ba22baf6.jpg  \n",
            " extracting: train/images/WIN_20250506_12_30_17_Pro_jpg.rf.8167711a854ef79c833e53975f1737aa.jpg  \n",
            " extracting: train/images/WIN_20250506_12_30_19_Pro_jpg.rf.87b29552285a79fdbee976e9368f706e.jpg  \n",
            " extracting: train/images/WIN_20250506_12_30_28_Pro_jpg.rf.0da207256e17bfbf7580d8ea8c0b995a.jpg  \n",
            " extracting: train/images/WIN_20250506_12_30_30_Pro_jpg.rf.e9f8e4d6589e7b4951e5dd4d25feed03.jpg  \n",
            " extracting: train/images/WIN_20250506_12_30_32_Pro_jpg.rf.667495f2ff0ac7615c64d40f5825622b.jpg  \n",
            " extracting: train/images/WIN_20250506_12_30_33_Pro_jpg.rf.80d5655da80e49e4fd9c9d4e9cc035d8.jpg  \n",
            " extracting: train/images/WIN_20250506_12_30_35_Pro_jpg.rf.bab2ca1d35060521fdbdc465e21dabf0.jpg  \n",
            " extracting: train/images/WIN_20250506_12_30_38_Pro_jpg.rf.2153e6db918ed0d1281a667df9b3b681.jpg  \n",
            " extracting: train/images/WIN_20250506_12_30_39_Pro_jpg.rf.fecbcf38fc62c6344769acf00693984a.jpg  \n",
            " extracting: train/images/WIN_20250506_12_30_41_Pro_jpg.rf.e1f85534ff7cb431a4e36106ce792f1f.jpg  \n",
            " extracting: train/images/WIN_20250506_12_30_43_Pro_jpg.rf.a0978746426c2b0ce2a16b3e05fe8f4f.jpg  \n",
            " extracting: train/images/WIN_20250506_12_30_44_Pro_jpg.rf.868b76bc596dadeadcee16657d28ec63.jpg  \n",
            " extracting: train/images/WIN_20250506_12_30_45_Pro_jpg.rf.37fd1b6bfe4035f25feb349388558b3d.jpg  \n",
            " extracting: train/images/WIN_20250506_12_30_51_Pro_jpg.rf.3c021a39b28d33d25e0ff9ad6bcfb4ef.jpg  \n",
            " extracting: train/images/WIN_20250506_12_30_52_Pro_jpg.rf.9ea61387ca733914ff4c3ba49afba6a4.jpg  \n",
            " extracting: train/images/WIN_20250506_12_30_54_Pro_jpg.rf.860f5d645dcd68f068d4523f76cfc874.jpg  \n",
            " extracting: train/images/WIN_20250506_12_30_55_Pro_jpg.rf.3ec14ce36c9efb02e5f6578ab2626f86.jpg  \n",
            " extracting: train/images/WIN_20250506_12_30_57_Pro_jpg.rf.9ba674c230618d103f7b8e9cc9cab06f.jpg  \n",
            " extracting: train/images/WIN_20250506_12_30_58_Pro_jpg.rf.a08f9d4d214502395b9616eacc428dbb.jpg  \n",
            " extracting: train/images/WIN_20250506_12_31_02_Pro_jpg.rf.9e5b1d3df3bbe38adc71535e664d69e0.jpg  \n",
            " extracting: train/images/WIN_20250506_12_31_04_Pro_jpg.rf.e66bbf08059e20e874036ca2849b42c7.jpg  \n",
            " extracting: train/images/WIN_20250506_12_33_26_Pro_jpg.rf.ab2f0262c56296c8d90361655afc87a5.jpg  \n",
            " extracting: train/images/WIN_20250506_12_33_27_Pro_jpg.rf.f4995bef71309e8d1b74f6af60fbd4b9.jpg  \n",
            " extracting: train/images/WIN_20250506_12_33_28_Pro_jpg.rf.9e162a9e331c2c06c5ce2277b6e08245.jpg  \n",
            " extracting: train/images/WIN_20250506_12_33_31_Pro_jpg.rf.e11a87f5a1b57efe29f811246c0f4d8c.jpg  \n",
            " extracting: train/images/WIN_20250506_12_33_32_Pro_jpg.rf.ba2ea92ef826aa563aac38bef2654299.jpg  \n",
            " extracting: train/images/WIN_20250506_12_33_34_Pro_jpg.rf.7dab73306ed6d3a5050849796e8b486c.jpg  \n",
            " extracting: train/images/WIN_20250506_12_33_35_Pro_jpg.rf.5f0b9fc0a8a92df4901ca92157fdd65a.jpg  \n",
            " extracting: train/images/WIN_20250506_12_33_37_Pro_jpg.rf.84947eac40dbca289e233b5fc0684d07.jpg  \n",
            " extracting: train/images/WIN_20250506_12_33_38_Pro_jpg.rf.86c92739ac2ec04e77f7cc31d9373c8d.jpg  \n",
            " extracting: train/images/WIN_20250506_12_33_40_Pro_jpg.rf.6f6a3408ed511a85b6cc690ca6d96ecd.jpg  \n",
            " extracting: train/images/WIN_20250506_12_33_41_Pro_jpg.rf.e44a5d0fecaf29261e8dd45a3be07cc3.jpg  \n",
            " extracting: train/images/WIN_20250506_12_33_43_Pro_jpg.rf.00b9fb29661e3799a0de6aa0ef61f900.jpg  \n",
            " extracting: train/images/WIN_20250506_12_33_46_Pro_jpg.rf.93caa4ad31c48b00f6c8d83565a9abf1.jpg  \n",
            " extracting: train/images/WIN_20250506_12_35_09_Pro_jpg.rf.ce3d602bfc3b6df9677e5bb7c02633d5.jpg  \n",
            " extracting: train/images/WIN_20250506_12_35_12_Pro_jpg.rf.4caa53a63d65c823b88eb9cc07c42e81.jpg  \n",
            " extracting: train/images/WIN_20250506_12_35_13_Pro_jpg.rf.8e9b7299e043bef626990268562f36b2.jpg  \n",
            " extracting: train/images/WIN_20250506_12_35_15_Pro_jpg.rf.42f0b29205c83104bcb4e9159e3e6d99.jpg  \n",
            " extracting: train/images/WIN_20250506_12_35_18_Pro_jpg.rf.248c517984240ddc53dfc4fa34155620.jpg  \n",
            " extracting: train/images/WIN_20250506_12_35_19_Pro_jpg.rf.d3a3ee66d8b457a9c54bdc5e404c4dff.jpg  \n",
            " extracting: train/images/WIN_20250506_12_35_21_Pro_jpg.rf.91bcdc99ec9b1465b0ec0f86b5904384.jpg  \n",
            " extracting: train/images/WIN_20250506_12_35_23_Pro_jpg.rf.05b3ea025712670f753c19a74db2214d.jpg  \n",
            " extracting: train/images/WIN_20250506_12_35_25_Pro_jpg.rf.8b5b9080b542e29013cc5eccea25b11f.jpg  \n",
            " extracting: train/images/WIN_20250506_12_35_28_Pro_jpg.rf.612fa2eb1330ccf2306616496e720282.jpg  \n",
            " extracting: train/images/WIN_20250506_12_35_29_Pro_jpg.rf.9af74325e9e927a2b4af8222d08ed74e.jpg  \n",
            " extracting: train/images/WIN_20250506_12_35_34_Pro_jpg.rf.64885d8be38b3f5960b20fff7d1f01d3.jpg  \n",
            " extracting: train/images/WIN_20250506_12_35_36_Pro_jpg.rf.2a02e8fa236e832e00c446999a9f7adb.jpg  \n",
            " extracting: train/images/WIN_20250506_12_35_39_Pro_jpg.rf.3fa87edb63235e882c34d9119d8a7c73.jpg  \n",
            " extracting: train/images/WIN_20250506_12_35_42_Pro_jpg.rf.b33a49228dcfc07d017d0d98fe6313a4.jpg  \n",
            " extracting: train/images/WIN_20250506_12_35_44_Pro_jpg.rf.a04641bbb2b4f83206efaafd6bfe1896.jpg  \n",
            " extracting: train/images/WIN_20250506_12_35_45_Pro_jpg.rf.8ba155e57c7a6c43d5e849fdfb27daa4.jpg  \n",
            " extracting: train/images/WIN_20250506_12_35_47_Pro_jpg.rf.92f5bc7e8fb87571a09a9554fae7d016.jpg  \n",
            " extracting: train/images/WIN_20250506_12_35_50_Pro_jpg.rf.2837535d08ae314dd8fe9b79f84a69d8.jpg  \n",
            " extracting: train/images/WIN_20250506_12_35_52_Pro_jpg.rf.2e346f68a77818984c8b037c1bd8997b.jpg  \n",
            " extracting: train/images/WIN_20250506_12_35_54_Pro_jpg.rf.fda9ac2a2b8a0666278b6ffb93978675.jpg  \n",
            " extracting: train/images/WIN_20250506_12_35_56_Pro_jpg.rf.77872b1752ced313f7e053cf6893d796.jpg  \n",
            " extracting: train/images/WIN_20250506_12_36_03_Pro_jpg.rf.ad418dd8b4811009d553a30269fbab6b.jpg  \n",
            " extracting: train/images/WIN_20250506_12_36_05_Pro_jpg.rf.a165c85052ddd5b938a3752a9e45605f.jpg  \n",
            " extracting: train/images/WIN_20250506_12_36_06_Pro_jpg.rf.022239e518b0a9be33856add88002a48.jpg  \n",
            " extracting: train/images/WIN_20250506_12_36_13_Pro_jpg.rf.0d89996e741723790f982dce88b5571b.jpg  \n",
            " extracting: train/images/WIN_20250506_12_36_14_Pro_jpg.rf.920dcd1c9631342a0b72410ec2aeac15.jpg  \n",
            " extracting: train/images/WIN_20250506_12_36_16_Pro_jpg.rf.3390db30227f3add1060fcec5689c939.jpg  \n",
            " extracting: train/images/WIN_20250506_12_36_22_Pro_jpg.rf.d917ff16683eff752ba1a520b1623ea6.jpg  \n",
            " extracting: train/images/WIN_20250506_12_36_23_Pro_jpg.rf.88b603f1d265636ab61b7e6e75255d96.jpg  \n",
            " extracting: train/images/WIN_20250506_12_36_26_Pro_jpg.rf.570f72cafccd39a541a22dd10a3677c0.jpg  \n",
            " extracting: train/images/WIN_20250506_12_36_29_Pro_jpg.rf.a09db80e01793f5508f7b28b4bca15d5.jpg  \n",
            " extracting: train/images/WIN_20250506_12_36_32_Pro_jpg.rf.f681a4f0aa7bf087cb56571fd6457bde.jpg  \n",
            " extracting: train/images/WIN_20250506_12_36_33_Pro_jpg.rf.bcec2b6b82b7a272819a5b6730035ae9.jpg  \n",
            " extracting: train/images/WIN_20250506_12_36_35_Pro_jpg.rf.661d56fb86e0b450177b671962cc9d77.jpg  \n",
            " extracting: train/images/WIN_20250506_12_36_36_Pro_jpg.rf.67a81aca180987c95d3623fd2f19c5d9.jpg  \n",
            " extracting: train/images/WIN_20250506_12_36_40_Pro_jpg.rf.997c3ff61ad03d9e523ea6244edce553.jpg  \n",
            " extracting: train/images/WIN_20250506_12_36_41_Pro_jpg.rf.5625e0d738a11e9c03d77787c8591126.jpg  \n",
            " extracting: train/images/WIN_20250506_12_36_44_Pro_jpg.rf.d44f68cc1f0511cd1e4a6ebfdff521db.jpg  \n",
            " extracting: train/images/WIN_20250506_12_36_45_Pro_jpg.rf.650864bc0b9e1dbc73f360db83426b96.jpg  \n",
            " extracting: train/images/WIN_20250506_12_36_58_Pro_jpg.rf.d5b56bb62abaa619eca03f8e081065e7.jpg  \n",
            " extracting: train/images/WIN_20250506_12_36_59_Pro_jpg.rf.5d1676e959a1ae50015a586dd0cb5f64.jpg  \n",
            " extracting: train/images/WIN_20250506_12_37_01_Pro_jpg.rf.00f7005d663dc3dd40b9cb6ccda76aeb.jpg  \n",
            " extracting: train/images/WIN_20250506_12_37_02_Pro_jpg.rf.8b3edc4477f3545dbd18abc4d6f0fa40.jpg  \n",
            " extracting: train/images/WIN_20250506_12_37_04_Pro_jpg.rf.65bcbfb54b65020ff4c53635635a056e.jpg  \n",
            " extracting: train/images/WIN_20250506_12_37_05_Pro_jpg.rf.ac58601e3be60a3e783519ab9c170ba8.jpg  \n",
            " extracting: train/images/WIN_20250506_12_37_07_Pro_jpg.rf.887b523af2307f4101b09a9bc4b43a6d.jpg  \n",
            " extracting: train/images/WIN_20250506_12_37_11_Pro_jpg.rf.89013ce758e5c7ff2ccfa28785838311.jpg  \n",
            " extracting: train/images/WIN_20250506_12_37_12_Pro_jpg.rf.125888ce9a67ee34349da9d38b6bd5ee.jpg  \n",
            " extracting: train/images/WIN_20250506_12_37_17_Pro_jpg.rf.a0e4dcc4a94fc3d63656bb6c0d871535.jpg  \n",
            " extracting: train/images/WIN_20250506_12_37_18_Pro_jpg.rf.6c5ed34dfe887f8359fe0f89931cda6d.jpg  \n",
            " extracting: train/images/WIN_20250506_12_37_20_Pro_jpg.rf.487e17461c803cd3b0f3765cc03879f9.jpg  \n",
            " extracting: train/images/WIN_20250506_12_37_21_Pro_jpg.rf.896a9067a8b551558e7fba645c7b0f2b.jpg  \n",
            " extracting: train/images/WIN_20250506_12_37_23_Pro_jpg.rf.d3b3dedac34d587eadf89ca2072b8665.jpg  \n",
            " extracting: train/images/WIN_20250506_12_37_25_Pro_jpg.rf.ee0b97885f1da57a166308b34d47bbe2.jpg  \n",
            " extracting: train/images/WIN_20250506_12_37_28_Pro_jpg.rf.a8ce858c3993bd80bb303470601b7926.jpg  \n",
            " extracting: train/images/WIN_20250506_12_37_30_Pro_jpg.rf.a9bb2fd8d11912e86588632b6553e1d2.jpg  \n",
            " extracting: train/images/WIN_20250506_12_37_31_Pro_jpg.rf.e648b73132a266a13f9ff2481ad56668.jpg  \n",
            " extracting: train/images/WIN_20250506_12_37_33_Pro_jpg.rf.747a16eb146eb1e8f86e825153871aea.jpg  \n",
            " extracting: train/images/WIN_20250506_12_37_35_Pro_jpg.rf.9d6170b181d964a5faa5a525f1d31f49.jpg  \n",
            " extracting: train/images/WIN_20250506_12_37_37_Pro_jpg.rf.8a62d261d73a1e4a1b9c1b1503dcdcf5.jpg  \n",
            " extracting: train/images/WIN_20250506_12_37_39_Pro_jpg.rf.87b6cd48cacb854fb35ec9ca6991a89c.jpg  \n",
            " extracting: train/images/WIN_20250506_12_37_41_Pro_jpg.rf.69e1ad3efd029802f14cda7bcf6aa59a.jpg  \n",
            " extracting: train/images/WIN_20250506_12_37_42_Pro_jpg.rf.3f416b54ae55dcf44a27ddfa47c30134.jpg  \n",
            " extracting: train/images/WIN_20250506_12_37_44_Pro_jpg.rf.3b59b16eb5a449a4cb9d0b9fafaae7c4.jpg  \n",
            " extracting: train/images/WIN_20250506_12_37_47_Pro_jpg.rf.92b286294ccf9b65932a8ec7d1539479.jpg  \n",
            " extracting: train/images/WIN_20250506_12_37_48_Pro_jpg.rf.f6ba5f30a6e95c0057ac7f804a4824ae.jpg  \n",
            " extracting: train/images/WIN_20250506_12_37_50_Pro_jpg.rf.0732c299c9caf6ca3660a2c8214f8249.jpg  \n",
            " extracting: train/images/WIN_20250506_12_37_53_Pro_jpg.rf.103b2ccdf90c81e4ea28847da84ee2a1.jpg  \n",
            " extracting: train/images/WIN_20250506_12_37_55_Pro_jpg.rf.47a9804114abb8a2bf2a3a2489534c71.jpg  \n",
            " extracting: train/images/WIN_20250506_12_37_58_Pro_jpg.rf.c80faa17edba9963d93bd2383fc5a42b.jpg  \n",
            " extracting: train/images/WIN_20250506_12_37_59_Pro_jpg.rf.e33ea359182a2b605cec7887c196eb80.jpg  \n",
            " extracting: train/images/WIN_20250506_12_38_01_Pro_jpg.rf.988968b86c772694e46e6921fece91ec.jpg  \n",
            " extracting: train/images/WIN_20250506_12_38_02_Pro_jpg.rf.8cd2206a0e0e8765f36ebb2123cb1304.jpg  \n",
            " extracting: train/images/WIN_20250506_12_38_07_Pro_jpg.rf.598c1272156ac7d8c9f57d802920ab1a.jpg  \n",
            " extracting: train/images/WIN_20250506_12_38_08_Pro_jpg.rf.ff49f0489f381c78b494496158475071.jpg  \n",
            " extracting: train/images/WIN_20250506_12_38_09_Pro_jpg.rf.8f26ae13081d8d4fc1ca36b2f6537ff3.jpg  \n",
            " extracting: train/images/WIN_20250506_12_38_12_Pro_jpg.rf.1287ab314fae57138092ceaab6f7cea6.jpg  \n",
            " extracting: train/images/WIN_20250506_12_38_14_Pro_jpg.rf.8e3135364b8009f87e576cdccf96248b.jpg  \n",
            " extracting: train/images/WIN_20250506_12_38_17_Pro_jpg.rf.357119388ee4b68e858eb2290acfd6d9.jpg  \n",
            " extracting: train/images/WIN_20250506_12_38_26_Pro_jpg.rf.0ff1b68035df766d6d264dc1c3740f9d.jpg  \n",
            " extracting: train/images/WIN_20250506_12_38_31_Pro_jpg.rf.13b6b6477bcec4b51cbd73d03a0d37c4.jpg  \n",
            " extracting: train/images/WIN_20250506_12_38_34_Pro_jpg.rf.2ed478cddedf0fbdd69a53df589d1510.jpg  \n",
            " extracting: train/images/WIN_20250506_12_38_38_Pro_jpg.rf.cf93012d2f694b0a40836d2722f8b69f.jpg  \n",
            " extracting: train/images/WIN_20250506_12_38_39_Pro_jpg.rf.ec7b62a095bfc333d541b6ac5789dca2.jpg  \n",
            " extracting: train/images/WIN_20250506_12_38_41_Pro_jpg.rf.aa1b4db23e7a1bc6a5516dd4b4b10237.jpg  \n",
            " extracting: train/images/WIN_20250506_12_38_43_Pro_jpg.rf.48b62a17dd5b1fad69337438f1550d72.jpg  \n",
            " extracting: train/images/WIN_20250506_12_38_44_Pro_jpg.rf.74c324192d2e9aa4d819523a4021f3e1.jpg  \n",
            " extracting: train/images/WIN_20250506_12_38_46_Pro_jpg.rf.ada4cded881a7adfe929f9a60155d0da.jpg  \n",
            " extracting: train/images/WIN_20250506_12_38_48_Pro_jpg.rf.8291e4dd6b6c139e18819a2c9e9cd3ba.jpg  \n",
            " extracting: train/images/WIN_20250506_12_38_54_Pro_jpg.rf.7ace1822011aed4e1cb920bd09419fd4.jpg  \n",
            " extracting: train/images/WIN_20250506_12_38_55_Pro_jpg.rf.9456dcc4c9c9bab3274fcb11f831d553.jpg  \n",
            " extracting: train/images/WIN_20250506_12_38_57_Pro_jpg.rf.d9668a0327a2ab9c28763e17e8211f3b.jpg  \n",
            " extracting: train/images/WIN_20250506_12_38_58_Pro_jpg.rf.af864da8727ed71977e5d5b3fe112560.jpg  \n",
            " extracting: train/images/WIN_20250506_12_39_00_Pro_jpg.rf.dbe92ea3c96f9ba6131a27e3b4bf9c58.jpg  \n",
            " extracting: train/images/WIN_20250506_12_39_01_Pro_jpg.rf.c48caea33f52162b8e79c156b21aac13.jpg  \n",
            " extracting: train/images/WIN_20250506_12_39_02_Pro_jpg.rf.8ec7685d5ecf136422bd550bea173823.jpg  \n",
            " extracting: train/images/WIN_20250506_12_39_07_Pro_jpg.rf.9dd2976ed7c3033512c90a04bb651191.jpg  \n",
            " extracting: train/images/WIN_20250506_12_39_10_Pro_jpg.rf.c2ea2d561f32baeccb71c87cbe96023e.jpg  \n",
            " extracting: train/images/WIN_20250506_12_39_11_Pro_jpg.rf.f465af5c13925ec2a12d6522b91886a9.jpg  \n",
            " extracting: train/images/WIN_20250506_12_39_13_Pro_jpg.rf.ebd18b243407b0a0402044b58720482f.jpg  \n",
            " extracting: train/images/WIN_20250506_12_39_15_Pro_jpg.rf.ca47b2e341abcb45b1505a1a0887a777.jpg  \n",
            "   creating: train/labels/\n",
            "  inflating: train/labels/WIN_20250506_12_16_46_Pro_jpg.rf.286d748c808f36c9292c302f12f49255.txt  \n",
            "  inflating: train/labels/WIN_20250506_12_16_49_Pro_jpg.rf.408412ae1e79448e5a7ee8ca7151d18e.txt  \n",
            "  inflating: train/labels/WIN_20250506_12_16_50_Pro_jpg.rf.6f7388860c57122bedaa1e6ead51cdaf.txt  \n",
            "  inflating: train/labels/WIN_20250506_12_16_51_Pro_jpg.rf.f7c5514bc5fd2a9c228bfb01ea7038ce.txt  \n",
            " extracting: train/labels/WIN_20250506_12_17_09_Pro_jpg.rf.dedfe71131c25464e5c9bc3211c8b362.txt  \n",
            "  inflating: train/labels/WIN_20250506_12_17_11_Pro_jpg.rf.ef3ce8fd4cc347db24ac3799d0ec1f9f.txt  \n",
            "  inflating: train/labels/WIN_20250506_12_17_12_Pro_jpg.rf.1e2a5ee81abab8a80d4e80f52e52a347.txt  \n",
            " extracting: train/labels/WIN_20250506_12_17_13_Pro_jpg.rf.38766af05b27c06e29b29383c993271f.txt  \n",
            "  inflating: train/labels/WIN_20250506_12_17_14_Pro_jpg.rf.75c35dec81c1ec1de9b29f8c5e69679f.txt  \n",
            "  inflating: train/labels/WIN_20250506_12_17_15_Pro_jpg.rf.2db894cb5120c62cebff6f58110f2925.txt  \n",
            "  inflating: train/labels/WIN_20250506_12_17_16_Pro_jpg.rf.897dc3d1beb16e9b823a7f4f536286d4.txt  \n",
            "  inflating: train/labels/WIN_20250506_12_17_17_Pro_jpg.rf.3af2a7e1bfec242bf088b62aedcece9b.txt  \n",
            "  inflating: train/labels/WIN_20250506_12_17_22_Pro_jpg.rf.a139ec42d3188b61cdfebbad10e62a7e.txt  \n",
            "  inflating: train/labels/WIN_20250506_12_17_23_Pro_jpg.rf.693c713a87ce75588a9840be1e3b5560.txt  \n",
            "  inflating: train/labels/WIN_20250506_12_17_27_Pro_jpg.rf.daeba56dd5aff95ad442e39d78fa58eb.txt  \n",
            "  inflating: train/labels/WIN_20250506_12_17_32_Pro_jpg.rf.26e56e4199d79eaa0b1bd59aee8a4a90.txt  \n",
            "  inflating: train/labels/WIN_20250506_12_17_36_Pro_jpg.rf.d07def9bd910eb73299a4fc5df12d923.txt  \n",
            "  inflating: train/labels/WIN_20250506_12_17_37_Pro_jpg.rf.dbfd243c8b48dc48df146aeaa4fbfec1.txt  \n",
            "  inflating: train/labels/WIN_20250506_12_17_40_Pro_jpg.rf.65d2a75b0fd255211fa05d43fddfcb10.txt  \n",
            "  inflating: train/labels/WIN_20250506_12_17_44_Pro_jpg.rf.3c4a7bba902f9117cb7e89aad52c66ac.txt  \n",
            "  inflating: train/labels/WIN_20250506_12_17_55_Pro-2-_jpg.rf.1404b00c1dfd5140f361a7ad82b55f83.txt  \n",
            "  inflating: train/labels/WIN_20250506_12_18_01_Pro_jpg.rf.0596446413dc89846a9a35e0ea4ab369.txt  \n",
            "  inflating: train/labels/WIN_20250506_12_18_02_Pro-2-_jpg.rf.114b3be55e28e3cb049681272df4fdfd.txt  \n",
            "  inflating: train/labels/WIN_20250506_12_18_02_Pro_jpg.rf.73fe649d05dd8a61f0b24ef2c1312622.txt  \n",
            "  inflating: train/labels/WIN_20250506_12_18_05_Pro_jpg.rf.e5d2625f882a4d76557af0dc6ad12490.txt  \n",
            "  inflating: train/labels/WIN_20250506_12_18_06_Pro-2-_jpg.rf.28338ca952cbb5ad1457ae5d320929fb.txt  \n",
            "  inflating: train/labels/WIN_20250506_12_18_09_Pro_jpg.rf.cae2e418e7e4d9d424a27cfd6275001f.txt  \n",
            "  inflating: train/labels/WIN_20250506_12_18_13_Pro_jpg.rf.21a5816a21c636f4c3a0afbedf1a9cf0.txt  \n",
            "  inflating: train/labels/WIN_20250506_12_18_16_Pro_jpg.rf.c0636dd48292d34d5431ed23531560c0.txt  \n",
            "  inflating: train/labels/WIN_20250506_12_18_17_Pro-2-_jpg.rf.358e32872aea50be1efcd242f9e3e09f.txt  \n",
            "  inflating: train/labels/WIN_20250506_12_18_20_Pro-2-_jpg.rf.6361bab8fc67a887f664f8e515c3d865.txt  \n",
            "  inflating: train/labels/WIN_20250506_12_18_20_Pro_jpg.rf.0e2a6e9e8bfcf893e6dfbf78df528422.txt  \n",
            "  inflating: train/labels/WIN_20250506_12_18_23_Pro_jpg.rf.3df496bed61634cc3191fb7d7e621a56.txt  \n",
            "  inflating: train/labels/WIN_20250506_12_18_24_Pro_jpg.rf.7c3c1d05fa869489a2291f93faa51793.txt  \n",
            "  inflating: train/labels/WIN_20250506_12_18_27_Pro_jpg.rf.08ee6b4a3e4cb8770c38a2800e2be7c9.txt  \n",
            "  inflating: train/labels/WIN_20250506_12_18_28_Pro_jpg.rf.535e78834bd8c051043332be66226bf0.txt  \n",
            "  inflating: train/labels/WIN_20250506_12_18_32_Pro-2-_jpg.rf.27960d414d762d1b203ea927e03d6452.txt  \n",
            "  inflating: train/labels/WIN_20250506_12_18_32_Pro_jpg.rf.0318ebc066264ce36aa25b0a6c7e2188.txt  \n",
            "  inflating: train/labels/WIN_20250506_12_18_37_Pro-2-_jpg.rf.9ab9e266109b4f690dc8d3146bbc4f04.txt  \n",
            "  inflating: train/labels/WIN_20250506_12_18_37_Pro_jpg.rf.5438ec60a77a01d244ab8470ddcc7d7a.txt  \n",
            "  inflating: train/labels/WIN_20250506_12_18_41_Pro_jpg.rf.55dae12fbaadc796bb6b5059001e77f1.txt  \n",
            "  inflating: train/labels/WIN_20250506_12_18_42_Pro-2-_jpg.rf.efdb9b197329ea7b79d1eb91f7de92e5.txt  \n",
            "  inflating: train/labels/WIN_20250506_12_18_42_Pro_jpg.rf.cc67d43f5b6c54c53b212d86a0368fe6.txt  \n",
            "  inflating: train/labels/WIN_20250506_12_18_43_Pro-2-_jpg.rf.f1d0cbbdaea82b7726e680b68c26af07.txt  \n",
            "  inflating: train/labels/WIN_20250506_12_18_43_Pro_jpg.rf.0112b747f6160cab433216737acf99b2.txt  \n",
            "  inflating: train/labels/WIN_20250506_12_18_44_Pro_jpg.rf.18270768046256b4998e9422415a5b47.txt  \n",
            "  inflating: train/labels/WIN_20250506_12_18_47_Pro-2-_jpg.rf.aed03d84cc80b8cb7d582b6ab8ca9c7a.txt  \n",
            "  inflating: train/labels/WIN_20250506_12_18_47_Pro-3-_jpg.rf.011b7f45986bc3f3c3b81b1c94fed4eb.txt  \n",
            "  inflating: train/labels/WIN_20250506_12_18_47_Pro_jpg.rf.3f8f7c1ab98f00bd5e4eeb623de9bd2e.txt  \n",
            "  inflating: train/labels/WIN_20250506_12_18_50_Pro_jpg.rf.7cec67c0fbeb5918c7f577892257d0f4.txt  \n",
            "  inflating: train/labels/WIN_20250506_12_18_54_Pro_jpg.rf.3b36917c951275d0435b117c472fa29b.txt  \n",
            "  inflating: train/labels/WIN_20250506_12_18_56_Pro-2-_jpg.rf.69709b343b2bc60ae3d64910bafd2258.txt  \n",
            "  inflating: train/labels/WIN_20250506_12_18_56_Pro_jpg.rf.21ec699b2c6477b56efd6cf568c7a23c.txt  \n",
            "  inflating: train/labels/WIN_20250506_12_18_57_Pro_jpg.rf.70af5cea145aa8a46d1e590ea1e0dc77.txt  \n",
            "  inflating: train/labels/WIN_20250506_12_18_59_Pro-2-_jpg.rf.1184c345d495ec184034a72681e11539.txt  \n",
            "  inflating: train/labels/WIN_20250506_12_18_59_Pro_jpg.rf.149f3898b657ce5286be65abc8ea3433.txt  \n",
            "  inflating: train/labels/WIN_20250506_12_19_00_Pro-2-_jpg.rf.32ebe8f969c44f91d5de97f8a16a6f6e.txt  \n",
            "  inflating: train/labels/WIN_20250506_12_19_00_Pro_jpg.rf.6a2c1b0931cdd19f1d49aaa3188d788f.txt  \n",
            "  inflating: train/labels/WIN_20250506_12_19_03_Pro_jpg.rf.104544c524d115485430103c6adcccf4.txt  \n",
            "  inflating: train/labels/WIN_20250506_12_19_04_Pro-2-_jpg.rf.b35cb2405d21269b890f7907d37fe88d.txt  \n",
            "  inflating: train/labels/WIN_20250506_12_19_04_Pro-3-_jpg.rf.db03ebffaa73d7646ddf910a29c1dffe.txt  \n",
            "  inflating: train/labels/WIN_20250506_12_19_04_Pro-4-_jpg.rf.23e5c453534090134251d23aaf256f72.txt  \n",
            "  inflating: train/labels/WIN_20250506_12_19_05_Pro_jpg.rf.1529654920e6dbf58651ec6fa0babefa.txt  \n",
            "  inflating: train/labels/WIN_20250506_12_19_08_Pro-2-_jpg.rf.9d62bce9d7ba2cd78cab5fac2ea5b5d8.txt  \n",
            "  inflating: train/labels/WIN_20250506_12_19_08_Pro-3-_jpg.rf.0cbc8b608d9d4aaba0ba676743cb48ef.txt  \n",
            "  inflating: train/labels/WIN_20250506_12_19_08_Pro_jpg.rf.f228611afcc961bd4094359c735a761a.txt  \n",
            "  inflating: train/labels/WIN_20250506_12_19_09_Pro-3-_jpg.rf.0888ec0bc9e0ef9420594fb1e712e7a2.txt  \n",
            "  inflating: train/labels/WIN_20250506_12_19_09_Pro-4-_jpg.rf.2ac83ec8700b9c2102a08cafa7a7e475.txt  \n",
            "  inflating: train/labels/WIN_20250506_12_19_09_Pro_jpg.rf.0f9fca9f5b075beba460ecd5c1331bc0.txt  \n",
            "  inflating: train/labels/WIN_20250506_12_19_10_Pro-2-_jpg.rf.d1c846d867bc5914794037b0a4931354.txt  \n",
            "  inflating: train/labels/WIN_20250506_12_19_10_Pro-3-_jpg.rf.099d06dbb662c2cfd1b9454bbfe01837.txt  \n",
            "  inflating: train/labels/WIN_20250506_12_19_13_Pro-2-_jpg.rf.8d59e8a74a902ffde43edf74a94de359.txt  \n",
            "  inflating: train/labels/WIN_20250506_12_19_13_Pro-3-_jpg.rf.6e2b11a9237074b8abe7adbff242d070.txt  \n",
            "  inflating: train/labels/WIN_20250506_12_19_13_Pro-4-_jpg.rf.64cfd471c75a7e4891163278221c315b.txt  \n",
            "  inflating: train/labels/WIN_20250506_12_19_13_Pro-5-_jpg.rf.1ed40536d580adb4b37b86c079dc6e77.txt  \n",
            "  inflating: train/labels/WIN_20250506_12_19_13_Pro_jpg.rf.64ae537e88f99bcd747a8292667baccd.txt  \n",
            "  inflating: train/labels/WIN_20250506_12_19_14_Pro-2-_jpg.rf.1fcb3d1261ec35fd902fd7ecd4c64c05.txt  \n",
            "  inflating: train/labels/WIN_20250506_12_19_15_Pro-2-_jpg.rf.1407b8cccae767357c0b09878a334751.txt  \n",
            "  inflating: train/labels/WIN_20250506_12_19_15_Pro-3-_jpg.rf.62c4f407ec34cd39f440defe8a049832.txt  \n",
            " extracting: train/labels/WIN_20250506_12_19_15_Pro-4-_jpg.rf.013c61cdb2787f3a3f2f19751b0b1f1b.txt  \n",
            "  inflating: train/labels/WIN_20250506_12_19_15_Pro_jpg.rf.31c074721b4ef80e23e21cf8f7e223ce.txt  \n",
            "  inflating: train/labels/WIN_20250506_12_19_17_Pro-3-_jpg.rf.095d3d51eb1c1bf16d30c64e08fb26bb.txt  \n",
            "  inflating: train/labels/WIN_20250506_12_19_18_Pro-2-_jpg.rf.e6b1fb0e5bed270b17f8b2baed082b83.txt  \n",
            "  inflating: train/labels/WIN_20250506_12_19_18_Pro-3-_jpg.rf.bc74ee6d5f84b0fc7986f26e24b6ba99.txt  \n",
            "  inflating: train/labels/WIN_20250506_12_19_18_Pro_jpg.rf.d216456eec88d252ca5973191a15e02e.txt  \n",
            "  inflating: train/labels/WIN_20250506_12_19_19_Pro-4-_jpg.rf.4b2717d5b1a62733bab9921d308119fe.txt  \n",
            "  inflating: train/labels/WIN_20250506_12_19_20_Pro-2-_jpg.rf.16e8e24373c03383c60b9680c689b5e2.txt  \n",
            "  inflating: train/labels/WIN_20250506_12_19_20_Pro-3-_jpg.rf.b09061536f1bb99f785223f6a4c82deb.txt  \n",
            "  inflating: train/labels/WIN_20250506_12_19_24_Pro-2-_jpg.rf.983f301ebe3ad0826d5cbc85b18554cc.txt  \n",
            "  inflating: train/labels/WIN_20250506_12_19_24_Pro-3-_jpg.rf.3a121af4b1bfd1b8a6a0075c563d0776.txt  \n",
            "  inflating: train/labels/WIN_20250506_12_19_24_Pro-4-_jpg.rf.926f602b2da0432e5b51149298371101.txt  \n",
            "  inflating: train/labels/WIN_20250506_12_19_25_Pro-2-_jpg.rf.1ce140f33dc35875e430b387443c5e2f.txt  \n",
            "  inflating: train/labels/WIN_20250506_12_19_25_Pro_jpg.rf.e2cd006d6d0ffad21e0848ae0eaa2d03.txt  \n",
            "  inflating: train/labels/WIN_20250506_12_19_26_Pro-2-_jpg.rf.a4bf44fb7d0546dab685f82b696edc3e.txt  \n",
            "  inflating: train/labels/WIN_20250506_12_19_26_Pro_jpg.rf.5bf830dfcba593edd0c671127c604647.txt  \n",
            "  inflating: train/labels/WIN_20250506_12_19_27_Pro-2-_jpg.rf.bad1519e13a723b98a48df7bfab847ca.txt  \n",
            "  inflating: train/labels/WIN_20250506_12_19_27_Pro-3-_jpg.rf.ec328eb86580ef28110e51949b4b3b27.txt  \n",
            "  inflating: train/labels/WIN_20250506_12_19_27_Pro_jpg.rf.d3fb92ad6644a951d39206649b40082a.txt  \n",
            "  inflating: train/labels/WIN_20250506_12_19_28_Pro-2-_jpg.rf.609f9b88c46385721f8abd6b7933ff02.txt  \n",
            "  inflating: train/labels/WIN_20250506_12_19_28_Pro_jpg.rf.6e28b5fa4c5d278b6b3b171d4fdf1691.txt  \n",
            "  inflating: train/labels/WIN_20250506_12_19_29_Pro-3-_jpg.rf.8a5908c6b03c7e22f28cee75720b0956.txt  \n",
            "  inflating: train/labels/WIN_20250506_12_19_29_Pro_jpg.rf.548cd6ea67acf5b4c8be9eb2ec572399.txt  \n",
            "  inflating: train/labels/WIN_20250506_12_19_31_Pro_jpg.rf.c3d68c992dee16ffa804d14788594ff8.txt  \n",
            "  inflating: train/labels/WIN_20250506_12_19_32_Pro-2-_jpg.rf.e835a823b57f3c55dcb1a0ddaf976ae1.txt  \n",
            "  inflating: train/labels/WIN_20250506_12_19_32_Pro-3-_jpg.rf.3bb1ac3d0f1a6fb35847f4cb357d7214.txt  \n",
            "  inflating: train/labels/WIN_20250506_12_19_32_Pro-4-_jpg.rf.361f213964d60c52441a0a5f88ec4910.txt  \n",
            "  inflating: train/labels/WIN_20250506_12_19_33_Pro-2-_jpg.rf.6c0d143c3fd97041a778a5377e7d7b6f.txt  \n",
            "  inflating: train/labels/WIN_20250506_12_19_33_Pro-3-_jpg.rf.d8b6b4271491e3646ae5a470d674e778.txt  \n",
            "  inflating: train/labels/WIN_20250506_12_19_33_Pro-4-_jpg.rf.392c88b101e1b48b01a069ffbd006df5.txt  \n",
            "  inflating: train/labels/WIN_20250506_12_19_33_Pro_jpg.rf.64a0776c0d4193f760199f2dc05c445a.txt  \n",
            "  inflating: train/labels/WIN_20250506_12_19_36_Pro_jpg.rf.afe88ac4ea76248a33fe8e393f7422ce.txt  \n",
            "  inflating: train/labels/WIN_20250506_12_19_37_Pro-2-_jpg.rf.1b482870d70eda1328029db2b2d437ae.txt  \n",
            "  inflating: train/labels/WIN_20250506_12_19_37_Pro-3-_jpg.rf.312a997c109913a2525f6a1e46ea6f37.txt  \n",
            "  inflating: train/labels/WIN_20250506_12_19_40_Pro-2-_jpg.rf.6168e9ce2ec5045e30ef3f716d18abf9.txt  \n",
            "  inflating: train/labels/WIN_20250506_12_19_40_Pro_jpg.rf.65892cb2aff936dd03a4abf11587b2fd.txt  \n",
            "  inflating: train/labels/WIN_20250506_12_19_41_Pro-2-_jpg.rf.a702c424d51ee1ddacf6ddf0aee04271.txt  \n",
            "  inflating: train/labels/WIN_20250506_12_19_46_Pro-2-_jpg.rf.5f5b7f63faaed3b51c4ecba40d6e20c9.txt  \n",
            "  inflating: train/labels/WIN_20250506_12_19_46_Pro_jpg.rf.e5718cdb16a6e26aef7a1b9bdbd31296.txt  \n",
            "  inflating: train/labels/WIN_20250506_12_19_47_Pro-3-_jpg.rf.67dee6b16461f1822cc38a843434c156.txt  \n",
            "  inflating: train/labels/WIN_20250506_12_19_47_Pro_jpg.rf.b6cfadd2b226e105db9e6507010347aa.txt  \n",
            "  inflating: train/labels/WIN_20250506_12_19_49_Pro-2-_jpg.rf.2628d5036b2d1221c62cdd000e64d18e.txt  \n",
            "  inflating: train/labels/WIN_20250506_12_19_49_Pro-3-_jpg.rf.906fdd457670fbdcf9c6541ba62cb804.txt  \n",
            "  inflating: train/labels/WIN_20250506_12_19_49_Pro-5-_jpg.rf.2f2b48ed625a3062c2bfe81a933c61ce.txt  \n",
            "  inflating: train/labels/WIN_20250506_12_19_49_Pro_jpg.rf.653d4d70e4eff7623af2832f621fe826.txt  \n",
            "  inflating: train/labels/WIN_20250506_12_19_55_Pro-3-_jpg.rf.ae3d240c57257cb9e0376906fe8b2a85.txt  \n",
            "  inflating: train/labels/WIN_20250506_12_19_55_Pro_jpg.rf.116402e16c30d3e4795949dd8e6342c6.txt  \n",
            "  inflating: train/labels/WIN_20250506_12_19_56_Pro_jpg.rf.cc8574b3edfdc88d23ea707ab56ffa97.txt  \n",
            "  inflating: train/labels/WIN_20250506_12_19_57_Pro-2-_jpg.rf.7c30f852bd79b512d2a088c91e046149.txt  \n",
            "  inflating: train/labels/WIN_20250506_12_19_57_Pro-3-_jpg.rf.e3c0d773cd96bce04a62ec1e16abeea2.txt  \n",
            "  inflating: train/labels/WIN_20250506_12_19_57_Pro_jpg.rf.d40612b2b8ac1b7d7ea0f418ce2354dd.txt  \n",
            "  inflating: train/labels/WIN_20250506_12_19_58_Pro-2-_jpg.rf.8f7c8d8af9e9c46b1351c94162fb262c.txt  \n",
            "  inflating: train/labels/WIN_20250506_12_19_58_Pro-3-_jpg.rf.6e8740c6070cb8f3906d6aae0b505599.txt  \n",
            "  inflating: train/labels/WIN_20250506_12_19_58_Pro-4-_jpg.rf.5b1295f0d7b8db0020e4c80ed5b37b44.txt  \n",
            "  inflating: train/labels/WIN_20250506_12_19_59_Pro-2-_jpg.rf.d7c90fd4e215002b7ae8a23c57d7fe3b.txt  \n",
            "  inflating: train/labels/WIN_20250506_12_19_59_Pro_jpg.rf.80da68a950d0b0daa5df1846179dd812.txt  \n",
            "  inflating: train/labels/WIN_20250506_12_20_00_Pro-2-_jpg.rf.c8b0ca2a3fb4cebd2e22c60fb112315a.txt  \n",
            "  inflating: train/labels/WIN_20250506_12_20_00_Pro_jpg.rf.a497546a89793524d42e9bbff0fd54a6.txt  \n",
            "  inflating: train/labels/WIN_20250506_12_20_04_Pro-2-_jpg.rf.c28ff3bb8faa55e395d4be5cb07b6fd6.txt  \n",
            "  inflating: train/labels/WIN_20250506_12_20_04_Pro_jpg.rf.6751c427047185953a721b2c0248c4e7.txt  \n",
            "  inflating: train/labels/WIN_20250506_12_20_05_Pro-3-_jpg.rf.bf8e9f6cef7857f8b7ab310cfd825ee5.txt  \n",
            "  inflating: train/labels/WIN_20250506_12_20_06_Pro-2-_jpg.rf.d55185ddb6fe709cf1afd6affaa77f10.txt  \n",
            "  inflating: train/labels/WIN_20250506_12_20_06_Pro-3-_jpg.rf.ccc36eeca42cfff52ee0094675a600b0.txt  \n",
            "  inflating: train/labels/WIN_20250506_12_20_07_Pro-2-_jpg.rf.6c72a3b9b654240ed7739594f89a9c65.txt  \n",
            "  inflating: train/labels/WIN_20250506_12_20_07_Pro_jpg.rf.3d557c8a591d9e6c1e3950bd21d73c91.txt  \n",
            "  inflating: train/labels/WIN_20250506_12_20_08_Pro-2-_jpg.rf.926487b54efc083ac44b6796ecb7559b.txt  \n",
            "  inflating: train/labels/WIN_20250506_12_20_13_Pro-2-_jpg.rf.3d37386fbf47bfc53eddbec847dc5627.txt  \n",
            "  inflating: train/labels/WIN_20250506_12_20_14_Pro-2-_jpg.rf.7dc9b88ad8b6ed4bddf65eb0adba4296.txt  \n",
            "  inflating: train/labels/WIN_20250506_12_20_15_Pro-2-_jpg.rf.bfc3c874be85cf76e4a2285c5ef9d44f.txt  \n",
            "  inflating: train/labels/WIN_20250506_12_20_15_Pro-3-_jpg.rf.41ef7a984d7f518213c99d930da59558.txt  \n",
            "  inflating: train/labels/WIN_20250506_12_20_15_Pro_jpg.rf.ef22bd519c49aa954d8ed214de578795.txt  \n",
            "  inflating: train/labels/WIN_20250506_12_20_16_Pro-3-_jpg.rf.9f8769e3b0c5d4a96d6e66d7a0a6ad9f.txt  \n",
            "  inflating: train/labels/WIN_20250506_12_20_16_Pro-4-_jpg.rf.8154176d385bf42f023036f6f3b07842.txt  \n",
            "  inflating: train/labels/WIN_20250506_12_20_16_Pro-5-_jpg.rf.a134115b76d1b4e3cb08a95c74fa9d6a.txt  \n",
            "  inflating: train/labels/WIN_20250506_12_20_16_Pro_jpg.rf.39ffb9358c14538c015db12b796e2223.txt  \n",
            "  inflating: train/labels/WIN_20250506_12_20_17_Pro-3-_jpg.rf.88156ce7e9b018cfd0904f21692c0265.txt  \n",
            "  inflating: train/labels/WIN_20250506_12_20_17_Pro_jpg.rf.5137c8c4f9fc1359a8e59e03e2cf7105.txt  \n",
            "  inflating: train/labels/WIN_20250506_12_20_19_Pro-3-_jpg.rf.ba88fe98f3bbf6fafb4cb7ee65423207.txt  \n",
            "  inflating: train/labels/WIN_20250506_12_20_20_Pro-2-_jpg.rf.ed36659f85caaf07eac30ef7c451572b.txt  \n",
            "  inflating: train/labels/WIN_20250506_12_20_20_Pro-3-_jpg.rf.fd54b384dba626168c44b4eb7f777736.txt  \n",
            "  inflating: train/labels/WIN_20250506_12_20_28_Pro_jpg.rf.52591f2fde03175bca7e558eefe8413c.txt  \n",
            "  inflating: train/labels/WIN_20250506_12_20_29_Pro-2-_jpg.rf.6434368c7fb4defaa19d8ca6525c45d1.txt  \n",
            "  inflating: train/labels/WIN_20250506_12_20_29_Pro-3-_jpg.rf.ed3e985e4a2365bb5d497a99d1fde878.txt  \n",
            "  inflating: train/labels/WIN_20250506_12_20_30_Pro-2-_jpg.rf.118aa29df67e268ff7cfd3dac5ed9ba8.txt  \n",
            "  inflating: train/labels/WIN_20250506_12_20_30_Pro-3-_jpg.rf.d2c45336a2a55cd8e0f30a9038079902.txt  \n",
            "  inflating: train/labels/WIN_20250506_12_20_30_Pro_jpg.rf.2b62aadec36017c030a520ecf65c951f.txt  \n",
            "  inflating: train/labels/WIN_20250506_12_20_31_Pro-2-_jpg.rf.839f4cc1554bb2d35538134acdddf85e.txt  \n",
            "  inflating: train/labels/WIN_20250506_12_20_31_Pro-3-_jpg.rf.3598b0c5f01469ab362235c3789ec9f7.txt  \n",
            "  inflating: train/labels/WIN_20250506_12_20_31_Pro_jpg.rf.80af964cd46084329c3fbf8754ca2317.txt  \n",
            "  inflating: train/labels/WIN_20250506_12_20_32_Pro-3-_jpg.rf.b0d32b2dd6042a6d93d31ed69ead7c4c.txt  \n",
            "  inflating: train/labels/WIN_20250506_12_20_32_Pro-4-_jpg.rf.4d526fa2d37ee083c12167f3ece00730.txt  \n",
            "  inflating: train/labels/WIN_20250506_12_20_32_Pro_jpg.rf.8cc7adf96d5244960d5e6181476eb920.txt  \n",
            "  inflating: train/labels/WIN_20250506_12_20_33_Pro-2-_jpg.rf.d4a0bf176d33bc0f59c0eee4eb8983a1.txt  \n",
            "  inflating: train/labels/WIN_20250506_12_20_33_Pro-3-_jpg.rf.3f032e8728c2f3caa47d374d27e9c1b0.txt  \n",
            "  inflating: train/labels/WIN_20250506_12_20_33_Pro-4-_jpg.rf.071b805b508a8fc0e0e5170eba7325eb.txt  \n",
            "  inflating: train/labels/WIN_20250506_12_20_33_Pro_jpg.rf.39c3860f305b78e1fc30f555ee542baf.txt  \n",
            "  inflating: train/labels/WIN_20250506_12_20_34_Pro-2-_jpg.rf.3fde6f15b27e389e1f12d818c1607fac.txt  \n",
            "  inflating: train/labels/WIN_20250506_12_20_34_Pro-3-_jpg.rf.25502413c00dade5f8d64d9ef7fe5c89.txt  \n",
            "  inflating: train/labels/WIN_20250506_12_20_35_Pro-2-_jpg.rf.ff0c3c1d841d10a1b038cd6d644b5372.txt  \n",
            "  inflating: train/labels/WIN_20250506_12_20_35_Pro-3-_jpg.rf.b17beba948fb2ee79e750397f03fbd29.txt  \n",
            "  inflating: train/labels/WIN_20250506_12_20_35_Pro-4-_jpg.rf.a860e3a3f059928fe1de5667ed4417a4.txt  \n",
            "  inflating: train/labels/WIN_20250506_12_20_35_Pro_jpg.rf.a034933599b3c982ef6e6fc00fd9187b.txt  \n",
            "  inflating: train/labels/WIN_20250506_12_20_36_Pro-2-_jpg.rf.9b129a7a40af10f7a2eaf467bfc04f4a.txt  \n",
            "  inflating: train/labels/WIN_20250506_12_20_36_Pro_jpg.rf.fa755c58b8cacd401db714f8638b9888.txt  \n",
            "  inflating: train/labels/WIN_20250506_12_20_47_Pro_jpg.rf.b08b6fb0354cda40a61623c1f22dd071.txt  \n",
            "  inflating: train/labels/WIN_20250506_12_20_48_Pro-2-_jpg.rf.212de3c53f5b55fb7f860313a41348a6.txt  \n",
            "  inflating: train/labels/WIN_20250506_12_20_48_Pro-3-_jpg.rf.14abb49ab3a4435967cbd7f2a404ed2a.txt  \n",
            "  inflating: train/labels/WIN_20250506_12_20_48_Pro-4-_jpg.rf.288af203bb9f08201627ae2e68ac2f4d.txt  \n",
            "  inflating: train/labels/WIN_20250506_12_20_49_Pro-2-_jpg.rf.3b29fd0e4812f91787408232a8e66e79.txt  \n",
            "  inflating: train/labels/WIN_20250506_12_20_49_Pro-3-_jpg.rf.9af04e57883d875bd97185fc53717751.txt  \n",
            "  inflating: train/labels/WIN_20250506_12_20_49_Pro_jpg.rf.bdff1611468bf2b7ffec2fdf11c4d850.txt  \n",
            "  inflating: train/labels/WIN_20250506_12_20_50_Pro-2-_jpg.rf.9a27eb68859e06461cbfbcca59b990a1.txt  \n",
            "  inflating: train/labels/WIN_20250506_12_20_50_Pro-3-_jpg.rf.6f86cac94b278e1dafe9822c7804f6f6.txt  \n",
            "  inflating: train/labels/WIN_20250506_12_20_50_Pro_jpg.rf.131037b28c0a3b5e3ab05c9a2edcd01a.txt  \n",
            "  inflating: train/labels/WIN_20250506_12_20_51_Pro-2-_jpg.rf.e448faec5536cce101a2a89501b08273.txt  \n",
            "  inflating: train/labels/WIN_20250506_12_20_51_Pro-3-_jpg.rf.b91c661cb6405a94424b48e0102c16dd.txt  \n",
            "  inflating: train/labels/WIN_20250506_12_20_52_Pro-3-_jpg.rf.21a606443833e8cb224fa247e2348cfd.txt  \n",
            "  inflating: train/labels/WIN_20250506_12_20_52_Pro_jpg.rf.f3bcc19308db4b6dcc1bb26a0df6562a.txt  \n",
            " extracting: train/labels/WIN_20250506_12_20_53_Pro-2-_jpg.rf.3679eb12459c0d95cd8fcaeacdec3dc8.txt  \n",
            "  inflating: train/labels/WIN_20250506_12_20_54_Pro-3-_jpg.rf.e3f8929fd17c137a58b6187c926c1dc1.txt  \n",
            " extracting: train/labels/WIN_20250506_12_20_54_Pro_jpg.rf.3ce074587dd0995cf7e4a5d390872369.txt  \n",
            "  inflating: train/labels/WIN_20250506_12_20_55_Pro-2-_jpg.rf.6c9bc9ee608519a0a1647107aae94a91.txt  \n",
            "  inflating: train/labels/WIN_20250506_12_20_55_Pro-3-_jpg.rf.2727a3a4539777a1b0bc84b42f132b7f.txt  \n",
            "  inflating: train/labels/WIN_20250506_12_20_55_Pro_jpg.rf.773f5936d21932e99abcdfd3e641065a.txt  \n",
            "  inflating: train/labels/WIN_20250506_12_21_03_Pro_jpg.rf.151b3003b5319c74da403beb88b77d57.txt  \n",
            "  inflating: train/labels/WIN_20250506_12_21_04_Pro_jpg.rf.d9548a01adf25484cafc47e7ff034241.txt  \n",
            "  inflating: train/labels/WIN_20250506_12_21_05_Pro-2-_jpg.rf.c76eb41c086843a1d15427a32e490e2a.txt  \n",
            "  inflating: train/labels/WIN_20250506_12_21_07_Pro-3-_jpg.rf.18264859efd6a1a00285349f89418c3e.txt  \n",
            "  inflating: train/labels/WIN_20250506_12_21_07_Pro-4-_jpg.rf.624705f9469641af4bc8d93cf1e74585.txt  \n",
            "  inflating: train/labels/WIN_20250506_12_21_07_Pro_jpg.rf.865736987b0db4bb21dad532d280a609.txt  \n",
            "  inflating: train/labels/WIN_20250506_12_21_08_Pro-2-_jpg.rf.5d0bde67a2639c2e1b6fe996b21dc162.txt  \n",
            "  inflating: train/labels/WIN_20250506_12_21_08_Pro_jpg.rf.b6a5eac2f844b99ad87f2b79583dae45.txt  \n",
            "  inflating: train/labels/WIN_20250506_12_21_09_Pro-2-_jpg.rf.d97b1d925a2ae46c720b8d0fd376c7a2.txt  \n",
            "  inflating: train/labels/WIN_20250506_12_21_09_Pro-4-_jpg.rf.1c490c3708b2809049a3512ce4af2613.txt  \n",
            "  inflating: train/labels/WIN_20250506_12_21_09_Pro_jpg.rf.53964c0cbe3252f7f07bfd08b792a11a.txt  \n",
            "  inflating: train/labels/WIN_20250506_12_21_10_Pro-2-_jpg.rf.cd414b6deb06ecca064823cce907b0f3.txt  \n",
            "  inflating: train/labels/WIN_20250506_12_21_10_Pro_jpg.rf.aaac9cc30ef5067792700333c9cf1e15.txt  \n",
            " extracting: train/labels/WIN_20250506_12_21_11_Pro-2-_jpg.rf.9c4f869476649b6174987a1ff0b0e403.txt  \n",
            " extracting: train/labels/WIN_20250506_12_21_11_Pro-3-_jpg.rf.c7c842a869c2b42fb5d11d97ca8d5ef2.txt  \n",
            " extracting: train/labels/WIN_20250506_12_21_11_Pro-4-_jpg.rf.85e225854aa72b19f9d7adab252556a8.txt  \n",
            " extracting: train/labels/WIN_20250506_12_21_11_Pro_jpg.rf.d4280d1106aec1f93a92976b37105c5a.txt  \n",
            "  inflating: train/labels/WIN_20250506_12_21_14_Pro-2-_jpg.rf.fd917a73761e6fc903601fae092c21d3.txt  \n",
            "  inflating: train/labels/WIN_20250506_12_21_15_Pro-2-_jpg.rf.bd3ca24ea443a13fe626f2163898f8f5.txt  \n",
            "  inflating: train/labels/WIN_20250506_12_21_15_Pro-3-_jpg.rf.e4cfa12d9d52e6e743e55121305c819d.txt  \n",
            "  inflating: train/labels/WIN_20250506_12_21_15_Pro_jpg.rf.706067430bde1ff1b9e7fe1f90a45d1e.txt  \n",
            " extracting: train/labels/WIN_20250506_12_21_16_Pro-2-_jpg.rf.633d0b9dec8e1eb5bdeabfad88814293.txt  \n",
            "  inflating: train/labels/WIN_20250506_12_21_16_Pro-3-_jpg.rf.2cf7632ff9297e28200995c6ec1884ae.txt  \n",
            "  inflating: train/labels/WIN_20250506_12_21_16_Pro-4-_jpg.rf.9476d8c7e1329df87f60a3cad304be0d.txt  \n",
            "  inflating: train/labels/WIN_20250506_12_21_16_Pro_jpg.rf.3397f035a35cfcd30686e2a1dc20b631.txt  \n",
            "  inflating: train/labels/WIN_20250506_12_21_17_Pro-2-_jpg.rf.0f1b1e2c3d4cb7f9147c6a04d2a94f11.txt  \n",
            "  inflating: train/labels/WIN_20250506_12_21_17_Pro-3-_jpg.rf.fc4f92237fbdc5b682c8eb012da71c9d.txt  \n",
            "  inflating: train/labels/WIN_20250506_12_21_17_Pro-4-_jpg.rf.f7df0b7bb4e79c25fe38ccb944a1131c.txt  \n",
            "  inflating: train/labels/WIN_20250506_12_21_18_Pro-2-_jpg.rf.6a0a95f72a15a6fcfe2b34441548454b.txt  \n",
            "  inflating: train/labels/WIN_20250506_12_21_18_Pro_jpg.rf.503daedba043ad4dd77e3fd928e78850.txt  \n",
            "  inflating: train/labels/WIN_20250506_12_21_19_Pro-2-_jpg.rf.831286b5ffa83555f26c84df0da4c85e.txt  \n",
            "  inflating: train/labels/WIN_20250506_12_21_19_Pro-3-_jpg.rf.468705d8ebcd8bbd89d15648899ec54f.txt  \n",
            " extracting: train/labels/WIN_20250506_12_21_19_Pro-4-_jpg.rf.2059ccb74311b103d1406ecb81c72f8b.txt  \n",
            "  inflating: train/labels/WIN_20250506_12_21_19_Pro_jpg.rf.91f8c4ca96f39123265645ece502ec95.txt  \n",
            " extracting: train/labels/WIN_20250506_12_21_20_Pro-2-_jpg.rf.6a8eee9714438602d5e70004eedc9ebf.txt  \n",
            "  inflating: train/labels/WIN_20250506_12_21_20_Pro-3-_jpg.rf.6c8b3620801a5787028444fae97fa544.txt  \n",
            "  inflating: train/labels/WIN_20250506_12_21_20_Pro_jpg.rf.9b33a176fc380baf0192927565b8a613.txt  \n",
            "  inflating: train/labels/WIN_20250506_12_21_21_Pro-4-_jpg.rf.3f64f238d497032f8d427abe11074f01.txt  \n",
            "  inflating: train/labels/WIN_20250506_12_21_21_Pro_jpg.rf.da4b70901907ec49f0e506a2bbbd85ec.txt  \n",
            " extracting: train/labels/WIN_20250506_12_21_22_Pro-2-_jpg.rf.ed47417102507b65ca227b259a7854d5.txt  \n",
            " extracting: train/labels/WIN_20250506_12_21_22_Pro-3-_jpg.rf.e88e221d61f004d7cae8edcc444d5356.txt  \n",
            " extracting: train/labels/WIN_20250506_12_21_22_Pro_jpg.rf.de8470fb9079cb64bbdacc9f86c058b4.txt  \n",
            "  inflating: train/labels/WIN_20250506_12_21_24_Pro-2-_jpg.rf.cdb2104b8bca5fff1334ee697c4e1788.txt  \n",
            "  inflating: train/labels/WIN_20250506_12_21_24_Pro-3-_jpg.rf.4e5ec954a4f9ff56e172396f36f7b047.txt  \n",
            "  inflating: train/labels/WIN_20250506_12_21_24_Pro_jpg.rf.12bafbdf2c87b65c44493910d0e81bcc.txt  \n",
            "  inflating: train/labels/WIN_20250506_12_21_25_Pro-3-_jpg.rf.b1adbd62cccb189caf3c99cee171a65e.txt  \n",
            "  inflating: train/labels/WIN_20250506_12_21_25_Pro_jpg.rf.2243b8120b38bbd7e015dcdd9ac0167e.txt  \n",
            "  inflating: train/labels/WIN_20250506_12_21_26_Pro-2-_jpg.rf.5b1fc9daf2041cbdd8f7dfa3d3b41d38.txt  \n",
            "  inflating: train/labels/WIN_20250506_12_21_26_Pro-4-_jpg.rf.f0d064d3a825905d922c7cf5a53478fb.txt  \n",
            "  inflating: train/labels/WIN_20250506_12_21_26_Pro_jpg.rf.31e90296cd3a72ff5d1f7b06d9c4b4e5.txt  \n",
            "  inflating: train/labels/WIN_20250506_12_21_27_Pro-2-_jpg.rf.1da8d6adaf919ffcd896a92cdf4f7498.txt  \n",
            "  inflating: train/labels/WIN_20250506_12_21_27_Pro-3-_jpg.rf.d77feac93219da58d287b4a6c61cc2e2.txt  \n",
            "  inflating: train/labels/WIN_20250506_12_21_27_Pro_jpg.rf.053d88d4ada5247855235d4e00abcda1.txt  \n",
            "  inflating: train/labels/WIN_20250506_12_21_28_Pro-4-_jpg.rf.f8d33bc2d5fa1ec3981022cd401e8b3c.txt  \n",
            "  inflating: train/labels/WIN_20250506_12_21_28_Pro_jpg.rf.bd4f58371eaf33acecf48165ef5e5ee9.txt  \n",
            "  inflating: train/labels/WIN_20250506_12_21_29_Pro-2-_jpg.rf.bbed03f136e6b72ebf917378ab00e755.txt  \n",
            "  inflating: train/labels/WIN_20250506_12_21_29_Pro_jpg.rf.2ab1770d0bfab0786d9cb32052c4f6eb.txt  \n",
            "  inflating: train/labels/WIN_20250506_12_21_30_Pro-2-_jpg.rf.d2d4a7b1264b1d1ab3cde16e85c2dc70.txt  \n",
            "  inflating: train/labels/WIN_20250506_12_21_35_Pro_jpg.rf.082c432cfa901249132bd0373d76c15e.txt  \n",
            "  inflating: train/labels/WIN_20250506_12_21_36_Pro-3-_jpg.rf.c0ece60a5caea29d313464621f941d4a.txt  \n",
            "  inflating: train/labels/WIN_20250506_12_21_36_Pro_jpg.rf.8dcc53d8f80ee537db817351fbc0400e.txt  \n",
            "  inflating: train/labels/WIN_20250506_12_21_37_Pro-3-_jpg.rf.ff7ea37993e0ce394f24009cc732ac99.txt  \n",
            "  inflating: train/labels/WIN_20250506_12_21_37_Pro_jpg.rf.10300878e886da49d8d581c943a01621.txt  \n",
            "  inflating: train/labels/WIN_20250506_12_21_38_Pro-2-_jpg.rf.5192901f74b80524964da79f28441def.txt  \n",
            "  inflating: train/labels/WIN_20250506_12_21_38_Pro-3-_jpg.rf.f4d5459727c2bec0acaf5ba71277fa69.txt  \n",
            "  inflating: train/labels/WIN_20250506_12_21_39_Pro-2-_jpg.rf.9eaab6318c4276b188a4719ddc2c2baa.txt  \n",
            "  inflating: train/labels/WIN_20250506_12_21_40_Pro-2-_jpg.rf.0d1114ed9af73c743d650b92254ee1c1.txt  \n",
            "  inflating: train/labels/WIN_20250506_12_21_40_Pro-3-_jpg.rf.9ba2c2b63cfdd0837d6e904de3afbe6b.txt  \n",
            "  inflating: train/labels/WIN_20250506_12_21_40_Pro_jpg.rf.3ba55af1e03511342b412912a17166d5.txt  \n",
            "  inflating: train/labels/WIN_20250506_12_21_41_Pro-2-_jpg.rf.43d90f6cdbe8d3540106cfced993d9d9.txt  \n",
            "  inflating: train/labels/WIN_20250506_12_21_41_Pro-3-_jpg.rf.c410eb0187e807d37d19333067634259.txt  \n",
            "  inflating: train/labels/WIN_20250506_12_21_41_Pro_jpg.rf.ec67d5a29e1f1834ef4dbcfcd00e94c6.txt  \n",
            "  inflating: train/labels/WIN_20250506_12_21_42_Pro-2-_jpg.rf.ace0ac4e3cb531366d005fe932ce7232.txt  \n",
            "  inflating: train/labels/WIN_20250506_12_21_42_Pro-3-_jpg.rf.1d8a6c6be75e5b816042165cea7a6bf0.txt  \n",
            "  inflating: train/labels/WIN_20250506_12_21_42_Pro_jpg.rf.68e6b259074d135009990ba27f5fc559.txt  \n",
            "  inflating: train/labels/WIN_20250506_12_21_43_Pro-2-_jpg.rf.5f56a3582579e61e63cd1033d432181c.txt  \n",
            "  inflating: train/labels/WIN_20250506_12_21_47_Pro-2-_jpg.rf.7609ef59c0932c978d636951f6a32c09.txt  \n",
            "  inflating: train/labels/WIN_20250506_12_21_47_Pro_jpg.rf.a834afdfcc6b06541f66d0ee708b5a7e.txt  \n",
            "  inflating: train/labels/WIN_20250506_12_21_48_Pro-4-_jpg.rf.5c1658a6e662ebdeba1181c5ec0a91e6.txt  \n",
            "  inflating: train/labels/WIN_20250506_12_21_48_Pro_jpg.rf.4370951d6dfeca94d1ab36ff55943ce6.txt  \n",
            "  inflating: train/labels/WIN_20250506_12_21_49_Pro-2-_jpg.rf.a22a14cd56d822cf4e2d96cf80698fd8.txt  \n",
            "  inflating: train/labels/WIN_20250506_12_21_49_Pro-3-_jpg.rf.cc43f567507f17c43bc4b0755a265d75.txt  \n",
            "  inflating: train/labels/WIN_20250506_12_21_49_Pro-4-_jpg.rf.ce5d9288cac0db0206a6ae1cd6943c28.txt  \n",
            "  inflating: train/labels/WIN_20250506_12_21_49_Pro_jpg.rf.da50ce9024b9e164f69df1c7757f3c7b.txt  \n",
            "  inflating: train/labels/WIN_20250506_12_21_50_Pro-2-_jpg.rf.ffc95e20c81552dfd81f00957f7a6e77.txt  \n",
            "  inflating: train/labels/WIN_20250506_12_21_50_Pro-3-_jpg.rf.9d33242979453f4f9539041f1370e962.txt  \n",
            "  inflating: train/labels/WIN_20250506_12_21_50_Pro_jpg.rf.bf6ba7c15f66f9b7c0dfa9385be9a353.txt  \n",
            "  inflating: train/labels/WIN_20250506_12_21_51_Pro-2-_jpg.rf.31ced089d6f5ef5a5bcaa0e3e65db723.txt  \n",
            "  inflating: train/labels/WIN_20250506_12_21_51_Pro-3-_jpg.rf.70c8ad7f866306ede91c5ec1ac06ed29.txt  \n",
            "  inflating: train/labels/WIN_20250506_12_21_52_Pro-4-_jpg.rf.d90ab9be3f2a98a1dc5dd595a856aaca.txt  \n",
            "  inflating: train/labels/WIN_20250506_12_21_52_Pro_jpg.rf.a84e20d9178b5d721ec1cb57fa9b0894.txt  \n",
            "  inflating: train/labels/WIN_20250506_12_21_53_Pro-2-_jpg.rf.2a35a60e057553f0a602df88c5e97bf8.txt  \n",
            "  inflating: train/labels/WIN_20250506_12_21_53_Pro-3-_jpg.rf.919d8ad34198ef97bf43fafcd8da20e3.txt  \n",
            "  inflating: train/labels/WIN_20250506_12_21_53_Pro-4-_jpg.rf.7d7cb6f36197ae8a4677200cfc2fff6a.txt  \n",
            "  inflating: train/labels/WIN_20250506_12_21_53_Pro_jpg.rf.ba2eeb59d9e45874c5157bec64d7e436.txt  \n",
            "  inflating: train/labels/WIN_20250506_12_21_54_Pro-2-_jpg.rf.d99189c14144d2d08c388fe30dbd9d17.txt  \n",
            " extracting: train/labels/WIN_20250506_12_21_54_Pro-3-_jpg.rf.b0066cc4012eecfae4b3cc6446e8d8f4.txt  \n",
            "  inflating: train/labels/WIN_20250506_12_21_54_Pro-4-_jpg.rf.655bdc2ca339a5829bf4d6ca29d0a58d.txt  \n",
            "  inflating: train/labels/WIN_20250506_12_21_54_Pro_jpg.rf.2ba27e5dc6ef19fa21a66518d7151779.txt  \n",
            " extracting: train/labels/WIN_20250506_12_21_55_Pro-2-_jpg.rf.32903d61da28c1f7f81bbb764836772a.txt  \n",
            " extracting: train/labels/WIN_20250506_12_21_55_Pro_jpg.rf.7b20a2e0fd869958347ccc3461c8aa69.txt  \n",
            "  inflating: train/labels/WIN_20250506_12_21_57_Pro_jpg.rf.22a7a237d2ca571af143d312a88ef3f2.txt  \n",
            "  inflating: train/labels/WIN_20250506_12_21_58_Pro-3-_jpg.rf.969538c2fb833725866161e263910360.txt  \n",
            "  inflating: train/labels/WIN_20250506_12_21_59_Pro-2-_jpg.rf.af5fd6344d2565838adbc104e8c7d4f3.txt  \n",
            "  inflating: train/labels/WIN_20250506_12_21_59_Pro-3-_jpg.rf.45fe06ec118c806d92a0f2234459daf4.txt  \n",
            "  inflating: train/labels/WIN_20250506_12_22_00_Pro-2-_jpg.rf.df4eb63ac111d194cff6455de7f5719c.txt  \n",
            "  inflating: train/labels/WIN_20250506_12_22_00_Pro-3-_jpg.rf.5010588ebc17eafddf7a43909b341823.txt  \n",
            "  inflating: train/labels/WIN_20250506_12_22_00_Pro_jpg.rf.9df046a488798b45abd102f9ee3544e1.txt  \n",
            "  inflating: train/labels/WIN_20250506_12_22_01_Pro-2-_jpg.rf.16ab42361bff670081ae3c2a42199c27.txt  \n",
            "  inflating: train/labels/WIN_20250506_12_22_01_Pro-4-_jpg.rf.bef87411a09c7402e3426fa49c76fb42.txt  \n",
            "  inflating: train/labels/WIN_20250506_12_22_01_Pro_jpg.rf.9849f162594760103828b4f5d7be93ff.txt  \n",
            "  inflating: train/labels/WIN_20250506_12_22_02_Pro-2-_jpg.rf.1eb3d01057805ca692ae8174735c1751.txt  \n",
            "  inflating: train/labels/WIN_20250506_12_22_02_Pro-3-_jpg.rf.0b583fa658caea59e3ce18b46ed5e269.txt  \n",
            "  inflating: train/labels/WIN_20250506_12_22_02_Pro_jpg.rf.376b6688d9d36b2118c6798cda2c2ecb.txt  \n",
            "  inflating: train/labels/WIN_20250506_12_22_03_Pro-3-_jpg.rf.df0caa1e80ee7a9d587f381d6b4645b7.txt  \n",
            "  inflating: train/labels/WIN_20250506_12_22_03_Pro-4-_jpg.rf.7f761bf78f68ffb94d06c6fee5a6f351.txt  \n",
            "  inflating: train/labels/WIN_20250506_12_22_03_Pro_jpg.rf.a95d40d60e0324183376c5a30b4a499e.txt  \n",
            "  inflating: train/labels/WIN_20250506_12_22_04_Pro-2-_jpg.rf.a502f216fc08d3083b2fc3e04de854c7.txt  \n",
            "  inflating: train/labels/WIN_20250506_12_22_04_Pro-3-_jpg.rf.29cf9c7063819ee4c13d44d0a80b5156.txt  \n",
            "  inflating: train/labels/WIN_20250506_12_22_04_Pro_jpg.rf.b63a840fb8d044b925e66eb7516ed8bd.txt  \n",
            "  inflating: train/labels/WIN_20250506_12_22_05_Pro-2-_jpg.rf.aea31fe4e65845a09b9704113dbc2d16.txt  \n",
            "  inflating: train/labels/WIN_20250506_12_22_05_Pro-3-_jpg.rf.989f16cb273a351d0d55e984a94d13f1.txt  \n",
            "  inflating: train/labels/WIN_20250506_12_22_18_Pro_jpg.rf.c9366474c8ac80d19e7b02708e7bf2ca.txt  \n",
            "  inflating: train/labels/WIN_20250506_12_22_19_Pro-3-_jpg.rf.ea206192549cdab1dca8f19fb760109b.txt  \n",
            " extracting: train/labels/WIN_20250506_12_22_20_Pro-2-_jpg.rf.351092381017f494ab875a6f78b4ed6b.txt  \n",
            "  inflating: train/labels/WIN_20250506_12_22_20_Pro-3-_jpg.rf.279aa0780156b6a0e1453e6a6ac9ea41.txt  \n",
            "  inflating: train/labels/WIN_20250506_12_22_20_Pro_jpg.rf.07772d5dea9f10f65edba54e2386cb28.txt  \n",
            "  inflating: train/labels/WIN_20250506_12_22_21_Pro-3-_jpg.rf.9e18f9595bc9a90cc530e4ed2b858d21.txt  \n",
            "  inflating: train/labels/WIN_20250506_12_22_21_Pro-4-_jpg.rf.72a68800f91e5203687df324867b48a9.txt  \n",
            "  inflating: train/labels/WIN_20250506_12_22_22_Pro-3-_jpg.rf.7d8b43ca2deec793f6feb71f6055bf45.txt  \n",
            "  inflating: train/labels/WIN_20250506_12_22_23_Pro-3-_jpg.rf.818aea3eef4dff24833d9bf3fa85c484.txt  \n",
            "  inflating: train/labels/WIN_20250506_12_22_23_Pro-4-_jpg.rf.9ccc882343361553bb158ad12e04664c.txt  \n",
            "  inflating: train/labels/WIN_20250506_12_22_24_Pro-2-_jpg.rf.4b90ae33cdd49a919fe990e9b7a68cb2.txt  \n",
            "  inflating: train/labels/WIN_20250506_12_22_24_Pro-3-_jpg.rf.263d2c1f36516e9149e0fa627ae62c53.txt  \n",
            "  inflating: train/labels/WIN_20250506_12_22_24_Pro_jpg.rf.16d74c536a328ded410b89fc1ed1a444.txt  \n",
            "  inflating: train/labels/WIN_20250506_12_22_25_Pro_jpg.rf.761db8854c8a8f7ae1ce6a393fe85c5a.txt  \n",
            " extracting: train/labels/WIN_20250506_12_22_29_Pro-2-_jpg.rf.7d7389bac179b414254b1beb193cad1c.txt  \n",
            "  inflating: train/labels/WIN_20250506_12_22_29_Pro-3-_jpg.rf.e271586b02271beab3fa70401da11deb.txt  \n",
            "  inflating: train/labels/WIN_20250506_12_22_29_Pro_jpg.rf.9b47fccd1f4755e58e4b52741dfd1dd3.txt  \n",
            "  inflating: train/labels/WIN_20250506_12_22_30_Pro-2-_jpg.rf.05826e49ca2b5522ab5b7fc1e6692e9e.txt  \n",
            "  inflating: train/labels/WIN_20250506_12_22_30_Pro-3-_jpg.rf.552e9779adbac8655d6c8588034b6edd.txt  \n",
            "  inflating: train/labels/WIN_20250506_12_22_30_Pro_jpg.rf.22fa00f8b4464bf3aa1ead4b40afc499.txt  \n",
            "  inflating: train/labels/WIN_20250506_12_22_31_Pro_jpg.rf.14bdc6a7873fbca26a95beef6bf0c38e.txt  \n",
            " extracting: train/labels/WIN_20250506_12_22_32_Pro-2-_jpg.rf.f64a92eba8bd5023f68974795df74392.txt  \n",
            "  inflating: train/labels/WIN_20250506_12_22_32_Pro-3-_jpg.rf.2b136f3df077df595b81b7d5685261ff.txt  \n",
            "  inflating: train/labels/WIN_20250506_12_22_32_Pro-4-_jpg.rf.217d888ec911539b2931714f478e8966.txt  \n",
            " extracting: train/labels/WIN_20250506_12_22_32_Pro_jpg.rf.c24c0c4647dcfaf508eb6e0c8cec530c.txt  \n",
            "  inflating: train/labels/WIN_20250506_12_22_33_Pro-2-_jpg.rf.f38f7249861b976a786d29d2f1f33731.txt  \n",
            "  inflating: train/labels/WIN_20250506_12_22_33_Pro_jpg.rf.022956635856adbd1ff0bba09f2c2edc.txt  \n",
            "  inflating: train/labels/WIN_20250506_12_22_34_Pro-2-_jpg.rf.28617e12c32ad3f9bce794e9c34ac1f1.txt  \n",
            "  inflating: train/labels/WIN_20250506_12_22_34_Pro-4-_jpg.rf.de7ee21ea782b4e329e44b5335545cd1.txt  \n",
            "  inflating: train/labels/WIN_20250506_12_22_35_Pro-2-_jpg.rf.38165795eaf9aa51e8bd1f32008006ea.txt  \n",
            "  inflating: train/labels/WIN_20250506_12_22_35_Pro-3-_jpg.rf.6d50930756c25229c2ea49b92e91cd26.txt  \n",
            "  inflating: train/labels/WIN_20250506_12_22_35_Pro-4-_jpg.rf.2d22af9969c46630015e9725ebdfd3df.txt  \n",
            "  inflating: train/labels/WIN_20250506_12_22_35_Pro_jpg.rf.502893651a4678712d7178e61cc4d6b1.txt  \n",
            "  inflating: train/labels/WIN_20250506_12_22_36_Pro-2-_jpg.rf.f3904a2c5316b8a25dde265bfe0b71c0.txt  \n",
            "  inflating: train/labels/WIN_20250506_12_22_36_Pro-3-_jpg.rf.bcf11cc677ca615ee475307e7bbb81cb.txt  \n",
            "  inflating: train/labels/WIN_20250506_12_22_36_Pro_jpg.rf.309334291f5fc4b37dd3ef2313e27ab9.txt  \n",
            "  inflating: train/labels/WIN_20250506_12_22_41_Pro-2-_jpg.rf.e7d2fd76877a2adabd8bcfd2c65737d4.txt  \n",
            "  inflating: train/labels/WIN_20250506_12_22_41_Pro-4-_jpg.rf.e29236bf988e43eeb777ff0e6c8e23c0.txt  \n",
            " extracting: train/labels/WIN_20250506_12_22_41_Pro_jpg.rf.354f15ef9de30fb420e496a76f097b74.txt  \n",
            "  inflating: train/labels/WIN_20250506_12_22_42_Pro-3-_jpg.rf.bf6cb9508764b7f275b03dad43d3f8e9.txt  \n",
            "  inflating: train/labels/WIN_20250506_12_22_42_Pro_jpg.rf.fb9530a02f879a756bd6dd02f60a5876.txt  \n",
            "  inflating: train/labels/WIN_20250506_12_22_43_Pro-2-_jpg.rf.da496bc9e44d8b6871ca6e6af7a6812c.txt  \n",
            "  inflating: train/labels/WIN_20250506_12_22_43_Pro-3-_jpg.rf.a82bb1993fb1e21acbf1e46b412a882a.txt  \n",
            "  inflating: train/labels/WIN_20250506_12_22_44_Pro-2-_jpg.rf.628a063eb372242715d9889276726393.txt  \n",
            "  inflating: train/labels/WIN_20250506_12_22_44_Pro-3-_jpg.rf.f42786c3ab7d96cc5cbe2d80814140cf.txt  \n",
            "  inflating: train/labels/WIN_20250506_12_22_44_Pro-4-_jpg.rf.ea753cf827599ddacfc3a80fcdb0a9dc.txt  \n",
            "  inflating: train/labels/WIN_20250506_12_22_45_Pro-2-_jpg.rf.2c0042e4a35fcb85aa7c72ecbbae5d7a.txt  \n",
            "  inflating: train/labels/WIN_20250506_12_22_45_Pro_jpg.rf.d922eb8c2526f5b46b1281fccf0ab052.txt  \n",
            "  inflating: train/labels/WIN_20250506_12_22_46_Pro-2-_jpg.rf.72eb99d1991b94a5d34d1637e61317db.txt  \n",
            "  inflating: train/labels/WIN_20250506_12_22_46_Pro-3-_jpg.rf.50acd8ffad61aa2360bc39cf07e78e75.txt  \n",
            "  inflating: train/labels/WIN_20250506_12_22_46_Pro_jpg.rf.df112ae9a97f563d5602f522e4281b51.txt  \n",
            "  inflating: train/labels/WIN_20250506_12_22_47_Pro-3-_jpg.rf.2e86a35d7b645ff2345e321aaa96c90e.txt  \n",
            "  inflating: train/labels/WIN_20250506_12_22_47_Pro-4-_jpg.rf.c52e4068d3575fe2eef29fca33847bd5.txt  \n",
            "  inflating: train/labels/WIN_20250506_12_22_47_Pro_jpg.rf.3ab41f19d675c291f1ba86c18310bfc3.txt  \n",
            "  inflating: train/labels/WIN_20250506_12_22_48_Pro-2-_jpg.rf.36b66b7bfb0ce45069158274a17802da.txt  \n",
            " extracting: train/labels/WIN_20250506_12_22_48_Pro-3-_jpg.rf.34334944247ba81b5ca4b968bc952c72.txt  \n",
            "  inflating: train/labels/WIN_20250506_12_22_48_Pro_jpg.rf.d834bffded4e0c6495e7edb80ecf579e.txt  \n",
            "  inflating: train/labels/WIN_20250506_12_22_53_Pro-2-_jpg.rf.8e7021962ef8061f576ea59eb16d99b0.txt  \n",
            "  inflating: train/labels/WIN_20250506_12_22_53_Pro-3-_jpg.rf.e6674287b0b7496356dfa8928e3bccaf.txt  \n",
            "  inflating: train/labels/WIN_20250506_12_22_54_Pro-2-_jpg.rf.8afa33d05e2859f7f9b0e04a870ff61f.txt  \n",
            "  inflating: train/labels/WIN_20250506_12_22_54_Pro-3-_jpg.rf.e0b7105d509e9b289a204b462cae2bc6.txt  \n",
            "  inflating: train/labels/WIN_20250506_12_22_54_Pro_jpg.rf.652a08e90e91a87da1927a8921be30fa.txt  \n",
            "  inflating: train/labels/WIN_20250506_12_22_55_Pro-2-_jpg.rf.0e6292f316a9b471760ed96926f264a9.txt  \n",
            "  inflating: train/labels/WIN_20250506_12_22_55_Pro-3-_jpg.rf.24089ea58076a1d418516fb819f9bcce.txt  \n",
            "  inflating: train/labels/WIN_20250506_12_22_55_Pro_jpg.rf.9cd60e270e8f6a8790b157050dfdad99.txt  \n",
            "  inflating: train/labels/WIN_20250506_12_22_56_Pro-3-_jpg.rf.9f8ee77d97eb6912a21cb63e13d14e76.txt  \n",
            "  inflating: train/labels/WIN_20250506_12_22_56_Pro_jpg.rf.6a227ff131828b3e1fb1cd5022f70b48.txt  \n",
            "  inflating: train/labels/WIN_20250506_12_22_57_Pro-2-_jpg.rf.83cc729dbe36cd7fefbaeda718cd7a3f.txt  \n",
            "  inflating: train/labels/WIN_20250506_12_22_57_Pro-3-_jpg.rf.9a50001ac5c2465c63994ed4f2f061d1.txt  \n",
            "  inflating: train/labels/WIN_20250506_12_22_58_Pro_jpg.rf.97ed9d2b55a76a8df6da3c9a322632f9.txt  \n",
            "  inflating: train/labels/WIN_20250506_12_22_59_Pro-2-_jpg.rf.7bdd1f0807bc015a9bc5b2bef46a77e9.txt  \n",
            "  inflating: train/labels/WIN_20250506_12_22_59_Pro-4-_jpg.rf.3b9a1dffb6c73f27444b13443deea108.txt  \n",
            "  inflating: train/labels/WIN_20250506_12_22_59_Pro_jpg.rf.30858ccec75bd386b2a76c8d49674dcd.txt  \n",
            "  inflating: train/labels/WIN_20250506_12_23_00_Pro-2-_jpg.rf.548be7ff67140c5a8a64e753d1f91053.txt  \n",
            "  inflating: train/labels/WIN_20250506_12_23_00_Pro_jpg.rf.a9c6761a990ad6dc68a109f9a33331be.txt  \n",
            "  inflating: train/labels/WIN_20250506_12_23_04_Pro_jpg.rf.259095badc75d1d48727eb7103b4e22c.txt  \n",
            "  inflating: train/labels/WIN_20250506_12_23_05_Pro-3-_jpg.rf.d60d42bdb3163683eddb5da34242e34c.txt  \n",
            "  inflating: train/labels/WIN_20250506_12_23_05_Pro-4-_jpg.rf.bf1a9521c753991bffc6dd820a34ec09.txt  \n",
            "  inflating: train/labels/WIN_20250506_12_23_05_Pro_jpg.rf.d43eaeb2c5a9d19f0b0c0378c076cb06.txt  \n",
            "  inflating: train/labels/WIN_20250506_12_23_06_Pro-2-_jpg.rf.38e6efa1b297ecb7254e585774d43756.txt  \n",
            "  inflating: train/labels/WIN_20250506_12_23_07_Pro-2-_jpg.rf.33edd15d2c1724a6d1588d8314e197a8.txt  \n",
            "  inflating: train/labels/WIN_20250506_12_23_07_Pro-3-_jpg.rf.35ecd2f0de60d168387979b034c5e0de.txt  \n",
            "  inflating: train/labels/WIN_20250506_12_23_07_Pro-4-_jpg.rf.06ce86a59c59d15961d3fac5670c7fa9.txt  \n",
            "  inflating: train/labels/WIN_20250506_12_23_08_Pro-2-_jpg.rf.238999dc6906204e3c99f965f44ae86b.txt  \n",
            "  inflating: train/labels/WIN_20250506_12_23_09_Pro-2-_jpg.rf.1d3bf8c6cbf0fd6cc8eaccaf820f74fb.txt  \n",
            "  inflating: train/labels/WIN_20250506_12_23_09_Pro-3-_jpg.rf.6c0e0ed5f6cf4f5dfc4bdf5c8d9482ce.txt  \n",
            "  inflating: train/labels/WIN_20250506_12_23_10_Pro-3-_jpg.rf.75d62fef77e5e93c18e8ec0bda59b150.txt  \n",
            "  inflating: train/labels/WIN_20250506_12_23_10_Pro-4-_jpg.rf.8e74741db574d90d970d4135683acdf0.txt  \n",
            "  inflating: train/labels/WIN_20250506_12_23_10_Pro-5-_jpg.rf.d460f8024b80e2c78c9b690e99c4520a.txt  \n",
            "  inflating: train/labels/WIN_20250506_12_23_10_Pro_jpg.rf.5c12a9cf90d3957e75decadd0b73221e.txt  \n",
            "  inflating: train/labels/WIN_20250506_12_23_11_Pro-3-_jpg.rf.0ab5402e50c1dd971cd9b7dc283ddd65.txt  \n",
            "  inflating: train/labels/WIN_20250506_12_23_15_Pro-2-_jpg.rf.e3076e4b64f8538f29593b924d391751.txt  \n",
            "  inflating: train/labels/WIN_20250506_12_23_15_Pro_jpg.rf.270785cd54224c1369c9b8cd98aaa7bd.txt  \n",
            "  inflating: train/labels/WIN_20250506_12_23_16_Pro-3-_jpg.rf.3007dd7676a52f535c44f13a50659ead.txt  \n",
            "  inflating: train/labels/WIN_20250506_12_23_17_Pro-2-_jpg.rf.dec9093511decfbc181c7d7ee4426ead.txt  \n",
            "  inflating: train/labels/WIN_20250506_12_23_17_Pro-3-_jpg.rf.18b9bc9a780535a212a4a4c792769897.txt  \n",
            "  inflating: train/labels/WIN_20250506_12_23_17_Pro-4-_jpg.rf.abb19c0cfe3f9c9af66ce23be942ed5a.txt  \n",
            "  inflating: train/labels/WIN_20250506_12_23_17_Pro_jpg.rf.9f450ab32398000d0df5ca87d6129d83.txt  \n",
            "  inflating: train/labels/WIN_20250506_12_23_18_Pro-2-_jpg.rf.15824e31177498f906bffba067c42cfb.txt  \n",
            "  inflating: train/labels/WIN_20250506_12_23_18_Pro_jpg.rf.008df3a82f382d18f8300a44b2f46ded.txt  \n",
            "  inflating: train/labels/WIN_20250506_12_23_19_Pro-2-_jpg.rf.6c4762bf85fcb2ea7e8d8053044e8e28.txt  \n",
            "  inflating: train/labels/WIN_20250506_12_23_19_Pro-3-_jpg.rf.e39b474051e11c124a685f5beded2cfc.txt  \n",
            "  inflating: train/labels/WIN_20250506_12_23_19_Pro-4-_jpg.rf.9bc9fd4e3067ebbc1e40441013ebb4ac.txt  \n",
            "  inflating: train/labels/WIN_20250506_12_23_19_Pro_jpg.rf.0b41baeba4e84ed7e3b885373da57dac.txt  \n",
            "  inflating: train/labels/WIN_20250506_12_23_20_Pro-2-_jpg.rf.ec3565ed795f70fbdce398e1c1ac5c2b.txt  \n",
            "  inflating: train/labels/WIN_20250506_12_23_20_Pro-3-_jpg.rf.32c700b7c3f83fd39a4e67d9781af771.txt  \n",
            "  inflating: train/labels/WIN_20250506_12_23_21_Pro-2-_jpg.rf.b6c7ddc5decb5338a453f14147832ca5.txt  \n",
            "  inflating: train/labels/WIN_20250506_12_23_21_Pro_jpg.rf.bceeff2cf38585c4dc8f86d1ae1f8d28.txt  \n",
            "  inflating: train/labels/WIN_20250506_12_23_22_Pro-3-_jpg.rf.a37c8abefc4bd16a36bd846170311a45.txt  \n",
            "  inflating: train/labels/WIN_20250506_12_23_22_Pro-4-_jpg.rf.8f5df6b161573ba4eba137204ef53adc.txt  \n",
            "  inflating: train/labels/WIN_20250506_12_23_22_Pro_jpg.rf.2d54935c3b7339e5fc170ee313e2a60c.txt  \n",
            "  inflating: train/labels/WIN_20250506_12_23_26_Pro-2-_jpg.rf.960a710a33c12f68d2bbe2e1b5ff1523.txt  \n",
            "  inflating: train/labels/WIN_20250506_12_23_26_Pro-3-_jpg.rf.a01488ec4cd9b6cf7f2f71ddab4a215f.txt  \n",
            "  inflating: train/labels/WIN_20250506_12_23_26_Pro-4-_jpg.rf.cd4d7b7096416c5f009936c337c49203.txt  \n",
            "  inflating: train/labels/WIN_20250506_12_23_26_Pro_jpg.rf.0a51a807210b81d32c8cb8d8e54a5f57.txt  \n",
            "  inflating: train/labels/WIN_20250506_12_23_27_Pro-2-_jpg.rf.b3abcd92d88795c09f07c74b5313ed9a.txt  \n",
            "  inflating: train/labels/WIN_20250506_12_23_27_Pro-3-_jpg.rf.348d3746bf5bd99aa552a84673abb4a3.txt  \n",
            "  inflating: train/labels/WIN_20250506_12_23_27_Pro_jpg.rf.0f61c3856f792b097106522b62e54001.txt  \n",
            "  inflating: train/labels/WIN_20250506_12_23_28_Pro-2-_jpg.rf.f07239298d4244976d0594f62e0d2d30.txt  \n",
            "  inflating: train/labels/WIN_20250506_12_23_28_Pro-3-_jpg.rf.38868650f32ebc7b1eb036ef38e58be1.txt  \n",
            "  inflating: train/labels/WIN_20250506_12_23_29_Pro-3-_jpg.rf.3b3b7f01dd3278313028bc6f99e67dc1.txt  \n",
            " extracting: train/labels/WIN_20250506_12_23_29_Pro_jpg.rf.45776ca98f1fb037c8ef2688786f7a4e.txt  \n",
            "  inflating: train/labels/WIN_20250506_12_23_30_Pro-2-_jpg.rf.7c817217765ac47419013270f4700c13.txt  \n",
            "  inflating: train/labels/WIN_20250506_12_23_30_Pro-3-_jpg.rf.8977b224a9064713feeb2cdb3ba2e38e.txt  \n",
            "  inflating: train/labels/WIN_20250506_12_23_30_Pro-4-_jpg.rf.ec6fdcb11d202aada758960b0d4ce210.txt  \n",
            "  inflating: train/labels/WIN_20250506_12_23_30_Pro_jpg.rf.5e47cef4ea306ed167a040cabe3cae8a.txt  \n",
            "  inflating: train/labels/WIN_20250506_12_23_31_Pro-2-_jpg.rf.78f3a393679eae86bc8143bfe8c7e2aa.txt  \n",
            "  inflating: train/labels/WIN_20250506_12_23_31_Pro-5-_jpg.rf.beb29466927ab9c157ab2d5e5a3855af.txt  \n",
            "  inflating: train/labels/WIN_20250506_12_23_32_Pro-2-_jpg.rf.8e7a099190907483ef213e4d5ea36ed1.txt  \n",
            "  inflating: train/labels/WIN_20250506_12_23_32_Pro-3-_jpg.rf.7056e608b7e85d3729dc1a26e62324df.txt  \n",
            "  inflating: train/labels/WIN_20250506_12_23_32_Pro_jpg.rf.bd30b2308fe98ebe24b642297a46d2ee.txt  \n",
            "  inflating: train/labels/WIN_20250506_12_23_36_Pro_jpg.rf.a74d66eb3b61b9c16d61ca33f24fe9e7.txt  \n",
            "  inflating: train/labels/WIN_20250506_12_23_37_Pro-2-_jpg.rf.1098441763d62b3010d7d107bedbf776.txt  \n",
            "  inflating: train/labels/WIN_20250506_12_23_37_Pro-3-_jpg.rf.68f7486a084308cc90b024e4c3da55e9.txt  \n",
            "  inflating: train/labels/WIN_20250506_12_23_37_Pro-4-_jpg.rf.c0d166e7de295e89cf8f5f5007021e8c.txt  \n",
            "  inflating: train/labels/WIN_20250506_12_23_37_Pro_jpg.rf.e8c52d5c80df600e0ccafb08079f664a.txt  \n",
            "  inflating: train/labels/WIN_20250506_12_23_38_Pro-3-_jpg.rf.92ed426f0717d51f7d40f875fccaab49.txt  \n",
            "  inflating: train/labels/WIN_20250506_12_23_38_Pro-4-_jpg.rf.6e9626eb07ab6e93a08651d57b2c35db.txt  \n",
            "  inflating: train/labels/WIN_20250506_12_23_38_Pro_jpg.rf.c4cb84161ecd596038df926288d287d6.txt  \n",
            "  inflating: train/labels/WIN_20250506_12_23_39_Pro-2-_jpg.rf.b95484745a88546f92fb4821be9755d1.txt  \n",
            "  inflating: train/labels/WIN_20250506_12_23_39_Pro_jpg.rf.ae74659a83374ad2703d30751acf64e9.txt  \n",
            "  inflating: train/labels/WIN_20250506_12_23_40_Pro-2-_jpg.rf.ee77b520e0e60b5a1c67ea9401693ffe.txt  \n",
            "  inflating: train/labels/WIN_20250506_12_23_40_Pro_jpg.rf.665be57793239286fb4681d1d847d1d2.txt  \n",
            "  inflating: train/labels/WIN_20250506_12_23_41_Pro-2-_jpg.rf.85c0e9fdc22d52b96a89dea12fd06970.txt  \n",
            "  inflating: train/labels/WIN_20250506_12_23_41_Pro-3-_jpg.rf.1e954c8111a9035f8c6bb919a03ce4ab.txt  \n",
            "  inflating: train/labels/WIN_20250506_12_23_41_Pro-4-_jpg.rf.e42550e435181aacca7516c5e3070f91.txt  \n",
            "  inflating: train/labels/WIN_20250506_12_23_41_Pro_jpg.rf.dc28b71af136ce5e13f3d67a5d144e41.txt  \n",
            "  inflating: train/labels/WIN_20250506_12_23_42_Pro-2-_jpg.rf.faa1f05c6c35afb40e20e58c3f0c2d47.txt  \n",
            "  inflating: train/labels/WIN_20250506_12_23_42_Pro-3-_jpg.rf.7ad73f1a12c742cc0cc100b708148550.txt  \n",
            "  inflating: train/labels/WIN_20250506_12_23_42_Pro_jpg.rf.f1d0fdd5eee7686222eda679e6967e03.txt  \n",
            "  inflating: train/labels/WIN_20250506_12_23_43_Pro-3-_jpg.rf.82a10edbac8db75dc032326cfc223819.txt  \n",
            "  inflating: train/labels/WIN_20250506_12_23_43_Pro_jpg.rf.f9336f46476c8ba85edda08351514b9a.txt  \n",
            "  inflating: train/labels/WIN_20250506_12_23_47_Pro_jpg.rf.fadd75e1c22df32d8bb9ff082e8a0d78.txt  \n",
            "  inflating: train/labels/WIN_20250506_12_23_48_Pro-2-_jpg.rf.24ddb2889644e54ca883bb81b9ca217a.txt  \n",
            "  inflating: train/labels/WIN_20250506_12_23_48_Pro-3-_jpg.rf.6cd691874aa04437024cd7bb7af43b72.txt  \n",
            "  inflating: train/labels/WIN_20250506_12_23_48_Pro_jpg.rf.cb1ac008a68badd9170f475e739f49f7.txt  \n",
            " extracting: train/labels/WIN_20250506_12_23_49_Pro-2-_jpg.rf.d47e15205601c9419fa981ccbc07585c.txt  \n",
            "  inflating: train/labels/WIN_20250506_12_23_49_Pro-4-_jpg.rf.5281889a21c4154d64e61a5e4f2034f5.txt  \n",
            "  inflating: train/labels/WIN_20250506_12_23_49_Pro-5-_jpg.rf.80bfcec3b1657e896d1d123f26a3cf59.txt  \n",
            "  inflating: train/labels/WIN_20250506_12_23_49_Pro_jpg.rf.3a833bcd66fedda9a978e91b978c9c45.txt  \n",
            "  inflating: train/labels/WIN_20250506_12_23_50_Pro-2-_jpg.rf.ca9d320c61b18db690cab56c85303082.txt  \n",
            "  inflating: train/labels/WIN_20250506_12_23_50_Pro-3-_jpg.rf.f4c6a91572f24ae00f209e0562678b50.txt  \n",
            "  inflating: train/labels/WIN_20250506_12_23_50_Pro_jpg.rf.316c98b05fef93ee78075804f2f46acf.txt  \n",
            "  inflating: train/labels/WIN_20250506_12_23_51_Pro-3-_jpg.rf.c1660d1526d88058992b1628a9aa4dc8.txt  \n",
            "  inflating: train/labels/WIN_20250506_12_23_51_Pro-4-_jpg.rf.c02a8115053c02ac5b2c490d4b4f1686.txt  \n",
            "  inflating: train/labels/WIN_20250506_12_23_51_Pro_jpg.rf.753072c6d62ece1f80b23b1af7a025ad.txt  \n",
            "  inflating: train/labels/WIN_20250506_12_23_52_Pro-3-_jpg.rf.ce61bc3d0bfe8c8cc518cc62e42d688e.txt  \n",
            "  inflating: train/labels/WIN_20250506_12_23_53_Pro-4-_jpg.rf.e4440dc4efe61b4ef213c7ab7ba2a970.txt  \n",
            "  inflating: train/labels/WIN_20250506_12_23_54_Pro-2-_jpg.rf.56432369b1065109a5de7d193259f08c.txt  \n",
            "  inflating: train/labels/WIN_20250506_12_23_54_Pro-3-_jpg.rf.8d1fba8638102f4284b7e01a99263c61.txt  \n",
            "  inflating: train/labels/WIN_20250506_12_23_54_Pro_jpg.rf.56b4ec78caf0100790ad14e53dc6b991.txt  \n",
            "  inflating: train/labels/WIN_20250506_12_23_55_Pro-2-_jpg.rf.ce2123c9b7e4794f29013bc13bf3d1c6.txt  \n",
            "  inflating: train/labels/WIN_20250506_12_23_55_Pro_jpg.rf.ee0f32a3a4cfe857642409c95f28a692.txt  \n",
            "  inflating: train/labels/WIN_20250506_12_24_04_Pro-2-_jpg.rf.adbb7ffcd2a7b9aca5b837a79481a0a6.txt  \n",
            "  inflating: train/labels/WIN_20250506_12_24_04_Pro_jpg.rf.5a43126d8b3f721d09233f353de6b703.txt  \n",
            "  inflating: train/labels/WIN_20250506_12_24_05_Pro-2-_jpg.rf.e351735bf3a4ad3d871778751f4d27a8.txt  \n",
            "  inflating: train/labels/WIN_20250506_12_24_05_Pro-3-_jpg.rf.5bf326e2675cb6e7208a4dea1eefed2b.txt  \n",
            "  inflating: train/labels/WIN_20250506_12_24_05_Pro-4-_jpg.rf.98e3a4fefd66959ace033bfc2909bf69.txt  \n",
            "  inflating: train/labels/WIN_20250506_12_24_06_Pro_jpg.rf.a4b7404f16669cdca9d5a7d999972eda.txt  \n",
            "  inflating: train/labels/WIN_20250506_12_24_07_Pro-2-_jpg.rf.84df70f4e6d8141e34562a8d832070d7.txt  \n",
            "  inflating: train/labels/WIN_20250506_12_24_07_Pro_jpg.rf.67114f3636506593b4e554fdafaeb3f2.txt  \n",
            "  inflating: train/labels/WIN_20250506_12_24_08_Pro-3-_jpg.rf.995f8b497280301c20635a82664af8d7.txt  \n",
            "  inflating: train/labels/WIN_20250506_12_24_08_Pro-4-_jpg.rf.d6d9782b1f01da3abf42ca81d886da51.txt  \n",
            "  inflating: train/labels/WIN_20250506_12_24_08_Pro_jpg.rf.a7f0c8eb49b07fffc9b6d11192592c17.txt  \n",
            "  inflating: train/labels/WIN_20250506_12_24_09_Pro-2-_jpg.rf.c3ae823af669d7c5cab31bcd2de03be3.txt  \n",
            "  inflating: train/labels/WIN_20250506_12_24_09_Pro-3-_jpg.rf.ef47d6cc99549fb7ea9f83d586acf522.txt  \n",
            "  inflating: train/labels/WIN_20250506_12_24_09_Pro_jpg.rf.dddf2854e8cbb865d6afcc6f81bec0d5.txt  \n",
            "  inflating: train/labels/WIN_20250506_12_24_10_Pro-2-_jpg.rf.6f9315525a4c5527a8b75b93d91a0bf3.txt  \n",
            "  inflating: train/labels/WIN_20250506_12_24_10_Pro-3-_jpg.rf.044e8a6d87f970a5688e1a6e91984168.txt  \n",
            "  inflating: train/labels/WIN_20250506_12_24_10_Pro_jpg.rf.d6998fd6f7266e061b0e5778a5f77d6c.txt  \n",
            "  inflating: train/labels/WIN_20250506_12_24_11_Pro-2-_jpg.rf.367792cc4b86e50eaf8bf1b99b2f0863.txt  \n",
            "  inflating: train/labels/WIN_20250506_12_24_11_Pro-4-_jpg.rf.ed19ccfed33ed00704f54d3ac6be0b7b.txt  \n",
            "  inflating: train/labels/WIN_20250506_12_24_16_Pro-2-_jpg.rf.7fe43e9abdce415327f5a3643947f668.txt  \n",
            "  inflating: train/labels/WIN_20250506_12_24_16_Pro_jpg.rf.5d629626b4b0c3c0eb60f60213bfbec1.txt  \n",
            "  inflating: train/labels/WIN_20250506_12_24_17_Pro-4-_jpg.rf.1fdfbca8fad456e5ca71c48c6858badc.txt  \n",
            "  inflating: train/labels/WIN_20250506_12_24_17_Pro_jpg.rf.376da8ba4df6d47d2fe0edfb6bfb3f6c.txt  \n",
            "  inflating: train/labels/WIN_20250506_12_24_18_Pro_jpg.rf.238db18a4918e10d376fbf655cdbd30a.txt  \n",
            "  inflating: train/labels/WIN_20250506_12_24_19_Pro-2-_jpg.rf.3d5034a345ef72b3f889b79a9d746bb6.txt  \n",
            "  inflating: train/labels/WIN_20250506_12_24_19_Pro-4-_jpg.rf.7272bc8211046672135c6da98f842937.txt  \n",
            "  inflating: train/labels/WIN_20250506_12_24_19_Pro_jpg.rf.605e6bb70b8bc3f76324c69a25cb8a1f.txt  \n",
            "  inflating: train/labels/WIN_20250506_12_24_20_Pro_jpg.rf.806768bc07e4aa1ed8fcc53710c9dff2.txt  \n",
            "  inflating: train/labels/WIN_20250506_12_24_21_Pro-2-_jpg.rf.d72508abe632412661a542a54acfa025.txt  \n",
            "  inflating: train/labels/WIN_20250506_12_24_21_Pro-3-_jpg.rf.85eafce99f31377802e2fbfd069c5fa1.txt  \n",
            "  inflating: train/labels/WIN_20250506_12_24_21_Pro_jpg.rf.e96290188136debd7ebfee0743ae7875.txt  \n",
            "  inflating: train/labels/WIN_20250506_12_24_22_Pro-2-_jpg.rf.7b89685e5bc9cedab7dbb5575927b0bb.txt  \n",
            " extracting: train/labels/WIN_20250506_12_24_22_Pro-3-_jpg.rf.322e894ecaa9b0849966aa0a59c22ab2.txt  \n",
            "  inflating: train/labels/WIN_20250506_12_24_22_Pro_jpg.rf.4a88db74b72eef136f46e58c44a3f353.txt  \n",
            "  inflating: train/labels/WIN_20250506_12_24_23_Pro-3-_jpg.rf.6b7f9ad9e2f8b95650a3f9899cf94455.txt  \n",
            "  inflating: train/labels/WIN_20250506_12_24_23_Pro-4-_jpg.rf.bbe7d9bcea3e7570ca03fc7a5cbb28b7.txt  \n",
            "  inflating: train/labels/WIN_20250506_12_24_23_Pro_jpg.rf.f27ae81a90a59009dd82ac900a79522e.txt  \n",
            "  inflating: train/labels/WIN_20250506_12_24_28_Pro-3-_jpg.rf.4a81be258e4a8566a7cda539b28d1166.txt  \n",
            "  inflating: train/labels/WIN_20250506_12_24_28_Pro_jpg.rf.554104036166685920bc6b0f3b3e1f7a.txt  \n",
            "  inflating: train/labels/WIN_20250506_12_24_29_Pro-4-_jpg.rf.9efef351275c35887baaea69a5876bf0.txt  \n",
            "  inflating: train/labels/WIN_20250506_12_24_29_Pro_jpg.rf.dcc5263d0b5e4cea370dd323304cce21.txt  \n",
            "  inflating: train/labels/WIN_20250506_12_24_30_Pro-2-_jpg.rf.ebc27bf22e7a507c9d7de618f077322e.txt  \n",
            "  inflating: train/labels/WIN_20250506_12_24_30_Pro-3-_jpg.rf.e326443e990b14ccb8d4cdf9b345cbd0.txt  \n",
            "  inflating: train/labels/WIN_20250506_12_24_30_Pro-4-_jpg.rf.a0a2ea8e02002a41b8d45225433c69e4.txt  \n",
            "  inflating: train/labels/WIN_20250506_12_24_31_Pro-2-_jpg.rf.8a2b2b8c4e0a77204188433a1c599323.txt  \n",
            "  inflating: train/labels/WIN_20250506_12_24_31_Pro-3-_jpg.rf.752e6021eb0dbe8d1f38d1c3f58b3cc0.txt  \n",
            "  inflating: train/labels/WIN_20250506_12_24_31_Pro-4-_jpg.rf.b182d1cf7e8f0b70649fc91158204b01.txt  \n",
            "  inflating: train/labels/WIN_20250506_12_24_31_Pro_jpg.rf.15543f5bdee5ad057009ec448483437a.txt  \n",
            " extracting: train/labels/WIN_20250506_12_24_32_Pro-3-_jpg.rf.41d488faa18a1d883c6a1dff4cd9f463.txt  \n",
            "  inflating: train/labels/WIN_20250506_12_24_32_Pro_jpg.rf.72ebd81edb9810e9f11b2b1cfbb07313.txt  \n",
            "  inflating: train/labels/WIN_20250506_12_24_33_Pro-3-_jpg.rf.8ca46c90dc0421de08e6b39e10b78b39.txt  \n",
            "  inflating: train/labels/WIN_20250506_12_24_34_Pro-2-_jpg.rf.2493ef7546e71b091cb4db7bb73d00c0.txt  \n",
            "  inflating: train/labels/WIN_20250506_12_24_34_Pro-3-_jpg.rf.168af3bb4b70e5c3a734962c4ba30e45.txt  \n",
            "  inflating: train/labels/WIN_20250506_12_24_34_Pro_jpg.rf.0af9de43020985060c7b0e90146ce410.txt  \n",
            " extracting: train/labels/WIN_20250506_12_24_35_Pro-2-_jpg.rf.6e464375f47f4971f6fa224496dbc8f5.txt  \n",
            "  inflating: train/labels/WIN_20250506_12_24_55_Pro-2-_jpg.rf.c724bba1639b2ac62840f755bda7a6b2.txt  \n",
            "  inflating: train/labels/WIN_20250506_12_24_55_Pro_jpg.rf.4443c403c279e6483bf1ea12c54585cb.txt  \n",
            "  inflating: train/labels/WIN_20250506_12_24_56_Pro-2-_jpg.rf.7307d5a220ebed9d3d2615fe9bbf2231.txt  \n",
            "  inflating: train/labels/WIN_20250506_12_24_56_Pro-3-_jpg.rf.3ff9270797e2f203d21a82c990b439d3.txt  \n",
            "  inflating: train/labels/WIN_20250506_12_24_56_Pro_jpg.rf.8a51d5c236c55aa00104ddaf55540152.txt  \n",
            "  inflating: train/labels/WIN_20250506_12_24_57_Pro-3-_jpg.rf.879df37563d9b6790c1c9e1fdd47f817.txt  \n",
            "  inflating: train/labels/WIN_20250506_12_24_58_Pro-2-_jpg.rf.fc71a04e1f13c8b19d83cc50327250cb.txt  \n",
            "  inflating: train/labels/WIN_20250506_12_24_58_Pro_jpg.rf.286eb6de3d4199eac8d5184d2eafdb46.txt  \n",
            "  inflating: train/labels/WIN_20250506_12_24_59_Pro-2-_jpg.rf.329e17b2676d833402ffc09bb3e2d3c9.txt  \n",
            "  inflating: train/labels/WIN_20250506_12_24_59_Pro-3-_jpg.rf.5b4b2d52dbc5cf27bc5f96e7bea35093.txt  \n",
            "  inflating: train/labels/WIN_20250506_12_24_59_Pro-4-_jpg.rf.b4889fc2461af630a1236a6e55fb2e01.txt  \n",
            "  inflating: train/labels/WIN_20250506_12_24_59_Pro_jpg.rf.52e2b89af3476de0d7b867217bec8a67.txt  \n",
            "  inflating: train/labels/WIN_20250506_12_25_00_Pro-2-_jpg.rf.f7219694cdb78d46cc317fd69f9af89a.txt  \n",
            "  inflating: train/labels/WIN_20250506_12_25_00_Pro-3-_jpg.rf.d777ab58c6560ae2b7052644618934e7.txt  \n",
            "  inflating: train/labels/WIN_20250506_12_25_00_Pro_jpg.rf.7ae686176f3f3b9afd7d995e364e7273.txt  \n",
            "  inflating: train/labels/WIN_20250506_12_25_01_Pro-2-_jpg.rf.eb8c3aa0e992ab45f168da628a11f381.txt  \n",
            "  inflating: train/labels/WIN_20250506_12_25_01_Pro_jpg.rf.9194e2d21df104d6d77afb6701ae88ea.txt  \n",
            "  inflating: train/labels/WIN_20250506_12_25_02_Pro-2-_jpg.rf.2bf162a8b273aa6c6a7159662f9d5772.txt  \n",
            "  inflating: train/labels/WIN_20250506_12_25_02_Pro_jpg.rf.58f5079c447f37beba9a25d4f8d95a7c.txt  \n",
            "  inflating: train/labels/WIN_20250506_12_25_03_Pro-3-_jpg.rf.2effb89fea2bd63fd4a8659db542f8b0.txt  \n",
            "  inflating: train/labels/WIN_20250506_12_25_03_Pro_jpg.rf.3de4bf8c00e590d1fd14a9023f6997ad.txt  \n",
            "  inflating: train/labels/WIN_20250506_12_25_17_Pro-2-_jpg.rf.eef6f320cc8a1c2236acf0d066a41b38.txt  \n",
            "  inflating: train/labels/WIN_20250506_12_25_18_Pro-2-_jpg.rf.7004b2cb1380993380958ec627a017e1.txt  \n",
            "  inflating: train/labels/WIN_20250506_12_25_18_Pro-3-_jpg.rf.1b02af69260de7ca596d8aa904c15b0b.txt  \n",
            "  inflating: train/labels/WIN_20250506_12_25_18_Pro-4-_jpg.rf.1292385ae0b2c73929e2479a6470c416.txt  \n",
            "  inflating: train/labels/WIN_20250506_12_25_18_Pro_jpg.rf.7e776bd36e9748cb62785e33315a1fb0.txt  \n",
            "  inflating: train/labels/WIN_20250506_12_25_19_Pro-2-_jpg.rf.7dbd5b38dd4fc137912bbadd04e2d4c7.txt  \n",
            "  inflating: train/labels/WIN_20250506_12_25_19_Pro-4-_jpg.rf.1f592c8a6716e7a8b253164e855f5cb6.txt  \n",
            "  inflating: train/labels/WIN_20250506_12_25_19_Pro_jpg.rf.8fc3a31573df28be508a014fcb27d76c.txt  \n",
            "  inflating: train/labels/WIN_20250506_12_25_20_Pro-3-_jpg.rf.248185f07697d2dbe002c266b4a02a77.txt  \n",
            "  inflating: train/labels/WIN_20250506_12_25_21_Pro-2-_jpg.rf.5cefb725d7635ef84688f390cae4bd88.txt  \n",
            "  inflating: train/labels/WIN_20250506_12_25_21_Pro_jpg.rf.0d742d0840430d32fc94e0d2e34e402b.txt  \n",
            "  inflating: train/labels/WIN_20250506_12_25_22_Pro-2-_jpg.rf.c237aeefc42eec45ee21a79bcada5f1d.txt  \n",
            "  inflating: train/labels/WIN_20250506_12_25_22_Pro-3-_jpg.rf.e63b3ab98153eac033567e1e2eb398eb.txt  \n",
            "  inflating: train/labels/WIN_20250506_12_25_22_Pro_jpg.rf.bef4f9d875d9d12fa04460505d5cb49e.txt  \n",
            "  inflating: train/labels/WIN_20250506_12_25_23_Pro-2-_jpg.rf.af2e75b31648a80a9e4e2232f07e3e65.txt  \n",
            "  inflating: train/labels/WIN_20250506_12_25_23_Pro-3-_jpg.rf.69f632f487cb3b940b325316bca05310.txt  \n",
            "  inflating: train/labels/WIN_20250506_12_25_23_Pro-4-_jpg.rf.fc79a962623107b9bfb3ada6ffac65f2.txt  \n",
            "  inflating: train/labels/WIN_20250506_12_25_23_Pro-5-_jpg.rf.93a39a4a127f7a7dcc9e3149114f2931.txt  \n",
            "  inflating: train/labels/WIN_20250506_12_25_24_Pro-2-_jpg.rf.4094a2e321509d1b269811955b43cb87.txt  \n",
            "  inflating: train/labels/WIN_20250506_12_25_24_Pro-3-_jpg.rf.39bdbb2762720907edf9a267b3ff451b.txt  \n",
            "  inflating: train/labels/WIN_20250506_12_25_24_Pro_jpg.rf.e7474c81a0b2dfdf90de6e3843d92211.txt  \n",
            " extracting: train/labels/WIN_20250506_12_25_46_Pro_jpg.rf.4cf327b3048d0e0dd81fa86c2bdd7c8c.txt  \n",
            "  inflating: train/labels/WIN_20250506_12_25_47_Pro-2-_jpg.rf.91324da745fa617d019f6932937189f8.txt  \n",
            "  inflating: train/labels/WIN_20250506_12_25_47_Pro-3-_jpg.rf.f041a145b4f1ee1dff233e14582694de.txt  \n",
            "  inflating: train/labels/WIN_20250506_12_25_47_Pro_jpg.rf.e656a44f4037f1469fd897602e73b209.txt  \n",
            "  inflating: train/labels/WIN_20250506_12_25_48_Pro-2-_jpg.rf.3b6b020f4a3b05a17bbb13d14aac91a0.txt  \n",
            "  inflating: train/labels/WIN_20250506_12_25_48_Pro-3-_jpg.rf.f35e36177e252a6fb3f8b916852fe363.txt  \n",
            " extracting: train/labels/WIN_20250506_12_25_48_Pro_jpg.rf.49604bc51197343fb8df2dbef004b836.txt  \n",
            "  inflating: train/labels/WIN_20250506_12_25_49_Pro-2-_jpg.rf.866d166b7f22092eb66421ea9fed5250.txt  \n",
            "  inflating: train/labels/WIN_20250506_12_25_49_Pro-4-_jpg.rf.91ddb09cb34b9f71644ab2de7c0d4ab6.txt  \n",
            "  inflating: train/labels/WIN_20250506_12_25_50_Pro-2-_jpg.rf.122eb5737cd375c71b695bb94b432d96.txt  \n",
            "  inflating: train/labels/WIN_20250506_12_25_50_Pro-4-_jpg.rf.ddd769b37b2599b70047699f7e14c17a.txt  \n",
            "  inflating: train/labels/WIN_20250506_12_25_50_Pro_jpg.rf.519f60e25132f340d6d81c69551f2be3.txt  \n",
            "  inflating: train/labels/WIN_20250506_12_25_51_Pro-3-_jpg.rf.57cd44cb46e4696f283833d8ee802774.txt  \n",
            "  inflating: train/labels/WIN_20250506_12_25_52_Pro-3-_jpg.rf.edf9e7e5538d47adf6a4dce8d8f6838d.txt  \n",
            "  inflating: train/labels/WIN_20250506_12_25_52_Pro-4-_jpg.rf.e13d457c22cc141783a3a5b42f7fb1a8.txt  \n",
            "  inflating: train/labels/WIN_20250506_12_25_53_Pro-2-_jpg.rf.3ed63c7a194bea0dbca92fe90d5b3229.txt  \n",
            "  inflating: train/labels/WIN_20250506_12_25_53_Pro-3-_jpg.rf.18abe65707b44de85dce5d33ec076e65.txt  \n",
            "  inflating: train/labels/WIN_20250506_12_25_53_Pro_jpg.rf.2fc3e89ec995a142e56caae2aeddf19f.txt  \n",
            "  inflating: train/labels/WIN_20250506_12_25_54_Pro-2-_jpg.rf.0667bc6c510818a6fdf357c173a3f049.txt  \n",
            "  inflating: train/labels/WIN_20250506_12_25_54_Pro_jpg.rf.740f719aaa88d2e50e6bfadbcdbf5b0a.txt  \n",
            "  inflating: train/labels/WIN_20250506_12_25_55_Pro-2-_jpg.rf.05c9fca49fde4c2bec745eb6a4249c7c.txt  \n",
            "  inflating: train/labels/WIN_20250506_12_25_55_Pro_jpg.rf.2682a7321cc52d2732151b8be04a8c48.txt  \n",
            " extracting: train/labels/WIN_20250506_12_26_11_Pro-2-_jpg.rf.00cf1cde42c1c898dc58fd9c1fdd31db.txt  \n",
            "  inflating: train/labels/WIN_20250506_12_26_12_Pro-2-_jpg.rf.0090e7a3cf3a5a167bb88ad70b2095e8.txt  \n",
            "  inflating: train/labels/WIN_20250506_12_26_12_Pro-3-_jpg.rf.780f5307ff34db3382e1db26d4c7cedf.txt  \n",
            "  inflating: train/labels/WIN_20250506_12_26_12_Pro_jpg.rf.48bad17b5359da373c73456d000b80e9.txt  \n",
            "  inflating: train/labels/WIN_20250506_12_26_13_Pro-2-_jpg.rf.79eb300337936c835a83b71601e28079.txt  \n",
            "  inflating: train/labels/WIN_20250506_12_26_13_Pro-3-_jpg.rf.54eb5531bcecac642d75b0d604f5610c.txt  \n",
            "  inflating: train/labels/WIN_20250506_12_26_13_Pro_jpg.rf.5c50873b5731f011a76eca51d8216435.txt  \n",
            "  inflating: train/labels/WIN_20250506_12_26_14_Pro-3-_jpg.rf.2fe38a423dc10b06c76955bd586e7c8a.txt  \n",
            "  inflating: train/labels/WIN_20250506_12_26_15_Pro-2-_jpg.rf.bbf7db3700ccb14d434aca97ed75774a.txt  \n",
            "  inflating: train/labels/WIN_20250506_12_26_15_Pro-3-_jpg.rf.e24d9c442315f596f8b72d3a0e253aa9.txt  \n",
            "  inflating: train/labels/WIN_20250506_12_26_15_Pro-4-_jpg.rf.262f3401ab957b7b7c7a04b942e93c28.txt  \n",
            "  inflating: train/labels/WIN_20250506_12_26_15_Pro_jpg.rf.7a2428014aaa8c673650612490c3e115.txt  \n",
            "  inflating: train/labels/WIN_20250506_12_26_16_Pro-2-_jpg.rf.1bd6249af520e1fa41908b101ccff087.txt  \n",
            "  inflating: train/labels/WIN_20250506_12_26_16_Pro-3-_jpg.rf.ee62120e8dfcce82094a948a8fc8ef92.txt  \n",
            "  inflating: train/labels/WIN_20250506_12_26_16_Pro-4-_jpg.rf.822b82cc29aa36a8a0706d7d706a1821.txt  \n",
            "  inflating: train/labels/WIN_20250506_12_26_16_Pro_jpg.rf.154143a248192164cedeeb20a68c2cc0.txt  \n",
            "  inflating: train/labels/WIN_20250506_12_26_17_Pro-2-_jpg.rf.fca7660d69aee0678a17bfc03f0c01bb.txt  \n",
            "  inflating: train/labels/WIN_20250506_12_26_17_Pro-4-_jpg.rf.2f64095f680f4fc12f646861893ed7ad.txt  \n",
            "  inflating: train/labels/WIN_20250506_12_26_18_Pro-2-_jpg.rf.cfa8564b7f9375eaa548c485ae09217a.txt  \n",
            "  inflating: train/labels/WIN_20250506_12_26_18_Pro_jpg.rf.8c0268e600a7a5af3668ff515ef640dc.txt  \n",
            "  inflating: train/labels/WIN_20250506_12_26_34_Pro-2-_jpg.rf.1da309b76d3f24d5b340a1a2d56f67c7.txt  \n",
            "  inflating: train/labels/WIN_20250506_12_26_34_Pro-3-_jpg.rf.f9038e027565ace39b370d037fb32353.txt  \n",
            "  inflating: train/labels/WIN_20250506_12_26_35_Pro_jpg.rf.dde88cfd998b155427d2c07a3df5cb77.txt  \n",
            "  inflating: train/labels/WIN_20250506_12_26_36_Pro-3-_jpg.rf.94a0c63a270d7e7e087f63965c3d592c.txt  \n",
            "  inflating: train/labels/WIN_20250506_12_26_36_Pro_jpg.rf.1a3444eddf5ea73dba3313896a1e6dbb.txt  \n",
            "  inflating: train/labels/WIN_20250506_12_26_37_Pro-2-_jpg.rf.4777ff3d204a6cab4ea812f01af8a94c.txt  \n",
            "  inflating: train/labels/WIN_20250506_12_26_37_Pro_jpg.rf.f15d7804d28b9fff1329e32880738e07.txt  \n",
            "  inflating: train/labels/WIN_20250506_12_26_38_Pro-2-_jpg.rf.4d55928420ef04e33f39757006ef3daf.txt  \n",
            "  inflating: train/labels/WIN_20250506_12_26_38_Pro-3-_jpg.rf.f24c90a90a02b0577313b4bc8d8fbbdf.txt  \n",
            "  inflating: train/labels/WIN_20250506_12_26_38_Pro_jpg.rf.3473ed62374e324acfb154e105b570bb.txt  \n",
            "  inflating: train/labels/WIN_20250506_12_26_39_Pro-3-_jpg.rf.de81f288b8f432513ff4615879fbee94.txt  \n",
            "  inflating: train/labels/WIN_20250506_12_26_39_Pro-4-_jpg.rf.3a3eb7fcac320ba23021a3314e0af967.txt  \n",
            "  inflating: train/labels/WIN_20250506_12_26_39_Pro_jpg.rf.3586415b6c86d1b7260c8bfa9a2a08bc.txt  \n",
            "  inflating: train/labels/WIN_20250506_12_26_40_Pro-2-_jpg.rf.21edabefb1cfa86de9b51205903c9aef.txt  \n",
            "  inflating: train/labels/WIN_20250506_12_26_40_Pro-3-_jpg.rf.815813d3c5c3872b92c07690e098597e.txt  \n",
            "  inflating: train/labels/WIN_20250506_12_26_40_Pro_jpg.rf.bcc7d654dcfa9f28be3bf82afaed3f83.txt  \n",
            "  inflating: train/labels/WIN_20250506_12_26_41_Pro-2-_jpg.rf.35597850e89c052a0afbe11c5fcb3798.txt  \n",
            "  inflating: train/labels/WIN_20250506_12_26_41_Pro-3-_jpg.rf.5be3744b34ba50e7f13a8b6429392ed5.txt  \n",
            "  inflating: train/labels/WIN_20250506_12_26_41_Pro_jpg.rf.8276cc076a81e647ca66b99acb16339f.txt  \n",
            " extracting: train/labels/WIN_20250506_12_26_51_Pro_jpg.rf.8befedcaa5713570313e5f739689484b.txt  \n",
            "  inflating: train/labels/WIN_20250506_12_26_52_Pro-2-_jpg.rf.846466ca6ae39fa00e6487a6a08221d7.txt  \n",
            "  inflating: train/labels/WIN_20250506_12_26_52_Pro_jpg.rf.1468fedd8f2afe0536fbdaf49fa32d5b.txt  \n",
            "  inflating: train/labels/WIN_20250506_12_26_53_Pro-2-_jpg.rf.4f94847c7fde46a28f4535622d200d8f.txt  \n",
            "  inflating: train/labels/WIN_20250506_12_26_53_Pro-3-_jpg.rf.08158b6bda3d02c3e86d431f9a52a632.txt  \n",
            "  inflating: train/labels/WIN_20250506_12_26_53_Pro-4-_jpg.rf.b31a5fd7dc1fb71b8d3040e7e34cc8af.txt  \n",
            "  inflating: train/labels/WIN_20250506_12_26_53_Pro_jpg.rf.a55bd3754d73b128b181eb8049c0c5db.txt  \n",
            "  inflating: train/labels/WIN_20250506_12_26_54_Pro-2-_jpg.rf.af320361a0de4e4d3d3c97018233e269.txt  \n",
            "  inflating: train/labels/WIN_20250506_12_26_54_Pro-3-_jpg.rf.c5a2bdaf7c1345ae0d7b25fec742866f.txt  \n",
            "  inflating: train/labels/WIN_20250506_12_26_54_Pro_jpg.rf.62ee7e967c2d6a80d063d557fda7be63.txt  \n",
            "  inflating: train/labels/WIN_20250506_12_26_55_Pro-2-_jpg.rf.c94ad9a18759770eaa4272111dcc2ff7.txt  \n",
            " extracting: train/labels/WIN_20250506_12_26_55_Pro-3-_jpg.rf.a375d7ca8dbac2fffd3b05f2b2d109d1.txt  \n",
            "  inflating: train/labels/WIN_20250506_12_26_55_Pro-4-_jpg.rf.51ee2f31f4d4a3769e3382f205fe124f.txt  \n",
            " extracting: train/labels/WIN_20250506_12_26_55_Pro_jpg.rf.8053c58fcf218240603a99e6f0aa383d.txt  \n",
            "  inflating: train/labels/WIN_20250506_12_26_56_Pro_jpg.rf.0fe5fcac6da762361172b16fc4ad9449.txt  \n",
            "  inflating: train/labels/WIN_20250506_12_26_57_Pro-2-_jpg.rf.d52d6e53cb3768830401a49a9e67aeac.txt  \n",
            "  inflating: train/labels/WIN_20250506_12_26_57_Pro-4-_jpg.rf.d04f96ecd913ab9d935f9ded759db309.txt  \n",
            "  inflating: train/labels/WIN_20250506_12_26_58_Pro-3-_jpg.rf.cd7e9676b15139028ada4b1430740658.txt  \n",
            "  inflating: train/labels/WIN_20250506_12_26_58_Pro_jpg.rf.ed24a99466092f98faa08ede63401d35.txt  \n",
            "  inflating: train/labels/WIN_20250506_12_26_59_Pro-2-_jpg.rf.3bcfa8a68c36103a05407dc5a0680e5b.txt  \n",
            "  inflating: train/labels/WIN_20250506_12_26_59_Pro-3-_jpg.rf.cfa8edc92fe4c19911afdb617e558523.txt  \n",
            "  inflating: train/labels/WIN_20250506_12_26_59_Pro-4-_jpg.rf.f9256ca599251610e8d4e3ca46eadacf.txt  \n",
            "  inflating: train/labels/WIN_20250506_12_26_59_Pro_jpg.rf.fa733956f41c171ca5ee3b36bd5670c9.txt  \n",
            "  inflating: train/labels/WIN_20250506_12_27_00_Pro_jpg.rf.f0ae91ff394791aab6c649c5c44f9bb2.txt  \n",
            "  inflating: train/labels/WIN_20250506_12_27_48_Pro_jpg.rf.61b50a1a91d3535c63b9fd334a445bc8.txt  \n",
            " extracting: train/labels/WIN_20250506_12_27_50_Pro_jpg.rf.be183b2f3c90cbca97a8962af079403c.txt  \n",
            "  inflating: train/labels/WIN_20250506_12_27_51_Pro-2-_jpg.rf.595ab05b2c7d54bbac26abd3daf4f86e.txt  \n",
            "  inflating: train/labels/WIN_20250506_12_27_53_Pro_jpg.rf.fe9023a86a6b371c928595b0339569a4.txt  \n",
            "  inflating: train/labels/WIN_20250506_12_27_55_Pro-2-_jpg.rf.17eab7952183b12bf98611335e6d1dae.txt  \n",
            "  inflating: train/labels/WIN_20250506_12_27_55_Pro_jpg.rf.1ff32962cdc8265e872290e8b401d9e2.txt  \n",
            "  inflating: train/labels/WIN_20250506_12_27_57_Pro-2-_jpg.rf.984a8cf2987abc055173acf85a92e67e.txt  \n",
            "  inflating: train/labels/WIN_20250506_12_27_57_Pro-3-_jpg.rf.4ca9673b7bb49a6e167a3a650cbccdaa.txt  \n",
            "  inflating: train/labels/WIN_20250506_12_27_57_Pro_jpg.rf.d3fd30e9a36020dfa288e1303663c9d9.txt  \n",
            "  inflating: train/labels/WIN_20250506_12_27_59_Pro_jpg.rf.5404abe78a85fe3b6b4c852448b7e4da.txt  \n",
            "  inflating: train/labels/WIN_20250506_12_28_00_Pro-2-_jpg.rf.c55eb026a0d53b1584df9b5b7cd18545.txt  \n",
            "  inflating: train/labels/WIN_20250506_12_28_00_Pro-3-_jpg.rf.0d5506a294173d2fd52d41d181e6f61d.txt  \n",
            "  inflating: train/labels/WIN_20250506_12_28_00_Pro_jpg.rf.62b6ef746d386ad145fcaec8f79cfea1.txt  \n",
            "  inflating: train/labels/WIN_20250506_12_28_03_Pro-2-_jpg.rf.c86c7b517dd3601f4a4c12c1d2b1e325.txt  \n",
            " extracting: train/labels/WIN_20250506_12_28_03_Pro-3-_jpg.rf.a2616131e1509ba6137b5a9f9b32136d.txt  \n",
            "  inflating: train/labels/WIN_20250506_12_28_03_Pro_jpg.rf.ca0f0b96f2473a8c98bf64d0c5f92ff3.txt  \n",
            "  inflating: train/labels/WIN_20250506_12_28_05_Pro-3-_jpg.rf.f7690e7afb1409ee11ccfd0fa1d6a764.txt  \n",
            " extracting: train/labels/WIN_20250506_12_28_05_Pro_jpg.rf.586a1b2a9d2cae1c066e532d244a933d.txt  \n",
            "  inflating: train/labels/WIN_20250506_12_28_08_Pro_jpg.rf.161687822ee18a75ba603cafd3d17c93.txt  \n",
            "  inflating: train/labels/WIN_20250506_12_28_09_Pro_jpg.rf.1e78e18df61a447c5c9bf422e88dce29.txt  \n",
            "  inflating: train/labels/WIN_20250506_12_28_12_Pro_jpg.rf.ed8c7e044b76904cd9c709bf0e4da705.txt  \n",
            "  inflating: train/labels/WIN_20250506_12_28_13_Pro_jpg.rf.3b62ac64be169f3311f8b1a278ea5751.txt  \n",
            "  inflating: train/labels/WIN_20250506_12_28_16_Pro_jpg.rf.4b3317b8f03f0f24a5c03c6103972e60.txt  \n",
            "  inflating: train/labels/WIN_20250506_12_28_17_Pro_jpg.rf.83fb5f0f326df6ee336be42bc21c1b16.txt  \n",
            " extracting: train/labels/WIN_20250506_12_28_19_Pro_jpg.rf.074eb97112a7b654e9bd5401ffd4fc94.txt  \n",
            "  inflating: train/labels/WIN_20250506_12_28_21_Pro_jpg.rf.128210f6f84077c5759f0baa4fe4480b.txt  \n",
            "  inflating: train/labels/WIN_20250506_12_28_30_Pro_jpg.rf.3dcc0a9142aae38ebdae0978bde1a9ce.txt  \n",
            "  inflating: train/labels/WIN_20250506_12_28_31_Pro_jpg.rf.78a873aaf02f2c56c0916c1ef78f14c2.txt  \n",
            "  inflating: train/labels/WIN_20250506_12_28_34_Pro_jpg.rf.d2af91359f3fb203a8e6af0aca64cfcc.txt  \n",
            "  inflating: train/labels/WIN_20250506_12_28_39_Pro_jpg.rf.86a1583d0d98e46f9446a325a5f3069c.txt  \n",
            "  inflating: train/labels/WIN_20250506_12_28_41_Pro_jpg.rf.3ce2a31add57ec8e16d57714a2cfe6bf.txt  \n",
            "  inflating: train/labels/WIN_20250506_12_28_43_Pro_jpg.rf.709f26acffbb4c99f7333415fe0468f8.txt  \n",
            "  inflating: train/labels/WIN_20250506_12_28_45_Pro_jpg.rf.49c82f4669aa10b776bcef99f4b2c1b6.txt  \n",
            "  inflating: train/labels/WIN_20250506_12_28_47_Pro_jpg.rf.fae6df6119d6c952781bfdbe3a564466.txt  \n",
            "  inflating: train/labels/WIN_20250506_12_28_54_Pro_jpg.rf.2a3f18018c26ef0eed2b111270b64550.txt  \n",
            "  inflating: train/labels/WIN_20250506_12_28_55_Pro_jpg.rf.0697dfcf171792130ab71a909fe524f6.txt  \n",
            "  inflating: train/labels/WIN_20250506_12_28_57_Pro_jpg.rf.e54b2f06fcb7cbffaa48522216dcff75.txt  \n",
            "  inflating: train/labels/WIN_20250506_12_29_04_Pro_jpg.rf.9afa42c6a4c746f368843bbfb3c2f21a.txt  \n",
            "  inflating: train/labels/WIN_20250506_12_29_06_Pro_jpg.rf.ad27f5597a782ac10cf446410811570e.txt  \n",
            "  inflating: train/labels/WIN_20250506_12_29_07_Pro_jpg.rf.e47f49febe32eeb753c0f62b861e5456.txt  \n",
            "  inflating: train/labels/WIN_20250506_12_29_09_Pro_jpg.rf.273e1857e7376ec5a81fa9744c74c4a9.txt  \n",
            "  inflating: train/labels/WIN_20250506_12_29_11_Pro_jpg.rf.875052608308fbf319d982f8e1b7923f.txt  \n",
            "  inflating: train/labels/WIN_20250506_12_29_24_Pro_jpg.rf.b831428f07ece305d69028476de0ecb8.txt  \n",
            "  inflating: train/labels/WIN_20250506_12_29_26_Pro_jpg.rf.197fa75817abb1aa972fe9ea9643d5ad.txt  \n",
            "  inflating: train/labels/WIN_20250506_12_29_27_Pro_jpg.rf.210fb5ed98116e0272f030d13104b04f.txt  \n",
            "  inflating: train/labels/WIN_20250506_12_29_30_Pro_jpg.rf.02032e82f7c54835fefa9dc71cc745f7.txt  \n",
            "  inflating: train/labels/WIN_20250506_12_29_32_Pro_jpg.rf.a600d3b7ff43bbc9a663c5fce40b7785.txt  \n",
            " extracting: train/labels/WIN_20250506_12_29_33_Pro_jpg.rf.c7d118d9ba1e791f76878ff88e39425b.txt  \n",
            "  inflating: train/labels/WIN_20250506_12_29_34_Pro_jpg.rf.786d209c2cb4ac417b06bf30395bed9c.txt  \n",
            "  inflating: train/labels/WIN_20250506_12_29_44_Pro_jpg.rf.922644b98e48e039b41cad5584185d4f.txt  \n",
            "  inflating: train/labels/WIN_20250506_12_29_47_Pro_jpg.rf.72eedb22eb069d590455a6424bfe53b9.txt  \n",
            "  inflating: train/labels/WIN_20250506_12_29_50_Pro_jpg.rf.5590836b505ec19e5b012d891eadb517.txt  \n",
            "  inflating: train/labels/WIN_20250506_12_29_56_Pro_jpg.rf.3adfc72ee6c2642211afc5cdcb6ccb33.txt  \n",
            "  inflating: train/labels/WIN_20250506_12_30_02_Pro_jpg.rf.9fcde1b87bc5547fc2a91ab5f6a4e616.txt  \n",
            "  inflating: train/labels/WIN_20250506_12_30_03_Pro_jpg.rf.8f930e7490654063b11982a3aab2e423.txt  \n",
            "  inflating: train/labels/WIN_20250506_12_30_05_Pro_jpg.rf.b942018711e1a369fc78e6bdd4a044e5.txt  \n",
            "  inflating: train/labels/WIN_20250506_12_30_08_Pro_jpg.rf.9636fe79c02e4417e53cf17fe552d6bd.txt  \n",
            "  inflating: train/labels/WIN_20250506_12_30_09_Pro_jpg.rf.a5013d1030b13e37b9a82ac05206b171.txt  \n",
            "  inflating: train/labels/WIN_20250506_12_30_12_Pro_jpg.rf.e94ae3303304f46a7822f3d400bba67f.txt  \n",
            "  inflating: train/labels/WIN_20250506_12_30_13_Pro_jpg.rf.1d2a7107175b593cd154cb853a181f66.txt  \n",
            "  inflating: train/labels/WIN_20250506_12_30_15_Pro_jpg.rf.fabf3ef10e1828de1c3c0444ba22baf6.txt  \n",
            "  inflating: train/labels/WIN_20250506_12_30_17_Pro_jpg.rf.8167711a854ef79c833e53975f1737aa.txt  \n",
            "  inflating: train/labels/WIN_20250506_12_30_19_Pro_jpg.rf.87b29552285a79fdbee976e9368f706e.txt  \n",
            "  inflating: train/labels/WIN_20250506_12_30_28_Pro_jpg.rf.0da207256e17bfbf7580d8ea8c0b995a.txt  \n",
            "  inflating: train/labels/WIN_20250506_12_30_30_Pro_jpg.rf.e9f8e4d6589e7b4951e5dd4d25feed03.txt  \n",
            "  inflating: train/labels/WIN_20250506_12_30_32_Pro_jpg.rf.667495f2ff0ac7615c64d40f5825622b.txt  \n",
            "  inflating: train/labels/WIN_20250506_12_30_33_Pro_jpg.rf.80d5655da80e49e4fd9c9d4e9cc035d8.txt  \n",
            "  inflating: train/labels/WIN_20250506_12_30_35_Pro_jpg.rf.bab2ca1d35060521fdbdc465e21dabf0.txt  \n",
            "  inflating: train/labels/WIN_20250506_12_30_38_Pro_jpg.rf.2153e6db918ed0d1281a667df9b3b681.txt  \n",
            "  inflating: train/labels/WIN_20250506_12_30_39_Pro_jpg.rf.fecbcf38fc62c6344769acf00693984a.txt  \n",
            "  inflating: train/labels/WIN_20250506_12_30_41_Pro_jpg.rf.e1f85534ff7cb431a4e36106ce792f1f.txt  \n",
            "  inflating: train/labels/WIN_20250506_12_30_43_Pro_jpg.rf.a0978746426c2b0ce2a16b3e05fe8f4f.txt  \n",
            "  inflating: train/labels/WIN_20250506_12_30_44_Pro_jpg.rf.868b76bc596dadeadcee16657d28ec63.txt  \n",
            "  inflating: train/labels/WIN_20250506_12_30_45_Pro_jpg.rf.37fd1b6bfe4035f25feb349388558b3d.txt  \n",
            "  inflating: train/labels/WIN_20250506_12_30_51_Pro_jpg.rf.3c021a39b28d33d25e0ff9ad6bcfb4ef.txt  \n",
            "  inflating: train/labels/WIN_20250506_12_30_52_Pro_jpg.rf.9ea61387ca733914ff4c3ba49afba6a4.txt  \n",
            "  inflating: train/labels/WIN_20250506_12_30_54_Pro_jpg.rf.860f5d645dcd68f068d4523f76cfc874.txt  \n",
            "  inflating: train/labels/WIN_20250506_12_30_55_Pro_jpg.rf.3ec14ce36c9efb02e5f6578ab2626f86.txt  \n",
            "  inflating: train/labels/WIN_20250506_12_30_57_Pro_jpg.rf.9ba674c230618d103f7b8e9cc9cab06f.txt  \n",
            "  inflating: train/labels/WIN_20250506_12_30_58_Pro_jpg.rf.a08f9d4d214502395b9616eacc428dbb.txt  \n",
            "  inflating: train/labels/WIN_20250506_12_31_02_Pro_jpg.rf.9e5b1d3df3bbe38adc71535e664d69e0.txt  \n",
            "  inflating: train/labels/WIN_20250506_12_31_04_Pro_jpg.rf.e66bbf08059e20e874036ca2849b42c7.txt  \n",
            "  inflating: train/labels/WIN_20250506_12_33_26_Pro_jpg.rf.ab2f0262c56296c8d90361655afc87a5.txt  \n",
            "  inflating: train/labels/WIN_20250506_12_33_27_Pro_jpg.rf.f4995bef71309e8d1b74f6af60fbd4b9.txt  \n",
            "  inflating: train/labels/WIN_20250506_12_33_28_Pro_jpg.rf.9e162a9e331c2c06c5ce2277b6e08245.txt  \n",
            "  inflating: train/labels/WIN_20250506_12_33_31_Pro_jpg.rf.e11a87f5a1b57efe29f811246c0f4d8c.txt  \n",
            "  inflating: train/labels/WIN_20250506_12_33_32_Pro_jpg.rf.ba2ea92ef826aa563aac38bef2654299.txt  \n",
            "  inflating: train/labels/WIN_20250506_12_33_34_Pro_jpg.rf.7dab73306ed6d3a5050849796e8b486c.txt  \n",
            "  inflating: train/labels/WIN_20250506_12_33_35_Pro_jpg.rf.5f0b9fc0a8a92df4901ca92157fdd65a.txt  \n",
            "  inflating: train/labels/WIN_20250506_12_33_37_Pro_jpg.rf.84947eac40dbca289e233b5fc0684d07.txt  \n",
            " extracting: train/labels/WIN_20250506_12_33_38_Pro_jpg.rf.86c92739ac2ec04e77f7cc31d9373c8d.txt  \n",
            "  inflating: train/labels/WIN_20250506_12_33_40_Pro_jpg.rf.6f6a3408ed511a85b6cc690ca6d96ecd.txt  \n",
            "  inflating: train/labels/WIN_20250506_12_33_41_Pro_jpg.rf.e44a5d0fecaf29261e8dd45a3be07cc3.txt  \n",
            "  inflating: train/labels/WIN_20250506_12_33_43_Pro_jpg.rf.00b9fb29661e3799a0de6aa0ef61f900.txt  \n",
            "  inflating: train/labels/WIN_20250506_12_33_46_Pro_jpg.rf.93caa4ad31c48b00f6c8d83565a9abf1.txt  \n",
            "  inflating: train/labels/WIN_20250506_12_35_09_Pro_jpg.rf.ce3d602bfc3b6df9677e5bb7c02633d5.txt  \n",
            "  inflating: train/labels/WIN_20250506_12_35_12_Pro_jpg.rf.4caa53a63d65c823b88eb9cc07c42e81.txt  \n",
            " extracting: train/labels/WIN_20250506_12_35_13_Pro_jpg.rf.8e9b7299e043bef626990268562f36b2.txt  \n",
            "  inflating: train/labels/WIN_20250506_12_35_15_Pro_jpg.rf.42f0b29205c83104bcb4e9159e3e6d99.txt  \n",
            "  inflating: train/labels/WIN_20250506_12_35_18_Pro_jpg.rf.248c517984240ddc53dfc4fa34155620.txt  \n",
            "  inflating: train/labels/WIN_20250506_12_35_19_Pro_jpg.rf.d3a3ee66d8b457a9c54bdc5e404c4dff.txt  \n",
            "  inflating: train/labels/WIN_20250506_12_35_21_Pro_jpg.rf.91bcdc99ec9b1465b0ec0f86b5904384.txt  \n",
            "  inflating: train/labels/WIN_20250506_12_35_23_Pro_jpg.rf.05b3ea025712670f753c19a74db2214d.txt  \n",
            "  inflating: train/labels/WIN_20250506_12_35_25_Pro_jpg.rf.8b5b9080b542e29013cc5eccea25b11f.txt  \n",
            "  inflating: train/labels/WIN_20250506_12_35_28_Pro_jpg.rf.612fa2eb1330ccf2306616496e720282.txt  \n",
            "  inflating: train/labels/WIN_20250506_12_35_29_Pro_jpg.rf.9af74325e9e927a2b4af8222d08ed74e.txt  \n",
            "  inflating: train/labels/WIN_20250506_12_35_34_Pro_jpg.rf.64885d8be38b3f5960b20fff7d1f01d3.txt  \n",
            "  inflating: train/labels/WIN_20250506_12_35_36_Pro_jpg.rf.2a02e8fa236e832e00c446999a9f7adb.txt  \n",
            "  inflating: train/labels/WIN_20250506_12_35_39_Pro_jpg.rf.3fa87edb63235e882c34d9119d8a7c73.txt  \n",
            "  inflating: train/labels/WIN_20250506_12_35_42_Pro_jpg.rf.b33a49228dcfc07d017d0d98fe6313a4.txt  \n",
            "  inflating: train/labels/WIN_20250506_12_35_44_Pro_jpg.rf.a04641bbb2b4f83206efaafd6bfe1896.txt  \n",
            "  inflating: train/labels/WIN_20250506_12_35_45_Pro_jpg.rf.8ba155e57c7a6c43d5e849fdfb27daa4.txt  \n",
            "  inflating: train/labels/WIN_20250506_12_35_47_Pro_jpg.rf.92f5bc7e8fb87571a09a9554fae7d016.txt  \n",
            "  inflating: train/labels/WIN_20250506_12_35_50_Pro_jpg.rf.2837535d08ae314dd8fe9b79f84a69d8.txt  \n",
            "  inflating: train/labels/WIN_20250506_12_35_52_Pro_jpg.rf.2e346f68a77818984c8b037c1bd8997b.txt  \n",
            "  inflating: train/labels/WIN_20250506_12_35_54_Pro_jpg.rf.fda9ac2a2b8a0666278b6ffb93978675.txt  \n",
            "  inflating: train/labels/WIN_20250506_12_35_56_Pro_jpg.rf.77872b1752ced313f7e053cf6893d796.txt  \n",
            "  inflating: train/labels/WIN_20250506_12_36_03_Pro_jpg.rf.ad418dd8b4811009d553a30269fbab6b.txt  \n",
            "  inflating: train/labels/WIN_20250506_12_36_05_Pro_jpg.rf.a165c85052ddd5b938a3752a9e45605f.txt  \n",
            "  inflating: train/labels/WIN_20250506_12_36_06_Pro_jpg.rf.022239e518b0a9be33856add88002a48.txt  \n",
            "  inflating: train/labels/WIN_20250506_12_36_13_Pro_jpg.rf.0d89996e741723790f982dce88b5571b.txt  \n",
            "  inflating: train/labels/WIN_20250506_12_36_14_Pro_jpg.rf.920dcd1c9631342a0b72410ec2aeac15.txt  \n",
            "  inflating: train/labels/WIN_20250506_12_36_16_Pro_jpg.rf.3390db30227f3add1060fcec5689c939.txt  \n",
            "  inflating: train/labels/WIN_20250506_12_36_22_Pro_jpg.rf.d917ff16683eff752ba1a520b1623ea6.txt  \n",
            "  inflating: train/labels/WIN_20250506_12_36_23_Pro_jpg.rf.88b603f1d265636ab61b7e6e75255d96.txt  \n",
            "  inflating: train/labels/WIN_20250506_12_36_26_Pro_jpg.rf.570f72cafccd39a541a22dd10a3677c0.txt  \n",
            "  inflating: train/labels/WIN_20250506_12_36_29_Pro_jpg.rf.a09db80e01793f5508f7b28b4bca15d5.txt  \n",
            "  inflating: train/labels/WIN_20250506_12_36_32_Pro_jpg.rf.f681a4f0aa7bf087cb56571fd6457bde.txt  \n",
            "  inflating: train/labels/WIN_20250506_12_36_33_Pro_jpg.rf.bcec2b6b82b7a272819a5b6730035ae9.txt  \n",
            "  inflating: train/labels/WIN_20250506_12_36_35_Pro_jpg.rf.661d56fb86e0b450177b671962cc9d77.txt  \n",
            "  inflating: train/labels/WIN_20250506_12_36_36_Pro_jpg.rf.67a81aca180987c95d3623fd2f19c5d9.txt  \n",
            "  inflating: train/labels/WIN_20250506_12_36_40_Pro_jpg.rf.997c3ff61ad03d9e523ea6244edce553.txt  \n",
            "  inflating: train/labels/WIN_20250506_12_36_41_Pro_jpg.rf.5625e0d738a11e9c03d77787c8591126.txt  \n",
            "  inflating: train/labels/WIN_20250506_12_36_44_Pro_jpg.rf.d44f68cc1f0511cd1e4a6ebfdff521db.txt  \n",
            " extracting: train/labels/WIN_20250506_12_36_45_Pro_jpg.rf.650864bc0b9e1dbc73f360db83426b96.txt  \n",
            "  inflating: train/labels/WIN_20250506_12_36_58_Pro_jpg.rf.d5b56bb62abaa619eca03f8e081065e7.txt  \n",
            "  inflating: train/labels/WIN_20250506_12_36_59_Pro_jpg.rf.5d1676e959a1ae50015a586dd0cb5f64.txt  \n",
            "  inflating: train/labels/WIN_20250506_12_37_01_Pro_jpg.rf.00f7005d663dc3dd40b9cb6ccda76aeb.txt  \n",
            "  inflating: train/labels/WIN_20250506_12_37_02_Pro_jpg.rf.8b3edc4477f3545dbd18abc4d6f0fa40.txt  \n",
            "  inflating: train/labels/WIN_20250506_12_37_04_Pro_jpg.rf.65bcbfb54b65020ff4c53635635a056e.txt  \n",
            "  inflating: train/labels/WIN_20250506_12_37_05_Pro_jpg.rf.ac58601e3be60a3e783519ab9c170ba8.txt  \n",
            "  inflating: train/labels/WIN_20250506_12_37_07_Pro_jpg.rf.887b523af2307f4101b09a9bc4b43a6d.txt  \n",
            "  inflating: train/labels/WIN_20250506_12_37_11_Pro_jpg.rf.89013ce758e5c7ff2ccfa28785838311.txt  \n",
            "  inflating: train/labels/WIN_20250506_12_37_12_Pro_jpg.rf.125888ce9a67ee34349da9d38b6bd5ee.txt  \n",
            "  inflating: train/labels/WIN_20250506_12_37_17_Pro_jpg.rf.a0e4dcc4a94fc3d63656bb6c0d871535.txt  \n",
            "  inflating: train/labels/WIN_20250506_12_37_18_Pro_jpg.rf.6c5ed34dfe887f8359fe0f89931cda6d.txt  \n",
            "  inflating: train/labels/WIN_20250506_12_37_20_Pro_jpg.rf.487e17461c803cd3b0f3765cc03879f9.txt  \n",
            "  inflating: train/labels/WIN_20250506_12_37_21_Pro_jpg.rf.896a9067a8b551558e7fba645c7b0f2b.txt  \n",
            "  inflating: train/labels/WIN_20250506_12_37_23_Pro_jpg.rf.d3b3dedac34d587eadf89ca2072b8665.txt  \n",
            "  inflating: train/labels/WIN_20250506_12_37_25_Pro_jpg.rf.ee0b97885f1da57a166308b34d47bbe2.txt  \n",
            "  inflating: train/labels/WIN_20250506_12_37_28_Pro_jpg.rf.a8ce858c3993bd80bb303470601b7926.txt  \n",
            "  inflating: train/labels/WIN_20250506_12_37_30_Pro_jpg.rf.a9bb2fd8d11912e86588632b6553e1d2.txt  \n",
            "  inflating: train/labels/WIN_20250506_12_37_31_Pro_jpg.rf.e648b73132a266a13f9ff2481ad56668.txt  \n",
            "  inflating: train/labels/WIN_20250506_12_37_33_Pro_jpg.rf.747a16eb146eb1e8f86e825153871aea.txt  \n",
            "  inflating: train/labels/WIN_20250506_12_37_35_Pro_jpg.rf.9d6170b181d964a5faa5a525f1d31f49.txt  \n",
            "  inflating: train/labels/WIN_20250506_12_37_37_Pro_jpg.rf.8a62d261d73a1e4a1b9c1b1503dcdcf5.txt  \n",
            "  inflating: train/labels/WIN_20250506_12_37_39_Pro_jpg.rf.87b6cd48cacb854fb35ec9ca6991a89c.txt  \n",
            "  inflating: train/labels/WIN_20250506_12_37_41_Pro_jpg.rf.69e1ad3efd029802f14cda7bcf6aa59a.txt  \n",
            "  inflating: train/labels/WIN_20250506_12_37_42_Pro_jpg.rf.3f416b54ae55dcf44a27ddfa47c30134.txt  \n",
            "  inflating: train/labels/WIN_20250506_12_37_44_Pro_jpg.rf.3b59b16eb5a449a4cb9d0b9fafaae7c4.txt  \n",
            "  inflating: train/labels/WIN_20250506_12_37_47_Pro_jpg.rf.92b286294ccf9b65932a8ec7d1539479.txt  \n",
            "  inflating: train/labels/WIN_20250506_12_37_48_Pro_jpg.rf.f6ba5f30a6e95c0057ac7f804a4824ae.txt  \n",
            " extracting: train/labels/WIN_20250506_12_37_50_Pro_jpg.rf.0732c299c9caf6ca3660a2c8214f8249.txt  \n",
            "  inflating: train/labels/WIN_20250506_12_37_53_Pro_jpg.rf.103b2ccdf90c81e4ea28847da84ee2a1.txt  \n",
            "  inflating: train/labels/WIN_20250506_12_37_55_Pro_jpg.rf.47a9804114abb8a2bf2a3a2489534c71.txt  \n",
            "  inflating: train/labels/WIN_20250506_12_37_58_Pro_jpg.rf.c80faa17edba9963d93bd2383fc5a42b.txt  \n",
            "  inflating: train/labels/WIN_20250506_12_37_59_Pro_jpg.rf.e33ea359182a2b605cec7887c196eb80.txt  \n",
            "  inflating: train/labels/WIN_20250506_12_38_01_Pro_jpg.rf.988968b86c772694e46e6921fece91ec.txt  \n",
            "  inflating: train/labels/WIN_20250506_12_38_02_Pro_jpg.rf.8cd2206a0e0e8765f36ebb2123cb1304.txt  \n",
            "  inflating: train/labels/WIN_20250506_12_38_07_Pro_jpg.rf.598c1272156ac7d8c9f57d802920ab1a.txt  \n",
            "  inflating: train/labels/WIN_20250506_12_38_08_Pro_jpg.rf.ff49f0489f381c78b494496158475071.txt  \n",
            "  inflating: train/labels/WIN_20250506_12_38_09_Pro_jpg.rf.8f26ae13081d8d4fc1ca36b2f6537ff3.txt  \n",
            "  inflating: train/labels/WIN_20250506_12_38_12_Pro_jpg.rf.1287ab314fae57138092ceaab6f7cea6.txt  \n",
            "  inflating: train/labels/WIN_20250506_12_38_14_Pro_jpg.rf.8e3135364b8009f87e576cdccf96248b.txt  \n",
            "  inflating: train/labels/WIN_20250506_12_38_17_Pro_jpg.rf.357119388ee4b68e858eb2290acfd6d9.txt  \n",
            "  inflating: train/labels/WIN_20250506_12_38_26_Pro_jpg.rf.0ff1b68035df766d6d264dc1c3740f9d.txt  \n",
            "  inflating: train/labels/WIN_20250506_12_38_31_Pro_jpg.rf.13b6b6477bcec4b51cbd73d03a0d37c4.txt  \n",
            "  inflating: train/labels/WIN_20250506_12_38_34_Pro_jpg.rf.2ed478cddedf0fbdd69a53df589d1510.txt  \n",
            "  inflating: train/labels/WIN_20250506_12_38_38_Pro_jpg.rf.cf93012d2f694b0a40836d2722f8b69f.txt  \n",
            "  inflating: train/labels/WIN_20250506_12_38_39_Pro_jpg.rf.ec7b62a095bfc333d541b6ac5789dca2.txt  \n",
            "  inflating: train/labels/WIN_20250506_12_38_41_Pro_jpg.rf.aa1b4db23e7a1bc6a5516dd4b4b10237.txt  \n",
            "  inflating: train/labels/WIN_20250506_12_38_43_Pro_jpg.rf.48b62a17dd5b1fad69337438f1550d72.txt  \n",
            "  inflating: train/labels/WIN_20250506_12_38_44_Pro_jpg.rf.74c324192d2e9aa4d819523a4021f3e1.txt  \n",
            "  inflating: train/labels/WIN_20250506_12_38_46_Pro_jpg.rf.ada4cded881a7adfe929f9a60155d0da.txt  \n",
            "  inflating: train/labels/WIN_20250506_12_38_48_Pro_jpg.rf.8291e4dd6b6c139e18819a2c9e9cd3ba.txt  \n",
            "  inflating: train/labels/WIN_20250506_12_38_54_Pro_jpg.rf.7ace1822011aed4e1cb920bd09419fd4.txt  \n",
            "  inflating: train/labels/WIN_20250506_12_38_55_Pro_jpg.rf.9456dcc4c9c9bab3274fcb11f831d553.txt  \n",
            "  inflating: train/labels/WIN_20250506_12_38_57_Pro_jpg.rf.d9668a0327a2ab9c28763e17e8211f3b.txt  \n",
            "  inflating: train/labels/WIN_20250506_12_38_58_Pro_jpg.rf.af864da8727ed71977e5d5b3fe112560.txt  \n",
            "  inflating: train/labels/WIN_20250506_12_39_00_Pro_jpg.rf.dbe92ea3c96f9ba6131a27e3b4bf9c58.txt  \n",
            "  inflating: train/labels/WIN_20250506_12_39_01_Pro_jpg.rf.c48caea33f52162b8e79c156b21aac13.txt  \n",
            "  inflating: train/labels/WIN_20250506_12_39_02_Pro_jpg.rf.8ec7685d5ecf136422bd550bea173823.txt  \n",
            "  inflating: train/labels/WIN_20250506_12_39_07_Pro_jpg.rf.9dd2976ed7c3033512c90a04bb651191.txt  \n",
            "  inflating: train/labels/WIN_20250506_12_39_10_Pro_jpg.rf.c2ea2d561f32baeccb71c87cbe96023e.txt  \n",
            "  inflating: train/labels/WIN_20250506_12_39_11_Pro_jpg.rf.f465af5c13925ec2a12d6522b91886a9.txt  \n",
            "  inflating: train/labels/WIN_20250506_12_39_13_Pro_jpg.rf.ebd18b243407b0a0402044b58720482f.txt  \n",
            "  inflating: train/labels/WIN_20250506_12_39_15_Pro_jpg.rf.ca47b2e341abcb45b1505a1a0887a777.txt  \n",
            "   creating: valid/\n",
            "   creating: valid/images/\n",
            " extracting: valid/images/WIN_20250506_12_16_48_Pro_jpg.rf.4b4eef0ad680be6b1f7508b79f879b28.jpg  \n",
            " extracting: valid/images/WIN_20250506_12_17_26_Pro_jpg.rf.af762b08030099d3444ae8e68bb1dbf9.jpg  \n",
            " extracting: valid/images/WIN_20250506_12_17_33_Pro_jpg.rf.6d66c4850218022bd50d746a1fae7742.jpg  \n",
            " extracting: valid/images/WIN_20250506_12_17_55_Pro_jpg.rf.d3dc6ad525427a1cbf897b858f675f8f.jpg  \n",
            " extracting: valid/images/WIN_20250506_12_17_57_Pro_jpg.rf.73c756215be64ae3cb82bd73d7574d88.jpg  \n",
            " extracting: valid/images/WIN_20250506_12_18_10_Pro_jpg.rf.88cf10c9eb687be49f2a03eb52adb11d.jpg  \n",
            " extracting: valid/images/WIN_20250506_12_18_13_Pro-2-_jpg.rf.e97c726184492985532c4c47d1921ec6.jpg  \n",
            " extracting: valid/images/WIN_20250506_12_18_25_Pro_jpg.rf.04d63fe4b338a4201005ae93b17768ff.jpg  \n",
            " extracting: valid/images/WIN_20250506_12_18_54_Pro-2-_jpg.rf.265c19bc0dbdd2956be76eca237fda0d.jpg  \n",
            " extracting: valid/images/WIN_20250506_12_18_55_Pro_jpg.rf.2d2421a6a8a1fed200f9faa4c8ffded0.jpg  \n",
            " extracting: valid/images/WIN_20250506_12_18_59_Pro-3-_jpg.rf.6db7fa82c71ffe51e6c7d5908eb482df.jpg  \n",
            " extracting: valid/images/WIN_20250506_12_19_03_Pro-3-_jpg.rf.ec420890eabbeb7cf5ecf7afe2316a1a.jpg  \n",
            " extracting: valid/images/WIN_20250506_12_19_03_Pro-4-_jpg.rf.22325bee4e663b44d3ba8a3446e635e1.jpg  \n",
            " extracting: valid/images/WIN_20250506_12_19_09_Pro-2-_jpg.rf.3112ccfce1481542df710efbcec971a9.jpg  \n",
            " extracting: valid/images/WIN_20250506_12_19_14_Pro-4-_jpg.rf.0e16c7f5795068fe34a6634296d3f7c1.jpg  \n",
            " extracting: valid/images/WIN_20250506_12_19_17_Pro_jpg.rf.fc845f6dd3dd863ff3f53174049c42ab.jpg  \n",
            " extracting: valid/images/WIN_20250506_12_19_19_Pro-2-_jpg.rf.ffacd29c12a4ff74468e4cf5caa51d1f.jpg  \n",
            " extracting: valid/images/WIN_20250506_12_19_19_Pro-3-_jpg.rf.94e117644e434be3b754a937258f69b6.jpg  \n",
            " extracting: valid/images/WIN_20250506_12_19_20_Pro_jpg.rf.7d04d7712517cd0e8741e289b86b9c7d.jpg  \n",
            " extracting: valid/images/WIN_20250506_12_19_25_Pro-3-_jpg.rf.9c171dfcc9cf8c1fa47d64bdf51c71ea.jpg  \n",
            " extracting: valid/images/WIN_20250506_12_19_26_Pro-3-_jpg.rf.c11a62bd7480dadc88a85ce889255d2d.jpg  \n",
            " extracting: valid/images/WIN_20250506_12_19_28_Pro-3-_jpg.rf.5d5bc3a3971e5478b9852ffc10ec0ec6.jpg  \n",
            " extracting: valid/images/WIN_20250506_12_19_29_Pro-2-_jpg.rf.d4aca9da837bedf14f112aeb5adf590e.jpg  \n",
            " extracting: valid/images/WIN_20250506_12_19_36_Pro-3-_jpg.rf.5d6a80f84df7dfc80338d0a96622abad.jpg  \n",
            " extracting: valid/images/WIN_20250506_12_19_37_Pro_jpg.rf.4e995271089886bdbb4461eeffe23525.jpg  \n",
            " extracting: valid/images/WIN_20250506_12_19_41_Pro_jpg.rf.1413b6f9970be7a039941b94151797a6.jpg  \n",
            " extracting: valid/images/WIN_20250506_12_19_56_Pro-2-_jpg.rf.6c06d6bd5824686d2b37c9f7b76390df.jpg  \n",
            " extracting: valid/images/WIN_20250506_12_19_58_Pro_jpg.rf.2a6ee03cc2ee66da7002889b8e3150cb.jpg  \n",
            " extracting: valid/images/WIN_20250506_12_20_00_Pro-3-_jpg.rf.81b123aab0df308a8aee7415ea5d5dad.jpg  \n",
            " extracting: valid/images/WIN_20250506_12_20_05_Pro-2-_jpg.rf.f971ffbaed75ce1f92de65b3940998a9.jpg  \n",
            " extracting: valid/images/WIN_20250506_12_20_05_Pro_jpg.rf.772b80d9a764d2943559ff969797df52.jpg  \n",
            " extracting: valid/images/WIN_20250506_12_20_07_Pro-3-_jpg.rf.19ae5494cea9ca1ce2eeac214d9d92ff.jpg  \n",
            " extracting: valid/images/WIN_20250506_12_20_13_Pro_jpg.rf.a76ad536bbf775e75ee2ac0f48d0d9f0.jpg  \n",
            " extracting: valid/images/WIN_20250506_12_20_14_Pro_jpg.rf.204824c83f4524d7958cf41187d83904.jpg  \n",
            " extracting: valid/images/WIN_20250506_12_20_17_Pro-2-_jpg.rf.9069687c78a6526d5d6698a86a19a3cd.jpg  \n",
            " extracting: valid/images/WIN_20250506_12_20_17_Pro-4-_jpg.rf.374024a8a5205234c583823c7fe2c6ff.jpg  \n",
            " extracting: valid/images/WIN_20250506_12_20_19_Pro-2-_jpg.rf.63887c44e22bd83560b23269b6d9a1a0.jpg  \n",
            " extracting: valid/images/WIN_20250506_12_20_19_Pro_jpg.rf.842da2088557642f6d6b568c1e86be34.jpg  \n",
            " extracting: valid/images/WIN_20250506_12_20_20_Pro_jpg.rf.dbd96e9c3c0142cab06ee32cbacd69c3.jpg  \n",
            " extracting: valid/images/WIN_20250506_12_20_29_Pro_jpg.rf.a01869126b4567444d552329eb335f77.jpg  \n",
            " extracting: valid/images/WIN_20250506_12_20_32_Pro-2-_jpg.rf.66d3090545f4b1669e31a83da4d06f59.jpg  \n",
            " extracting: valid/images/WIN_20250506_12_20_51_Pro_jpg.rf.92826dc72c6d56a27b584f5ba5d8591a.jpg  \n",
            " extracting: valid/images/WIN_20250506_12_20_53_Pro-3-_jpg.rf.43900cb7afc0d5aa47049f399d6f5515.jpg  \n",
            " extracting: valid/images/WIN_20250506_12_20_54_Pro-4-_jpg.rf.915281e860204af2dc9d344dff249a64.jpg  \n",
            " extracting: valid/images/WIN_20250506_12_21_03_Pro-2-_jpg.rf.fc589ce9196e6cb83b279cdad537362c.jpg  \n",
            " extracting: valid/images/WIN_20250506_12_21_03_Pro-3-_jpg.rf.8d0cb92d2c59d80dd6da7bfb10bc0642.jpg  \n",
            " extracting: valid/images/WIN_20250506_12_21_07_Pro-2-_jpg.rf.f6231bc7b660d9a9de68c393ef6b20c0.jpg  \n",
            " extracting: valid/images/WIN_20250506_12_21_17_Pro_jpg.rf.b7cc4f01a8a9b874900e36cc39f88a47.jpg  \n",
            " extracting: valid/images/WIN_20250506_12_21_18_Pro-3-_jpg.rf.624877924af18eccb153b26a25814ad4.jpg  \n",
            " extracting: valid/images/WIN_20250506_12_21_21_Pro-3-_jpg.rf.049102e05f2a2d8fa5b058769414ed3e.jpg  \n",
            " extracting: valid/images/WIN_20250506_12_21_24_Pro-4-_jpg.rf.441ebcfe1e88993eb97fe8f25bb42a25.jpg  \n",
            " extracting: valid/images/WIN_20250506_12_21_28_Pro-2-_jpg.rf.1c93e50b667e074a56fba09768ac47d2.jpg  \n",
            " extracting: valid/images/WIN_20250506_12_21_29_Pro-3-_jpg.rf.6c1c37ee4b90f2152caf7ac80a7b2db2.jpg  \n",
            " extracting: valid/images/WIN_20250506_12_21_30_Pro-3-_jpg.rf.89da3508bb96f40b3ee2f9e4af7e79d6.jpg  \n",
            " extracting: valid/images/WIN_20250506_12_21_36_Pro-2-_jpg.rf.34c10e74d745824690c1a01dcc790483.jpg  \n",
            " extracting: valid/images/WIN_20250506_12_21_37_Pro-2-_jpg.rf.234c9b59eef9a1e6acc412e4d0c109e1.jpg  \n",
            " extracting: valid/images/WIN_20250506_12_21_38_Pro-4-_jpg.rf.07a05f008f7d5d947ed2268a056be10e.jpg  \n",
            " extracting: valid/images/WIN_20250506_12_21_39_Pro_jpg.rf.abb7844188ce35bcd25ea2ef6aa55b67.jpg  \n",
            " extracting: valid/images/WIN_20250506_12_21_48_Pro-3-_jpg.rf.2fe2e447df73ae2dd59467d57cd7277e.jpg  \n",
            " extracting: valid/images/WIN_20250506_12_21_52_Pro-2-_jpg.rf.fb203a9a3baa9fe819179241447354b5.jpg  \n",
            " extracting: valid/images/WIN_20250506_12_21_55_Pro-3-_jpg.rf.3172a4fb87e99ec42dfe398d8bd8b157.jpg  \n",
            " extracting: valid/images/WIN_20250506_12_21_58_Pro-2-_jpg.rf.0cd4520a14072c30fd38dd50b69c3f05.jpg  \n",
            " extracting: valid/images/WIN_20250506_12_21_58_Pro_jpg.rf.1d843fc81ec93cfcc48c33913eaf6248.jpg  \n",
            " extracting: valid/images/WIN_20250506_12_22_18_Pro-2-_jpg.rf.e674823ccab252b0569e724cf82d8f7f.jpg  \n",
            " extracting: valid/images/WIN_20250506_12_22_18_Pro-3-_jpg.rf.9ed7f32df6b80fff68c94e6e2d97b3cc.jpg  \n",
            " extracting: valid/images/WIN_20250506_12_22_19_Pro-2-_jpg.rf.5d845441e56a7dc2b6bd6f045dad8705.jpg  \n",
            " extracting: valid/images/WIN_20250506_12_22_19_Pro-4-_jpg.rf.5eb1526263f196a2f9db423f3e86751d.jpg  \n",
            " extracting: valid/images/WIN_20250506_12_22_19_Pro_jpg.rf.e1adba32a6ffbd5ee637cf50589c6bbc.jpg  \n",
            " extracting: valid/images/WIN_20250506_12_22_21_Pro-2-_jpg.rf.841b890fc886302bcc690fa521aaff49.jpg  \n",
            " extracting: valid/images/WIN_20250506_12_22_22_Pro-2-_jpg.rf.4286e67fc5f70831b672d75d569f7fb9.jpg  \n",
            " extracting: valid/images/WIN_20250506_12_22_22_Pro_jpg.rf.ab311e29bd25737273e5cc3fb7153dca.jpg  \n",
            " extracting: valid/images/WIN_20250506_12_22_23_Pro_jpg.rf.2100c0d535dde17846be196845199b27.jpg  \n",
            " extracting: valid/images/WIN_20250506_12_22_31_Pro-2-_jpg.rf.6493878cdcdd290db5726524616b3b44.jpg  \n",
            " extracting: valid/images/WIN_20250506_12_22_41_Pro-3-_jpg.rf.3c6c53642aa66e572f64ae49e417fa87.jpg  \n",
            " extracting: valid/images/WIN_20250506_12_22_43_Pro_jpg.rf.f64d2bb4e8db4a93053a25e66ad9a1f6.jpg  \n",
            " extracting: valid/images/WIN_20250506_12_22_45_Pro-3-_jpg.rf.3fd44f12e7cc079fdd2a20ea621ce8c9.jpg  \n",
            " extracting: valid/images/WIN_20250506_12_22_45_Pro-4-_jpg.rf.9f7d66ff724096782f7433dd9ff05ccf.jpg  \n",
            " extracting: valid/images/WIN_20250506_12_22_45_Pro-5-_jpg.rf.6a8a540bbb4a03b7574f220897a23db4.jpg  \n",
            " extracting: valid/images/WIN_20250506_12_22_47_Pro-2-_jpg.rf.f07da3645689ca8f3761b682f46dd610.jpg  \n",
            " extracting: valid/images/WIN_20250506_12_22_56_Pro-2-_jpg.rf.811aec38ddf868c150a3679ddc5e7829.jpg  \n",
            " extracting: valid/images/WIN_20250506_12_22_57_Pro_jpg.rf.d5a76dfa8bd0fe037365b87afffb5516.jpg  \n",
            " extracting: valid/images/WIN_20250506_12_23_04_Pro-2-_jpg.rf.2ff790fdd01b6116e6c19e0d7e05de50.jpg  \n",
            " extracting: valid/images/WIN_20250506_12_23_05_Pro-2-_jpg.rf.0e6d1cfc430821b0739355c094cf3b5e.jpg  \n",
            " extracting: valid/images/WIN_20250506_12_23_07_Pro_jpg.rf.9bfe34b5b3ce46de495a608fce04f17b.jpg  \n",
            " extracting: valid/images/WIN_20250506_12_23_09_Pro_jpg.rf.faa3e17df90e22c79077961c4dd48bdb.jpg  \n",
            " extracting: valid/images/WIN_20250506_12_23_11_Pro-2-_jpg.rf.7244224359bf9d804b6e019337dfc121.jpg  \n",
            " extracting: valid/images/WIN_20250506_12_23_11_Pro_jpg.rf.6d51b421e3907c755e1aa5547cfa1b7d.jpg  \n",
            " extracting: valid/images/WIN_20250506_12_23_16_Pro-4-_jpg.rf.2f95dedec90122379ae24ddf3025f91f.jpg  \n",
            " extracting: valid/images/WIN_20250506_12_23_21_Pro-3-_jpg.rf.377ef80d09bab99997744013ef5f34c7.jpg  \n",
            " extracting: valid/images/WIN_20250506_12_23_22_Pro-2-_jpg.rf.794438b68e3fcea620b81817b0fd9c44.jpg  \n",
            " extracting: valid/images/WIN_20250506_12_23_28_Pro_jpg.rf.f196b31cef2e7eaa22364ebc0246d0d0.jpg  \n",
            " extracting: valid/images/WIN_20250506_12_23_29_Pro-2-_jpg.rf.39c5a39a534bad8a50a6c3d3713d75d5.jpg  \n",
            " extracting: valid/images/WIN_20250506_12_23_31_Pro-3-_jpg.rf.b09830889dc0624231ab38b857e58107.jpg  \n",
            " extracting: valid/images/WIN_20250506_12_23_31_Pro-4-_jpg.rf.403d3628cb7f70d0ba9505c65f438825.jpg  \n",
            " extracting: valid/images/WIN_20250506_12_23_31_Pro_jpg.rf.8a91898c748b18026f065ac9d42844ef.jpg  \n",
            " extracting: valid/images/WIN_20250506_12_23_38_Pro-2-_jpg.rf.4bc44358fbcfe58685bab95d315c619d.jpg  \n",
            " extracting: valid/images/WIN_20250506_12_23_39_Pro-3-_jpg.rf.038111093939d723c2635b4246d9f233.jpg  \n",
            " extracting: valid/images/WIN_20250506_12_23_43_Pro-2-_jpg.rf.b70ecb497676e1487c63cef524d6f4c6.jpg  \n",
            " extracting: valid/images/WIN_20250506_12_23_49_Pro-3-_jpg.rf.2f5d64eaf869b291595565969872aba1.jpg  \n",
            " extracting: valid/images/WIN_20250506_12_23_52_Pro-2-_jpg.rf.c67a9ea95b102a9faf70f47d4c700f40.jpg  \n",
            " extracting: valid/images/WIN_20250506_12_23_52_Pro_jpg.rf.e00aed273a1012f788ad43bcb0d84d9e.jpg  \n",
            " extracting: valid/images/WIN_20250506_12_23_53_Pro-2-_jpg.rf.fdbf971b19eb15f6b521212d391024e1.jpg  \n",
            " extracting: valid/images/WIN_20250506_12_23_53_Pro-3-_jpg.rf.5c9d09b08ccfc6c52d54c8b5dd1e2be6.jpg  \n",
            " extracting: valid/images/WIN_20250506_12_24_06_Pro-3-_jpg.rf.ce93c2343ea761cb82680ac8f29731fe.jpg  \n",
            " extracting: valid/images/WIN_20250506_12_24_11_Pro-3-_jpg.rf.aa3fa8f7d8ad77a16e88e3ed3aa835c1.jpg  \n",
            " extracting: valid/images/WIN_20250506_12_24_11_Pro_jpg.rf.a065ad9454e8e6cc63bea3e55df6238b.jpg  \n",
            " extracting: valid/images/WIN_20250506_12_24_17_Pro-2-_jpg.rf.dfe4afb073d15107a4776bb0208d3790.jpg  \n",
            " extracting: valid/images/WIN_20250506_12_24_17_Pro-3-_jpg.rf.93c531ec6423758ccb28539f0e181937.jpg  \n",
            " extracting: valid/images/WIN_20250506_12_24_18_Pro-3-_jpg.rf.4b7596e1183f427893076c87efdcb55f.jpg  \n",
            " extracting: valid/images/WIN_20250506_12_24_20_Pro-2-_jpg.rf.ebde6b5bda7e1db451e07e61741b12c8.jpg  \n",
            " extracting: valid/images/WIN_20250506_12_24_20_Pro-3-_jpg.rf.7d5b5e8266f17f3a03c0a01b15fad479.jpg  \n",
            " extracting: valid/images/WIN_20250506_12_24_29_Pro-2-_jpg.rf.37e3fe8a7e4cbd1c9daad6a5a13be47f.jpg  \n",
            " extracting: valid/images/WIN_20250506_12_24_29_Pro-3-_jpg.rf.7b04ab496c63a44cc1ec2ed6bdef0e86.jpg  \n",
            " extracting: valid/images/WIN_20250506_12_24_30_Pro_jpg.rf.e61f5af76e13e56daa0007739eb02e9b.jpg  \n",
            " extracting: valid/images/WIN_20250506_12_24_32_Pro-2-_jpg.rf.8ad0aa998ccc79f7fa1d5cca9e0715df.jpg  \n",
            " extracting: valid/images/WIN_20250506_12_24_33_Pro_jpg.rf.182f24bccf6afb998d30db20b5645beb.jpg  \n",
            " extracting: valid/images/WIN_20250506_12_24_34_Pro-4-_jpg.rf.5555b33d7d1f52ae20ef6f0df905a5ba.jpg  \n",
            " extracting: valid/images/WIN_20250506_12_24_34_Pro-5-_jpg.rf.dadc5d14d30ee04b20a4b4bb03265136.jpg  \n",
            " extracting: valid/images/WIN_20250506_12_24_35_Pro-3-_jpg.rf.1a60d85d2abb1757449d8f8a9e69404c.jpg  \n",
            " extracting: valid/images/WIN_20250506_12_24_57_Pro-2-_jpg.rf.599462d7d1ebd2e7f7db6b75bedea34c.jpg  \n",
            " extracting: valid/images/WIN_20250506_12_24_57_Pro_jpg.rf.a458f9f2545140262317636452b5cb91.jpg  \n",
            " extracting: valid/images/WIN_20250506_12_25_01_Pro-4-_jpg.rf.4e927a2cbe43b6f668c8579edeb9f000.jpg  \n",
            " extracting: valid/images/WIN_20250506_12_25_02_Pro-3-_jpg.rf.ea8e119fe8c75b3162238216fccef306.jpg  \n",
            " extracting: valid/images/WIN_20250506_12_25_16_Pro_jpg.rf.7aa77122ce17bc8109bed5dfee79c359.jpg  \n",
            " extracting: valid/images/WIN_20250506_12_25_17_Pro-4-_jpg.rf.293b8c55cad5c79731e1ba614a096db2.jpg  \n",
            " extracting: valid/images/WIN_20250506_12_25_17_Pro_jpg.rf.7e8c73aa41bba51960732e893b6615a4.jpg  \n",
            " extracting: valid/images/WIN_20250506_12_25_19_Pro-3-_jpg.rf.cbe66951c917e3b97d7b2c11abfa49e5.jpg  \n",
            " extracting: valid/images/WIN_20250506_12_25_49_Pro-3-_jpg.rf.ce8b70a1b35e6f8c856e5e912305a8bc.jpg  \n",
            " extracting: valid/images/WIN_20250506_12_25_49_Pro_jpg.rf.01aaae3a3ce849939044410ef8eea5eb.jpg  \n",
            " extracting: valid/images/WIN_20250506_12_25_50_Pro-3-_jpg.rf.13e1e6c99594fd444f0c1f06f8489370.jpg  \n",
            " extracting: valid/images/WIN_20250506_12_25_51_Pro-2-_jpg.rf.0ea3a91315036f9b3663604bae6c0d61.jpg  \n",
            " extracting: valid/images/WIN_20250506_12_25_52_Pro-2-_jpg.rf.d20e2bcdb3d91f24cd904b3dfe4d001c.jpg  \n",
            " extracting: valid/images/WIN_20250506_12_25_53_Pro-4-_jpg.rf.8e6bb713b38f96603b7c084623e9b5cf.jpg  \n",
            " extracting: valid/images/WIN_20250506_12_26_11_Pro_jpg.rf.bc1af6008ce2c72fe2aebdf624f1068f.jpg  \n",
            " extracting: valid/images/WIN_20250506_12_26_13_Pro-4-_jpg.rf.a4382b7c9da0ea465c93bafb59d934c4.jpg  \n",
            " extracting: valid/images/WIN_20250506_12_26_14_Pro-2-_jpg.rf.eab228fb1cc8e24f02db67de950cb0c6.jpg  \n",
            " extracting: valid/images/WIN_20250506_12_26_17_Pro_jpg.rf.382099a8b4b4e124653ba27da4550119.jpg  \n",
            " extracting: valid/images/WIN_20250506_12_26_18_Pro-3-_jpg.rf.3d53051f08d107ee71f4c747d5b0a1f4.jpg  \n",
            " extracting: valid/images/WIN_20250506_12_26_34_Pro_jpg.rf.a04ac7e16bd98f557665a5e50a7abd39.jpg  \n",
            " extracting: valid/images/WIN_20250506_12_26_35_Pro-2-_jpg.rf.cb46b99372a3c67d3035b9d867601f9b.jpg  \n",
            " extracting: valid/images/WIN_20250506_12_26_35_Pro-4-_jpg.rf.86cadb0bb28a349d382004417c2d79e3.jpg  \n",
            " extracting: valid/images/WIN_20250506_12_26_36_Pro-2-_jpg.rf.c6a446ee9ea0a61bbf6246139df43988.jpg  \n",
            " extracting: valid/images/WIN_20250506_12_26_37_Pro-3-_jpg.rf.76916d695c3072aa7281ac8833bca541.jpg  \n",
            " extracting: valid/images/WIN_20250506_12_26_51_Pro-2-_jpg.rf.4906e283cf569f5714d6567ef69de108.jpg  \n",
            " extracting: valid/images/WIN_20250506_12_26_57_Pro_jpg.rf.91d590b4876213dd7a362bdaa80b829c.jpg  \n",
            " extracting: valid/images/WIN_20250506_12_27_51_Pro_jpg.rf.e0b16df9698f84dd1a3432cfec2762e3.jpg  \n",
            " extracting: valid/images/WIN_20250506_12_28_05_Pro-2-_jpg.rf.5a085ab7b47b101a1f07f7b7ccd521f6.jpg  \n",
            " extracting: valid/images/WIN_20250506_12_28_07_Pro_jpg.rf.c7f9be3e0206f18ab37d7697ffca8e7b.jpg  \n",
            " extracting: valid/images/WIN_20250506_12_28_15_Pro_jpg.rf.489efc18c3e075669184b41a285ec362.jpg  \n",
            " extracting: valid/images/WIN_20250506_12_28_18_Pro_jpg.rf.a87615161a575f427b424f9cb69705cb.jpg  \n",
            " extracting: valid/images/WIN_20250506_12_28_22_Pro_jpg.rf.b5b6d7ee442c59440fb0fbd0669ceb6c.jpg  \n",
            " extracting: valid/images/WIN_20250506_12_28_24_Pro_jpg.rf.c6a0f53681ba2b590ddcab262dc954cd.jpg  \n",
            " extracting: valid/images/WIN_20250506_12_28_26_Pro_jpg.rf.a17a7b19023dcf227ca45b8449d41cda.jpg  \n",
            " extracting: valid/images/WIN_20250506_12_28_27_Pro_jpg.rf.503f15f324f405bb693f341592e19e86.jpg  \n",
            " extracting: valid/images/WIN_20250506_12_28_37_Pro_jpg.rf.9bdc4a600183957ec8ce48e49f6f3a4d.jpg  \n",
            " extracting: valid/images/WIN_20250506_12_28_49_Pro_jpg.rf.30b90cbef0accf4028e22fbe5582fa9b.jpg  \n",
            " extracting: valid/images/WIN_20250506_12_28_59_Pro_jpg.rf.171614975d8fc9104fd1214f5df12cb1.jpg  \n",
            " extracting: valid/images/WIN_20250506_12_29_36_Pro_jpg.rf.4d754f13128721372a2d97f79e469bea.jpg  \n",
            " extracting: valid/images/WIN_20250506_12_29_38_Pro_jpg.rf.a199925d5fa2a40057feee3a92206c68.jpg  \n",
            " extracting: valid/images/WIN_20250506_12_29_40_Pro_jpg.rf.d6f99aaf645e8f63fdf5f51c726c12cc.jpg  \n",
            " extracting: valid/images/WIN_20250506_12_29_41_Pro_jpg.rf.f9fc5b612f6cba4f543e40f8b3b65a78.jpg  \n",
            " extracting: valid/images/WIN_20250506_12_29_49_Pro_jpg.rf.37439715ddb7482d59c3907624815884.jpg  \n",
            " extracting: valid/images/WIN_20250506_12_29_52_Pro_jpg.rf.77eb76827beb61c73b0f336df1489ea6.jpg  \n",
            " extracting: valid/images/WIN_20250506_12_29_53_Pro_jpg.rf.d09e4d24013b282279d45d07412e2f3f.jpg  \n",
            " extracting: valid/images/WIN_20250506_12_29_54_Pro_jpg.rf.6bd51f88315cd507e254550fb1dc7fef.jpg  \n",
            " extracting: valid/images/WIN_20250506_12_29_58_Pro_jpg.rf.2e03442cd1e783cad7f8c52a2280e344.jpg  \n",
            " extracting: valid/images/WIN_20250506_12_30_16_Pro_jpg.rf.c20030f6c99beac91f925098ac0b9048.jpg  \n",
            " extracting: valid/images/WIN_20250506_12_30_40_Pro_jpg.rf.1b8b0fdacb1266ceec443948e7ac828c.jpg  \n",
            " extracting: valid/images/WIN_20250506_12_30_47_Pro_jpg.rf.00cc06954e2139a40f1b793a393dcafe.jpg  \n",
            " extracting: valid/images/WIN_20250506_12_31_00_Pro_jpg.rf.15c630352e831939bbd2812055a15bd6.jpg  \n",
            " extracting: valid/images/WIN_20250506_12_35_16_Pro_jpg.rf.17ccf9b6682a3742a63665f1be841180.jpg  \n",
            " extracting: valid/images/WIN_20250506_12_35_26_Pro_jpg.rf.9484f6b9979597f5906e36dcdbb47693.jpg  \n",
            " extracting: valid/images/WIN_20250506_12_35_31_Pro_jpg.rf.11352f7735aea9a8a429d4a76ad51fb3.jpg  \n",
            " extracting: valid/images/WIN_20250506_12_35_37_Pro_jpg.rf.0dcbe9a69235b7c4facb6eb1a13963ea.jpg  \n",
            " extracting: valid/images/WIN_20250506_12_36_25_Pro_jpg.rf.80eb20b4bd5d23e5a55c05fdc267ca1d.jpg  \n",
            " extracting: valid/images/WIN_20250506_12_36_31_Pro_jpg.rf.feb6d2286597120fd60ec6ea97e758ad.jpg  \n",
            " extracting: valid/images/WIN_20250506_12_36_42_Pro_jpg.rf.189e7e1ebeb2ec883ea9eb39adda5640.jpg  \n",
            " extracting: valid/images/WIN_20250506_12_37_24_Pro_jpg.rf.cdad6d348ea6bd8cde4cf05c7169b77e.jpg  \n",
            " extracting: valid/images/WIN_20250506_12_37_27_Pro_jpg.rf.e3b1eb13ea7e2b53a50c54072f8bdd0e.jpg  \n",
            " extracting: valid/images/WIN_20250506_12_37_34_Pro_jpg.rf.9980b6773b846ec45df78f85ac5d96d6.jpg  \n",
            " extracting: valid/images/WIN_20250506_12_37_40_Pro_jpg.rf.d443fd3d0685dbdc2113da8ea1c3f5fd.jpg  \n",
            " extracting: valid/images/WIN_20250506_12_37_45_Pro_jpg.rf.5380625502fdee233cd915c2167e32bc.jpg  \n",
            " extracting: valid/images/WIN_20250506_12_37_56_Pro_jpg.rf.063d734307a7992132cb7bc3d5126ff0.jpg  \n",
            " extracting: valid/images/WIN_20250506_12_38_49_Pro_jpg.rf.771a4bc96b5d33dbdce33afba0f27647.jpg  \n",
            " extracting: valid/images/WIN_20250506_12_38_51_Pro_jpg.rf.67621e96ae1aa06fca055a7e23fe8b9c.jpg  \n",
            " extracting: valid/images/WIN_20250506_12_39_03_Pro_jpg.rf.07a576f4d0f24fe8b5ede9f401fc04ec.jpg  \n",
            " extracting: valid/images/WIN_20250506_12_39_16_Pro_jpg.rf.099b2fb49f684fb93eaf1d709ff98281.jpg  \n",
            " extracting: valid/images/WIN_20250506_12_39_18_Pro_jpg.rf.9c31620c042e8257b86fbe5c26a1d82e.jpg  \n",
            "   creating: valid/labels/\n",
            "  inflating: valid/labels/WIN_20250506_12_16_48_Pro_jpg.rf.4b4eef0ad680be6b1f7508b79f879b28.txt  \n",
            "  inflating: valid/labels/WIN_20250506_12_17_26_Pro_jpg.rf.af762b08030099d3444ae8e68bb1dbf9.txt  \n",
            "  inflating: valid/labels/WIN_20250506_12_17_33_Pro_jpg.rf.6d66c4850218022bd50d746a1fae7742.txt  \n",
            "  inflating: valid/labels/WIN_20250506_12_17_55_Pro_jpg.rf.d3dc6ad525427a1cbf897b858f675f8f.txt  \n",
            "  inflating: valid/labels/WIN_20250506_12_17_57_Pro_jpg.rf.73c756215be64ae3cb82bd73d7574d88.txt  \n",
            "  inflating: valid/labels/WIN_20250506_12_18_10_Pro_jpg.rf.88cf10c9eb687be49f2a03eb52adb11d.txt  \n",
            "  inflating: valid/labels/WIN_20250506_12_18_13_Pro-2-_jpg.rf.e97c726184492985532c4c47d1921ec6.txt  \n",
            "  inflating: valid/labels/WIN_20250506_12_18_25_Pro_jpg.rf.04d63fe4b338a4201005ae93b17768ff.txt  \n",
            "  inflating: valid/labels/WIN_20250506_12_18_54_Pro-2-_jpg.rf.265c19bc0dbdd2956be76eca237fda0d.txt  \n",
            "  inflating: valid/labels/WIN_20250506_12_18_55_Pro_jpg.rf.2d2421a6a8a1fed200f9faa4c8ffded0.txt  \n",
            "  inflating: valid/labels/WIN_20250506_12_18_59_Pro-3-_jpg.rf.6db7fa82c71ffe51e6c7d5908eb482df.txt  \n",
            "  inflating: valid/labels/WIN_20250506_12_19_03_Pro-3-_jpg.rf.ec420890eabbeb7cf5ecf7afe2316a1a.txt  \n",
            "  inflating: valid/labels/WIN_20250506_12_19_03_Pro-4-_jpg.rf.22325bee4e663b44d3ba8a3446e635e1.txt  \n",
            "  inflating: valid/labels/WIN_20250506_12_19_09_Pro-2-_jpg.rf.3112ccfce1481542df710efbcec971a9.txt  \n",
            "  inflating: valid/labels/WIN_20250506_12_19_14_Pro-4-_jpg.rf.0e16c7f5795068fe34a6634296d3f7c1.txt  \n",
            "  inflating: valid/labels/WIN_20250506_12_19_17_Pro_jpg.rf.fc845f6dd3dd863ff3f53174049c42ab.txt  \n",
            "  inflating: valid/labels/WIN_20250506_12_19_19_Pro-2-_jpg.rf.ffacd29c12a4ff74468e4cf5caa51d1f.txt  \n",
            "  inflating: valid/labels/WIN_20250506_12_19_19_Pro-3-_jpg.rf.94e117644e434be3b754a937258f69b6.txt  \n",
            "  inflating: valid/labels/WIN_20250506_12_19_20_Pro_jpg.rf.7d04d7712517cd0e8741e289b86b9c7d.txt  \n",
            "  inflating: valid/labels/WIN_20250506_12_19_25_Pro-3-_jpg.rf.9c171dfcc9cf8c1fa47d64bdf51c71ea.txt  \n",
            "  inflating: valid/labels/WIN_20250506_12_19_26_Pro-3-_jpg.rf.c11a62bd7480dadc88a85ce889255d2d.txt  \n",
            "  inflating: valid/labels/WIN_20250506_12_19_28_Pro-3-_jpg.rf.5d5bc3a3971e5478b9852ffc10ec0ec6.txt  \n",
            "  inflating: valid/labels/WIN_20250506_12_19_29_Pro-2-_jpg.rf.d4aca9da837bedf14f112aeb5adf590e.txt  \n",
            "  inflating: valid/labels/WIN_20250506_12_19_36_Pro-3-_jpg.rf.5d6a80f84df7dfc80338d0a96622abad.txt  \n",
            "  inflating: valid/labels/WIN_20250506_12_19_37_Pro_jpg.rf.4e995271089886bdbb4461eeffe23525.txt  \n",
            "  inflating: valid/labels/WIN_20250506_12_19_41_Pro_jpg.rf.1413b6f9970be7a039941b94151797a6.txt  \n",
            "  inflating: valid/labels/WIN_20250506_12_19_56_Pro-2-_jpg.rf.6c06d6bd5824686d2b37c9f7b76390df.txt  \n",
            "  inflating: valid/labels/WIN_20250506_12_19_58_Pro_jpg.rf.2a6ee03cc2ee66da7002889b8e3150cb.txt  \n",
            "  inflating: valid/labels/WIN_20250506_12_20_00_Pro-3-_jpg.rf.81b123aab0df308a8aee7415ea5d5dad.txt  \n",
            "  inflating: valid/labels/WIN_20250506_12_20_05_Pro-2-_jpg.rf.f971ffbaed75ce1f92de65b3940998a9.txt  \n",
            "  inflating: valid/labels/WIN_20250506_12_20_05_Pro_jpg.rf.772b80d9a764d2943559ff969797df52.txt  \n",
            "  inflating: valid/labels/WIN_20250506_12_20_07_Pro-3-_jpg.rf.19ae5494cea9ca1ce2eeac214d9d92ff.txt  \n",
            "  inflating: valid/labels/WIN_20250506_12_20_13_Pro_jpg.rf.a76ad536bbf775e75ee2ac0f48d0d9f0.txt  \n",
            " extracting: valid/labels/WIN_20250506_12_20_14_Pro_jpg.rf.204824c83f4524d7958cf41187d83904.txt  \n",
            "  inflating: valid/labels/WIN_20250506_12_20_17_Pro-2-_jpg.rf.9069687c78a6526d5d6698a86a19a3cd.txt  \n",
            "  inflating: valid/labels/WIN_20250506_12_20_17_Pro-4-_jpg.rf.374024a8a5205234c583823c7fe2c6ff.txt  \n",
            "  inflating: valid/labels/WIN_20250506_12_20_19_Pro-2-_jpg.rf.63887c44e22bd83560b23269b6d9a1a0.txt  \n",
            "  inflating: valid/labels/WIN_20250506_12_20_19_Pro_jpg.rf.842da2088557642f6d6b568c1e86be34.txt  \n",
            "  inflating: valid/labels/WIN_20250506_12_20_20_Pro_jpg.rf.dbd96e9c3c0142cab06ee32cbacd69c3.txt  \n",
            "  inflating: valid/labels/WIN_20250506_12_20_29_Pro_jpg.rf.a01869126b4567444d552329eb335f77.txt  \n",
            "  inflating: valid/labels/WIN_20250506_12_20_32_Pro-2-_jpg.rf.66d3090545f4b1669e31a83da4d06f59.txt  \n",
            "  inflating: valid/labels/WIN_20250506_12_20_51_Pro_jpg.rf.92826dc72c6d56a27b584f5ba5d8591a.txt  \n",
            "  inflating: valid/labels/WIN_20250506_12_20_53_Pro-3-_jpg.rf.43900cb7afc0d5aa47049f399d6f5515.txt  \n",
            "  inflating: valid/labels/WIN_20250506_12_20_54_Pro-4-_jpg.rf.915281e860204af2dc9d344dff249a64.txt  \n",
            "  inflating: valid/labels/WIN_20250506_12_21_03_Pro-2-_jpg.rf.fc589ce9196e6cb83b279cdad537362c.txt  \n",
            "  inflating: valid/labels/WIN_20250506_12_21_03_Pro-3-_jpg.rf.8d0cb92d2c59d80dd6da7bfb10bc0642.txt  \n",
            "  inflating: valid/labels/WIN_20250506_12_21_07_Pro-2-_jpg.rf.f6231bc7b660d9a9de68c393ef6b20c0.txt  \n",
            " extracting: valid/labels/WIN_20250506_12_21_17_Pro_jpg.rf.b7cc4f01a8a9b874900e36cc39f88a47.txt  \n",
            "  inflating: valid/labels/WIN_20250506_12_21_18_Pro-3-_jpg.rf.624877924af18eccb153b26a25814ad4.txt  \n",
            "  inflating: valid/labels/WIN_20250506_12_21_21_Pro-3-_jpg.rf.049102e05f2a2d8fa5b058769414ed3e.txt  \n",
            "  inflating: valid/labels/WIN_20250506_12_21_24_Pro-4-_jpg.rf.441ebcfe1e88993eb97fe8f25bb42a25.txt  \n",
            "  inflating: valid/labels/WIN_20250506_12_21_28_Pro-2-_jpg.rf.1c93e50b667e074a56fba09768ac47d2.txt  \n",
            "  inflating: valid/labels/WIN_20250506_12_21_29_Pro-3-_jpg.rf.6c1c37ee4b90f2152caf7ac80a7b2db2.txt  \n",
            "  inflating: valid/labels/WIN_20250506_12_21_30_Pro-3-_jpg.rf.89da3508bb96f40b3ee2f9e4af7e79d6.txt  \n",
            "  inflating: valid/labels/WIN_20250506_12_21_36_Pro-2-_jpg.rf.34c10e74d745824690c1a01dcc790483.txt  \n",
            "  inflating: valid/labels/WIN_20250506_12_21_37_Pro-2-_jpg.rf.234c9b59eef9a1e6acc412e4d0c109e1.txt  \n",
            "  inflating: valid/labels/WIN_20250506_12_21_38_Pro-4-_jpg.rf.07a05f008f7d5d947ed2268a056be10e.txt  \n",
            "  inflating: valid/labels/WIN_20250506_12_21_39_Pro_jpg.rf.abb7844188ce35bcd25ea2ef6aa55b67.txt  \n",
            "  inflating: valid/labels/WIN_20250506_12_21_48_Pro-3-_jpg.rf.2fe2e447df73ae2dd59467d57cd7277e.txt  \n",
            "  inflating: valid/labels/WIN_20250506_12_21_52_Pro-2-_jpg.rf.fb203a9a3baa9fe819179241447354b5.txt  \n",
            " extracting: valid/labels/WIN_20250506_12_21_55_Pro-3-_jpg.rf.3172a4fb87e99ec42dfe398d8bd8b157.txt  \n",
            "  inflating: valid/labels/WIN_20250506_12_21_58_Pro-2-_jpg.rf.0cd4520a14072c30fd38dd50b69c3f05.txt  \n",
            "  inflating: valid/labels/WIN_20250506_12_21_58_Pro_jpg.rf.1d843fc81ec93cfcc48c33913eaf6248.txt  \n",
            "  inflating: valid/labels/WIN_20250506_12_22_18_Pro-2-_jpg.rf.e674823ccab252b0569e724cf82d8f7f.txt  \n",
            "  inflating: valid/labels/WIN_20250506_12_22_18_Pro-3-_jpg.rf.9ed7f32df6b80fff68c94e6e2d97b3cc.txt  \n",
            "  inflating: valid/labels/WIN_20250506_12_22_19_Pro-2-_jpg.rf.5d845441e56a7dc2b6bd6f045dad8705.txt  \n",
            "  inflating: valid/labels/WIN_20250506_12_22_19_Pro-4-_jpg.rf.5eb1526263f196a2f9db423f3e86751d.txt  \n",
            " extracting: valid/labels/WIN_20250506_12_22_19_Pro_jpg.rf.e1adba32a6ffbd5ee637cf50589c6bbc.txt  \n",
            "  inflating: valid/labels/WIN_20250506_12_22_21_Pro-2-_jpg.rf.841b890fc886302bcc690fa521aaff49.txt  \n",
            "  inflating: valid/labels/WIN_20250506_12_22_22_Pro-2-_jpg.rf.4286e67fc5f70831b672d75d569f7fb9.txt  \n",
            "  inflating: valid/labels/WIN_20250506_12_22_22_Pro_jpg.rf.ab311e29bd25737273e5cc3fb7153dca.txt  \n",
            "  inflating: valid/labels/WIN_20250506_12_22_23_Pro_jpg.rf.2100c0d535dde17846be196845199b27.txt  \n",
            "  inflating: valid/labels/WIN_20250506_12_22_31_Pro-2-_jpg.rf.6493878cdcdd290db5726524616b3b44.txt  \n",
            " extracting: valid/labels/WIN_20250506_12_22_41_Pro-3-_jpg.rf.3c6c53642aa66e572f64ae49e417fa87.txt  \n",
            "  inflating: valid/labels/WIN_20250506_12_22_43_Pro_jpg.rf.f64d2bb4e8db4a93053a25e66ad9a1f6.txt  \n",
            "  inflating: valid/labels/WIN_20250506_12_22_45_Pro-3-_jpg.rf.3fd44f12e7cc079fdd2a20ea621ce8c9.txt  \n",
            "  inflating: valid/labels/WIN_20250506_12_22_45_Pro-4-_jpg.rf.9f7d66ff724096782f7433dd9ff05ccf.txt  \n",
            "  inflating: valid/labels/WIN_20250506_12_22_45_Pro-5-_jpg.rf.6a8a540bbb4a03b7574f220897a23db4.txt  \n",
            "  inflating: valid/labels/WIN_20250506_12_22_47_Pro-2-_jpg.rf.f07da3645689ca8f3761b682f46dd610.txt  \n",
            "  inflating: valid/labels/WIN_20250506_12_22_56_Pro-2-_jpg.rf.811aec38ddf868c150a3679ddc5e7829.txt  \n",
            "  inflating: valid/labels/WIN_20250506_12_22_57_Pro_jpg.rf.d5a76dfa8bd0fe037365b87afffb5516.txt  \n",
            "  inflating: valid/labels/WIN_20250506_12_23_04_Pro-2-_jpg.rf.2ff790fdd01b6116e6c19e0d7e05de50.txt  \n",
            "  inflating: valid/labels/WIN_20250506_12_23_05_Pro-2-_jpg.rf.0e6d1cfc430821b0739355c094cf3b5e.txt  \n",
            "  inflating: valid/labels/WIN_20250506_12_23_07_Pro_jpg.rf.9bfe34b5b3ce46de495a608fce04f17b.txt  \n",
            "  inflating: valid/labels/WIN_20250506_12_23_09_Pro_jpg.rf.faa3e17df90e22c79077961c4dd48bdb.txt  \n",
            "  inflating: valid/labels/WIN_20250506_12_23_11_Pro-2-_jpg.rf.7244224359bf9d804b6e019337dfc121.txt  \n",
            "  inflating: valid/labels/WIN_20250506_12_23_11_Pro_jpg.rf.6d51b421e3907c755e1aa5547cfa1b7d.txt  \n",
            "  inflating: valid/labels/WIN_20250506_12_23_16_Pro-4-_jpg.rf.2f95dedec90122379ae24ddf3025f91f.txt  \n",
            "  inflating: valid/labels/WIN_20250506_12_23_21_Pro-3-_jpg.rf.377ef80d09bab99997744013ef5f34c7.txt  \n",
            "  inflating: valid/labels/WIN_20250506_12_23_22_Pro-2-_jpg.rf.794438b68e3fcea620b81817b0fd9c44.txt  \n",
            "  inflating: valid/labels/WIN_20250506_12_23_28_Pro_jpg.rf.f196b31cef2e7eaa22364ebc0246d0d0.txt  \n",
            "  inflating: valid/labels/WIN_20250506_12_23_29_Pro-2-_jpg.rf.39c5a39a534bad8a50a6c3d3713d75d5.txt  \n",
            "  inflating: valid/labels/WIN_20250506_12_23_31_Pro-3-_jpg.rf.b09830889dc0624231ab38b857e58107.txt  \n",
            "  inflating: valid/labels/WIN_20250506_12_23_31_Pro-4-_jpg.rf.403d3628cb7f70d0ba9505c65f438825.txt  \n",
            "  inflating: valid/labels/WIN_20250506_12_23_31_Pro_jpg.rf.8a91898c748b18026f065ac9d42844ef.txt  \n",
            "  inflating: valid/labels/WIN_20250506_12_23_38_Pro-2-_jpg.rf.4bc44358fbcfe58685bab95d315c619d.txt  \n",
            "  inflating: valid/labels/WIN_20250506_12_23_39_Pro-3-_jpg.rf.038111093939d723c2635b4246d9f233.txt  \n",
            "  inflating: valid/labels/WIN_20250506_12_23_43_Pro-2-_jpg.rf.b70ecb497676e1487c63cef524d6f4c6.txt  \n",
            "  inflating: valid/labels/WIN_20250506_12_23_49_Pro-3-_jpg.rf.2f5d64eaf869b291595565969872aba1.txt  \n",
            "  inflating: valid/labels/WIN_20250506_12_23_52_Pro-2-_jpg.rf.c67a9ea95b102a9faf70f47d4c700f40.txt  \n",
            "  inflating: valid/labels/WIN_20250506_12_23_52_Pro_jpg.rf.e00aed273a1012f788ad43bcb0d84d9e.txt  \n",
            "  inflating: valid/labels/WIN_20250506_12_23_53_Pro-2-_jpg.rf.fdbf971b19eb15f6b521212d391024e1.txt  \n",
            "  inflating: valid/labels/WIN_20250506_12_23_53_Pro-3-_jpg.rf.5c9d09b08ccfc6c52d54c8b5dd1e2be6.txt  \n",
            "  inflating: valid/labels/WIN_20250506_12_24_06_Pro-3-_jpg.rf.ce93c2343ea761cb82680ac8f29731fe.txt  \n",
            "  inflating: valid/labels/WIN_20250506_12_24_11_Pro-3-_jpg.rf.aa3fa8f7d8ad77a16e88e3ed3aa835c1.txt  \n",
            "  inflating: valid/labels/WIN_20250506_12_24_11_Pro_jpg.rf.a065ad9454e8e6cc63bea3e55df6238b.txt  \n",
            "  inflating: valid/labels/WIN_20250506_12_24_17_Pro-2-_jpg.rf.dfe4afb073d15107a4776bb0208d3790.txt  \n",
            "  inflating: valid/labels/WIN_20250506_12_24_17_Pro-3-_jpg.rf.93c531ec6423758ccb28539f0e181937.txt  \n",
            "  inflating: valid/labels/WIN_20250506_12_24_18_Pro-3-_jpg.rf.4b7596e1183f427893076c87efdcb55f.txt  \n",
            "  inflating: valid/labels/WIN_20250506_12_24_20_Pro-2-_jpg.rf.ebde6b5bda7e1db451e07e61741b12c8.txt  \n",
            "  inflating: valid/labels/WIN_20250506_12_24_20_Pro-3-_jpg.rf.7d5b5e8266f17f3a03c0a01b15fad479.txt  \n",
            "  inflating: valid/labels/WIN_20250506_12_24_29_Pro-2-_jpg.rf.37e3fe8a7e4cbd1c9daad6a5a13be47f.txt  \n",
            "  inflating: valid/labels/WIN_20250506_12_24_29_Pro-3-_jpg.rf.7b04ab496c63a44cc1ec2ed6bdef0e86.txt  \n",
            "  inflating: valid/labels/WIN_20250506_12_24_30_Pro_jpg.rf.e61f5af76e13e56daa0007739eb02e9b.txt  \n",
            "  inflating: valid/labels/WIN_20250506_12_24_32_Pro-2-_jpg.rf.8ad0aa998ccc79f7fa1d5cca9e0715df.txt  \n",
            "  inflating: valid/labels/WIN_20250506_12_24_33_Pro_jpg.rf.182f24bccf6afb998d30db20b5645beb.txt  \n",
            "  inflating: valid/labels/WIN_20250506_12_24_34_Pro-4-_jpg.rf.5555b33d7d1f52ae20ef6f0df905a5ba.txt  \n",
            " extracting: valid/labels/WIN_20250506_12_24_34_Pro-5-_jpg.rf.dadc5d14d30ee04b20a4b4bb03265136.txt  \n",
            "  inflating: valid/labels/WIN_20250506_12_24_35_Pro-3-_jpg.rf.1a60d85d2abb1757449d8f8a9e69404c.txt  \n",
            "  inflating: valid/labels/WIN_20250506_12_24_57_Pro-2-_jpg.rf.599462d7d1ebd2e7f7db6b75bedea34c.txt  \n",
            "  inflating: valid/labels/WIN_20250506_12_24_57_Pro_jpg.rf.a458f9f2545140262317636452b5cb91.txt  \n",
            "  inflating: valid/labels/WIN_20250506_12_25_01_Pro-4-_jpg.rf.4e927a2cbe43b6f668c8579edeb9f000.txt  \n",
            "  inflating: valid/labels/WIN_20250506_12_25_02_Pro-3-_jpg.rf.ea8e119fe8c75b3162238216fccef306.txt  \n",
            "  inflating: valid/labels/WIN_20250506_12_25_16_Pro_jpg.rf.7aa77122ce17bc8109bed5dfee79c359.txt  \n",
            "  inflating: valid/labels/WIN_20250506_12_25_17_Pro-4-_jpg.rf.293b8c55cad5c79731e1ba614a096db2.txt  \n",
            "  inflating: valid/labels/WIN_20250506_12_25_17_Pro_jpg.rf.7e8c73aa41bba51960732e893b6615a4.txt  \n",
            " extracting: valid/labels/WIN_20250506_12_25_19_Pro-3-_jpg.rf.cbe66951c917e3b97d7b2c11abfa49e5.txt  \n",
            " extracting: valid/labels/WIN_20250506_12_25_49_Pro-3-_jpg.rf.ce8b70a1b35e6f8c856e5e912305a8bc.txt  \n",
            "  inflating: valid/labels/WIN_20250506_12_25_49_Pro_jpg.rf.01aaae3a3ce849939044410ef8eea5eb.txt  \n",
            "  inflating: valid/labels/WIN_20250506_12_25_50_Pro-3-_jpg.rf.13e1e6c99594fd444f0c1f06f8489370.txt  \n",
            "  inflating: valid/labels/WIN_20250506_12_25_51_Pro-2-_jpg.rf.0ea3a91315036f9b3663604bae6c0d61.txt  \n",
            "  inflating: valid/labels/WIN_20250506_12_25_52_Pro-2-_jpg.rf.d20e2bcdb3d91f24cd904b3dfe4d001c.txt  \n",
            "  inflating: valid/labels/WIN_20250506_12_25_53_Pro-4-_jpg.rf.8e6bb713b38f96603b7c084623e9b5cf.txt  \n",
            "  inflating: valid/labels/WIN_20250506_12_26_11_Pro_jpg.rf.bc1af6008ce2c72fe2aebdf624f1068f.txt  \n",
            "  inflating: valid/labels/WIN_20250506_12_26_13_Pro-4-_jpg.rf.a4382b7c9da0ea465c93bafb59d934c4.txt  \n",
            "  inflating: valid/labels/WIN_20250506_12_26_14_Pro-2-_jpg.rf.eab228fb1cc8e24f02db67de950cb0c6.txt  \n",
            "  inflating: valid/labels/WIN_20250506_12_26_17_Pro_jpg.rf.382099a8b4b4e124653ba27da4550119.txt  \n",
            "  inflating: valid/labels/WIN_20250506_12_26_18_Pro-3-_jpg.rf.3d53051f08d107ee71f4c747d5b0a1f4.txt  \n",
            "  inflating: valid/labels/WIN_20250506_12_26_34_Pro_jpg.rf.a04ac7e16bd98f557665a5e50a7abd39.txt  \n",
            "  inflating: valid/labels/WIN_20250506_12_26_35_Pro-2-_jpg.rf.cb46b99372a3c67d3035b9d867601f9b.txt  \n",
            "  inflating: valid/labels/WIN_20250506_12_26_35_Pro-4-_jpg.rf.86cadb0bb28a349d382004417c2d79e3.txt  \n",
            "  inflating: valid/labels/WIN_20250506_12_26_36_Pro-2-_jpg.rf.c6a446ee9ea0a61bbf6246139df43988.txt  \n",
            "  inflating: valid/labels/WIN_20250506_12_26_37_Pro-3-_jpg.rf.76916d695c3072aa7281ac8833bca541.txt  \n",
            "  inflating: valid/labels/WIN_20250506_12_26_51_Pro-2-_jpg.rf.4906e283cf569f5714d6567ef69de108.txt  \n",
            "  inflating: valid/labels/WIN_20250506_12_26_57_Pro_jpg.rf.91d590b4876213dd7a362bdaa80b829c.txt  \n",
            "  inflating: valid/labels/WIN_20250506_12_27_51_Pro_jpg.rf.e0b16df9698f84dd1a3432cfec2762e3.txt  \n",
            "  inflating: valid/labels/WIN_20250506_12_28_05_Pro-2-_jpg.rf.5a085ab7b47b101a1f07f7b7ccd521f6.txt  \n",
            "  inflating: valid/labels/WIN_20250506_12_28_07_Pro_jpg.rf.c7f9be3e0206f18ab37d7697ffca8e7b.txt  \n",
            "  inflating: valid/labels/WIN_20250506_12_28_15_Pro_jpg.rf.489efc18c3e075669184b41a285ec362.txt  \n",
            "  inflating: valid/labels/WIN_20250506_12_28_18_Pro_jpg.rf.a87615161a575f427b424f9cb69705cb.txt  \n",
            "  inflating: valid/labels/WIN_20250506_12_28_22_Pro_jpg.rf.b5b6d7ee442c59440fb0fbd0669ceb6c.txt  \n",
            "  inflating: valid/labels/WIN_20250506_12_28_24_Pro_jpg.rf.c6a0f53681ba2b590ddcab262dc954cd.txt  \n",
            "  inflating: valid/labels/WIN_20250506_12_28_26_Pro_jpg.rf.a17a7b19023dcf227ca45b8449d41cda.txt  \n",
            "  inflating: valid/labels/WIN_20250506_12_28_27_Pro_jpg.rf.503f15f324f405bb693f341592e19e86.txt  \n",
            "  inflating: valid/labels/WIN_20250506_12_28_37_Pro_jpg.rf.9bdc4a600183957ec8ce48e49f6f3a4d.txt  \n",
            "  inflating: valid/labels/WIN_20250506_12_28_49_Pro_jpg.rf.30b90cbef0accf4028e22fbe5582fa9b.txt  \n",
            "  inflating: valid/labels/WIN_20250506_12_28_59_Pro_jpg.rf.171614975d8fc9104fd1214f5df12cb1.txt  \n",
            "  inflating: valid/labels/WIN_20250506_12_29_36_Pro_jpg.rf.4d754f13128721372a2d97f79e469bea.txt  \n",
            "  inflating: valid/labels/WIN_20250506_12_29_38_Pro_jpg.rf.a199925d5fa2a40057feee3a92206c68.txt  \n",
            "  inflating: valid/labels/WIN_20250506_12_29_40_Pro_jpg.rf.d6f99aaf645e8f63fdf5f51c726c12cc.txt  \n",
            "  inflating: valid/labels/WIN_20250506_12_29_41_Pro_jpg.rf.f9fc5b612f6cba4f543e40f8b3b65a78.txt  \n",
            "  inflating: valid/labels/WIN_20250506_12_29_49_Pro_jpg.rf.37439715ddb7482d59c3907624815884.txt  \n",
            "  inflating: valid/labels/WIN_20250506_12_29_52_Pro_jpg.rf.77eb76827beb61c73b0f336df1489ea6.txt  \n",
            "  inflating: valid/labels/WIN_20250506_12_29_53_Pro_jpg.rf.d09e4d24013b282279d45d07412e2f3f.txt  \n",
            "  inflating: valid/labels/WIN_20250506_12_29_54_Pro_jpg.rf.6bd51f88315cd507e254550fb1dc7fef.txt  \n",
            "  inflating: valid/labels/WIN_20250506_12_29_58_Pro_jpg.rf.2e03442cd1e783cad7f8c52a2280e344.txt  \n",
            "  inflating: valid/labels/WIN_20250506_12_30_16_Pro_jpg.rf.c20030f6c99beac91f925098ac0b9048.txt  \n",
            "  inflating: valid/labels/WIN_20250506_12_30_40_Pro_jpg.rf.1b8b0fdacb1266ceec443948e7ac828c.txt  \n",
            "  inflating: valid/labels/WIN_20250506_12_30_47_Pro_jpg.rf.00cc06954e2139a40f1b793a393dcafe.txt  \n",
            "  inflating: valid/labels/WIN_20250506_12_31_00_Pro_jpg.rf.15c630352e831939bbd2812055a15bd6.txt  \n",
            "  inflating: valid/labels/WIN_20250506_12_35_16_Pro_jpg.rf.17ccf9b6682a3742a63665f1be841180.txt  \n",
            "  inflating: valid/labels/WIN_20250506_12_35_26_Pro_jpg.rf.9484f6b9979597f5906e36dcdbb47693.txt  \n",
            "  inflating: valid/labels/WIN_20250506_12_35_31_Pro_jpg.rf.11352f7735aea9a8a429d4a76ad51fb3.txt  \n",
            "  inflating: valid/labels/WIN_20250506_12_35_37_Pro_jpg.rf.0dcbe9a69235b7c4facb6eb1a13963ea.txt  \n",
            "  inflating: valid/labels/WIN_20250506_12_36_25_Pro_jpg.rf.80eb20b4bd5d23e5a55c05fdc267ca1d.txt  \n",
            "  inflating: valid/labels/WIN_20250506_12_36_31_Pro_jpg.rf.feb6d2286597120fd60ec6ea97e758ad.txt  \n",
            " extracting: valid/labels/WIN_20250506_12_36_42_Pro_jpg.rf.189e7e1ebeb2ec883ea9eb39adda5640.txt  \n",
            "  inflating: valid/labels/WIN_20250506_12_37_24_Pro_jpg.rf.cdad6d348ea6bd8cde4cf05c7169b77e.txt  \n",
            "  inflating: valid/labels/WIN_20250506_12_37_27_Pro_jpg.rf.e3b1eb13ea7e2b53a50c54072f8bdd0e.txt  \n",
            "  inflating: valid/labels/WIN_20250506_12_37_34_Pro_jpg.rf.9980b6773b846ec45df78f85ac5d96d6.txt  \n",
            "  inflating: valid/labels/WIN_20250506_12_37_40_Pro_jpg.rf.d443fd3d0685dbdc2113da8ea1c3f5fd.txt  \n",
            "  inflating: valid/labels/WIN_20250506_12_37_45_Pro_jpg.rf.5380625502fdee233cd915c2167e32bc.txt  \n",
            "  inflating: valid/labels/WIN_20250506_12_37_56_Pro_jpg.rf.063d734307a7992132cb7bc3d5126ff0.txt  \n",
            "  inflating: valid/labels/WIN_20250506_12_38_49_Pro_jpg.rf.771a4bc96b5d33dbdce33afba0f27647.txt  \n",
            "  inflating: valid/labels/WIN_20250506_12_38_51_Pro_jpg.rf.67621e96ae1aa06fca055a7e23fe8b9c.txt  \n",
            "  inflating: valid/labels/WIN_20250506_12_39_03_Pro_jpg.rf.07a576f4d0f24fe8b5ede9f401fc04ec.txt  \n",
            "  inflating: valid/labels/WIN_20250506_12_39_16_Pro_jpg.rf.099b2fb49f684fb93eaf1d709ff98281.txt  \n",
            "  inflating: valid/labels/WIN_20250506_12_39_18_Pro_jpg.rf.9c31620c042e8257b86fbe5c26a1d82e.txt  \n"
          ]
        }
      ]
    },
    {
      "cell_type": "code",
      "source": [
        "#@title Select YOLO11 🚀 logger {run: 'auto'}\n",
        "logger = 'TensorBoard' #@param ['TensorBoard', 'Weights & Biases']\n",
        "\n",
        "if logger == 'TensorBoard':\n",
        "  !yolo settings tensorboard=True\n",
        "  %load_ext tensorboard\n",
        "  %tensorboard --logdir .\n",
        "elif logger == 'Weights & Biases':\n",
        "  !yolo settings wandb=True"
      ],
      "metadata": {
        "id": "ktegpM42AooT"
      },
      "execution_count": null,
      "outputs": []
    },
    {
      "cell_type": "code",
      "metadata": {
        "id": "1NcFxRcFdJ_O",
        "outputId": "959f3bd3-e88f-41fd-cfe4-15680cf65533",
        "colab": {
          "base_uri": "https://localhost:8080/"
        }
      },
      "source": [
        "# Train YOLO11n on COCO8 for 3 epochs\n",
        "!yolo train model=yolo11n.pt data=coco8.yaml epochs=3 imgsz=640"
      ],
      "execution_count": null,
      "outputs": [
        {
          "output_type": "stream",
          "name": "stdout",
          "text": [
            "Ultralytics 8.3.110 🚀 Python-3.11.12 torch-2.6.0+cu124 CUDA:0 (Tesla T4, 15095MiB)\n",
            "\u001b[34m\u001b[1mengine/trainer: \u001b[0mtask=detect, mode=train, model=yolo11n.pt, data=coco8.yaml, epochs=3, time=None, patience=100, batch=16, imgsz=640, save=True, save_period=-1, cache=False, device=None, workers=8, project=None, name=train, exist_ok=False, pretrained=True, optimizer=auto, verbose=True, seed=0, deterministic=True, single_cls=False, rect=False, cos_lr=False, close_mosaic=10, resume=False, amp=True, fraction=1.0, profile=False, freeze=None, multi_scale=False, overlap_mask=True, mask_ratio=4, dropout=0.0, val=True, split=val, save_json=False, conf=None, iou=0.7, max_det=300, half=False, dnn=False, plots=True, source=None, vid_stride=1, stream_buffer=False, visualize=False, augment=False, agnostic_nms=False, classes=None, retina_masks=False, embed=None, show=False, save_frames=False, save_txt=False, save_conf=False, save_crop=False, show_labels=True, show_conf=True, show_boxes=True, line_width=None, format=torchscript, keras=False, optimize=False, int8=False, dynamic=False, simplify=True, opset=None, workspace=None, nms=False, lr0=0.01, lrf=0.01, momentum=0.937, weight_decay=0.0005, warmup_epochs=3.0, warmup_momentum=0.8, warmup_bias_lr=0.1, box=7.5, cls=0.5, dfl=1.5, pose=12.0, kobj=1.0, nbs=64, hsv_h=0.015, hsv_s=0.7, hsv_v=0.4, degrees=0.0, translate=0.1, scale=0.5, shear=0.0, perspective=0.0, flipud=0.0, fliplr=0.5, bgr=0.0, mosaic=1.0, mixup=0.0, copy_paste=0.0, copy_paste_mode=flip, auto_augment=randaugment, erasing=0.4, cfg=None, tracker=botsort.yaml, save_dir=runs/detect/train\n",
            "\n",
            "                   from  n    params  module                                       arguments                     \n",
            "  0                  -1  1       464  ultralytics.nn.modules.conv.Conv             [3, 16, 3, 2]                 \n",
            "  1                  -1  1      4672  ultralytics.nn.modules.conv.Conv             [16, 32, 3, 2]                \n",
            "  2                  -1  1      6640  ultralytics.nn.modules.block.C3k2            [32, 64, 1, False, 0.25]      \n",
            "  3                  -1  1     36992  ultralytics.nn.modules.conv.Conv             [64, 64, 3, 2]                \n",
            "  4                  -1  1     26080  ultralytics.nn.modules.block.C3k2            [64, 128, 1, False, 0.25]     \n",
            "  5                  -1  1    147712  ultralytics.nn.modules.conv.Conv             [128, 128, 3, 2]              \n",
            "  6                  -1  1     87040  ultralytics.nn.modules.block.C3k2            [128, 128, 1, True]           \n",
            "  7                  -1  1    295424  ultralytics.nn.modules.conv.Conv             [128, 256, 3, 2]              \n",
            "  8                  -1  1    346112  ultralytics.nn.modules.block.C3k2            [256, 256, 1, True]           \n",
            "  9                  -1  1    164608  ultralytics.nn.modules.block.SPPF            [256, 256, 5]                 \n",
            " 10                  -1  1    249728  ultralytics.nn.modules.block.C2PSA           [256, 256, 1]                 \n",
            " 11                  -1  1         0  torch.nn.modules.upsampling.Upsample         [None, 2, 'nearest']          \n",
            " 12             [-1, 6]  1         0  ultralytics.nn.modules.conv.Concat           [1]                           \n",
            " 13                  -1  1    111296  ultralytics.nn.modules.block.C3k2            [384, 128, 1, False]          \n",
            " 14                  -1  1         0  torch.nn.modules.upsampling.Upsample         [None, 2, 'nearest']          \n",
            " 15             [-1, 4]  1         0  ultralytics.nn.modules.conv.Concat           [1]                           \n",
            " 16                  -1  1     32096  ultralytics.nn.modules.block.C3k2            [256, 64, 1, False]           \n",
            " 17                  -1  1     36992  ultralytics.nn.modules.conv.Conv             [64, 64, 3, 2]                \n",
            " 18            [-1, 13]  1         0  ultralytics.nn.modules.conv.Concat           [1]                           \n",
            " 19                  -1  1     86720  ultralytics.nn.modules.block.C3k2            [192, 128, 1, False]          \n",
            " 20                  -1  1    147712  ultralytics.nn.modules.conv.Conv             [128, 128, 3, 2]              \n",
            " 21            [-1, 10]  1         0  ultralytics.nn.modules.conv.Concat           [1]                           \n",
            " 22                  -1  1    378880  ultralytics.nn.modules.block.C3k2            [384, 256, 1, True]           \n",
            " 23        [16, 19, 22]  1    464912  ultralytics.nn.modules.head.Detect           [80, [64, 128, 256]]          \n",
            "YOLO11n summary: 181 layers, 2,624,080 parameters, 2,624,064 gradients, 6.6 GFLOPs\n",
            "\n",
            "Transferred 499/499 items from pretrained weights\n",
            "\u001b[34m\u001b[1mTensorBoard: \u001b[0mStart with 'tensorboard --logdir runs/detect/train', view at http://localhost:6006/\n",
            "Freezing layer 'model.23.dfl.conv.weight'\n",
            "\u001b[34m\u001b[1mAMP: \u001b[0mrunning Automatic Mixed Precision (AMP) checks...\n",
            "\u001b[34m\u001b[1mAMP: \u001b[0mchecks passed ✅\n",
            "\u001b[34m\u001b[1mtrain: \u001b[0mFast image access ✅ (ping: 0.0±0.0 ms, read: 1512.9±379.4 MB/s, size: 50.0 KB)\n",
            "\u001b[34m\u001b[1mtrain: \u001b[0mScanning /content/datasets/coco8/labels/train... 4 images, 0 backgrounds, 0 corrupt: 100% 4/4 [00:00<00:00, 1705.69it/s]\n",
            "\u001b[34m\u001b[1mtrain: \u001b[0mNew cache created: /content/datasets/coco8/labels/train.cache\n",
            "\u001b[34m\u001b[1malbumentations: \u001b[0mBlur(p=0.01, blur_limit=(3, 7)), MedianBlur(p=0.01, blur_limit=(3, 7)), ToGray(p=0.01, num_output_channels=3, method='weighted_average'), CLAHE(p=0.01, clip_limit=(1.0, 4.0), tile_grid_size=(8, 8))\n",
            "\u001b[34m\u001b[1mval: \u001b[0mFast image access ✅ (ping: 0.0±0.0 ms, read: 328.7±28.2 MB/s, size: 54.0 KB)\n",
            "\u001b[34m\u001b[1mval: \u001b[0mScanning /content/datasets/coco8/labels/val.cache... 4 images, 0 backgrounds, 0 corrupt: 100% 4/4 [00:00<?, ?it/s]\n",
            "Plotting labels to runs/detect/train/labels.jpg... \n",
            "\u001b[34m\u001b[1moptimizer:\u001b[0m 'optimizer=auto' found, ignoring 'lr0=0.01' and 'momentum=0.937' and determining best 'optimizer', 'lr0' and 'momentum' automatically... \n",
            "\u001b[34m\u001b[1moptimizer:\u001b[0m AdamW(lr=0.000119, momentum=0.9) with parameter groups 81 weight(decay=0.0), 88 weight(decay=0.0005), 87 bias(decay=0.0)\n",
            "\u001b[34m\u001b[1mTensorBoard: \u001b[0mmodel graph visualization added ✅\n",
            "Image sizes 640 train, 640 val\n",
            "Using 2 dataloader workers\n",
            "Logging results to \u001b[1mruns/detect/train\u001b[0m\n",
            "Starting training for 3 epochs...\n",
            "\n",
            "      Epoch    GPU_mem   box_loss   cls_loss   dfl_loss  Instances       Size\n",
            "        1/3     0.689G     0.9685      2.353      1.287         18        640: 100% 1/1 [00:01<00:00,  1.06s/it]\n",
            "                 Class     Images  Instances      Box(P          R      mAP50  mAP50-95): 100% 1/1 [00:00<00:00,  5.23it/s]\n",
            "                   all          4         17      0.583       0.85      0.878      0.634\n",
            "\n",
            "      Epoch    GPU_mem   box_loss   cls_loss   dfl_loss  Instances       Size\n",
            "        2/3     0.719G      1.249      3.262      1.643         22        640: 100% 1/1 [00:00<00:00,  7.37it/s]\n",
            "                 Class     Images  Instances      Box(P          R      mAP50  mAP50-95): 100% 1/1 [00:00<00:00, 10.81it/s]\n",
            "                   all          4         17      0.588       0.85      0.886      0.634\n",
            "\n",
            "      Epoch    GPU_mem   box_loss   cls_loss   dfl_loss  Instances       Size\n",
            "        3/3     0.725G      1.373      2.905      1.483         27        640: 100% 1/1 [00:00<00:00,  6.70it/s]\n",
            "                 Class     Images  Instances      Box(P          R      mAP50  mAP50-95): 100% 1/1 [00:00<00:00, 12.17it/s]\n",
            "                   all          4         17      0.572       0.85       0.85      0.649\n",
            "\n",
            "3 epochs completed in 0.002 hours.\n",
            "Optimizer stripped from runs/detect/train/weights/last.pt, 5.5MB\n",
            "Optimizer stripped from runs/detect/train/weights/best.pt, 5.5MB\n",
            "\n",
            "Validating runs/detect/train/weights/best.pt...\n",
            "Ultralytics 8.3.110 🚀 Python-3.11.12 torch-2.6.0+cu124 CUDA:0 (Tesla T4, 15095MiB)\n",
            "YOLO11n summary (fused): 100 layers, 2,616,248 parameters, 0 gradients, 6.5 GFLOPs\n",
            "                 Class     Images  Instances      Box(P          R      mAP50  mAP50-95): 100% 1/1 [00:00<00:00, 20.72it/s]\n",
            "                   all          4         17      0.571       0.85       0.85      0.649\n",
            "                person          3         10      0.569        0.6      0.594      0.274\n",
            "                   dog          1          1      0.545          1      0.995      0.796\n",
            "                 horse          1          2      0.546          1      0.995      0.674\n",
            "              elephant          1          2      0.359        0.5      0.524      0.259\n",
            "              umbrella          1          1      0.565          1      0.995      0.995\n",
            "          potted plant          1          1      0.844          1      0.995      0.895\n",
            "Speed: 0.3ms preprocess, 4.6ms inference, 0.0ms loss, 1.5ms postprocess per image\n",
            "Results saved to \u001b[1mruns/detect/train\u001b[0m\n",
            "💡 Learn more at https://docs.ultralytics.com/modes/train\n"
          ]
        }
      ]
    },
    {
      "cell_type": "markdown",
      "source": [
        "# 4. Export\n",
        "\n",
        "Export a YOLO model to any supported format below with the `format` argument, i.e. `format=onnx`. See [Export Docs](https://docs.ultralytics.com/modes/export/) for more information.\n",
        "\n",
        "- 💡 ProTip: Export to [ONNX](https://docs.ultralytics.com/integrations/onnx/) or [OpenVINO](https://docs.ultralytics.com/integrations/openvino/) for up to 3x CPU speedup.\n",
        "- 💡 ProTip: Export to [TensorRT](https://docs.ultralytics.com/integrations/tensorrt/) for up to 5x GPU speedup.\n",
        "\n",
        "| Format | `format` Argument | Model | Metadata | Arguments |\n",
        "|--------|-----------------|-------|----------|------------|\n",
        "| [PyTorch](https://pytorch.org/) | - | `yolo11n.pt` | ✅ | - |\n",
        "| [TorchScript](https://docs.ultralytics.com/integrations/torchscript) | `torchscript` | `yolo11n.torchscript` | ✅ | `imgsz`, `batch`, `optimize`, `half`, `nms`, `device` |\n",
        "| [ONNX](https://docs.ultralytics.com/integrations/onnx) | `onnx` | `yolo11n.onnx` | ✅ | `imgsz`, `batch`, `dynamic`, `half`, `opset`, `simplify`, `nms`, `device` |\n",
        "| [OpenVINO](https://docs.ultralytics.com/integrations/openvino) | `openvino` | `yolo11n_openvino_model/` | ✅ | `imgsz`, `batch`, `dynamic`, `half`, `int8`, `nms`, `fraction`, `device`, `data` |\n",
        "| [TensorRT](https://docs.ultralytics.com/integrations/tensorrt) | `engine` | `yolo11n.engine` | ✅ | `imgsz`, `batch`, `dynamic`, `half`, `int8`, `simplify`, `nms`, `fraction`, `device`, `data`, `workspace` |\n",
        "| [CoreML](https://docs.ultralytics.com/integrations/coreml) | `coreml` | `yolo11n.mlpackage` | ✅ | `imgsz`, `batch`, `half`, `int8`, `nms`, `device` |\n",
        "| [TF SavedModel](https://docs.ultralytics.com/integrations/tf-savedmodel) | `saved_model` | `yolo11n_saved_model/` | ✅ | `imgsz`, `batch`, `int8`, `keras`, `nms`, `device` |\n",
        "| [TF GraphDef](https://docs.ultralytics.com/integrations/tf-graphdef) | `pb` | `yolo11n.pb` | ❌ | `imgsz`, `batch`, `device` |\n",
        "| [TF Lite](https://docs.ultralytics.com/integrations/tflite) | `tflite` | `yolo11n.tflite` | ✅ | `imgsz`, `batch`, `half`, `int8`, `nms`, `fraction`, `device`, `data` |\n",
        "| [TF Edge TPU](https://docs.ultralytics.com/integrations/edge-tpu) | `edgetpu` | `yolo11n_edgetpu.tflite` | ✅ | `imgsz`, `device` |\n",
        "| [TF.js](https://docs.ultralytics.com/integrations/tfjs) | `tfjs` | `yolo11n_web_model/` | ✅ | `imgsz`, `batch`, `half`, `int8`, `nms`, `device` |\n",
        "| [PaddlePaddle](https://docs.ultralytics.com/integrations/paddlepaddle) | `paddle` | `yolo11n_paddle_model/` | ✅ | `imgsz`, `batch`, `device` |\n",
        "| [MNN](https://docs.ultralytics.com/integrations/mnn) | `mnn` | `yolo11n.mnn` | ✅ | `imgsz`, `batch`, `half`, `int8`, `device` |\n",
        "| [NCNN](https://docs.ultralytics.com/integrations/ncnn) | `ncnn` | `yolo11n_ncnn_model/` | ✅ | `imgsz`, `batch`, `half`, `device` |\n",
        "| [IMX500](https://docs.ultralytics.com/integrations/sony-imx500) | `imx` | `yolov8n_imx_model/` | ✅ | `imgsz`, `int8`, `fraction`, `device`, `data` |\n",
        "| [RKNN](https://docs.ultralytics.com/integrations/rockchip-rknn) | `rknn` | `yolo11n_rknn_model/` | ✅ | `imgsz`, `batch`, `name`, `device` |"
      ],
      "metadata": {
        "id": "nPZZeNrLCQG6"
      }
    },
    {
      "cell_type": "code",
      "source": [
        "!yolo export model=yolo11n.pt format=torchscript"
      ],
      "metadata": {
        "colab": {
          "base_uri": "https://localhost:8080/"
        },
        "id": "CYIjW4igCjqD",
        "outputId": "2fd8de97-e864-48d1-afbb-ef6eca114bb4"
      },
      "execution_count": null,
      "outputs": [
        {
          "output_type": "stream",
          "name": "stdout",
          "text": [
            "Ultralytics 8.3.110 🚀 Python-3.11.12 torch-2.6.0+cu124 CPU (Intel Xeon 2.00GHz)\n",
            "YOLO11n summary (fused): 100 layers, 2,616,248 parameters, 0 gradients, 6.5 GFLOPs\n",
            "\n",
            "\u001b[34m\u001b[1mPyTorch:\u001b[0m starting from 'yolo11n.pt' with input shape (1, 3, 640, 640) BCHW and output shape(s) (1, 84, 8400) (5.4 MB)\n",
            "\n",
            "\u001b[34m\u001b[1mTorchScript:\u001b[0m starting export with torch 2.6.0+cu124...\n",
            "\u001b[34m\u001b[1mTorchScript:\u001b[0m export success ✅ 2.4s, saved as 'yolo11n.torchscript' (10.5 MB)\n",
            "\n",
            "Export complete (4.1s)\n",
            "Results saved to \u001b[1m/content\u001b[0m\n",
            "Predict:         yolo predict task=detect model=yolo11n.torchscript imgsz=640  \n",
            "Validate:        yolo val task=detect model=yolo11n.torchscript imgsz=640 data=/usr/src/ultralytics/ultralytics/cfg/datasets/coco.yaml  \n",
            "Visualize:       https://netron.app\n",
            "💡 Learn more at https://docs.ultralytics.com/modes/export\n"
          ]
        }
      ]
    },
    {
      "cell_type": "markdown",
      "source": [
        "# 5. Python Usage\n",
        "\n",
        "YOLO11 was reimagined using Python-first principles for the most seamless Python YOLO experience yet. YOLO11 models can be loaded from a trained checkpoint or created from scratch. Then methods are used to train, val, predict, and export the model. See detailed Python usage examples in the [YOLO11 Python Docs](https://docs.ultralytics.com/usage/python/)."
      ],
      "metadata": {
        "id": "kUMOQ0OeDBJG"
      }
    },
    {
      "cell_type": "code",
      "source": [
        "from ultralytics import YOLO\n",
        "\n",
        "# Load a model\n",
        "model = YOLO('yolo11n.yaml')  # build a new model from scratch\n",
        "model = YOLO('yolo11n.pt')  # load a pretrained model (recommended for training)\n",
        "\n",
        "# Use the model\n",
        "results = model.train(data='coco8.yaml', epochs=3)  # train the model\n",
        "results = model.val()  # evaluate model performance on the validation set\n",
        "results = model('https://ultralytics.com/images/bus.jpg')  # predict on an image\n",
        "results = model.export(format='onnx')  # export the model to ONNX format"
      ],
      "metadata": {
        "id": "bpF9-vS_DAaf"
      },
      "execution_count": null,
      "outputs": []
    },
    {
      "cell_type": "markdown",
      "source": [
        "# 6. Tasks\n",
        "\n",
        "YOLO11 can train, val, predict and export models for the most common tasks in vision AI: [Detect](https://docs.ultralytics.com/tasks/detect/), [Segment](https://docs.ultralytics.com/tasks/segment/), [Classify](https://docs.ultralytics.com/tasks/classify/) and [Pose](https://docs.ultralytics.com/tasks/pose/). See [YOLO11 Tasks Docs](https://docs.ultralytics.com/tasks/) for more information.\n",
        "\n",
        "<br><img width=\"1024\" src=\"https://raw.githubusercontent.com/ultralytics/assets/main/im/banner-tasks.png\">\n"
      ],
      "metadata": {
        "id": "Phm9ccmOKye5"
      }
    },
    {
      "cell_type": "markdown",
      "source": [
        "## 1. Detection\n",
        "\n",
        "YOLO11 _detection_ models have no suffix and are the default YOLO11 models, i.e. `yolo11n.pt` and are pretrained on COCO. See [Detection Docs](https://docs.ultralytics.com/tasks/detect/) for full details.\n"
      ],
      "metadata": {
        "id": "yq26lwpYK1lq"
      }
    },
    {
      "cell_type": "code",
      "source": [
        "# Load YOLO11n, train it on COCO128 for 3 epochs and predict an image with it\n",
        "from ultralytics import YOLO\n",
        "\n",
        "model = YOLO('yolo11n.pt')  # load a pretrained YOLO detection model\n",
        "model.train(data='data.yaml', epochs=40)  # train the model\n",
        "# model('https://ultralytics.com/images/bus.jpg')  # predict on an image"
      ],
      "metadata": {
        "id": "8Go5qqS9LbC5",
        "colab": {
          "base_uri": "https://localhost:8080/"
        },
        "outputId": "45195ee0-8e5e-46f6-cd0b-a122b1b247fc"
      },
      "execution_count": 4,
      "outputs": [
        {
          "output_type": "stream",
          "name": "stdout",
          "text": [
            "Ultralytics 8.3.135 🚀 Python-3.11.12 torch-2.6.0+cu124 CUDA:0 (Tesla T4, 15095MiB)\n",
            "\u001b[34m\u001b[1mengine/trainer: \u001b[0magnostic_nms=False, amp=True, augment=False, auto_augment=randaugment, batch=16, bgr=0.0, box=7.5, cache=False, cfg=None, classes=None, close_mosaic=10, cls=0.5, conf=None, copy_paste=0.0, copy_paste_mode=flip, cos_lr=False, cutmix=0.0, data=data.yaml, degrees=0.0, deterministic=True, device=None, dfl=1.5, dnn=False, dropout=0.0, dynamic=False, embed=None, epochs=40, erasing=0.4, exist_ok=False, fliplr=0.5, flipud=0.0, format=torchscript, fraction=1.0, freeze=None, half=False, hsv_h=0.015, hsv_s=0.7, hsv_v=0.4, imgsz=640, int8=False, iou=0.7, keras=False, kobj=1.0, line_width=None, lr0=0.01, lrf=0.01, mask_ratio=4, max_det=300, mixup=0.0, mode=train, model=yolo11n.pt, momentum=0.937, mosaic=1.0, multi_scale=False, name=train, nbs=64, nms=False, opset=None, optimize=False, optimizer=auto, overlap_mask=True, patience=100, perspective=0.0, plots=True, pose=12.0, pretrained=True, profile=False, project=None, rect=False, resume=False, retina_masks=False, save=True, save_conf=False, save_crop=False, save_dir=runs/detect/train, save_frames=False, save_json=False, save_period=-1, save_txt=False, scale=0.5, seed=0, shear=0.0, show=False, show_boxes=True, show_conf=True, show_labels=True, simplify=True, single_cls=False, source=None, split=val, stream_buffer=False, task=detect, time=None, tracker=botsort.yaml, translate=0.1, val=True, verbose=True, vid_stride=1, visualize=False, warmup_bias_lr=0.1, warmup_epochs=3.0, warmup_momentum=0.8, weight_decay=0.0005, workers=8, workspace=None\n",
            "Downloading https://ultralytics.com/assets/Arial.ttf to '/root/.config/Ultralytics/Arial.ttf'...\n"
          ]
        },
        {
          "output_type": "stream",
          "name": "stderr",
          "text": [
            "100%|██████████| 755k/755k [00:00<00:00, 3.13MB/s]"
          ]
        },
        {
          "output_type": "stream",
          "name": "stdout",
          "text": [
            "Overriding model.yaml nc=80 with nc=6\n",
            "\n",
            "                   from  n    params  module                                       arguments                     \n",
            "  0                  -1  1       464  ultralytics.nn.modules.conv.Conv             [3, 16, 3, 2]                 \n",
            "  1                  -1  1      4672  ultralytics.nn.modules.conv.Conv             [16, 32, 3, 2]                \n",
            "  2                  -1  1      6640  ultralytics.nn.modules.block.C3k2            [32, 64, 1, False, 0.25]      \n",
            "  3                  -1  1     36992  ultralytics.nn.modules.conv.Conv             [64, 64, 3, 2]                \n",
            "  4                  -1  1     26080  ultralytics.nn.modules.block.C3k2            [64, 128, 1, False, 0.25]     \n",
            "  5                  -1  1    147712  ultralytics.nn.modules.conv.Conv             [128, 128, 3, 2]              \n",
            "  6                  -1  1     87040  ultralytics.nn.modules.block.C3k2            [128, 128, 1, True]           \n",
            "  7                  -1  1    295424  ultralytics.nn.modules.conv.Conv             [128, 256, 3, 2]              \n",
            "  8                  -1  1    346112  ultralytics.nn.modules.block.C3k2            [256, 256, 1, True]           \n",
            "  9                  -1  1    164608  ultralytics.nn.modules.block.SPPF            [256, 256, 5]                 \n",
            " 10                  -1  1    249728  ultralytics.nn.modules.block.C2PSA           [256, 256, 1]                 \n",
            " 11                  -1  1         0  torch.nn.modules.upsampling.Upsample         [None, 2, 'nearest']          \n",
            " 12             [-1, 6]  1         0  ultralytics.nn.modules.conv.Concat           [1]                           \n",
            " 13                  -1  1    111296  ultralytics.nn.modules.block.C3k2            [384, 128, 1, False]          \n",
            " 14                  -1  1         0  torch.nn.modules.upsampling.Upsample         [None, 2, 'nearest']          \n",
            " 15             [-1, 4]  1         0  ultralytics.nn.modules.conv.Concat           [1]                           \n",
            " 16                  -1  1     32096  ultralytics.nn.modules.block.C3k2            [256, 64, 1, False]           \n",
            " 17                  -1  1     36992  ultralytics.nn.modules.conv.Conv             [64, 64, 3, 2]                \n",
            " 18            [-1, 13]  1         0  ultralytics.nn.modules.conv.Concat           [1]                           \n",
            " 19                  -1  1     86720  ultralytics.nn.modules.block.C3k2            [192, 128, 1, False]          \n",
            " 20                  -1  1    147712  ultralytics.nn.modules.conv.Conv             [128, 128, 3, 2]              \n",
            " 21            [-1, 10]  1         0  ultralytics.nn.modules.conv.Concat           [1]                           \n"
          ]
        },
        {
          "output_type": "stream",
          "name": "stderr",
          "text": [
            "\n"
          ]
        },
        {
          "output_type": "stream",
          "name": "stdout",
          "text": [
            " 22                  -1  1    378880  ultralytics.nn.modules.block.C3k2            [384, 256, 1, True]           \n",
            " 23        [16, 19, 22]  1    431842  ultralytics.nn.modules.head.Detect           [6, [64, 128, 256]]           \n",
            "YOLO11n summary: 181 layers, 2,591,010 parameters, 2,590,994 gradients, 6.4 GFLOPs\n",
            "\n",
            "Transferred 448/499 items from pretrained weights\n",
            "Freezing layer 'model.23.dfl.conv.weight'\n",
            "\u001b[34m\u001b[1mAMP: \u001b[0mrunning Automatic Mixed Precision (AMP) checks...\n",
            "\u001b[34m\u001b[1mAMP: \u001b[0mchecks passed ✅\n",
            "\u001b[34m\u001b[1mtrain: \u001b[0mFast image access ✅ (ping: 0.0±0.0 ms, read: 1815.0±595.7 MB/s, size: 64.5 KB)\n"
          ]
        },
        {
          "output_type": "stream",
          "name": "stderr",
          "text": [
            "\u001b[34m\u001b[1mtrain: \u001b[0mScanning /content/train/labels... 877 images, 12 backgrounds, 0 corrupt: 100%|██████████| 877/877 [00:00<00:00, 1364.73it/s]"
          ]
        },
        {
          "output_type": "stream",
          "name": "stdout",
          "text": [
            "\u001b[34m\u001b[1mtrain: \u001b[0mNew cache created: /content/train/labels.cache\n"
          ]
        },
        {
          "output_type": "stream",
          "name": "stderr",
          "text": [
            "\n"
          ]
        },
        {
          "output_type": "stream",
          "name": "stdout",
          "text": [
            "\u001b[34m\u001b[1malbumentations: \u001b[0mBlur(p=0.01, blur_limit=(3, 7)), MedianBlur(p=0.01, blur_limit=(3, 7)), ToGray(p=0.01, method='weighted_average', num_output_channels=3), CLAHE(p=0.01, clip_limit=(1.0, 4.0), tile_grid_size=(8, 8))\n",
            "\u001b[34m\u001b[1mval: \u001b[0mFast image access ✅ (ping: 0.0±0.0 ms, read: 857.8±495.2 MB/s, size: 64.4 KB)\n"
          ]
        },
        {
          "output_type": "stream",
          "name": "stderr",
          "text": [
            "\u001b[34m\u001b[1mval: \u001b[0mScanning /content/valid/labels... 188 images, 1 backgrounds, 0 corrupt: 100%|██████████| 188/188 [00:00<00:00, 1759.74it/s]"
          ]
        },
        {
          "output_type": "stream",
          "name": "stdout",
          "text": [
            "\u001b[34m\u001b[1mval: \u001b[0mNew cache created: /content/valid/labels.cache\n"
          ]
        },
        {
          "output_type": "stream",
          "name": "stderr",
          "text": [
            "\n"
          ]
        },
        {
          "output_type": "stream",
          "name": "stdout",
          "text": [
            "Plotting labels to runs/detect/train/labels.jpg... \n",
            "\u001b[34m\u001b[1moptimizer:\u001b[0m 'optimizer=auto' found, ignoring 'lr0=0.01' and 'momentum=0.937' and determining best 'optimizer', 'lr0' and 'momentum' automatically... \n",
            "\u001b[34m\u001b[1moptimizer:\u001b[0m AdamW(lr=0.001, momentum=0.9) with parameter groups 81 weight(decay=0.0), 88 weight(decay=0.0005), 87 bias(decay=0.0)\n",
            "Image sizes 640 train, 640 val\n",
            "Using 2 dataloader workers\n",
            "Logging results to \u001b[1mruns/detect/train\u001b[0m\n",
            "Starting training for 40 epochs...\n",
            "\n",
            "      Epoch    GPU_mem   box_loss   cls_loss   dfl_loss  Instances       Size\n"
          ]
        },
        {
          "output_type": "stream",
          "name": "stderr",
          "text": [
            "       1/40      2.27G      1.462      3.895      1.194         21        640: 100%|██████████| 55/55 [00:17<00:00,  3.23it/s]\n",
            "                 Class     Images  Instances      Box(P          R      mAP50  mAP50-95): 100%|██████████| 6/6 [00:03<00:00,  1.91it/s]"
          ]
        },
        {
          "output_type": "stream",
          "name": "stdout",
          "text": [
            "                   all        188        236    0.00687      0.993      0.414      0.274\n"
          ]
        },
        {
          "output_type": "stream",
          "name": "stderr",
          "text": [
            "\n"
          ]
        },
        {
          "output_type": "stream",
          "name": "stdout",
          "text": [
            "\n",
            "      Epoch    GPU_mem   box_loss   cls_loss   dfl_loss  Instances       Size\n"
          ]
        },
        {
          "output_type": "stream",
          "name": "stderr",
          "text": [
            "       2/40      2.67G      1.301      2.525      1.153         21        640: 100%|██████████| 55/55 [00:15<00:00,  3.64it/s]\n",
            "                 Class     Images  Instances      Box(P          R      mAP50  mAP50-95): 100%|██████████| 6/6 [00:01<00:00,  3.57it/s]"
          ]
        },
        {
          "output_type": "stream",
          "name": "stdout",
          "text": [
            "                   all        188        236      0.789      0.303      0.685      0.426\n"
          ]
        },
        {
          "output_type": "stream",
          "name": "stderr",
          "text": [
            "\n"
          ]
        },
        {
          "output_type": "stream",
          "name": "stdout",
          "text": [
            "\n",
            "      Epoch    GPU_mem   box_loss   cls_loss   dfl_loss  Instances       Size\n"
          ]
        },
        {
          "output_type": "stream",
          "name": "stderr",
          "text": [
            "       3/40      2.69G      1.263      2.167      1.157         23        640: 100%|██████████| 55/55 [00:14<00:00,  3.74it/s]\n",
            "                 Class     Images  Instances      Box(P          R      mAP50  mAP50-95): 100%|██████████| 6/6 [00:01<00:00,  3.73it/s]"
          ]
        },
        {
          "output_type": "stream",
          "name": "stdout",
          "text": [
            "                   all        188        236      0.547      0.868      0.716       0.44\n"
          ]
        },
        {
          "output_type": "stream",
          "name": "stderr",
          "text": [
            "\n"
          ]
        },
        {
          "output_type": "stream",
          "name": "stdout",
          "text": [
            "\n",
            "      Epoch    GPU_mem   box_loss   cls_loss   dfl_loss  Instances       Size\n"
          ]
        },
        {
          "output_type": "stream",
          "name": "stderr",
          "text": [
            "       4/40       2.7G      1.299      1.962      1.154         22        640: 100%|██████████| 55/55 [00:14<00:00,  3.75it/s]\n",
            "                 Class     Images  Instances      Box(P          R      mAP50  mAP50-95): 100%|██████████| 6/6 [00:02<00:00,  2.97it/s]"
          ]
        },
        {
          "output_type": "stream",
          "name": "stdout",
          "text": [
            "                   all        188        236      0.762      0.811        0.8      0.521\n"
          ]
        },
        {
          "output_type": "stream",
          "name": "stderr",
          "text": [
            "\n"
          ]
        },
        {
          "output_type": "stream",
          "name": "stdout",
          "text": [
            "\n",
            "      Epoch    GPU_mem   box_loss   cls_loss   dfl_loss  Instances       Size\n"
          ]
        },
        {
          "output_type": "stream",
          "name": "stderr",
          "text": [
            "       5/40      2.72G       1.26      1.809      1.139         22        640: 100%|██████████| 55/55 [00:14<00:00,  3.68it/s]\n",
            "                 Class     Images  Instances      Box(P          R      mAP50  mAP50-95): 100%|██████████| 6/6 [00:01<00:00,  3.67it/s]"
          ]
        },
        {
          "output_type": "stream",
          "name": "stdout",
          "text": [
            "                   all        188        236      0.706      0.895      0.778      0.512\n"
          ]
        },
        {
          "output_type": "stream",
          "name": "stderr",
          "text": [
            "\n"
          ]
        },
        {
          "output_type": "stream",
          "name": "stdout",
          "text": [
            "\n",
            "      Epoch    GPU_mem   box_loss   cls_loss   dfl_loss  Instances       Size\n"
          ]
        },
        {
          "output_type": "stream",
          "name": "stderr",
          "text": [
            "       6/40      2.73G      1.246      1.664      1.141         18        640: 100%|██████████| 55/55 [00:14<00:00,  3.77it/s]\n",
            "                 Class     Images  Instances      Box(P          R      mAP50  mAP50-95): 100%|██████████| 6/6 [00:01<00:00,  4.08it/s]"
          ]
        },
        {
          "output_type": "stream",
          "name": "stdout",
          "text": [
            "                   all        188        236      0.674      0.787      0.761      0.494\n"
          ]
        },
        {
          "output_type": "stream",
          "name": "stderr",
          "text": [
            "\n"
          ]
        },
        {
          "output_type": "stream",
          "name": "stdout",
          "text": [
            "\n",
            "      Epoch    GPU_mem   box_loss   cls_loss   dfl_loss  Instances       Size\n"
          ]
        },
        {
          "output_type": "stream",
          "name": "stderr",
          "text": [
            "       7/40      2.75G      1.253      1.506      1.143         28        640: 100%|██████████| 55/55 [00:14<00:00,  3.70it/s]\n",
            "                 Class     Images  Instances      Box(P          R      mAP50  mAP50-95): 100%|██████████| 6/6 [00:01<00:00,  3.62it/s]"
          ]
        },
        {
          "output_type": "stream",
          "name": "stdout",
          "text": [
            "                   all        188        236      0.708      0.878      0.813      0.534\n"
          ]
        },
        {
          "output_type": "stream",
          "name": "stderr",
          "text": [
            "\n"
          ]
        },
        {
          "output_type": "stream",
          "name": "stdout",
          "text": [
            "\n",
            "      Epoch    GPU_mem   box_loss   cls_loss   dfl_loss  Instances       Size\n"
          ]
        },
        {
          "output_type": "stream",
          "name": "stderr",
          "text": [
            "       8/40      2.76G      1.237      1.466      1.141         19        640: 100%|██████████| 55/55 [00:15<00:00,  3.63it/s]\n",
            "                 Class     Images  Instances      Box(P          R      mAP50  mAP50-95): 100%|██████████| 6/6 [00:01<00:00,  3.75it/s]"
          ]
        },
        {
          "output_type": "stream",
          "name": "stdout",
          "text": [
            "                   all        188        236      0.772      0.812      0.838      0.545\n"
          ]
        },
        {
          "output_type": "stream",
          "name": "stderr",
          "text": [
            "\n"
          ]
        },
        {
          "output_type": "stream",
          "name": "stdout",
          "text": [
            "\n",
            "      Epoch    GPU_mem   box_loss   cls_loss   dfl_loss  Instances       Size\n"
          ]
        },
        {
          "output_type": "stream",
          "name": "stderr",
          "text": [
            "       9/40      2.77G      1.213      1.368      1.118         22        640: 100%|██████████| 55/55 [00:14<00:00,  3.79it/s]\n",
            "                 Class     Images  Instances      Box(P          R      mAP50  mAP50-95): 100%|██████████| 6/6 [00:01<00:00,  3.72it/s]"
          ]
        },
        {
          "output_type": "stream",
          "name": "stdout",
          "text": [
            "                   all        188        236      0.817      0.862       0.89      0.593\n"
          ]
        },
        {
          "output_type": "stream",
          "name": "stderr",
          "text": [
            "\n"
          ]
        },
        {
          "output_type": "stream",
          "name": "stdout",
          "text": [
            "\n",
            "      Epoch    GPU_mem   box_loss   cls_loss   dfl_loss  Instances       Size\n"
          ]
        },
        {
          "output_type": "stream",
          "name": "stderr",
          "text": [
            "      10/40      2.79G      1.159      1.217      1.103         24        640: 100%|██████████| 55/55 [00:15<00:00,  3.54it/s]\n",
            "                 Class     Images  Instances      Box(P          R      mAP50  mAP50-95): 100%|██████████| 6/6 [00:01<00:00,  3.42it/s]"
          ]
        },
        {
          "output_type": "stream",
          "name": "stdout",
          "text": [
            "                   all        188        236      0.788      0.843      0.871       0.58\n"
          ]
        },
        {
          "output_type": "stream",
          "name": "stderr",
          "text": [
            "\n"
          ]
        },
        {
          "output_type": "stream",
          "name": "stdout",
          "text": [
            "\n",
            "      Epoch    GPU_mem   box_loss   cls_loss   dfl_loss  Instances       Size\n"
          ]
        },
        {
          "output_type": "stream",
          "name": "stderr",
          "text": [
            "      11/40       2.8G       1.17      1.211      1.097         26        640: 100%|██████████| 55/55 [00:15<00:00,  3.61it/s]\n",
            "                 Class     Images  Instances      Box(P          R      mAP50  mAP50-95): 100%|██████████| 6/6 [00:01<00:00,  3.49it/s]"
          ]
        },
        {
          "output_type": "stream",
          "name": "stdout",
          "text": [
            "                   all        188        236       0.88      0.861      0.912      0.607\n"
          ]
        },
        {
          "output_type": "stream",
          "name": "stderr",
          "text": [
            "\n"
          ]
        },
        {
          "output_type": "stream",
          "name": "stdout",
          "text": [
            "\n",
            "      Epoch    GPU_mem   box_loss   cls_loss   dfl_loss  Instances       Size\n"
          ]
        },
        {
          "output_type": "stream",
          "name": "stderr",
          "text": [
            "      12/40      2.82G      1.201      1.168      1.116         24        640: 100%|██████████| 55/55 [00:14<00:00,  3.74it/s]\n",
            "                 Class     Images  Instances      Box(P          R      mAP50  mAP50-95): 100%|██████████| 6/6 [00:01<00:00,  4.19it/s]"
          ]
        },
        {
          "output_type": "stream",
          "name": "stdout",
          "text": [
            "                   all        188        236      0.776      0.876      0.898      0.602\n"
          ]
        },
        {
          "output_type": "stream",
          "name": "stderr",
          "text": [
            "\n"
          ]
        },
        {
          "output_type": "stream",
          "name": "stdout",
          "text": [
            "\n",
            "      Epoch    GPU_mem   box_loss   cls_loss   dfl_loss  Instances       Size\n"
          ]
        },
        {
          "output_type": "stream",
          "name": "stderr",
          "text": [
            "      13/40      2.83G      1.182      1.089      1.107         31        640: 100%|██████████| 55/55 [00:14<00:00,  3.73it/s]\n",
            "                 Class     Images  Instances      Box(P          R      mAP50  mAP50-95): 100%|██████████| 6/6 [00:01<00:00,  4.15it/s]"
          ]
        },
        {
          "output_type": "stream",
          "name": "stdout",
          "text": [
            "                   all        188        236      0.883      0.818      0.909      0.615\n"
          ]
        },
        {
          "output_type": "stream",
          "name": "stderr",
          "text": [
            "\n"
          ]
        },
        {
          "output_type": "stream",
          "name": "stdout",
          "text": [
            "\n",
            "      Epoch    GPU_mem   box_loss   cls_loss   dfl_loss  Instances       Size\n"
          ]
        },
        {
          "output_type": "stream",
          "name": "stderr",
          "text": [
            "      14/40      2.85G      1.168      1.061      1.083         27        640: 100%|██████████| 55/55 [00:15<00:00,  3.60it/s]\n",
            "                 Class     Images  Instances      Box(P          R      mAP50  mAP50-95): 100%|██████████| 6/6 [00:01<00:00,  3.09it/s]"
          ]
        },
        {
          "output_type": "stream",
          "name": "stdout",
          "text": [
            "                   all        188        236      0.831       0.89      0.918      0.618\n"
          ]
        },
        {
          "output_type": "stream",
          "name": "stderr",
          "text": [
            "\n"
          ]
        },
        {
          "output_type": "stream",
          "name": "stdout",
          "text": [
            "\n",
            "      Epoch    GPU_mem   box_loss   cls_loss   dfl_loss  Instances       Size\n"
          ]
        },
        {
          "output_type": "stream",
          "name": "stderr",
          "text": [
            "      15/40      2.86G      1.176      1.019       1.09         27        640: 100%|██████████| 55/55 [00:14<00:00,  3.78it/s]\n",
            "                 Class     Images  Instances      Box(P          R      mAP50  mAP50-95): 100%|██████████| 6/6 [00:01<00:00,  3.76it/s]"
          ]
        },
        {
          "output_type": "stream",
          "name": "stdout",
          "text": [
            "                   all        188        236      0.898      0.869      0.917      0.626\n"
          ]
        },
        {
          "output_type": "stream",
          "name": "stderr",
          "text": [
            "\n"
          ]
        },
        {
          "output_type": "stream",
          "name": "stdout",
          "text": [
            "\n",
            "      Epoch    GPU_mem   box_loss   cls_loss   dfl_loss  Instances       Size\n"
          ]
        },
        {
          "output_type": "stream",
          "name": "stderr",
          "text": [
            "      16/40      2.88G      1.164      1.024      1.082         27        640: 100%|██████████| 55/55 [00:14<00:00,  3.69it/s]\n",
            "                 Class     Images  Instances      Box(P          R      mAP50  mAP50-95): 100%|██████████| 6/6 [00:01<00:00,  4.24it/s]"
          ]
        },
        {
          "output_type": "stream",
          "name": "stdout",
          "text": [
            "                   all        188        236      0.808      0.906      0.909       0.61\n"
          ]
        },
        {
          "output_type": "stream",
          "name": "stderr",
          "text": [
            "\n"
          ]
        },
        {
          "output_type": "stream",
          "name": "stdout",
          "text": [
            "\n",
            "      Epoch    GPU_mem   box_loss   cls_loss   dfl_loss  Instances       Size\n"
          ]
        },
        {
          "output_type": "stream",
          "name": "stderr",
          "text": [
            "      17/40      2.89G      1.148     0.9486       1.09         28        640: 100%|██████████| 55/55 [00:14<00:00,  3.75it/s]\n",
            "                 Class     Images  Instances      Box(P          R      mAP50  mAP50-95): 100%|██████████| 6/6 [00:02<00:00,  2.45it/s]"
          ]
        },
        {
          "output_type": "stream",
          "name": "stdout",
          "text": [
            "                   all        188        236      0.869       0.86      0.916      0.624\n"
          ]
        },
        {
          "output_type": "stream",
          "name": "stderr",
          "text": [
            "\n"
          ]
        },
        {
          "output_type": "stream",
          "name": "stdout",
          "text": [
            "\n",
            "      Epoch    GPU_mem   box_loss   cls_loss   dfl_loss  Instances       Size\n"
          ]
        },
        {
          "output_type": "stream",
          "name": "stderr",
          "text": [
            "      18/40      2.91G      1.143     0.9579      1.079         24        640: 100%|██████████| 55/55 [00:14<00:00,  3.74it/s]\n",
            "                 Class     Images  Instances      Box(P          R      mAP50  mAP50-95): 100%|██████████| 6/6 [00:01<00:00,  3.95it/s]"
          ]
        },
        {
          "output_type": "stream",
          "name": "stdout",
          "text": [
            "                   all        188        236      0.856       0.89      0.919      0.633\n"
          ]
        },
        {
          "output_type": "stream",
          "name": "stderr",
          "text": [
            "\n"
          ]
        },
        {
          "output_type": "stream",
          "name": "stdout",
          "text": [
            "\n",
            "      Epoch    GPU_mem   box_loss   cls_loss   dfl_loss  Instances       Size\n"
          ]
        },
        {
          "output_type": "stream",
          "name": "stderr",
          "text": [
            "      19/40      2.92G      1.163     0.9598      1.081         16        640: 100%|██████████| 55/55 [00:14<00:00,  3.72it/s]\n",
            "                 Class     Images  Instances      Box(P          R      mAP50  mAP50-95): 100%|██████████| 6/6 [00:01<00:00,  4.09it/s]"
          ]
        },
        {
          "output_type": "stream",
          "name": "stdout",
          "text": [
            "                   all        188        236      0.877      0.897      0.941      0.648\n"
          ]
        },
        {
          "output_type": "stream",
          "name": "stderr",
          "text": [
            "\n"
          ]
        },
        {
          "output_type": "stream",
          "name": "stdout",
          "text": [
            "\n",
            "      Epoch    GPU_mem   box_loss   cls_loss   dfl_loss  Instances       Size\n"
          ]
        },
        {
          "output_type": "stream",
          "name": "stderr",
          "text": [
            "      20/40      2.94G      1.133     0.9152      1.077         18        640: 100%|██████████| 55/55 [00:14<00:00,  3.72it/s]\n",
            "                 Class     Images  Instances      Box(P          R      mAP50  mAP50-95): 100%|██████████| 6/6 [00:02<00:00,  2.73it/s]"
          ]
        },
        {
          "output_type": "stream",
          "name": "stdout",
          "text": [
            "                   all        188        236      0.845       0.78      0.884      0.612\n"
          ]
        },
        {
          "output_type": "stream",
          "name": "stderr",
          "text": [
            "\n"
          ]
        },
        {
          "output_type": "stream",
          "name": "stdout",
          "text": [
            "\n",
            "      Epoch    GPU_mem   box_loss   cls_loss   dfl_loss  Instances       Size\n"
          ]
        },
        {
          "output_type": "stream",
          "name": "stderr",
          "text": [
            "      21/40      2.95G      1.115     0.9155      1.055         26        640: 100%|██████████| 55/55 [00:14<00:00,  3.79it/s]\n",
            "                 Class     Images  Instances      Box(P          R      mAP50  mAP50-95): 100%|██████████| 6/6 [00:01<00:00,  3.60it/s]"
          ]
        },
        {
          "output_type": "stream",
          "name": "stdout",
          "text": [
            "                   all        188        236      0.907      0.935      0.955      0.641\n"
          ]
        },
        {
          "output_type": "stream",
          "name": "stderr",
          "text": [
            "\n"
          ]
        },
        {
          "output_type": "stream",
          "name": "stdout",
          "text": [
            "\n",
            "      Epoch    GPU_mem   box_loss   cls_loss   dfl_loss  Instances       Size\n"
          ]
        },
        {
          "output_type": "stream",
          "name": "stderr",
          "text": [
            "      22/40      2.97G      1.119     0.8534      1.066         18        640: 100%|██████████| 55/55 [00:14<00:00,  3.72it/s]\n",
            "                 Class     Images  Instances      Box(P          R      mAP50  mAP50-95): 100%|██████████| 6/6 [00:01<00:00,  4.02it/s]"
          ]
        },
        {
          "output_type": "stream",
          "name": "stdout",
          "text": [
            "                   all        188        236      0.887      0.902      0.933       0.64\n"
          ]
        },
        {
          "output_type": "stream",
          "name": "stderr",
          "text": [
            "\n"
          ]
        },
        {
          "output_type": "stream",
          "name": "stdout",
          "text": [
            "\n",
            "      Epoch    GPU_mem   box_loss   cls_loss   dfl_loss  Instances       Size\n"
          ]
        },
        {
          "output_type": "stream",
          "name": "stderr",
          "text": [
            "      23/40      2.98G      1.126     0.8519      1.059         18        640: 100%|██████████| 55/55 [00:14<00:00,  3.72it/s]\n",
            "                 Class     Images  Instances      Box(P          R      mAP50  mAP50-95): 100%|██████████| 6/6 [00:02<00:00,  2.68it/s]"
          ]
        },
        {
          "output_type": "stream",
          "name": "stdout",
          "text": [
            "                   all        188        236      0.873      0.898       0.94      0.635\n"
          ]
        },
        {
          "output_type": "stream",
          "name": "stderr",
          "text": [
            "\n"
          ]
        },
        {
          "output_type": "stream",
          "name": "stdout",
          "text": [
            "\n",
            "      Epoch    GPU_mem   box_loss   cls_loss   dfl_loss  Instances       Size\n"
          ]
        },
        {
          "output_type": "stream",
          "name": "stderr",
          "text": [
            "      24/40         3G      1.137      0.862      1.067         25        640: 100%|██████████| 55/55 [00:14<00:00,  3.71it/s]\n",
            "                 Class     Images  Instances      Box(P          R      mAP50  mAP50-95): 100%|██████████| 6/6 [00:01<00:00,  3.90it/s]"
          ]
        },
        {
          "output_type": "stream",
          "name": "stdout",
          "text": [
            "                   all        188        236      0.897      0.907       0.94      0.644\n"
          ]
        },
        {
          "output_type": "stream",
          "name": "stderr",
          "text": [
            "\n"
          ]
        },
        {
          "output_type": "stream",
          "name": "stdout",
          "text": [
            "\n",
            "      Epoch    GPU_mem   box_loss   cls_loss   dfl_loss  Instances       Size\n"
          ]
        },
        {
          "output_type": "stream",
          "name": "stderr",
          "text": [
            "      25/40      3.01G       1.12     0.7856      1.064         27        640: 100%|██████████| 55/55 [00:14<00:00,  3.80it/s]\n",
            "                 Class     Images  Instances      Box(P          R      mAP50  mAP50-95): 100%|██████████| 6/6 [00:01<00:00,  3.92it/s]"
          ]
        },
        {
          "output_type": "stream",
          "name": "stdout",
          "text": [
            "                   all        188        236       0.89      0.901      0.948       0.65\n"
          ]
        },
        {
          "output_type": "stream",
          "name": "stderr",
          "text": [
            "\n"
          ]
        },
        {
          "output_type": "stream",
          "name": "stdout",
          "text": [
            "\n",
            "      Epoch    GPU_mem   box_loss   cls_loss   dfl_loss  Instances       Size\n"
          ]
        },
        {
          "output_type": "stream",
          "name": "stderr",
          "text": [
            "      26/40      3.03G      1.127     0.8176      1.064         20        640: 100%|██████████| 55/55 [00:14<00:00,  3.72it/s]\n",
            "                 Class     Images  Instances      Box(P          R      mAP50  mAP50-95): 100%|██████████| 6/6 [00:01<00:00,  3.57it/s]"
          ]
        },
        {
          "output_type": "stream",
          "name": "stdout",
          "text": [
            "                   all        188        236      0.895      0.929      0.935      0.643\n"
          ]
        },
        {
          "output_type": "stream",
          "name": "stderr",
          "text": [
            "\n"
          ]
        },
        {
          "output_type": "stream",
          "name": "stdout",
          "text": [
            "\n",
            "      Epoch    GPU_mem   box_loss   cls_loss   dfl_loss  Instances       Size\n"
          ]
        },
        {
          "output_type": "stream",
          "name": "stderr",
          "text": [
            "      27/40      3.04G      1.111     0.8049      1.069         22        640: 100%|██████████| 55/55 [00:15<00:00,  3.62it/s]\n",
            "                 Class     Images  Instances      Box(P          R      mAP50  mAP50-95): 100%|██████████| 6/6 [00:01<00:00,  3.58it/s]"
          ]
        },
        {
          "output_type": "stream",
          "name": "stdout",
          "text": [
            "                   all        188        236       0.89      0.916      0.947      0.646\n"
          ]
        },
        {
          "output_type": "stream",
          "name": "stderr",
          "text": [
            "\n"
          ]
        },
        {
          "output_type": "stream",
          "name": "stdout",
          "text": [
            "\n",
            "      Epoch    GPU_mem   box_loss   cls_loss   dfl_loss  Instances       Size\n"
          ]
        },
        {
          "output_type": "stream",
          "name": "stderr",
          "text": [
            "      28/40      3.06G      1.103     0.7672      1.063         24        640: 100%|██████████| 55/55 [00:14<00:00,  3.80it/s]\n",
            "                 Class     Images  Instances      Box(P          R      mAP50  mAP50-95): 100%|██████████| 6/6 [00:01<00:00,  3.61it/s]"
          ]
        },
        {
          "output_type": "stream",
          "name": "stdout",
          "text": [
            "                   all        188        236      0.903      0.917      0.932      0.641\n"
          ]
        },
        {
          "output_type": "stream",
          "name": "stderr",
          "text": [
            "\n"
          ]
        },
        {
          "output_type": "stream",
          "name": "stdout",
          "text": [
            "\n",
            "      Epoch    GPU_mem   box_loss   cls_loss   dfl_loss  Instances       Size\n"
          ]
        },
        {
          "output_type": "stream",
          "name": "stderr",
          "text": [
            "      29/40      3.07G      1.113     0.7637      1.055         22        640: 100%|██████████| 55/55 [00:14<00:00,  3.82it/s]\n",
            "                 Class     Images  Instances      Box(P          R      mAP50  mAP50-95): 100%|██████████| 6/6 [00:01<00:00,  3.86it/s]"
          ]
        },
        {
          "output_type": "stream",
          "name": "stdout",
          "text": [
            "                   all        188        236      0.905      0.928      0.942      0.648\n"
          ]
        },
        {
          "output_type": "stream",
          "name": "stderr",
          "text": [
            "\n"
          ]
        },
        {
          "output_type": "stream",
          "name": "stdout",
          "text": [
            "\n",
            "      Epoch    GPU_mem   box_loss   cls_loss   dfl_loss  Instances       Size\n"
          ]
        },
        {
          "output_type": "stream",
          "name": "stderr",
          "text": [
            "      30/40      3.09G       1.09     0.7486      1.053         26        640: 100%|██████████| 55/55 [00:15<00:00,  3.65it/s]\n",
            "                 Class     Images  Instances      Box(P          R      mAP50  mAP50-95): 100%|██████████| 6/6 [00:01<00:00,  3.02it/s]"
          ]
        },
        {
          "output_type": "stream",
          "name": "stdout",
          "text": [
            "                   all        188        236      0.883      0.927      0.945      0.663\n"
          ]
        },
        {
          "output_type": "stream",
          "name": "stderr",
          "text": [
            "\n"
          ]
        },
        {
          "output_type": "stream",
          "name": "stdout",
          "text": [
            "Closing dataloader mosaic\n",
            "\u001b[34m\u001b[1malbumentations: \u001b[0mBlur(p=0.01, blur_limit=(3, 7)), MedianBlur(p=0.01, blur_limit=(3, 7)), ToGray(p=0.01, method='weighted_average', num_output_channels=3), CLAHE(p=0.01, clip_limit=(1.0, 4.0), tile_grid_size=(8, 8))\n",
            "\n",
            "      Epoch    GPU_mem   box_loss   cls_loss   dfl_loss  Instances       Size\n"
          ]
        },
        {
          "output_type": "stream",
          "name": "stderr",
          "text": [
            "      31/40       3.1G      1.102     0.7246      1.086         13        640: 100%|██████████| 55/55 [00:15<00:00,  3.54it/s]\n",
            "                 Class     Images  Instances      Box(P          R      mAP50  mAP50-95): 100%|██████████| 6/6 [00:01<00:00,  4.18it/s]"
          ]
        },
        {
          "output_type": "stream",
          "name": "stdout",
          "text": [
            "                   all        188        236      0.917      0.916      0.949      0.656\n"
          ]
        },
        {
          "output_type": "stream",
          "name": "stderr",
          "text": [
            "\n"
          ]
        },
        {
          "output_type": "stream",
          "name": "stdout",
          "text": [
            "\n",
            "      Epoch    GPU_mem   box_loss   cls_loss   dfl_loss  Instances       Size\n"
          ]
        },
        {
          "output_type": "stream",
          "name": "stderr",
          "text": [
            "      32/40      3.12G      1.085      0.713      1.079         14        640: 100%|██████████| 55/55 [00:15<00:00,  3.59it/s]\n",
            "                 Class     Images  Instances      Box(P          R      mAP50  mAP50-95): 100%|██████████| 6/6 [00:01<00:00,  4.22it/s]"
          ]
        },
        {
          "output_type": "stream",
          "name": "stdout",
          "text": [
            "                   all        188        236      0.929      0.915      0.942       0.65\n"
          ]
        },
        {
          "output_type": "stream",
          "name": "stderr",
          "text": [
            "\n"
          ]
        },
        {
          "output_type": "stream",
          "name": "stdout",
          "text": [
            "\n",
            "      Epoch    GPU_mem   box_loss   cls_loss   dfl_loss  Instances       Size\n"
          ]
        },
        {
          "output_type": "stream",
          "name": "stderr",
          "text": [
            "      33/40      3.13G       1.08     0.6984       1.07         13        640: 100%|██████████| 55/55 [00:14<00:00,  3.83it/s]\n",
            "                 Class     Images  Instances      Box(P          R      mAP50  mAP50-95): 100%|██████████| 6/6 [00:02<00:00,  2.84it/s]"
          ]
        },
        {
          "output_type": "stream",
          "name": "stdout",
          "text": [
            "                   all        188        236      0.914       0.91      0.952      0.651\n"
          ]
        },
        {
          "output_type": "stream",
          "name": "stderr",
          "text": [
            "\n"
          ]
        },
        {
          "output_type": "stream",
          "name": "stdout",
          "text": [
            "\n",
            "      Epoch    GPU_mem   box_loss   cls_loss   dfl_loss  Instances       Size\n"
          ]
        },
        {
          "output_type": "stream",
          "name": "stderr",
          "text": [
            "      34/40      3.15G      1.073     0.6781       1.08         11        640: 100%|██████████| 55/55 [00:14<00:00,  3.92it/s]\n",
            "                 Class     Images  Instances      Box(P          R      mAP50  mAP50-95): 100%|██████████| 6/6 [00:01<00:00,  4.09it/s]"
          ]
        },
        {
          "output_type": "stream",
          "name": "stdout",
          "text": [
            "                   all        188        236      0.936      0.912      0.958       0.66\n"
          ]
        },
        {
          "output_type": "stream",
          "name": "stderr",
          "text": [
            "\n"
          ]
        },
        {
          "output_type": "stream",
          "name": "stdout",
          "text": [
            "\n",
            "      Epoch    GPU_mem   box_loss   cls_loss   dfl_loss  Instances       Size\n"
          ]
        },
        {
          "output_type": "stream",
          "name": "stderr",
          "text": [
            "      35/40      3.16G      1.054      0.653      1.061         18        640: 100%|██████████| 55/55 [00:14<00:00,  3.88it/s]\n",
            "                 Class     Images  Instances      Box(P          R      mAP50  mAP50-95): 100%|██████████| 6/6 [00:01<00:00,  3.99it/s]"
          ]
        },
        {
          "output_type": "stream",
          "name": "stdout",
          "text": [
            "                   all        188        236      0.934      0.936      0.956      0.664\n"
          ]
        },
        {
          "output_type": "stream",
          "name": "stderr",
          "text": [
            "\n"
          ]
        },
        {
          "output_type": "stream",
          "name": "stdout",
          "text": [
            "\n",
            "      Epoch    GPU_mem   box_loss   cls_loss   dfl_loss  Instances       Size\n"
          ]
        },
        {
          "output_type": "stream",
          "name": "stderr",
          "text": [
            "      36/40      3.18G      1.057     0.6584      1.059         14        640: 100%|██████████| 55/55 [00:14<00:00,  3.92it/s]\n",
            "                 Class     Images  Instances      Box(P          R      mAP50  mAP50-95): 100%|██████████| 6/6 [00:01<00:00,  4.24it/s]"
          ]
        },
        {
          "output_type": "stream",
          "name": "stdout",
          "text": [
            "                   all        188        236       0.93      0.931      0.955       0.66\n"
          ]
        },
        {
          "output_type": "stream",
          "name": "stderr",
          "text": [
            "\n"
          ]
        },
        {
          "output_type": "stream",
          "name": "stdout",
          "text": [
            "\n",
            "      Epoch    GPU_mem   box_loss   cls_loss   dfl_loss  Instances       Size\n"
          ]
        },
        {
          "output_type": "stream",
          "name": "stderr",
          "text": [
            "      37/40      3.19G      1.055     0.6395      1.058         11        640: 100%|██████████| 55/55 [00:14<00:00,  3.82it/s]\n",
            "                 Class     Images  Instances      Box(P          R      mAP50  mAP50-95): 100%|██████████| 6/6 [00:02<00:00,  2.91it/s]"
          ]
        },
        {
          "output_type": "stream",
          "name": "stdout",
          "text": [
            "                   all        188        236      0.938      0.936      0.959      0.673\n"
          ]
        },
        {
          "output_type": "stream",
          "name": "stderr",
          "text": [
            "\n"
          ]
        },
        {
          "output_type": "stream",
          "name": "stdout",
          "text": [
            "\n",
            "      Epoch    GPU_mem   box_loss   cls_loss   dfl_loss  Instances       Size\n"
          ]
        },
        {
          "output_type": "stream",
          "name": "stderr",
          "text": [
            "      38/40      3.21G      1.049     0.6121      1.057         14        640: 100%|██████████| 55/55 [00:14<00:00,  3.90it/s]\n",
            "                 Class     Images  Instances      Box(P          R      mAP50  mAP50-95): 100%|██████████| 6/6 [00:01<00:00,  4.14it/s]"
          ]
        },
        {
          "output_type": "stream",
          "name": "stdout",
          "text": [
            "                   all        188        236      0.932      0.948      0.967      0.671\n"
          ]
        },
        {
          "output_type": "stream",
          "name": "stderr",
          "text": [
            "\n"
          ]
        },
        {
          "output_type": "stream",
          "name": "stdout",
          "text": [
            "\n",
            "      Epoch    GPU_mem   box_loss   cls_loss   dfl_loss  Instances       Size\n"
          ]
        },
        {
          "output_type": "stream",
          "name": "stderr",
          "text": [
            "      39/40      3.22G      1.054     0.6237      1.052         12        640: 100%|██████████| 55/55 [00:13<00:00,  3.96it/s]\n",
            "                 Class     Images  Instances      Box(P          R      mAP50  mAP50-95): 100%|██████████| 6/6 [00:01<00:00,  3.76it/s]"
          ]
        },
        {
          "output_type": "stream",
          "name": "stdout",
          "text": [
            "                   all        188        236      0.941      0.951      0.969      0.673\n"
          ]
        },
        {
          "output_type": "stream",
          "name": "stderr",
          "text": [
            "\n"
          ]
        },
        {
          "output_type": "stream",
          "name": "stdout",
          "text": [
            "\n",
            "      Epoch    GPU_mem   box_loss   cls_loss   dfl_loss  Instances       Size\n"
          ]
        },
        {
          "output_type": "stream",
          "name": "stderr",
          "text": [
            "      40/40      3.23G      1.042     0.6204      1.055         15        640: 100%|██████████| 55/55 [00:14<00:00,  3.92it/s]\n",
            "                 Class     Images  Instances      Box(P          R      mAP50  mAP50-95): 100%|██████████| 6/6 [00:01<00:00,  4.26it/s]"
          ]
        },
        {
          "output_type": "stream",
          "name": "stdout",
          "text": [
            "                   all        188        236      0.941      0.944      0.966      0.671\n"
          ]
        },
        {
          "output_type": "stream",
          "name": "stderr",
          "text": [
            "\n"
          ]
        },
        {
          "output_type": "stream",
          "name": "stdout",
          "text": [
            "\n",
            "40 epochs completed in 0.188 hours.\n",
            "Optimizer stripped from runs/detect/train/weights/last.pt, 5.5MB\n",
            "Optimizer stripped from runs/detect/train/weights/best.pt, 5.5MB\n",
            "\n",
            "Validating runs/detect/train/weights/best.pt...\n",
            "Ultralytics 8.3.135 🚀 Python-3.11.12 torch-2.6.0+cu124 CUDA:0 (Tesla T4, 15095MiB)\n",
            "YOLO11n summary (fused): 100 layers, 2,583,322 parameters, 0 gradients, 6.3 GFLOPs\n"
          ]
        },
        {
          "output_type": "stream",
          "name": "stderr",
          "text": [
            "                 Class     Images  Instances      Box(P          R      mAP50  mAP50-95): 100%|██████████| 6/6 [00:03<00:00,  1.50it/s]\n"
          ]
        },
        {
          "output_type": "stream",
          "name": "stdout",
          "text": [
            "                   all        188        236      0.941       0.95      0.969      0.675\n",
            "                cabeza         30         35      0.982          1      0.995      0.599\n",
            "          mano_derecha         36         36      0.759      0.961      0.905      0.633\n",
            "        mano_izquierda         41         46      0.965      0.804      0.949      0.635\n",
            "           pie_derecha         24         24       0.99      0.958      0.983       0.66\n",
            "         pie_izquierda         48         48      0.962      0.979      0.987      0.713\n",
            "                 torso         42         47      0.991          1      0.995      0.808\n",
            "Speed: 0.3ms preprocess, 3.5ms inference, 0.0ms loss, 5.7ms postprocess per image\n",
            "Results saved to \u001b[1mruns/detect/train\u001b[0m\n"
          ]
        },
        {
          "output_type": "execute_result",
          "data": {
            "text/plain": [
              "ultralytics.utils.metrics.DetMetrics object with attributes:\n",
              "\n",
              "ap_class_index: array([0, 1, 2, 3, 4, 5])\n",
              "box: ultralytics.utils.metrics.Metric object\n",
              "confusion_matrix: <ultralytics.utils.metrics.ConfusionMatrix object at 0x7baf2407bd10>\n",
              "curves: ['Precision-Recall(B)', 'F1-Confidence(B)', 'Precision-Confidence(B)', 'Recall-Confidence(B)']\n",
              "curves_results: [[array([          0,    0.001001,    0.002002,    0.003003,    0.004004,    0.005005,    0.006006,    0.007007,    0.008008,    0.009009,     0.01001,    0.011011,    0.012012,    0.013013,    0.014014,    0.015015,    0.016016,    0.017017,    0.018018,    0.019019,     0.02002,    0.021021,    0.022022,    0.023023,\n",
              "          0.024024,    0.025025,    0.026026,    0.027027,    0.028028,    0.029029,     0.03003,    0.031031,    0.032032,    0.033033,    0.034034,    0.035035,    0.036036,    0.037037,    0.038038,    0.039039,     0.04004,    0.041041,    0.042042,    0.043043,    0.044044,    0.045045,    0.046046,    0.047047,\n",
              "          0.048048,    0.049049,     0.05005,    0.051051,    0.052052,    0.053053,    0.054054,    0.055055,    0.056056,    0.057057,    0.058058,    0.059059,     0.06006,    0.061061,    0.062062,    0.063063,    0.064064,    0.065065,    0.066066,    0.067067,    0.068068,    0.069069,     0.07007,    0.071071,\n",
              "          0.072072,    0.073073,    0.074074,    0.075075,    0.076076,    0.077077,    0.078078,    0.079079,     0.08008,    0.081081,    0.082082,    0.083083,    0.084084,    0.085085,    0.086086,    0.087087,    0.088088,    0.089089,     0.09009,    0.091091,    0.092092,    0.093093,    0.094094,    0.095095,\n",
              "          0.096096,    0.097097,    0.098098,    0.099099,      0.1001,      0.1011,      0.1021,      0.1031,      0.1041,     0.10511,     0.10611,     0.10711,     0.10811,     0.10911,     0.11011,     0.11111,     0.11211,     0.11311,     0.11411,     0.11512,     0.11612,     0.11712,     0.11812,     0.11912,\n",
              "           0.12012,     0.12112,     0.12212,     0.12312,     0.12412,     0.12513,     0.12613,     0.12713,     0.12813,     0.12913,     0.13013,     0.13113,     0.13213,     0.13313,     0.13413,     0.13514,     0.13614,     0.13714,     0.13814,     0.13914,     0.14014,     0.14114,     0.14214,     0.14314,\n",
              "           0.14414,     0.14515,     0.14615,     0.14715,     0.14815,     0.14915,     0.15015,     0.15115,     0.15215,     0.15315,     0.15415,     0.15516,     0.15616,     0.15716,     0.15816,     0.15916,     0.16016,     0.16116,     0.16216,     0.16316,     0.16416,     0.16517,     0.16617,     0.16717,\n",
              "           0.16817,     0.16917,     0.17017,     0.17117,     0.17217,     0.17317,     0.17417,     0.17518,     0.17618,     0.17718,     0.17818,     0.17918,     0.18018,     0.18118,     0.18218,     0.18318,     0.18418,     0.18519,     0.18619,     0.18719,     0.18819,     0.18919,     0.19019,     0.19119,\n",
              "           0.19219,     0.19319,     0.19419,      0.1952,      0.1962,      0.1972,      0.1982,      0.1992,      0.2002,      0.2012,      0.2022,      0.2032,      0.2042,     0.20521,     0.20621,     0.20721,     0.20821,     0.20921,     0.21021,     0.21121,     0.21221,     0.21321,     0.21421,     0.21522,\n",
              "           0.21622,     0.21722,     0.21822,     0.21922,     0.22022,     0.22122,     0.22222,     0.22322,     0.22422,     0.22523,     0.22623,     0.22723,     0.22823,     0.22923,     0.23023,     0.23123,     0.23223,     0.23323,     0.23423,     0.23524,     0.23624,     0.23724,     0.23824,     0.23924,\n",
              "           0.24024,     0.24124,     0.24224,     0.24324,     0.24424,     0.24525,     0.24625,     0.24725,     0.24825,     0.24925,     0.25025,     0.25125,     0.25225,     0.25325,     0.25425,     0.25526,     0.25626,     0.25726,     0.25826,     0.25926,     0.26026,     0.26126,     0.26226,     0.26326,\n",
              "           0.26426,     0.26527,     0.26627,     0.26727,     0.26827,     0.26927,     0.27027,     0.27127,     0.27227,     0.27327,     0.27427,     0.27528,     0.27628,     0.27728,     0.27828,     0.27928,     0.28028,     0.28128,     0.28228,     0.28328,     0.28428,     0.28529,     0.28629,     0.28729,\n",
              "           0.28829,     0.28929,     0.29029,     0.29129,     0.29229,     0.29329,     0.29429,      0.2953,      0.2963,      0.2973,      0.2983,      0.2993,      0.3003,      0.3013,      0.3023,      0.3033,      0.3043,     0.30531,     0.30631,     0.30731,     0.30831,     0.30931,     0.31031,     0.31131,\n",
              "           0.31231,     0.31331,     0.31431,     0.31532,     0.31632,     0.31732,     0.31832,     0.31932,     0.32032,     0.32132,     0.32232,     0.32332,     0.32432,     0.32533,     0.32633,     0.32733,     0.32833,     0.32933,     0.33033,     0.33133,     0.33233,     0.33333,     0.33433,     0.33534,\n",
              "           0.33634,     0.33734,     0.33834,     0.33934,     0.34034,     0.34134,     0.34234,     0.34334,     0.34434,     0.34535,     0.34635,     0.34735,     0.34835,     0.34935,     0.35035,     0.35135,     0.35235,     0.35335,     0.35435,     0.35536,     0.35636,     0.35736,     0.35836,     0.35936,\n",
              "           0.36036,     0.36136,     0.36236,     0.36336,     0.36436,     0.36537,     0.36637,     0.36737,     0.36837,     0.36937,     0.37037,     0.37137,     0.37237,     0.37337,     0.37437,     0.37538,     0.37638,     0.37738,     0.37838,     0.37938,     0.38038,     0.38138,     0.38238,     0.38338,\n",
              "           0.38438,     0.38539,     0.38639,     0.38739,     0.38839,     0.38939,     0.39039,     0.39139,     0.39239,     0.39339,     0.39439,      0.3954,      0.3964,      0.3974,      0.3984,      0.3994,      0.4004,      0.4014,      0.4024,      0.4034,      0.4044,     0.40541,     0.40641,     0.40741,\n",
              "           0.40841,     0.40941,     0.41041,     0.41141,     0.41241,     0.41341,     0.41441,     0.41542,     0.41642,     0.41742,     0.41842,     0.41942,     0.42042,     0.42142,     0.42242,     0.42342,     0.42442,     0.42543,     0.42643,     0.42743,     0.42843,     0.42943,     0.43043,     0.43143,\n",
              "           0.43243,     0.43343,     0.43443,     0.43544,     0.43644,     0.43744,     0.43844,     0.43944,     0.44044,     0.44144,     0.44244,     0.44344,     0.44444,     0.44545,     0.44645,     0.44745,     0.44845,     0.44945,     0.45045,     0.45145,     0.45245,     0.45345,     0.45445,     0.45546,\n",
              "           0.45646,     0.45746,     0.45846,     0.45946,     0.46046,     0.46146,     0.46246,     0.46346,     0.46446,     0.46547,     0.46647,     0.46747,     0.46847,     0.46947,     0.47047,     0.47147,     0.47247,     0.47347,     0.47447,     0.47548,     0.47648,     0.47748,     0.47848,     0.47948,\n",
              "           0.48048,     0.48148,     0.48248,     0.48348,     0.48448,     0.48549,     0.48649,     0.48749,     0.48849,     0.48949,     0.49049,     0.49149,     0.49249,     0.49349,     0.49449,      0.4955,      0.4965,      0.4975,      0.4985,      0.4995,      0.5005,      0.5015,      0.5025,      0.5035,\n",
              "            0.5045,     0.50551,     0.50651,     0.50751,     0.50851,     0.50951,     0.51051,     0.51151,     0.51251,     0.51351,     0.51451,     0.51552,     0.51652,     0.51752,     0.51852,     0.51952,     0.52052,     0.52152,     0.52252,     0.52352,     0.52452,     0.52553,     0.52653,     0.52753,\n",
              "           0.52853,     0.52953,     0.53053,     0.53153,     0.53253,     0.53353,     0.53453,     0.53554,     0.53654,     0.53754,     0.53854,     0.53954,     0.54054,     0.54154,     0.54254,     0.54354,     0.54454,     0.54555,     0.54655,     0.54755,     0.54855,     0.54955,     0.55055,     0.55155,\n",
              "           0.55255,     0.55355,     0.55455,     0.55556,     0.55656,     0.55756,     0.55856,     0.55956,     0.56056,     0.56156,     0.56256,     0.56356,     0.56456,     0.56557,     0.56657,     0.56757,     0.56857,     0.56957,     0.57057,     0.57157,     0.57257,     0.57357,     0.57457,     0.57558,\n",
              "           0.57658,     0.57758,     0.57858,     0.57958,     0.58058,     0.58158,     0.58258,     0.58358,     0.58458,     0.58559,     0.58659,     0.58759,     0.58859,     0.58959,     0.59059,     0.59159,     0.59259,     0.59359,     0.59459,      0.5956,      0.5966,      0.5976,      0.5986,      0.5996,\n",
              "            0.6006,      0.6016,      0.6026,      0.6036,      0.6046,     0.60561,     0.60661,     0.60761,     0.60861,     0.60961,     0.61061,     0.61161,     0.61261,     0.61361,     0.61461,     0.61562,     0.61662,     0.61762,     0.61862,     0.61962,     0.62062,     0.62162,     0.62262,     0.62362,\n",
              "           0.62462,     0.62563,     0.62663,     0.62763,     0.62863,     0.62963,     0.63063,     0.63163,     0.63263,     0.63363,     0.63463,     0.63564,     0.63664,     0.63764,     0.63864,     0.63964,     0.64064,     0.64164,     0.64264,     0.64364,     0.64464,     0.64565,     0.64665,     0.64765,\n",
              "           0.64865,     0.64965,     0.65065,     0.65165,     0.65265,     0.65365,     0.65465,     0.65566,     0.65666,     0.65766,     0.65866,     0.65966,     0.66066,     0.66166,     0.66266,     0.66366,     0.66466,     0.66567,     0.66667,     0.66767,     0.66867,     0.66967,     0.67067,     0.67167,\n",
              "           0.67267,     0.67367,     0.67467,     0.67568,     0.67668,     0.67768,     0.67868,     0.67968,     0.68068,     0.68168,     0.68268,     0.68368,     0.68468,     0.68569,     0.68669,     0.68769,     0.68869,     0.68969,     0.69069,     0.69169,     0.69269,     0.69369,     0.69469,      0.6957,\n",
              "            0.6967,      0.6977,      0.6987,      0.6997,      0.7007,      0.7017,      0.7027,      0.7037,      0.7047,     0.70571,     0.70671,     0.70771,     0.70871,     0.70971,     0.71071,     0.71171,     0.71271,     0.71371,     0.71471,     0.71572,     0.71672,     0.71772,     0.71872,     0.71972,\n",
              "           0.72072,     0.72172,     0.72272,     0.72372,     0.72472,     0.72573,     0.72673,     0.72773,     0.72873,     0.72973,     0.73073,     0.73173,     0.73273,     0.73373,     0.73473,     0.73574,     0.73674,     0.73774,     0.73874,     0.73974,     0.74074,     0.74174,     0.74274,     0.74374,\n",
              "           0.74474,     0.74575,     0.74675,     0.74775,     0.74875,     0.74975,     0.75075,     0.75175,     0.75275,     0.75375,     0.75475,     0.75576,     0.75676,     0.75776,     0.75876,     0.75976,     0.76076,     0.76176,     0.76276,     0.76376,     0.76476,     0.76577,     0.76677,     0.76777,\n",
              "           0.76877,     0.76977,     0.77077,     0.77177,     0.77277,     0.77377,     0.77477,     0.77578,     0.77678,     0.77778,     0.77878,     0.77978,     0.78078,     0.78178,     0.78278,     0.78378,     0.78478,     0.78579,     0.78679,     0.78779,     0.78879,     0.78979,     0.79079,     0.79179,\n",
              "           0.79279,     0.79379,     0.79479,      0.7958,      0.7968,      0.7978,      0.7988,      0.7998,      0.8008,      0.8018,      0.8028,      0.8038,      0.8048,     0.80581,     0.80681,     0.80781,     0.80881,     0.80981,     0.81081,     0.81181,     0.81281,     0.81381,     0.81481,     0.81582,\n",
              "           0.81682,     0.81782,     0.81882,     0.81982,     0.82082,     0.82182,     0.82282,     0.82382,     0.82482,     0.82583,     0.82683,     0.82783,     0.82883,     0.82983,     0.83083,     0.83183,     0.83283,     0.83383,     0.83483,     0.83584,     0.83684,     0.83784,     0.83884,     0.83984,\n",
              "           0.84084,     0.84184,     0.84284,     0.84384,     0.84484,     0.84585,     0.84685,     0.84785,     0.84885,     0.84985,     0.85085,     0.85185,     0.85285,     0.85385,     0.85485,     0.85586,     0.85686,     0.85786,     0.85886,     0.85986,     0.86086,     0.86186,     0.86286,     0.86386,\n",
              "           0.86486,     0.86587,     0.86687,     0.86787,     0.86887,     0.86987,     0.87087,     0.87187,     0.87287,     0.87387,     0.87487,     0.87588,     0.87688,     0.87788,     0.87888,     0.87988,     0.88088,     0.88188,     0.88288,     0.88388,     0.88488,     0.88589,     0.88689,     0.88789,\n",
              "           0.88889,     0.88989,     0.89089,     0.89189,     0.89289,     0.89389,     0.89489,      0.8959,      0.8969,      0.8979,      0.8989,      0.8999,      0.9009,      0.9019,      0.9029,      0.9039,      0.9049,     0.90591,     0.90691,     0.90791,     0.90891,     0.90991,     0.91091,     0.91191,\n",
              "           0.91291,     0.91391,     0.91491,     0.91592,     0.91692,     0.91792,     0.91892,     0.91992,     0.92092,     0.92192,     0.92292,     0.92392,     0.92492,     0.92593,     0.92693,     0.92793,     0.92893,     0.92993,     0.93093,     0.93193,     0.93293,     0.93393,     0.93493,     0.93594,\n",
              "           0.93694,     0.93794,     0.93894,     0.93994,     0.94094,     0.94194,     0.94294,     0.94394,     0.94494,     0.94595,     0.94695,     0.94795,     0.94895,     0.94995,     0.95095,     0.95195,     0.95295,     0.95395,     0.95495,     0.95596,     0.95696,     0.95796,     0.95896,     0.95996,\n",
              "           0.96096,     0.96196,     0.96296,     0.96396,     0.96496,     0.96597,     0.96697,     0.96797,     0.96897,     0.96997,     0.97097,     0.97197,     0.97297,     0.97397,     0.97497,     0.97598,     0.97698,     0.97798,     0.97898,     0.97998,     0.98098,     0.98198,     0.98298,     0.98398,\n",
              "           0.98498,     0.98599,     0.98699,     0.98799,     0.98899,     0.98999,     0.99099,     0.99199,     0.99299,     0.99399,     0.99499,       0.996,       0.997,       0.998,       0.999,           1]), array([[          1,           1,           1, ...,           1,           1,           0],\n",
              "       [          1,           1,           1, ...,     0.64286,     0.64286,           0],\n",
              "       [          1,           1,           1, ...,     0.61333,     0.61333,           0],\n",
              "       [          1,           1,           1, ...,     0.70588,     0.70588,           0],\n",
              "       [          1,           1,           1, ...,        0.96,        0.96,           0],\n",
              "       [          1,           1,           1, ...,           1,           1,           0]]), 'Recall', 'Precision'], [array([          0,    0.001001,    0.002002,    0.003003,    0.004004,    0.005005,    0.006006,    0.007007,    0.008008,    0.009009,     0.01001,    0.011011,    0.012012,    0.013013,    0.014014,    0.015015,    0.016016,    0.017017,    0.018018,    0.019019,     0.02002,    0.021021,    0.022022,    0.023023,\n",
              "          0.024024,    0.025025,    0.026026,    0.027027,    0.028028,    0.029029,     0.03003,    0.031031,    0.032032,    0.033033,    0.034034,    0.035035,    0.036036,    0.037037,    0.038038,    0.039039,     0.04004,    0.041041,    0.042042,    0.043043,    0.044044,    0.045045,    0.046046,    0.047047,\n",
              "          0.048048,    0.049049,     0.05005,    0.051051,    0.052052,    0.053053,    0.054054,    0.055055,    0.056056,    0.057057,    0.058058,    0.059059,     0.06006,    0.061061,    0.062062,    0.063063,    0.064064,    0.065065,    0.066066,    0.067067,    0.068068,    0.069069,     0.07007,    0.071071,\n",
              "          0.072072,    0.073073,    0.074074,    0.075075,    0.076076,    0.077077,    0.078078,    0.079079,     0.08008,    0.081081,    0.082082,    0.083083,    0.084084,    0.085085,    0.086086,    0.087087,    0.088088,    0.089089,     0.09009,    0.091091,    0.092092,    0.093093,    0.094094,    0.095095,\n",
              "          0.096096,    0.097097,    0.098098,    0.099099,      0.1001,      0.1011,      0.1021,      0.1031,      0.1041,     0.10511,     0.10611,     0.10711,     0.10811,     0.10911,     0.11011,     0.11111,     0.11211,     0.11311,     0.11411,     0.11512,     0.11612,     0.11712,     0.11812,     0.11912,\n",
              "           0.12012,     0.12112,     0.12212,     0.12312,     0.12412,     0.12513,     0.12613,     0.12713,     0.12813,     0.12913,     0.13013,     0.13113,     0.13213,     0.13313,     0.13413,     0.13514,     0.13614,     0.13714,     0.13814,     0.13914,     0.14014,     0.14114,     0.14214,     0.14314,\n",
              "           0.14414,     0.14515,     0.14615,     0.14715,     0.14815,     0.14915,     0.15015,     0.15115,     0.15215,     0.15315,     0.15415,     0.15516,     0.15616,     0.15716,     0.15816,     0.15916,     0.16016,     0.16116,     0.16216,     0.16316,     0.16416,     0.16517,     0.16617,     0.16717,\n",
              "           0.16817,     0.16917,     0.17017,     0.17117,     0.17217,     0.17317,     0.17417,     0.17518,     0.17618,     0.17718,     0.17818,     0.17918,     0.18018,     0.18118,     0.18218,     0.18318,     0.18418,     0.18519,     0.18619,     0.18719,     0.18819,     0.18919,     0.19019,     0.19119,\n",
              "           0.19219,     0.19319,     0.19419,      0.1952,      0.1962,      0.1972,      0.1982,      0.1992,      0.2002,      0.2012,      0.2022,      0.2032,      0.2042,     0.20521,     0.20621,     0.20721,     0.20821,     0.20921,     0.21021,     0.21121,     0.21221,     0.21321,     0.21421,     0.21522,\n",
              "           0.21622,     0.21722,     0.21822,     0.21922,     0.22022,     0.22122,     0.22222,     0.22322,     0.22422,     0.22523,     0.22623,     0.22723,     0.22823,     0.22923,     0.23023,     0.23123,     0.23223,     0.23323,     0.23423,     0.23524,     0.23624,     0.23724,     0.23824,     0.23924,\n",
              "           0.24024,     0.24124,     0.24224,     0.24324,     0.24424,     0.24525,     0.24625,     0.24725,     0.24825,     0.24925,     0.25025,     0.25125,     0.25225,     0.25325,     0.25425,     0.25526,     0.25626,     0.25726,     0.25826,     0.25926,     0.26026,     0.26126,     0.26226,     0.26326,\n",
              "           0.26426,     0.26527,     0.26627,     0.26727,     0.26827,     0.26927,     0.27027,     0.27127,     0.27227,     0.27327,     0.27427,     0.27528,     0.27628,     0.27728,     0.27828,     0.27928,     0.28028,     0.28128,     0.28228,     0.28328,     0.28428,     0.28529,     0.28629,     0.28729,\n",
              "           0.28829,     0.28929,     0.29029,     0.29129,     0.29229,     0.29329,     0.29429,      0.2953,      0.2963,      0.2973,      0.2983,      0.2993,      0.3003,      0.3013,      0.3023,      0.3033,      0.3043,     0.30531,     0.30631,     0.30731,     0.30831,     0.30931,     0.31031,     0.31131,\n",
              "           0.31231,     0.31331,     0.31431,     0.31532,     0.31632,     0.31732,     0.31832,     0.31932,     0.32032,     0.32132,     0.32232,     0.32332,     0.32432,     0.32533,     0.32633,     0.32733,     0.32833,     0.32933,     0.33033,     0.33133,     0.33233,     0.33333,     0.33433,     0.33534,\n",
              "           0.33634,     0.33734,     0.33834,     0.33934,     0.34034,     0.34134,     0.34234,     0.34334,     0.34434,     0.34535,     0.34635,     0.34735,     0.34835,     0.34935,     0.35035,     0.35135,     0.35235,     0.35335,     0.35435,     0.35536,     0.35636,     0.35736,     0.35836,     0.35936,\n",
              "           0.36036,     0.36136,     0.36236,     0.36336,     0.36436,     0.36537,     0.36637,     0.36737,     0.36837,     0.36937,     0.37037,     0.37137,     0.37237,     0.37337,     0.37437,     0.37538,     0.37638,     0.37738,     0.37838,     0.37938,     0.38038,     0.38138,     0.38238,     0.38338,\n",
              "           0.38438,     0.38539,     0.38639,     0.38739,     0.38839,     0.38939,     0.39039,     0.39139,     0.39239,     0.39339,     0.39439,      0.3954,      0.3964,      0.3974,      0.3984,      0.3994,      0.4004,      0.4014,      0.4024,      0.4034,      0.4044,     0.40541,     0.40641,     0.40741,\n",
              "           0.40841,     0.40941,     0.41041,     0.41141,     0.41241,     0.41341,     0.41441,     0.41542,     0.41642,     0.41742,     0.41842,     0.41942,     0.42042,     0.42142,     0.42242,     0.42342,     0.42442,     0.42543,     0.42643,     0.42743,     0.42843,     0.42943,     0.43043,     0.43143,\n",
              "           0.43243,     0.43343,     0.43443,     0.43544,     0.43644,     0.43744,     0.43844,     0.43944,     0.44044,     0.44144,     0.44244,     0.44344,     0.44444,     0.44545,     0.44645,     0.44745,     0.44845,     0.44945,     0.45045,     0.45145,     0.45245,     0.45345,     0.45445,     0.45546,\n",
              "           0.45646,     0.45746,     0.45846,     0.45946,     0.46046,     0.46146,     0.46246,     0.46346,     0.46446,     0.46547,     0.46647,     0.46747,     0.46847,     0.46947,     0.47047,     0.47147,     0.47247,     0.47347,     0.47447,     0.47548,     0.47648,     0.47748,     0.47848,     0.47948,\n",
              "           0.48048,     0.48148,     0.48248,     0.48348,     0.48448,     0.48549,     0.48649,     0.48749,     0.48849,     0.48949,     0.49049,     0.49149,     0.49249,     0.49349,     0.49449,      0.4955,      0.4965,      0.4975,      0.4985,      0.4995,      0.5005,      0.5015,      0.5025,      0.5035,\n",
              "            0.5045,     0.50551,     0.50651,     0.50751,     0.50851,     0.50951,     0.51051,     0.51151,     0.51251,     0.51351,     0.51451,     0.51552,     0.51652,     0.51752,     0.51852,     0.51952,     0.52052,     0.52152,     0.52252,     0.52352,     0.52452,     0.52553,     0.52653,     0.52753,\n",
              "           0.52853,     0.52953,     0.53053,     0.53153,     0.53253,     0.53353,     0.53453,     0.53554,     0.53654,     0.53754,     0.53854,     0.53954,     0.54054,     0.54154,     0.54254,     0.54354,     0.54454,     0.54555,     0.54655,     0.54755,     0.54855,     0.54955,     0.55055,     0.55155,\n",
              "           0.55255,     0.55355,     0.55455,     0.55556,     0.55656,     0.55756,     0.55856,     0.55956,     0.56056,     0.56156,     0.56256,     0.56356,     0.56456,     0.56557,     0.56657,     0.56757,     0.56857,     0.56957,     0.57057,     0.57157,     0.57257,     0.57357,     0.57457,     0.57558,\n",
              "           0.57658,     0.57758,     0.57858,     0.57958,     0.58058,     0.58158,     0.58258,     0.58358,     0.58458,     0.58559,     0.58659,     0.58759,     0.58859,     0.58959,     0.59059,     0.59159,     0.59259,     0.59359,     0.59459,      0.5956,      0.5966,      0.5976,      0.5986,      0.5996,\n",
              "            0.6006,      0.6016,      0.6026,      0.6036,      0.6046,     0.60561,     0.60661,     0.60761,     0.60861,     0.60961,     0.61061,     0.61161,     0.61261,     0.61361,     0.61461,     0.61562,     0.61662,     0.61762,     0.61862,     0.61962,     0.62062,     0.62162,     0.62262,     0.62362,\n",
              "           0.62462,     0.62563,     0.62663,     0.62763,     0.62863,     0.62963,     0.63063,     0.63163,     0.63263,     0.63363,     0.63463,     0.63564,     0.63664,     0.63764,     0.63864,     0.63964,     0.64064,     0.64164,     0.64264,     0.64364,     0.64464,     0.64565,     0.64665,     0.64765,\n",
              "           0.64865,     0.64965,     0.65065,     0.65165,     0.65265,     0.65365,     0.65465,     0.65566,     0.65666,     0.65766,     0.65866,     0.65966,     0.66066,     0.66166,     0.66266,     0.66366,     0.66466,     0.66567,     0.66667,     0.66767,     0.66867,     0.66967,     0.67067,     0.67167,\n",
              "           0.67267,     0.67367,     0.67467,     0.67568,     0.67668,     0.67768,     0.67868,     0.67968,     0.68068,     0.68168,     0.68268,     0.68368,     0.68468,     0.68569,     0.68669,     0.68769,     0.68869,     0.68969,     0.69069,     0.69169,     0.69269,     0.69369,     0.69469,      0.6957,\n",
              "            0.6967,      0.6977,      0.6987,      0.6997,      0.7007,      0.7017,      0.7027,      0.7037,      0.7047,     0.70571,     0.70671,     0.70771,     0.70871,     0.70971,     0.71071,     0.71171,     0.71271,     0.71371,     0.71471,     0.71572,     0.71672,     0.71772,     0.71872,     0.71972,\n",
              "           0.72072,     0.72172,     0.72272,     0.72372,     0.72472,     0.72573,     0.72673,     0.72773,     0.72873,     0.72973,     0.73073,     0.73173,     0.73273,     0.73373,     0.73473,     0.73574,     0.73674,     0.73774,     0.73874,     0.73974,     0.74074,     0.74174,     0.74274,     0.74374,\n",
              "           0.74474,     0.74575,     0.74675,     0.74775,     0.74875,     0.74975,     0.75075,     0.75175,     0.75275,     0.75375,     0.75475,     0.75576,     0.75676,     0.75776,     0.75876,     0.75976,     0.76076,     0.76176,     0.76276,     0.76376,     0.76476,     0.76577,     0.76677,     0.76777,\n",
              "           0.76877,     0.76977,     0.77077,     0.77177,     0.77277,     0.77377,     0.77477,     0.77578,     0.77678,     0.77778,     0.77878,     0.77978,     0.78078,     0.78178,     0.78278,     0.78378,     0.78478,     0.78579,     0.78679,     0.78779,     0.78879,     0.78979,     0.79079,     0.79179,\n",
              "           0.79279,     0.79379,     0.79479,      0.7958,      0.7968,      0.7978,      0.7988,      0.7998,      0.8008,      0.8018,      0.8028,      0.8038,      0.8048,     0.80581,     0.80681,     0.80781,     0.80881,     0.80981,     0.81081,     0.81181,     0.81281,     0.81381,     0.81481,     0.81582,\n",
              "           0.81682,     0.81782,     0.81882,     0.81982,     0.82082,     0.82182,     0.82282,     0.82382,     0.82482,     0.82583,     0.82683,     0.82783,     0.82883,     0.82983,     0.83083,     0.83183,     0.83283,     0.83383,     0.83483,     0.83584,     0.83684,     0.83784,     0.83884,     0.83984,\n",
              "           0.84084,     0.84184,     0.84284,     0.84384,     0.84484,     0.84585,     0.84685,     0.84785,     0.84885,     0.84985,     0.85085,     0.85185,     0.85285,     0.85385,     0.85485,     0.85586,     0.85686,     0.85786,     0.85886,     0.85986,     0.86086,     0.86186,     0.86286,     0.86386,\n",
              "           0.86486,     0.86587,     0.86687,     0.86787,     0.86887,     0.86987,     0.87087,     0.87187,     0.87287,     0.87387,     0.87487,     0.87588,     0.87688,     0.87788,     0.87888,     0.87988,     0.88088,     0.88188,     0.88288,     0.88388,     0.88488,     0.88589,     0.88689,     0.88789,\n",
              "           0.88889,     0.88989,     0.89089,     0.89189,     0.89289,     0.89389,     0.89489,      0.8959,      0.8969,      0.8979,      0.8989,      0.8999,      0.9009,      0.9019,      0.9029,      0.9039,      0.9049,     0.90591,     0.90691,     0.90791,     0.90891,     0.90991,     0.91091,     0.91191,\n",
              "           0.91291,     0.91391,     0.91491,     0.91592,     0.91692,     0.91792,     0.91892,     0.91992,     0.92092,     0.92192,     0.92292,     0.92392,     0.92492,     0.92593,     0.92693,     0.92793,     0.92893,     0.92993,     0.93093,     0.93193,     0.93293,     0.93393,     0.93493,     0.93594,\n",
              "           0.93694,     0.93794,     0.93894,     0.93994,     0.94094,     0.94194,     0.94294,     0.94394,     0.94494,     0.94595,     0.94695,     0.94795,     0.94895,     0.94995,     0.95095,     0.95195,     0.95295,     0.95395,     0.95495,     0.95596,     0.95696,     0.95796,     0.95896,     0.95996,\n",
              "           0.96096,     0.96196,     0.96296,     0.96396,     0.96496,     0.96597,     0.96697,     0.96797,     0.96897,     0.96997,     0.97097,     0.97197,     0.97297,     0.97397,     0.97497,     0.97598,     0.97698,     0.97798,     0.97898,     0.97998,     0.98098,     0.98198,     0.98298,     0.98398,\n",
              "           0.98498,     0.98599,     0.98699,     0.98799,     0.98899,     0.98999,     0.99099,     0.99199,     0.99299,     0.99399,     0.99499,       0.996,       0.997,       0.998,       0.999,           1]), array([[    0.50725,     0.50725,     0.55946, ...,           0,           0,           0],\n",
              "       [     0.3445,      0.3445,      0.4614, ...,           0,           0,           0],\n",
              "       [    0.52874,     0.52874,     0.62701, ...,           0,           0,           0],\n",
              "       [    0.29091,     0.29091,     0.36633, ...,           0,           0,           0],\n",
              "       [    0.41026,     0.41026,     0.53116, ...,           0,           0,           0],\n",
              "       [    0.64384,     0.64384,     0.81302, ...,           0,           0,           0]]), 'Confidence', 'F1'], [array([          0,    0.001001,    0.002002,    0.003003,    0.004004,    0.005005,    0.006006,    0.007007,    0.008008,    0.009009,     0.01001,    0.011011,    0.012012,    0.013013,    0.014014,    0.015015,    0.016016,    0.017017,    0.018018,    0.019019,     0.02002,    0.021021,    0.022022,    0.023023,\n",
              "          0.024024,    0.025025,    0.026026,    0.027027,    0.028028,    0.029029,     0.03003,    0.031031,    0.032032,    0.033033,    0.034034,    0.035035,    0.036036,    0.037037,    0.038038,    0.039039,     0.04004,    0.041041,    0.042042,    0.043043,    0.044044,    0.045045,    0.046046,    0.047047,\n",
              "          0.048048,    0.049049,     0.05005,    0.051051,    0.052052,    0.053053,    0.054054,    0.055055,    0.056056,    0.057057,    0.058058,    0.059059,     0.06006,    0.061061,    0.062062,    0.063063,    0.064064,    0.065065,    0.066066,    0.067067,    0.068068,    0.069069,     0.07007,    0.071071,\n",
              "          0.072072,    0.073073,    0.074074,    0.075075,    0.076076,    0.077077,    0.078078,    0.079079,     0.08008,    0.081081,    0.082082,    0.083083,    0.084084,    0.085085,    0.086086,    0.087087,    0.088088,    0.089089,     0.09009,    0.091091,    0.092092,    0.093093,    0.094094,    0.095095,\n",
              "          0.096096,    0.097097,    0.098098,    0.099099,      0.1001,      0.1011,      0.1021,      0.1031,      0.1041,     0.10511,     0.10611,     0.10711,     0.10811,     0.10911,     0.11011,     0.11111,     0.11211,     0.11311,     0.11411,     0.11512,     0.11612,     0.11712,     0.11812,     0.11912,\n",
              "           0.12012,     0.12112,     0.12212,     0.12312,     0.12412,     0.12513,     0.12613,     0.12713,     0.12813,     0.12913,     0.13013,     0.13113,     0.13213,     0.13313,     0.13413,     0.13514,     0.13614,     0.13714,     0.13814,     0.13914,     0.14014,     0.14114,     0.14214,     0.14314,\n",
              "           0.14414,     0.14515,     0.14615,     0.14715,     0.14815,     0.14915,     0.15015,     0.15115,     0.15215,     0.15315,     0.15415,     0.15516,     0.15616,     0.15716,     0.15816,     0.15916,     0.16016,     0.16116,     0.16216,     0.16316,     0.16416,     0.16517,     0.16617,     0.16717,\n",
              "           0.16817,     0.16917,     0.17017,     0.17117,     0.17217,     0.17317,     0.17417,     0.17518,     0.17618,     0.17718,     0.17818,     0.17918,     0.18018,     0.18118,     0.18218,     0.18318,     0.18418,     0.18519,     0.18619,     0.18719,     0.18819,     0.18919,     0.19019,     0.19119,\n",
              "           0.19219,     0.19319,     0.19419,      0.1952,      0.1962,      0.1972,      0.1982,      0.1992,      0.2002,      0.2012,      0.2022,      0.2032,      0.2042,     0.20521,     0.20621,     0.20721,     0.20821,     0.20921,     0.21021,     0.21121,     0.21221,     0.21321,     0.21421,     0.21522,\n",
              "           0.21622,     0.21722,     0.21822,     0.21922,     0.22022,     0.22122,     0.22222,     0.22322,     0.22422,     0.22523,     0.22623,     0.22723,     0.22823,     0.22923,     0.23023,     0.23123,     0.23223,     0.23323,     0.23423,     0.23524,     0.23624,     0.23724,     0.23824,     0.23924,\n",
              "           0.24024,     0.24124,     0.24224,     0.24324,     0.24424,     0.24525,     0.24625,     0.24725,     0.24825,     0.24925,     0.25025,     0.25125,     0.25225,     0.25325,     0.25425,     0.25526,     0.25626,     0.25726,     0.25826,     0.25926,     0.26026,     0.26126,     0.26226,     0.26326,\n",
              "           0.26426,     0.26527,     0.26627,     0.26727,     0.26827,     0.26927,     0.27027,     0.27127,     0.27227,     0.27327,     0.27427,     0.27528,     0.27628,     0.27728,     0.27828,     0.27928,     0.28028,     0.28128,     0.28228,     0.28328,     0.28428,     0.28529,     0.28629,     0.28729,\n",
              "           0.28829,     0.28929,     0.29029,     0.29129,     0.29229,     0.29329,     0.29429,      0.2953,      0.2963,      0.2973,      0.2983,      0.2993,      0.3003,      0.3013,      0.3023,      0.3033,      0.3043,     0.30531,     0.30631,     0.30731,     0.30831,     0.30931,     0.31031,     0.31131,\n",
              "           0.31231,     0.31331,     0.31431,     0.31532,     0.31632,     0.31732,     0.31832,     0.31932,     0.32032,     0.32132,     0.32232,     0.32332,     0.32432,     0.32533,     0.32633,     0.32733,     0.32833,     0.32933,     0.33033,     0.33133,     0.33233,     0.33333,     0.33433,     0.33534,\n",
              "           0.33634,     0.33734,     0.33834,     0.33934,     0.34034,     0.34134,     0.34234,     0.34334,     0.34434,     0.34535,     0.34635,     0.34735,     0.34835,     0.34935,     0.35035,     0.35135,     0.35235,     0.35335,     0.35435,     0.35536,     0.35636,     0.35736,     0.35836,     0.35936,\n",
              "           0.36036,     0.36136,     0.36236,     0.36336,     0.36436,     0.36537,     0.36637,     0.36737,     0.36837,     0.36937,     0.37037,     0.37137,     0.37237,     0.37337,     0.37437,     0.37538,     0.37638,     0.37738,     0.37838,     0.37938,     0.38038,     0.38138,     0.38238,     0.38338,\n",
              "           0.38438,     0.38539,     0.38639,     0.38739,     0.38839,     0.38939,     0.39039,     0.39139,     0.39239,     0.39339,     0.39439,      0.3954,      0.3964,      0.3974,      0.3984,      0.3994,      0.4004,      0.4014,      0.4024,      0.4034,      0.4044,     0.40541,     0.40641,     0.40741,\n",
              "           0.40841,     0.40941,     0.41041,     0.41141,     0.41241,     0.41341,     0.41441,     0.41542,     0.41642,     0.41742,     0.41842,     0.41942,     0.42042,     0.42142,     0.42242,     0.42342,     0.42442,     0.42543,     0.42643,     0.42743,     0.42843,     0.42943,     0.43043,     0.43143,\n",
              "           0.43243,     0.43343,     0.43443,     0.43544,     0.43644,     0.43744,     0.43844,     0.43944,     0.44044,     0.44144,     0.44244,     0.44344,     0.44444,     0.44545,     0.44645,     0.44745,     0.44845,     0.44945,     0.45045,     0.45145,     0.45245,     0.45345,     0.45445,     0.45546,\n",
              "           0.45646,     0.45746,     0.45846,     0.45946,     0.46046,     0.46146,     0.46246,     0.46346,     0.46446,     0.46547,     0.46647,     0.46747,     0.46847,     0.46947,     0.47047,     0.47147,     0.47247,     0.47347,     0.47447,     0.47548,     0.47648,     0.47748,     0.47848,     0.47948,\n",
              "           0.48048,     0.48148,     0.48248,     0.48348,     0.48448,     0.48549,     0.48649,     0.48749,     0.48849,     0.48949,     0.49049,     0.49149,     0.49249,     0.49349,     0.49449,      0.4955,      0.4965,      0.4975,      0.4985,      0.4995,      0.5005,      0.5015,      0.5025,      0.5035,\n",
              "            0.5045,     0.50551,     0.50651,     0.50751,     0.50851,     0.50951,     0.51051,     0.51151,     0.51251,     0.51351,     0.51451,     0.51552,     0.51652,     0.51752,     0.51852,     0.51952,     0.52052,     0.52152,     0.52252,     0.52352,     0.52452,     0.52553,     0.52653,     0.52753,\n",
              "           0.52853,     0.52953,     0.53053,     0.53153,     0.53253,     0.53353,     0.53453,     0.53554,     0.53654,     0.53754,     0.53854,     0.53954,     0.54054,     0.54154,     0.54254,     0.54354,     0.54454,     0.54555,     0.54655,     0.54755,     0.54855,     0.54955,     0.55055,     0.55155,\n",
              "           0.55255,     0.55355,     0.55455,     0.55556,     0.55656,     0.55756,     0.55856,     0.55956,     0.56056,     0.56156,     0.56256,     0.56356,     0.56456,     0.56557,     0.56657,     0.56757,     0.56857,     0.56957,     0.57057,     0.57157,     0.57257,     0.57357,     0.57457,     0.57558,\n",
              "           0.57658,     0.57758,     0.57858,     0.57958,     0.58058,     0.58158,     0.58258,     0.58358,     0.58458,     0.58559,     0.58659,     0.58759,     0.58859,     0.58959,     0.59059,     0.59159,     0.59259,     0.59359,     0.59459,      0.5956,      0.5966,      0.5976,      0.5986,      0.5996,\n",
              "            0.6006,      0.6016,      0.6026,      0.6036,      0.6046,     0.60561,     0.60661,     0.60761,     0.60861,     0.60961,     0.61061,     0.61161,     0.61261,     0.61361,     0.61461,     0.61562,     0.61662,     0.61762,     0.61862,     0.61962,     0.62062,     0.62162,     0.62262,     0.62362,\n",
              "           0.62462,     0.62563,     0.62663,     0.62763,     0.62863,     0.62963,     0.63063,     0.63163,     0.63263,     0.63363,     0.63463,     0.63564,     0.63664,     0.63764,     0.63864,     0.63964,     0.64064,     0.64164,     0.64264,     0.64364,     0.64464,     0.64565,     0.64665,     0.64765,\n",
              "           0.64865,     0.64965,     0.65065,     0.65165,     0.65265,     0.65365,     0.65465,     0.65566,     0.65666,     0.65766,     0.65866,     0.65966,     0.66066,     0.66166,     0.66266,     0.66366,     0.66466,     0.66567,     0.66667,     0.66767,     0.66867,     0.66967,     0.67067,     0.67167,\n",
              "           0.67267,     0.67367,     0.67467,     0.67568,     0.67668,     0.67768,     0.67868,     0.67968,     0.68068,     0.68168,     0.68268,     0.68368,     0.68468,     0.68569,     0.68669,     0.68769,     0.68869,     0.68969,     0.69069,     0.69169,     0.69269,     0.69369,     0.69469,      0.6957,\n",
              "            0.6967,      0.6977,      0.6987,      0.6997,      0.7007,      0.7017,      0.7027,      0.7037,      0.7047,     0.70571,     0.70671,     0.70771,     0.70871,     0.70971,     0.71071,     0.71171,     0.71271,     0.71371,     0.71471,     0.71572,     0.71672,     0.71772,     0.71872,     0.71972,\n",
              "           0.72072,     0.72172,     0.72272,     0.72372,     0.72472,     0.72573,     0.72673,     0.72773,     0.72873,     0.72973,     0.73073,     0.73173,     0.73273,     0.73373,     0.73473,     0.73574,     0.73674,     0.73774,     0.73874,     0.73974,     0.74074,     0.74174,     0.74274,     0.74374,\n",
              "           0.74474,     0.74575,     0.74675,     0.74775,     0.74875,     0.74975,     0.75075,     0.75175,     0.75275,     0.75375,     0.75475,     0.75576,     0.75676,     0.75776,     0.75876,     0.75976,     0.76076,     0.76176,     0.76276,     0.76376,     0.76476,     0.76577,     0.76677,     0.76777,\n",
              "           0.76877,     0.76977,     0.77077,     0.77177,     0.77277,     0.77377,     0.77477,     0.77578,     0.77678,     0.77778,     0.77878,     0.77978,     0.78078,     0.78178,     0.78278,     0.78378,     0.78478,     0.78579,     0.78679,     0.78779,     0.78879,     0.78979,     0.79079,     0.79179,\n",
              "           0.79279,     0.79379,     0.79479,      0.7958,      0.7968,      0.7978,      0.7988,      0.7998,      0.8008,      0.8018,      0.8028,      0.8038,      0.8048,     0.80581,     0.80681,     0.80781,     0.80881,     0.80981,     0.81081,     0.81181,     0.81281,     0.81381,     0.81481,     0.81582,\n",
              "           0.81682,     0.81782,     0.81882,     0.81982,     0.82082,     0.82182,     0.82282,     0.82382,     0.82482,     0.82583,     0.82683,     0.82783,     0.82883,     0.82983,     0.83083,     0.83183,     0.83283,     0.83383,     0.83483,     0.83584,     0.83684,     0.83784,     0.83884,     0.83984,\n",
              "           0.84084,     0.84184,     0.84284,     0.84384,     0.84484,     0.84585,     0.84685,     0.84785,     0.84885,     0.84985,     0.85085,     0.85185,     0.85285,     0.85385,     0.85485,     0.85586,     0.85686,     0.85786,     0.85886,     0.85986,     0.86086,     0.86186,     0.86286,     0.86386,\n",
              "           0.86486,     0.86587,     0.86687,     0.86787,     0.86887,     0.86987,     0.87087,     0.87187,     0.87287,     0.87387,     0.87487,     0.87588,     0.87688,     0.87788,     0.87888,     0.87988,     0.88088,     0.88188,     0.88288,     0.88388,     0.88488,     0.88589,     0.88689,     0.88789,\n",
              "           0.88889,     0.88989,     0.89089,     0.89189,     0.89289,     0.89389,     0.89489,      0.8959,      0.8969,      0.8979,      0.8989,      0.8999,      0.9009,      0.9019,      0.9029,      0.9039,      0.9049,     0.90591,     0.90691,     0.90791,     0.90891,     0.90991,     0.91091,     0.91191,\n",
              "           0.91291,     0.91391,     0.91491,     0.91592,     0.91692,     0.91792,     0.91892,     0.91992,     0.92092,     0.92192,     0.92292,     0.92392,     0.92492,     0.92593,     0.92693,     0.92793,     0.92893,     0.92993,     0.93093,     0.93193,     0.93293,     0.93393,     0.93493,     0.93594,\n",
              "           0.93694,     0.93794,     0.93894,     0.93994,     0.94094,     0.94194,     0.94294,     0.94394,     0.94494,     0.94595,     0.94695,     0.94795,     0.94895,     0.94995,     0.95095,     0.95195,     0.95295,     0.95395,     0.95495,     0.95596,     0.95696,     0.95796,     0.95896,     0.95996,\n",
              "           0.96096,     0.96196,     0.96296,     0.96396,     0.96496,     0.96597,     0.96697,     0.96797,     0.96897,     0.96997,     0.97097,     0.97197,     0.97297,     0.97397,     0.97497,     0.97598,     0.97698,     0.97798,     0.97898,     0.97998,     0.98098,     0.98198,     0.98298,     0.98398,\n",
              "           0.98498,     0.98599,     0.98699,     0.98799,     0.98899,     0.98999,     0.99099,     0.99199,     0.99299,     0.99399,     0.99499,       0.996,       0.997,       0.998,       0.999,           1]), array([[    0.33981,     0.33981,     0.38837, ...,           1,           1,           1],\n",
              "       [    0.20809,     0.20809,     0.29988, ...,           1,           1,           1],\n",
              "       [    0.35938,     0.35938,     0.45667, ...,           1,           1,           1],\n",
              "       [    0.17021,     0.17021,     0.22423, ...,           1,           1,           1],\n",
              "       [    0.25806,     0.25806,     0.36162, ...,           1,           1,           1],\n",
              "       [    0.47475,     0.47475,     0.68495, ...,           1,           1,           1]]), 'Confidence', 'Precision'], [array([          0,    0.001001,    0.002002,    0.003003,    0.004004,    0.005005,    0.006006,    0.007007,    0.008008,    0.009009,     0.01001,    0.011011,    0.012012,    0.013013,    0.014014,    0.015015,    0.016016,    0.017017,    0.018018,    0.019019,     0.02002,    0.021021,    0.022022,    0.023023,\n",
              "          0.024024,    0.025025,    0.026026,    0.027027,    0.028028,    0.029029,     0.03003,    0.031031,    0.032032,    0.033033,    0.034034,    0.035035,    0.036036,    0.037037,    0.038038,    0.039039,     0.04004,    0.041041,    0.042042,    0.043043,    0.044044,    0.045045,    0.046046,    0.047047,\n",
              "          0.048048,    0.049049,     0.05005,    0.051051,    0.052052,    0.053053,    0.054054,    0.055055,    0.056056,    0.057057,    0.058058,    0.059059,     0.06006,    0.061061,    0.062062,    0.063063,    0.064064,    0.065065,    0.066066,    0.067067,    0.068068,    0.069069,     0.07007,    0.071071,\n",
              "          0.072072,    0.073073,    0.074074,    0.075075,    0.076076,    0.077077,    0.078078,    0.079079,     0.08008,    0.081081,    0.082082,    0.083083,    0.084084,    0.085085,    0.086086,    0.087087,    0.088088,    0.089089,     0.09009,    0.091091,    0.092092,    0.093093,    0.094094,    0.095095,\n",
              "          0.096096,    0.097097,    0.098098,    0.099099,      0.1001,      0.1011,      0.1021,      0.1031,      0.1041,     0.10511,     0.10611,     0.10711,     0.10811,     0.10911,     0.11011,     0.11111,     0.11211,     0.11311,     0.11411,     0.11512,     0.11612,     0.11712,     0.11812,     0.11912,\n",
              "           0.12012,     0.12112,     0.12212,     0.12312,     0.12412,     0.12513,     0.12613,     0.12713,     0.12813,     0.12913,     0.13013,     0.13113,     0.13213,     0.13313,     0.13413,     0.13514,     0.13614,     0.13714,     0.13814,     0.13914,     0.14014,     0.14114,     0.14214,     0.14314,\n",
              "           0.14414,     0.14515,     0.14615,     0.14715,     0.14815,     0.14915,     0.15015,     0.15115,     0.15215,     0.15315,     0.15415,     0.15516,     0.15616,     0.15716,     0.15816,     0.15916,     0.16016,     0.16116,     0.16216,     0.16316,     0.16416,     0.16517,     0.16617,     0.16717,\n",
              "           0.16817,     0.16917,     0.17017,     0.17117,     0.17217,     0.17317,     0.17417,     0.17518,     0.17618,     0.17718,     0.17818,     0.17918,     0.18018,     0.18118,     0.18218,     0.18318,     0.18418,     0.18519,     0.18619,     0.18719,     0.18819,     0.18919,     0.19019,     0.19119,\n",
              "           0.19219,     0.19319,     0.19419,      0.1952,      0.1962,      0.1972,      0.1982,      0.1992,      0.2002,      0.2012,      0.2022,      0.2032,      0.2042,     0.20521,     0.20621,     0.20721,     0.20821,     0.20921,     0.21021,     0.21121,     0.21221,     0.21321,     0.21421,     0.21522,\n",
              "           0.21622,     0.21722,     0.21822,     0.21922,     0.22022,     0.22122,     0.22222,     0.22322,     0.22422,     0.22523,     0.22623,     0.22723,     0.22823,     0.22923,     0.23023,     0.23123,     0.23223,     0.23323,     0.23423,     0.23524,     0.23624,     0.23724,     0.23824,     0.23924,\n",
              "           0.24024,     0.24124,     0.24224,     0.24324,     0.24424,     0.24525,     0.24625,     0.24725,     0.24825,     0.24925,     0.25025,     0.25125,     0.25225,     0.25325,     0.25425,     0.25526,     0.25626,     0.25726,     0.25826,     0.25926,     0.26026,     0.26126,     0.26226,     0.26326,\n",
              "           0.26426,     0.26527,     0.26627,     0.26727,     0.26827,     0.26927,     0.27027,     0.27127,     0.27227,     0.27327,     0.27427,     0.27528,     0.27628,     0.27728,     0.27828,     0.27928,     0.28028,     0.28128,     0.28228,     0.28328,     0.28428,     0.28529,     0.28629,     0.28729,\n",
              "           0.28829,     0.28929,     0.29029,     0.29129,     0.29229,     0.29329,     0.29429,      0.2953,      0.2963,      0.2973,      0.2983,      0.2993,      0.3003,      0.3013,      0.3023,      0.3033,      0.3043,     0.30531,     0.30631,     0.30731,     0.30831,     0.30931,     0.31031,     0.31131,\n",
              "           0.31231,     0.31331,     0.31431,     0.31532,     0.31632,     0.31732,     0.31832,     0.31932,     0.32032,     0.32132,     0.32232,     0.32332,     0.32432,     0.32533,     0.32633,     0.32733,     0.32833,     0.32933,     0.33033,     0.33133,     0.33233,     0.33333,     0.33433,     0.33534,\n",
              "           0.33634,     0.33734,     0.33834,     0.33934,     0.34034,     0.34134,     0.34234,     0.34334,     0.34434,     0.34535,     0.34635,     0.34735,     0.34835,     0.34935,     0.35035,     0.35135,     0.35235,     0.35335,     0.35435,     0.35536,     0.35636,     0.35736,     0.35836,     0.35936,\n",
              "           0.36036,     0.36136,     0.36236,     0.36336,     0.36436,     0.36537,     0.36637,     0.36737,     0.36837,     0.36937,     0.37037,     0.37137,     0.37237,     0.37337,     0.37437,     0.37538,     0.37638,     0.37738,     0.37838,     0.37938,     0.38038,     0.38138,     0.38238,     0.38338,\n",
              "           0.38438,     0.38539,     0.38639,     0.38739,     0.38839,     0.38939,     0.39039,     0.39139,     0.39239,     0.39339,     0.39439,      0.3954,      0.3964,      0.3974,      0.3984,      0.3994,      0.4004,      0.4014,      0.4024,      0.4034,      0.4044,     0.40541,     0.40641,     0.40741,\n",
              "           0.40841,     0.40941,     0.41041,     0.41141,     0.41241,     0.41341,     0.41441,     0.41542,     0.41642,     0.41742,     0.41842,     0.41942,     0.42042,     0.42142,     0.42242,     0.42342,     0.42442,     0.42543,     0.42643,     0.42743,     0.42843,     0.42943,     0.43043,     0.43143,\n",
              "           0.43243,     0.43343,     0.43443,     0.43544,     0.43644,     0.43744,     0.43844,     0.43944,     0.44044,     0.44144,     0.44244,     0.44344,     0.44444,     0.44545,     0.44645,     0.44745,     0.44845,     0.44945,     0.45045,     0.45145,     0.45245,     0.45345,     0.45445,     0.45546,\n",
              "           0.45646,     0.45746,     0.45846,     0.45946,     0.46046,     0.46146,     0.46246,     0.46346,     0.46446,     0.46547,     0.46647,     0.46747,     0.46847,     0.46947,     0.47047,     0.47147,     0.47247,     0.47347,     0.47447,     0.47548,     0.47648,     0.47748,     0.47848,     0.47948,\n",
              "           0.48048,     0.48148,     0.48248,     0.48348,     0.48448,     0.48549,     0.48649,     0.48749,     0.48849,     0.48949,     0.49049,     0.49149,     0.49249,     0.49349,     0.49449,      0.4955,      0.4965,      0.4975,      0.4985,      0.4995,      0.5005,      0.5015,      0.5025,      0.5035,\n",
              "            0.5045,     0.50551,     0.50651,     0.50751,     0.50851,     0.50951,     0.51051,     0.51151,     0.51251,     0.51351,     0.51451,     0.51552,     0.51652,     0.51752,     0.51852,     0.51952,     0.52052,     0.52152,     0.52252,     0.52352,     0.52452,     0.52553,     0.52653,     0.52753,\n",
              "           0.52853,     0.52953,     0.53053,     0.53153,     0.53253,     0.53353,     0.53453,     0.53554,     0.53654,     0.53754,     0.53854,     0.53954,     0.54054,     0.54154,     0.54254,     0.54354,     0.54454,     0.54555,     0.54655,     0.54755,     0.54855,     0.54955,     0.55055,     0.55155,\n",
              "           0.55255,     0.55355,     0.55455,     0.55556,     0.55656,     0.55756,     0.55856,     0.55956,     0.56056,     0.56156,     0.56256,     0.56356,     0.56456,     0.56557,     0.56657,     0.56757,     0.56857,     0.56957,     0.57057,     0.57157,     0.57257,     0.57357,     0.57457,     0.57558,\n",
              "           0.57658,     0.57758,     0.57858,     0.57958,     0.58058,     0.58158,     0.58258,     0.58358,     0.58458,     0.58559,     0.58659,     0.58759,     0.58859,     0.58959,     0.59059,     0.59159,     0.59259,     0.59359,     0.59459,      0.5956,      0.5966,      0.5976,      0.5986,      0.5996,\n",
              "            0.6006,      0.6016,      0.6026,      0.6036,      0.6046,     0.60561,     0.60661,     0.60761,     0.60861,     0.60961,     0.61061,     0.61161,     0.61261,     0.61361,     0.61461,     0.61562,     0.61662,     0.61762,     0.61862,     0.61962,     0.62062,     0.62162,     0.62262,     0.62362,\n",
              "           0.62462,     0.62563,     0.62663,     0.62763,     0.62863,     0.62963,     0.63063,     0.63163,     0.63263,     0.63363,     0.63463,     0.63564,     0.63664,     0.63764,     0.63864,     0.63964,     0.64064,     0.64164,     0.64264,     0.64364,     0.64464,     0.64565,     0.64665,     0.64765,\n",
              "           0.64865,     0.64965,     0.65065,     0.65165,     0.65265,     0.65365,     0.65465,     0.65566,     0.65666,     0.65766,     0.65866,     0.65966,     0.66066,     0.66166,     0.66266,     0.66366,     0.66466,     0.66567,     0.66667,     0.66767,     0.66867,     0.66967,     0.67067,     0.67167,\n",
              "           0.67267,     0.67367,     0.67467,     0.67568,     0.67668,     0.67768,     0.67868,     0.67968,     0.68068,     0.68168,     0.68268,     0.68368,     0.68468,     0.68569,     0.68669,     0.68769,     0.68869,     0.68969,     0.69069,     0.69169,     0.69269,     0.69369,     0.69469,      0.6957,\n",
              "            0.6967,      0.6977,      0.6987,      0.6997,      0.7007,      0.7017,      0.7027,      0.7037,      0.7047,     0.70571,     0.70671,     0.70771,     0.70871,     0.70971,     0.71071,     0.71171,     0.71271,     0.71371,     0.71471,     0.71572,     0.71672,     0.71772,     0.71872,     0.71972,\n",
              "           0.72072,     0.72172,     0.72272,     0.72372,     0.72472,     0.72573,     0.72673,     0.72773,     0.72873,     0.72973,     0.73073,     0.73173,     0.73273,     0.73373,     0.73473,     0.73574,     0.73674,     0.73774,     0.73874,     0.73974,     0.74074,     0.74174,     0.74274,     0.74374,\n",
              "           0.74474,     0.74575,     0.74675,     0.74775,     0.74875,     0.74975,     0.75075,     0.75175,     0.75275,     0.75375,     0.75475,     0.75576,     0.75676,     0.75776,     0.75876,     0.75976,     0.76076,     0.76176,     0.76276,     0.76376,     0.76476,     0.76577,     0.76677,     0.76777,\n",
              "           0.76877,     0.76977,     0.77077,     0.77177,     0.77277,     0.77377,     0.77477,     0.77578,     0.77678,     0.77778,     0.77878,     0.77978,     0.78078,     0.78178,     0.78278,     0.78378,     0.78478,     0.78579,     0.78679,     0.78779,     0.78879,     0.78979,     0.79079,     0.79179,\n",
              "           0.79279,     0.79379,     0.79479,      0.7958,      0.7968,      0.7978,      0.7988,      0.7998,      0.8008,      0.8018,      0.8028,      0.8038,      0.8048,     0.80581,     0.80681,     0.80781,     0.80881,     0.80981,     0.81081,     0.81181,     0.81281,     0.81381,     0.81481,     0.81582,\n",
              "           0.81682,     0.81782,     0.81882,     0.81982,     0.82082,     0.82182,     0.82282,     0.82382,     0.82482,     0.82583,     0.82683,     0.82783,     0.82883,     0.82983,     0.83083,     0.83183,     0.83283,     0.83383,     0.83483,     0.83584,     0.83684,     0.83784,     0.83884,     0.83984,\n",
              "           0.84084,     0.84184,     0.84284,     0.84384,     0.84484,     0.84585,     0.84685,     0.84785,     0.84885,     0.84985,     0.85085,     0.85185,     0.85285,     0.85385,     0.85485,     0.85586,     0.85686,     0.85786,     0.85886,     0.85986,     0.86086,     0.86186,     0.86286,     0.86386,\n",
              "           0.86486,     0.86587,     0.86687,     0.86787,     0.86887,     0.86987,     0.87087,     0.87187,     0.87287,     0.87387,     0.87487,     0.87588,     0.87688,     0.87788,     0.87888,     0.87988,     0.88088,     0.88188,     0.88288,     0.88388,     0.88488,     0.88589,     0.88689,     0.88789,\n",
              "           0.88889,     0.88989,     0.89089,     0.89189,     0.89289,     0.89389,     0.89489,      0.8959,      0.8969,      0.8979,      0.8989,      0.8999,      0.9009,      0.9019,      0.9029,      0.9039,      0.9049,     0.90591,     0.90691,     0.90791,     0.90891,     0.90991,     0.91091,     0.91191,\n",
              "           0.91291,     0.91391,     0.91491,     0.91592,     0.91692,     0.91792,     0.91892,     0.91992,     0.92092,     0.92192,     0.92292,     0.92392,     0.92492,     0.92593,     0.92693,     0.92793,     0.92893,     0.92993,     0.93093,     0.93193,     0.93293,     0.93393,     0.93493,     0.93594,\n",
              "           0.93694,     0.93794,     0.93894,     0.93994,     0.94094,     0.94194,     0.94294,     0.94394,     0.94494,     0.94595,     0.94695,     0.94795,     0.94895,     0.94995,     0.95095,     0.95195,     0.95295,     0.95395,     0.95495,     0.95596,     0.95696,     0.95796,     0.95896,     0.95996,\n",
              "           0.96096,     0.96196,     0.96296,     0.96396,     0.96496,     0.96597,     0.96697,     0.96797,     0.96897,     0.96997,     0.97097,     0.97197,     0.97297,     0.97397,     0.97497,     0.97598,     0.97698,     0.97798,     0.97898,     0.97998,     0.98098,     0.98198,     0.98298,     0.98398,\n",
              "           0.98498,     0.98599,     0.98699,     0.98799,     0.98899,     0.98999,     0.99099,     0.99199,     0.99299,     0.99399,     0.99499,       0.996,       0.997,       0.998,       0.999,           1]), array([[          1,           1,           1, ...,           0,           0,           0],\n",
              "       [          1,           1,           1, ...,           0,           0,           0],\n",
              "       [          1,           1,           1, ...,           0,           0,           0],\n",
              "       [          1,           1,           1, ...,           0,           0,           0],\n",
              "       [          1,           1,           1, ...,           0,           0,           0],\n",
              "       [          1,           1,           1, ...,           0,           0,           0]]), 'Confidence', 'Recall']]\n",
              "fitness: np.float64(0.704052698384566)\n",
              "keys: ['metrics/precision(B)', 'metrics/recall(B)', 'metrics/mAP50(B)', 'metrics/mAP50-95(B)']\n",
              "maps: array([    0.59868,     0.63331,     0.63513,     0.65958,     0.71299,     0.80796])\n",
              "names: {0: 'cabeza', 1: 'mano_derecha', 2: 'mano_izquierda', 3: 'pie_derecha', 4: 'pie_izquierda', 5: 'torso'}\n",
              "plot: True\n",
              "results_dict: {'metrics/precision(B)': np.float64(0.9414544793894638), 'metrics/recall(B)': np.float64(0.9504820339663335), 'metrics/mAP50(B)': np.float64(0.9690634449689215), 'metrics/mAP50-95(B)': np.float64(0.6746070598751931), 'fitness': np.float64(0.704052698384566)}\n",
              "save_dir: PosixPath('runs/detect/train')\n",
              "speed: {'preprocess': 0.3449771329796254, 'inference': 3.5397416489363036, 'loss': 0.00035124468168044377, 'postprocess': 5.676608446808199}\n",
              "task: 'detect'"
            ]
          },
          "metadata": {},
          "execution_count": 4
        }
      ]
    },
    {
      "cell_type": "markdown",
      "source": [
        "## 2. Segmentation\n",
        "\n",
        "YOLO11 _segmentation_ models use the `-seg` suffix, i.e. `yolo11n-seg.pt` and are pretrained on COCO. See [Segmentation Docs](https://docs.ultralytics.com/tasks/segment/) for full details.\n"
      ],
      "metadata": {
        "id": "7ZW58jUzK66B"
      }
    },
    {
      "cell_type": "code",
      "source": [
        "# Load YOLO11n-seg, train it on COCO128-seg for 3 epochs and predict an image with it\n",
        "from ultralytics import YOLO\n",
        "\n",
        "model = YOLO('yolo11n-seg.pt')  # load a pretrained YOLO segmentation model\n",
        "model.train(data='coco8-seg.yaml', epochs=3)  # train the model\n",
        "model('https://ultralytics.com/images/bus.jpg')  # predict on an image"
      ],
      "metadata": {
        "id": "WFPJIQl_L5HT"
      },
      "execution_count": null,
      "outputs": []
    },
    {
      "cell_type": "markdown",
      "source": [
        "## 3. Classification\n",
        "\n",
        "YOLO11 _classification_ models use the `-cls` suffix, i.e. `yolo11n-cls.pt` and are pretrained on ImageNet. See [Classification Docs](https://docs.ultralytics.com/tasks/classify/) for full details.\n"
      ],
      "metadata": {
        "id": "ax3p94VNK9zR"
      }
    },
    {
      "cell_type": "code",
      "source": [
        "# Load YOLO11n-cls, train it on mnist160 for 3 epochs and predict an image with it\n",
        "from ultralytics import YOLO\n",
        "\n",
        "model = YOLO('yolo11n-cls.pt')  # load a pretrained YOLO classification model\n",
        "model.train(data='mnist160', epochs=3)  # train the model\n",
        "model('https://ultralytics.com/images/bus.jpg')  # predict on an image"
      ],
      "metadata": {
        "id": "5q9Zu6zlL5rS"
      },
      "execution_count": null,
      "outputs": []
    },
    {
      "cell_type": "markdown",
      "source": [
        "## 4. Pose\n",
        "\n",
        "YOLO11 _pose_ models use the `-pose` suffix, i.e. `yolo11n-pose.pt` and are pretrained on COCO Keypoints. See [Pose Docs](https://docs.ultralytics.com/tasks/pose/) for full details."
      ],
      "metadata": {
        "id": "SpIaFLiO11TG"
      }
    },
    {
      "cell_type": "code",
      "source": [
        "# Load YOLO11n-pose, train it on COCO8-pose for 3 epochs and predict an image with it\n",
        "from ultralytics import YOLO\n",
        "\n",
        "model = YOLO('yolo11n-pose.pt')  # load a pretrained YOLO pose model\n",
        "model.train(data='coco8-pose.yaml', epochs=3)  # train the model\n",
        "model('https://ultralytics.com/images/bus.jpg')  # predict on an image"
      ],
      "metadata": {
        "id": "si4aKFNg19vX"
      },
      "execution_count": null,
      "outputs": []
    },
    {
      "cell_type": "markdown",
      "source": [
        "## 4. Oriented Bounding Boxes (OBB)\n",
        "\n",
        "YOLO11 _OBB_ models use the `-obb` suffix, i.e. `yolo11n-obb.pt` and are pretrained on the DOTA dataset. See [OBB Docs](https://docs.ultralytics.com/tasks/obb/) for full details."
      ],
      "metadata": {
        "id": "cf5j_T9-B5F0"
      }
    },
    {
      "cell_type": "code",
      "source": [
        "# Load YOLO11n-obb, train it on DOTA8 for 3 epochs and predict an image with it\n",
        "from ultralytics import YOLO\n",
        "\n",
        "model = YOLO('yolo11n-obb.pt')  # load a pretrained YOLO OBB model\n",
        "model.train(data='dota8.yaml', epochs=3)  # train the model\n",
        "model('https://ultralytics.com/images/boats.jpg')  # predict on an image"
      ],
      "metadata": {
        "id": "IJNKClOOB5YS"
      },
      "execution_count": null,
      "outputs": []
    },
    {
      "cell_type": "markdown",
      "metadata": {
        "id": "IEijrePND_2I"
      },
      "source": [
        "# Appendix\n",
        "\n",
        "Additional content below."
      ]
    },
    {
      "cell_type": "code",
      "source": [
        "# Pip install from source\n",
        "!pip install git+https://github.com/ultralytics/ultralytics@main"
      ],
      "metadata": {
        "id": "pIdE6i8C3LYp"
      },
      "execution_count": null,
      "outputs": []
    },
    {
      "cell_type": "code",
      "source": [
        "# Git clone and run tests on 'main' branch\n",
        "!git clone https://github.com/ultralytics/ultralytics -b main\n",
        "%pip install -qe ultralytics"
      ],
      "metadata": {
        "id": "uRKlwxSJdhd1"
      },
      "execution_count": null,
      "outputs": []
    },
    {
      "cell_type": "code",
      "source": [
        "# Run tests (Git clone only)\n",
        "!pytest ultralytics/tests"
      ],
      "metadata": {
        "id": "GtPlh7mcCGZX"
      },
      "execution_count": null,
      "outputs": []
    },
    {
      "cell_type": "code",
      "source": [
        "# Validate multiple models\n",
        "for x in 'nsmlx':\n",
        "  !yolo val model=yolo11{x}.pt data=coco.yaml"
      ],
      "metadata": {
        "id": "Wdc6t_bfzDDk"
      },
      "execution_count": null,
      "outputs": []
    }
  ]
}